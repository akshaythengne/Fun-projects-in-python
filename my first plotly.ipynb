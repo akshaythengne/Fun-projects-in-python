{
 "cells": [
  {
   "cell_type": "code",
   "execution_count": 1,
   "metadata": {},
   "outputs": [],
   "source": [
    "import plotly.express as px"
   ]
  },
  {
   "cell_type": "code",
   "execution_count": 2,
   "metadata": {},
   "outputs": [],
   "source": [
    "import pandas as pd\n",
    "df = pd.read_excel('gdp of indian states.xlsx')"
   ]
  },
  {
   "cell_type": "code",
   "execution_count": 3,
   "metadata": {},
   "outputs": [
    {
     "data": {
      "text/html": [
       "<div>\n",
       "<style scoped>\n",
       "    .dataframe tbody tr th:only-of-type {\n",
       "        vertical-align: middle;\n",
       "    }\n",
       "\n",
       "    .dataframe tbody tr th {\n",
       "        vertical-align: top;\n",
       "    }\n",
       "\n",
       "    .dataframe thead th {\n",
       "        text-align: right;\n",
       "    }\n",
       "</style>\n",
       "<table border=\"1\" class=\"dataframe\">\n",
       "  <thead>\n",
       "    <tr style=\"text-align: right;\">\n",
       "      <th></th>\n",
       "      <th>Year</th>\n",
       "      <th>State/Union territory</th>\n",
       "      <th>GDP (in Crores)</th>\n",
       "    </tr>\n",
       "  </thead>\n",
       "  <tbody>\n",
       "    <tr>\n",
       "      <th>0</th>\n",
       "      <td>2001–02</td>\n",
       "      <td>India</td>\n",
       "      <td>2097726</td>\n",
       "    </tr>\n",
       "    <tr>\n",
       "      <th>1</th>\n",
       "      <td>2002–03</td>\n",
       "      <td>India</td>\n",
       "      <td>2261415</td>\n",
       "    </tr>\n",
       "    <tr>\n",
       "      <th>2</th>\n",
       "      <td>2003–04</td>\n",
       "      <td>India</td>\n",
       "      <td>2538170</td>\n",
       "    </tr>\n",
       "    <tr>\n",
       "      <th>3</th>\n",
       "      <td>2004–05</td>\n",
       "      <td>India</td>\n",
       "      <td>2971464</td>\n",
       "    </tr>\n",
       "    <tr>\n",
       "      <th>4</th>\n",
       "      <td>2005–06</td>\n",
       "      <td>India</td>\n",
       "      <td>3390503</td>\n",
       "    </tr>\n",
       "    <tr>\n",
       "      <th>5</th>\n",
       "      <td>2006–07</td>\n",
       "      <td>India</td>\n",
       "      <td>3953276</td>\n",
       "    </tr>\n",
       "    <tr>\n",
       "      <th>6</th>\n",
       "      <td>2007–08</td>\n",
       "      <td>India</td>\n",
       "      <td>4582086</td>\n",
       "    </tr>\n",
       "    <tr>\n",
       "      <th>7</th>\n",
       "      <td>2008–09</td>\n",
       "      <td>India</td>\n",
       "      <td>5303567</td>\n",
       "    </tr>\n",
       "    <tr>\n",
       "      <th>8</th>\n",
       "      <td>2009–10</td>\n",
       "      <td>India</td>\n",
       "      <td>6108903</td>\n",
       "    </tr>\n",
       "    <tr>\n",
       "      <th>9</th>\n",
       "      <td>2010–11</td>\n",
       "      <td>India</td>\n",
       "      <td>7248860</td>\n",
       "    </tr>\n",
       "    <tr>\n",
       "      <th>10</th>\n",
       "      <td>2001–02</td>\n",
       "      <td>Andhra Pradesh</td>\n",
       "      <td>156711</td>\n",
       "    </tr>\n",
       "    <tr>\n",
       "      <th>11</th>\n",
       "      <td>2002–03</td>\n",
       "      <td>Andhra Pradesh</td>\n",
       "      <td>167096</td>\n",
       "    </tr>\n",
       "    <tr>\n",
       "      <th>12</th>\n",
       "      <td>2003–04</td>\n",
       "      <td>Andhra Pradesh</td>\n",
       "      <td>190017</td>\n",
       "    </tr>\n",
       "    <tr>\n",
       "      <th>13</th>\n",
       "      <td>2004–05</td>\n",
       "      <td>Andhra Pradesh</td>\n",
       "      <td>224713</td>\n",
       "    </tr>\n",
       "    <tr>\n",
       "      <th>14</th>\n",
       "      <td>2005–06</td>\n",
       "      <td>Andhra Pradesh</td>\n",
       "      <td>255941</td>\n",
       "    </tr>\n",
       "    <tr>\n",
       "      <th>15</th>\n",
       "      <td>2006–07</td>\n",
       "      <td>Andhra Pradesh</td>\n",
       "      <td>301035</td>\n",
       "    </tr>\n",
       "    <tr>\n",
       "      <th>16</th>\n",
       "      <td>2007–08</td>\n",
       "      <td>Andhra Pradesh</td>\n",
       "      <td>364813</td>\n",
       "    </tr>\n",
       "    <tr>\n",
       "      <th>17</th>\n",
       "      <td>2008–09</td>\n",
       "      <td>Andhra Pradesh</td>\n",
       "      <td>426765</td>\n",
       "    </tr>\n",
       "    <tr>\n",
       "      <th>18</th>\n",
       "      <td>2009–10</td>\n",
       "      <td>Andhra Pradesh</td>\n",
       "      <td>476835</td>\n",
       "    </tr>\n",
       "    <tr>\n",
       "      <th>19</th>\n",
       "      <td>2010–11</td>\n",
       "      <td>Andhra Pradesh</td>\n",
       "      <td>583762</td>\n",
       "    </tr>\n",
       "    <tr>\n",
       "      <th>20</th>\n",
       "      <td>2001–02</td>\n",
       "      <td>Arunachal Pradesh</td>\n",
       "      <td>2104</td>\n",
       "    </tr>\n",
       "    <tr>\n",
       "      <th>21</th>\n",
       "      <td>2002–03</td>\n",
       "      <td>Arunachal Pradesh</td>\n",
       "      <td>2071</td>\n",
       "    </tr>\n",
       "    <tr>\n",
       "      <th>22</th>\n",
       "      <td>2003–04</td>\n",
       "      <td>Arunachal Pradesh</td>\n",
       "      <td>2368</td>\n",
       "    </tr>\n",
       "    <tr>\n",
       "      <th>23</th>\n",
       "      <td>2004–05</td>\n",
       "      <td>Arunachal Pradesh</td>\n",
       "      <td>3488</td>\n",
       "    </tr>\n",
       "    <tr>\n",
       "      <th>24</th>\n",
       "      <td>2005–06</td>\n",
       "      <td>Arunachal Pradesh</td>\n",
       "      <td>3755</td>\n",
       "    </tr>\n",
       "    <tr>\n",
       "      <th>25</th>\n",
       "      <td>2006–07</td>\n",
       "      <td>Arunachal Pradesh</td>\n",
       "      <td>4108</td>\n",
       "    </tr>\n",
       "    <tr>\n",
       "      <th>26</th>\n",
       "      <td>2007–08</td>\n",
       "      <td>Arunachal Pradesh</td>\n",
       "      <td>4810</td>\n",
       "    </tr>\n",
       "    <tr>\n",
       "      <th>27</th>\n",
       "      <td>2008–09</td>\n",
       "      <td>Arunachal Pradesh</td>\n",
       "      <td>5687</td>\n",
       "    </tr>\n",
       "    <tr>\n",
       "      <th>28</th>\n",
       "      <td>2009–10</td>\n",
       "      <td>Arunachal Pradesh</td>\n",
       "      <td>7474</td>\n",
       "    </tr>\n",
       "    <tr>\n",
       "      <th>29</th>\n",
       "      <td>2010–11</td>\n",
       "      <td>Arunachal Pradesh</td>\n",
       "      <td>9013</td>\n",
       "    </tr>\n",
       "    <tr>\n",
       "      <th>...</th>\n",
       "      <td>...</td>\n",
       "      <td>...</td>\n",
       "      <td>...</td>\n",
       "    </tr>\n",
       "    <tr>\n",
       "      <th>300</th>\n",
       "      <td>2001–02</td>\n",
       "      <td>Chandigarh</td>\n",
       "      <td>5490</td>\n",
       "    </tr>\n",
       "    <tr>\n",
       "      <th>301</th>\n",
       "      <td>2002–03</td>\n",
       "      <td>Chandigarh</td>\n",
       "      <td>6453</td>\n",
       "    </tr>\n",
       "    <tr>\n",
       "      <th>302</th>\n",
       "      <td>2003–04</td>\n",
       "      <td>Chandigarh</td>\n",
       "      <td>7419</td>\n",
       "    </tr>\n",
       "    <tr>\n",
       "      <th>303</th>\n",
       "      <td>2004–05</td>\n",
       "      <td>Chandigarh</td>\n",
       "      <td>8504</td>\n",
       "    </tr>\n",
       "    <tr>\n",
       "      <th>304</th>\n",
       "      <td>2005–06</td>\n",
       "      <td>Chandigarh</td>\n",
       "      <td>10185</td>\n",
       "    </tr>\n",
       "    <tr>\n",
       "      <th>305</th>\n",
       "      <td>2006–07</td>\n",
       "      <td>Chandigarh</td>\n",
       "      <td>12276</td>\n",
       "    </tr>\n",
       "    <tr>\n",
       "      <th>306</th>\n",
       "      <td>2007–08</td>\n",
       "      <td>Chandigarh</td>\n",
       "      <td>13669</td>\n",
       "    </tr>\n",
       "    <tr>\n",
       "      <th>307</th>\n",
       "      <td>2008–09</td>\n",
       "      <td>Chandigarh</td>\n",
       "      <td>15334</td>\n",
       "    </tr>\n",
       "    <tr>\n",
       "      <th>308</th>\n",
       "      <td>2009–10</td>\n",
       "      <td>Chandigarh</td>\n",
       "      <td>17717</td>\n",
       "    </tr>\n",
       "    <tr>\n",
       "      <th>309</th>\n",
       "      <td>2010–11</td>\n",
       "      <td>Chandigarh</td>\n",
       "      <td>20017</td>\n",
       "    </tr>\n",
       "    <tr>\n",
       "      <th>310</th>\n",
       "      <td>2001–02</td>\n",
       "      <td>Delhi</td>\n",
       "      <td>65027</td>\n",
       "    </tr>\n",
       "    <tr>\n",
       "      <th>311</th>\n",
       "      <td>2002–03</td>\n",
       "      <td>Delhi</td>\n",
       "      <td>71361</td>\n",
       "    </tr>\n",
       "    <tr>\n",
       "      <th>312</th>\n",
       "      <td>2003–04</td>\n",
       "      <td>Delhi</td>\n",
       "      <td>79468</td>\n",
       "    </tr>\n",
       "    <tr>\n",
       "      <th>313</th>\n",
       "      <td>2004–05</td>\n",
       "      <td>Delhi</td>\n",
       "      <td>100325</td>\n",
       "    </tr>\n",
       "    <tr>\n",
       "      <th>314</th>\n",
       "      <td>2005–06</td>\n",
       "      <td>Delhi</td>\n",
       "      <td>115374</td>\n",
       "    </tr>\n",
       "    <tr>\n",
       "      <th>315</th>\n",
       "      <td>2006–07</td>\n",
       "      <td>Delhi</td>\n",
       "      <td>135584</td>\n",
       "    </tr>\n",
       "    <tr>\n",
       "      <th>316</th>\n",
       "      <td>2007–08</td>\n",
       "      <td>Delhi</td>\n",
       "      <td>157947</td>\n",
       "    </tr>\n",
       "    <tr>\n",
       "      <th>317</th>\n",
       "      <td>2008–09</td>\n",
       "      <td>Delhi</td>\n",
       "      <td>189553</td>\n",
       "    </tr>\n",
       "    <tr>\n",
       "      <th>318</th>\n",
       "      <td>2009–10</td>\n",
       "      <td>Delhi</td>\n",
       "      <td>219753</td>\n",
       "    </tr>\n",
       "    <tr>\n",
       "      <th>319</th>\n",
       "      <td>2010–11</td>\n",
       "      <td>Delhi</td>\n",
       "      <td>252753</td>\n",
       "    </tr>\n",
       "    <tr>\n",
       "      <th>320</th>\n",
       "      <td>2001–02</td>\n",
       "      <td>Pudduchery</td>\n",
       "      <td>4259</td>\n",
       "    </tr>\n",
       "    <tr>\n",
       "      <th>321</th>\n",
       "      <td>2002–03</td>\n",
       "      <td>Pudduchery</td>\n",
       "      <td>4931</td>\n",
       "    </tr>\n",
       "    <tr>\n",
       "      <th>322</th>\n",
       "      <td>2003–04</td>\n",
       "      <td>Pudduchery</td>\n",
       "      <td>5438</td>\n",
       "    </tr>\n",
       "    <tr>\n",
       "      <th>323</th>\n",
       "      <td>2004–05</td>\n",
       "      <td>Pudduchery</td>\n",
       "      <td>5754</td>\n",
       "    </tr>\n",
       "    <tr>\n",
       "      <th>324</th>\n",
       "      <td>2005–06</td>\n",
       "      <td>Pudduchery</td>\n",
       "      <td>7977</td>\n",
       "    </tr>\n",
       "    <tr>\n",
       "      <th>325</th>\n",
       "      <td>2006–07</td>\n",
       "      <td>Pudduchery</td>\n",
       "      <td>8335</td>\n",
       "    </tr>\n",
       "    <tr>\n",
       "      <th>326</th>\n",
       "      <td>2007–08</td>\n",
       "      <td>Pudduchery</td>\n",
       "      <td>9251</td>\n",
       "    </tr>\n",
       "    <tr>\n",
       "      <th>327</th>\n",
       "      <td>2008–09</td>\n",
       "      <td>Pudduchery</td>\n",
       "      <td>10050</td>\n",
       "    </tr>\n",
       "    <tr>\n",
       "      <th>328</th>\n",
       "      <td>2009–10</td>\n",
       "      <td>Pudduchery</td>\n",
       "      <td>12304</td>\n",
       "    </tr>\n",
       "    <tr>\n",
       "      <th>329</th>\n",
       "      <td>2010–11</td>\n",
       "      <td>Pudduchery</td>\n",
       "      <td>13092</td>\n",
       "    </tr>\n",
       "  </tbody>\n",
       "</table>\n",
       "<p>330 rows × 3 columns</p>\n",
       "</div>"
      ],
      "text/plain": [
       "        Year State/Union territory  GDP (in Crores)\n",
       "0    2001–02                 India          2097726\n",
       "1    2002–03                 India          2261415\n",
       "2    2003–04                 India          2538170\n",
       "3    2004–05                 India          2971464\n",
       "4    2005–06                 India          3390503\n",
       "5    2006–07                 India          3953276\n",
       "6    2007–08                 India          4582086\n",
       "7    2008–09                 India          5303567\n",
       "8    2009–10                 India          6108903\n",
       "9    2010–11                 India          7248860\n",
       "10   2001–02        Andhra Pradesh           156711\n",
       "11   2002–03        Andhra Pradesh           167096\n",
       "12   2003–04        Andhra Pradesh           190017\n",
       "13   2004–05        Andhra Pradesh           224713\n",
       "14   2005–06        Andhra Pradesh           255941\n",
       "15   2006–07        Andhra Pradesh           301035\n",
       "16   2007–08        Andhra Pradesh           364813\n",
       "17   2008–09        Andhra Pradesh           426765\n",
       "18   2009–10        Andhra Pradesh           476835\n",
       "19   2010–11        Andhra Pradesh           583762\n",
       "20   2001–02     Arunachal Pradesh             2104\n",
       "21   2002–03     Arunachal Pradesh             2071\n",
       "22   2003–04     Arunachal Pradesh             2368\n",
       "23   2004–05     Arunachal Pradesh             3488\n",
       "24   2005–06     Arunachal Pradesh             3755\n",
       "25   2006–07     Arunachal Pradesh             4108\n",
       "26   2007–08     Arunachal Pradesh             4810\n",
       "27   2008–09     Arunachal Pradesh             5687\n",
       "28   2009–10     Arunachal Pradesh             7474\n",
       "29   2010–11     Arunachal Pradesh             9013\n",
       "..       ...                   ...              ...\n",
       "300  2001–02            Chandigarh             5490\n",
       "301  2002–03            Chandigarh             6453\n",
       "302  2003–04            Chandigarh             7419\n",
       "303  2004–05            Chandigarh             8504\n",
       "304  2005–06            Chandigarh            10185\n",
       "305  2006–07            Chandigarh            12276\n",
       "306  2007–08            Chandigarh            13669\n",
       "307  2008–09            Chandigarh            15334\n",
       "308  2009–10            Chandigarh            17717\n",
       "309  2010–11            Chandigarh            20017\n",
       "310  2001–02                 Delhi            65027\n",
       "311  2002–03                 Delhi            71361\n",
       "312  2003–04                 Delhi            79468\n",
       "313  2004–05                 Delhi           100325\n",
       "314  2005–06                 Delhi           115374\n",
       "315  2006–07                 Delhi           135584\n",
       "316  2007–08                 Delhi           157947\n",
       "317  2008–09                 Delhi           189553\n",
       "318  2009–10                 Delhi           219753\n",
       "319  2010–11                 Delhi           252753\n",
       "320  2001–02            Pudduchery             4259\n",
       "321  2002–03            Pudduchery             4931\n",
       "322  2003–04            Pudduchery             5438\n",
       "323  2004–05            Pudduchery             5754\n",
       "324  2005–06            Pudduchery             7977\n",
       "325  2006–07            Pudduchery             8335\n",
       "326  2007–08            Pudduchery             9251\n",
       "327  2008–09            Pudduchery            10050\n",
       "328  2009–10            Pudduchery            12304\n",
       "329  2010–11            Pudduchery            13092\n",
       "\n",
       "[330 rows x 3 columns]"
      ]
     },
     "execution_count": 3,
     "metadata": {},
     "output_type": "execute_result"
    }
   ],
   "source": [
    "df"
   ]
  },
  {
   "cell_type": "code",
   "execution_count": 7,
   "metadata": {},
   "outputs": [
    {
     "data": {
      "application/vnd.plotly.v1+json": {
       "config": {
        "plotlyServerURL": "https://plot.ly"
       },
       "data": [
        {
         "alignmentgroup": "True",
         "customdata": [
          [
           2097726
          ]
         ],
         "hoverlabel": {
          "namelength": 0
         },
         "hovertemplate": "State/Union territory=%{x}<br>Year=2001–02<br>GDP (in Crores)=%{customdata[0]}",
         "legendgroup": "State/Union territory= India",
         "marker": {
          "color": "#636efa"
         },
         "name": "State/Union territory= India",
         "offsetgroup": "State/Union territory= India",
         "orientation": "v",
         "showlegend": true,
         "textposition": "auto",
         "type": "bar",
         "x": [
          " India"
         ],
         "xaxis": "x",
         "y": [
          2097726
         ],
         "yaxis": "y"
        },
        {
         "alignmentgroup": "True",
         "customdata": [
          [
           156711
          ]
         ],
         "hoverlabel": {
          "namelength": 0
         },
         "hovertemplate": "State/Union territory=%{x}<br>Year=2001–02<br>GDP (in Crores)=%{customdata[0]}",
         "legendgroup": "State/Union territory=Andhra Pradesh",
         "marker": {
          "color": "#EF553B"
         },
         "name": "State/Union territory=Andhra Pradesh",
         "offsetgroup": "State/Union territory=Andhra Pradesh",
         "orientation": "v",
         "showlegend": true,
         "textposition": "auto",
         "type": "bar",
         "x": [
          "Andhra Pradesh"
         ],
         "xaxis": "x",
         "y": [
          156711
         ],
         "yaxis": "y"
        },
        {
         "alignmentgroup": "True",
         "customdata": [
          [
           2104
          ]
         ],
         "hoverlabel": {
          "namelength": 0
         },
         "hovertemplate": "State/Union territory=%{x}<br>Year=2001–02<br>GDP (in Crores)=%{customdata[0]}",
         "legendgroup": "State/Union territory=Arunachal Pradesh",
         "marker": {
          "color": "#00cc96"
         },
         "name": "State/Union territory=Arunachal Pradesh",
         "offsetgroup": "State/Union territory=Arunachal Pradesh",
         "orientation": "v",
         "showlegend": true,
         "textposition": "auto",
         "type": "bar",
         "x": [
          "Arunachal Pradesh"
         ],
         "xaxis": "x",
         "y": [
          2104
         ],
         "yaxis": "y"
        },
        {
         "alignmentgroup": "True",
         "customdata": [
          [
           38313
          ]
         ],
         "hoverlabel": {
          "namelength": 0
         },
         "hovertemplate": "State/Union territory=%{x}<br>Year=2001–02<br>GDP (in Crores)=%{customdata[0]}",
         "legendgroup": "State/Union territory=Assam",
         "marker": {
          "color": "#ab63fa"
         },
         "name": "State/Union territory=Assam",
         "offsetgroup": "State/Union territory=Assam",
         "orientation": "v",
         "showlegend": true,
         "textposition": "auto",
         "type": "bar",
         "x": [
          "Assam"
         ],
         "xaxis": "x",
         "y": [
          38313
         ],
         "yaxis": "y"
        },
        {
         "alignmentgroup": "True",
         "customdata": [
          [
           57657
          ]
         ],
         "hoverlabel": {
          "namelength": 0
         },
         "hovertemplate": "State/Union territory=%{x}<br>Year=2001–02<br>GDP (in Crores)=%{customdata[0]}",
         "legendgroup": "State/Union territory=Bihar",
         "marker": {
          "color": "#FFA15A"
         },
         "name": "State/Union territory=Bihar",
         "offsetgroup": "State/Union territory=Bihar",
         "orientation": "v",
         "showlegend": true,
         "textposition": "auto",
         "type": "bar",
         "x": [
          "Bihar"
         ],
         "xaxis": "x",
         "y": [
          57657
         ],
         "yaxis": "y"
        },
        {
         "alignmentgroup": "True",
         "customdata": [
          [
           29539
          ]
         ],
         "hoverlabel": {
          "namelength": 0
         },
         "hovertemplate": "State/Union territory=%{x}<br>Year=2001–02<br>GDP (in Crores)=%{customdata[0]}",
         "legendgroup": "State/Union territory=Chhattisgarh",
         "marker": {
          "color": "#19d3f3"
         },
         "name": "State/Union territory=Chhattisgarh",
         "offsetgroup": "State/Union territory=Chhattisgarh",
         "orientation": "v",
         "showlegend": true,
         "textposition": "auto",
         "type": "bar",
         "x": [
          "Chhattisgarh"
         ],
         "xaxis": "x",
         "y": [
          29539
         ],
         "yaxis": "y"
        },
        {
         "alignmentgroup": "True",
         "customdata": [
          [
           7097
          ]
         ],
         "hoverlabel": {
          "namelength": 0
         },
         "hovertemplate": "State/Union territory=%{x}<br>Year=2001–02<br>GDP (in Crores)=%{customdata[0]}",
         "legendgroup": "State/Union territory=Goa",
         "marker": {
          "color": "#FF6692"
         },
         "name": "State/Union territory=Goa",
         "offsetgroup": "State/Union territory=Goa",
         "orientation": "v",
         "showlegend": true,
         "textposition": "auto",
         "type": "bar",
         "x": [
          "Goa"
         ],
         "xaxis": "x",
         "y": [
          7097
         ],
         "yaxis": "y"
        },
        {
         "alignmentgroup": "True",
         "customdata": [
          [
           123573
          ]
         ],
         "hoverlabel": {
          "namelength": 0
         },
         "hovertemplate": "State/Union territory=%{x}<br>Year=2001–02<br>GDP (in Crores)=%{customdata[0]}",
         "legendgroup": "State/Union territory=Gujarat",
         "marker": {
          "color": "#B6E880"
         },
         "name": "State/Union territory=Gujarat",
         "offsetgroup": "State/Union territory=Gujarat",
         "orientation": "v",
         "showlegend": true,
         "textposition": "auto",
         "type": "bar",
         "x": [
          "Gujarat"
         ],
         "xaxis": "x",
         "y": [
          123573
         ],
         "yaxis": "y"
        },
        {
         "alignmentgroup": "True",
         "customdata": [
          [
           65505
          ]
         ],
         "hoverlabel": {
          "namelength": 0
         },
         "hovertemplate": "State/Union territory=%{x}<br>Year=2001–02<br>GDP (in Crores)=%{customdata[0]}",
         "legendgroup": "State/Union territory=Haryana",
         "marker": {
          "color": "#FF97FF"
         },
         "name": "State/Union territory=Haryana",
         "offsetgroup": "State/Union territory=Haryana",
         "orientation": "v",
         "showlegend": true,
         "textposition": "auto",
         "type": "bar",
         "x": [
          "Haryana"
         ],
         "xaxis": "x",
         "y": [
          65505
         ],
         "yaxis": "y"
        },
        {
         "alignmentgroup": "True",
         "customdata": [
          [
           17148
          ]
         ],
         "hoverlabel": {
          "namelength": 0
         },
         "hovertemplate": "State/Union territory=%{x}<br>Year=2001–02<br>GDP (in Crores)=%{customdata[0]}",
         "legendgroup": "State/Union territory=Himachal Pradesh",
         "marker": {
          "color": "#FECB52"
         },
         "name": "State/Union territory=Himachal Pradesh",
         "offsetgroup": "State/Union territory=Himachal Pradesh",
         "orientation": "v",
         "showlegend": true,
         "textposition": "auto",
         "type": "bar",
         "x": [
          "Himachal Pradesh"
         ],
         "xaxis": "x",
         "y": [
          17148
         ],
         "yaxis": "y"
        },
        {
         "alignmentgroup": "True",
         "customdata": [
          [
           18039
          ]
         ],
         "hoverlabel": {
          "namelength": 0
         },
         "hovertemplate": "State/Union territory=%{x}<br>Year=2001–02<br>GDP (in Crores)=%{customdata[0]}",
         "legendgroup": "State/Union territory=Jammu and Kashmir",
         "marker": {
          "color": "#636efa"
         },
         "name": "State/Union territory=Jammu and Kashmir",
         "offsetgroup": "State/Union territory=Jammu and Kashmir",
         "orientation": "v",
         "showlegend": true,
         "textposition": "auto",
         "type": "bar",
         "x": [
          "Jammu and Kashmir"
         ],
         "xaxis": "x",
         "y": [
          18039
         ],
         "yaxis": "y"
        },
        {
         "alignmentgroup": "True",
         "customdata": [
          [
           35069
          ]
         ],
         "hoverlabel": {
          "namelength": 0
         },
         "hovertemplate": "State/Union territory=%{x}<br>Year=2001–02<br>GDP (in Crores)=%{customdata[0]}",
         "legendgroup": "State/Union territory=Jharkhand",
         "marker": {
          "color": "#EF553B"
         },
         "name": "State/Union territory=Jharkhand",
         "offsetgroup": "State/Union territory=Jharkhand",
         "orientation": "v",
         "showlegend": true,
         "textposition": "auto",
         "type": "bar",
         "x": [
          "Jharkhand"
         ],
         "xaxis": "x",
         "y": [
          35069
         ],
         "yaxis": "y"
        },
        {
         "alignmentgroup": "True",
         "customdata": [
          [
           112847
          ]
         ],
         "hoverlabel": {
          "namelength": 0
         },
         "hovertemplate": "State/Union territory=%{x}<br>Year=2001–02<br>GDP (in Crores)=%{customdata[0]}",
         "legendgroup": "State/Union territory=Karnataka",
         "marker": {
          "color": "#00cc96"
         },
         "name": "State/Union territory=Karnataka",
         "offsetgroup": "State/Union territory=Karnataka",
         "orientation": "v",
         "showlegend": true,
         "textposition": "auto",
         "type": "bar",
         "x": [
          "Karnataka"
         ],
         "xaxis": "x",
         "y": [
          112847
         ],
         "yaxis": "y"
        },
        {
         "alignmentgroup": "True",
         "customdata": [
          [
           77924
          ]
         ],
         "hoverlabel": {
          "namelength": 0
         },
         "hovertemplate": "State/Union territory=%{x}<br>Year=2001–02<br>GDP (in Crores)=%{customdata[0]}",
         "legendgroup": "State/Union territory=Kerala",
         "marker": {
          "color": "#ab63fa"
         },
         "name": "State/Union territory=Kerala",
         "offsetgroup": "State/Union territory=Kerala",
         "orientation": "v",
         "showlegend": true,
         "textposition": "auto",
         "type": "bar",
         "x": [
          "Kerala"
         ],
         "xaxis": "x",
         "y": [
          77924
         ],
         "yaxis": "y"
        },
        {
         "alignmentgroup": "True",
         "customdata": [
          [
           86745
          ]
         ],
         "hoverlabel": {
          "namelength": 0
         },
         "hovertemplate": "State/Union territory=%{x}<br>Year=2001–02<br>GDP (in Crores)=%{customdata[0]}",
         "legendgroup": "State/Union territory=Madhya Pradesh",
         "marker": {
          "color": "#FFA15A"
         },
         "name": "State/Union territory=Madhya Pradesh",
         "offsetgroup": "State/Union territory=Madhya Pradesh",
         "orientation": "v",
         "showlegend": true,
         "textposition": "auto",
         "type": "bar",
         "x": [
          "Madhya Pradesh"
         ],
         "xaxis": "x",
         "y": [
          86745
         ],
         "yaxis": "y"
        },
        {
         "alignmentgroup": "True",
         "customdata": [
          [
           273188
          ]
         ],
         "hoverlabel": {
          "namelength": 0
         },
         "hovertemplate": "State/Union territory=%{x}<br>Year=2001–02<br>GDP (in Crores)=%{customdata[0]}",
         "legendgroup": "State/Union territory=Maharashtra",
         "marker": {
          "color": "#19d3f3"
         },
         "name": "State/Union territory=Maharashtra",
         "offsetgroup": "State/Union territory=Maharashtra",
         "orientation": "v",
         "showlegend": true,
         "textposition": "auto",
         "type": "bar",
         "x": [
          "Maharashtra"
         ],
         "xaxis": "x",
         "y": [
          273188
         ],
         "yaxis": "y"
        },
        {
         "alignmentgroup": "True",
         "customdata": [
          [
           3369
          ]
         ],
         "hoverlabel": {
          "namelength": 0
         },
         "hovertemplate": "State/Union territory=%{x}<br>Year=2001–02<br>GDP (in Crores)=%{customdata[0]}",
         "legendgroup": "State/Union territory=Manipur",
         "marker": {
          "color": "#FF6692"
         },
         "name": "State/Union territory=Manipur",
         "offsetgroup": "State/Union territory=Manipur",
         "orientation": "v",
         "showlegend": true,
         "textposition": "auto",
         "type": "bar",
         "x": [
          "Manipur"
         ],
         "xaxis": "x",
         "y": [
          3369
         ],
         "yaxis": "y"
        },
        {
         "alignmentgroup": "True",
         "customdata": [
          [
           4478
          ]
         ],
         "hoverlabel": {
          "namelength": 0
         },
         "hovertemplate": "State/Union territory=%{x}<br>Year=2001–02<br>GDP (in Crores)=%{customdata[0]}",
         "legendgroup": "State/Union territory=Meghalaya",
         "marker": {
          "color": "#B6E880"
         },
         "name": "State/Union territory=Meghalaya",
         "offsetgroup": "State/Union territory=Meghalaya",
         "orientation": "v",
         "showlegend": true,
         "textposition": "auto",
         "type": "bar",
         "x": [
          "Meghalaya"
         ],
         "xaxis": "x",
         "y": [
          4478
         ],
         "yaxis": "y"
        },
        {
         "alignmentgroup": "True",
         "customdata": [
          [
           1947
          ]
         ],
         "hoverlabel": {
          "namelength": 0
         },
         "hovertemplate": "State/Union territory=%{x}<br>Year=2001–02<br>GDP (in Crores)=%{customdata[0]}",
         "legendgroup": "State/Union territory=Mizoram",
         "marker": {
          "color": "#FF97FF"
         },
         "name": "State/Union territory=Mizoram",
         "offsetgroup": "State/Union territory=Mizoram",
         "orientation": "v",
         "showlegend": true,
         "textposition": "auto",
         "type": "bar",
         "x": [
          "Mizoram"
         ],
         "xaxis": "x",
         "y": [
          1947
         ],
         "yaxis": "y"
        },
        {
         "alignmentgroup": "True",
         "customdata": [
          [
           3972
          ]
         ],
         "hoverlabel": {
          "namelength": 0
         },
         "hovertemplate": "State/Union territory=%{x}<br>Year=2001–02<br>GDP (in Crores)=%{customdata[0]}",
         "legendgroup": "State/Union territory=Nagaland",
         "marker": {
          "color": "#FECB52"
         },
         "name": "State/Union territory=Nagaland",
         "offsetgroup": "State/Union territory=Nagaland",
         "orientation": "v",
         "showlegend": true,
         "textposition": "auto",
         "type": "bar",
         "x": [
          "Nagaland"
         ],
         "xaxis": "x",
         "y": [
          3972
         ],
         "yaxis": "y"
        },
        {
         "alignmentgroup": "True",
         "customdata": [
          [
           46756
          ]
         ],
         "hoverlabel": {
          "namelength": 0
         },
         "hovertemplate": "State/Union territory=%{x}<br>Year=2001–02<br>GDP (in Crores)=%{customdata[0]}",
         "legendgroup": "State/Union territory=Odisha",
         "marker": {
          "color": "#636efa"
         },
         "name": "State/Union territory=Odisha",
         "offsetgroup": "State/Union territory=Odisha",
         "orientation": "v",
         "showlegend": true,
         "textposition": "auto",
         "type": "bar",
         "x": [
          "Odisha"
         ],
         "xaxis": "x",
         "y": [
          46756
         ],
         "yaxis": "y"
        },
        {
         "alignmentgroup": "True",
         "customdata": [
          [
           79611
          ]
         ],
         "hoverlabel": {
          "namelength": 0
         },
         "hovertemplate": "State/Union territory=%{x}<br>Year=2001–02<br>GDP (in Crores)=%{customdata[0]}",
         "legendgroup": "State/Union territory=Punjab",
         "marker": {
          "color": "#EF553B"
         },
         "name": "State/Union territory=Punjab",
         "offsetgroup": "State/Union territory=Punjab",
         "orientation": "v",
         "showlegend": true,
         "textposition": "auto",
         "type": "bar",
         "x": [
          "Punjab"
         ],
         "xaxis": "x",
         "y": [
          79611
         ],
         "yaxis": "y"
        },
        {
         "alignmentgroup": "True",
         "customdata": [
          [
           91771
          ]
         ],
         "hoverlabel": {
          "namelength": 0
         },
         "hovertemplate": "State/Union territory=%{x}<br>Year=2001–02<br>GDP (in Crores)=%{customdata[0]}",
         "legendgroup": "State/Union territory=Rajasthan",
         "marker": {
          "color": "#00cc96"
         },
         "name": "State/Union territory=Rajasthan",
         "offsetgroup": "State/Union territory=Rajasthan",
         "orientation": "v",
         "showlegend": true,
         "textposition": "auto",
         "type": "bar",
         "x": [
          "Rajasthan"
         ],
         "xaxis": "x",
         "y": [
          91771
         ],
         "yaxis": "y"
        },
        {
         "alignmentgroup": "True",
         "customdata": [
          [
           1136
          ]
         ],
         "hoverlabel": {
          "namelength": 0
         },
         "hovertemplate": "State/Union territory=%{x}<br>Year=2001–02<br>GDP (in Crores)=%{customdata[0]}",
         "legendgroup": "State/Union territory=Sikkim",
         "marker": {
          "color": "#ab63fa"
         },
         "name": "State/Union territory=Sikkim",
         "offsetgroup": "State/Union territory=Sikkim",
         "orientation": "v",
         "showlegend": true,
         "textposition": "auto",
         "type": "bar",
         "x": [
          "Sikkim"
         ],
         "xaxis": "x",
         "y": [
          1136
         ],
         "yaxis": "y"
        },
        {
         "alignmentgroup": "True",
         "customdata": [
          [
           148861
          ]
         ],
         "hoverlabel": {
          "namelength": 0
         },
         "hovertemplate": "State/Union territory=%{x}<br>Year=2001–02<br>GDP (in Crores)=%{customdata[0]}",
         "legendgroup": "State/Union territory=Tamil Nadu",
         "marker": {
          "color": "#FFA15A"
         },
         "name": "State/Union territory=Tamil Nadu",
         "offsetgroup": "State/Union territory=Tamil Nadu",
         "orientation": "v",
         "showlegend": true,
         "textposition": "auto",
         "type": "bar",
         "x": [
          "Tamil Nadu"
         ],
         "xaxis": "x",
         "y": [
          148861
         ],
         "yaxis": "y"
        },
        {
         "alignmentgroup": "True",
         "customdata": [
          [
           6370
          ]
         ],
         "hoverlabel": {
          "namelength": 0
         },
         "hovertemplate": "State/Union territory=%{x}<br>Year=2001–02<br>GDP (in Crores)=%{customdata[0]}",
         "legendgroup": "State/Union territory=Tripura",
         "marker": {
          "color": "#19d3f3"
         },
         "name": "State/Union territory=Tripura",
         "offsetgroup": "State/Union territory=Tripura",
         "orientation": "v",
         "showlegend": true,
         "textposition": "auto",
         "type": "bar",
         "x": [
          "Tripura"
         ],
         "xaxis": "x",
         "y": [
          6370
         ],
         "yaxis": "y"
        },
        {
         "alignmentgroup": "True",
         "customdata": [
          [
           190269
          ]
         ],
         "hoverlabel": {
          "namelength": 0
         },
         "hovertemplate": "State/Union territory=%{x}<br>Year=2001–02<br>GDP (in Crores)=%{customdata[0]}",
         "legendgroup": "State/Union territory=Uttar Pradesh",
         "marker": {
          "color": "#FF6692"
         },
         "name": "State/Union territory=Uttar Pradesh",
         "offsetgroup": "State/Union territory=Uttar Pradesh",
         "orientation": "v",
         "showlegend": true,
         "textposition": "auto",
         "type": "bar",
         "x": [
          "Uttar Pradesh"
         ],
         "xaxis": "x",
         "y": [
          190269
         ],
         "yaxis": "y"
        },
        {
         "alignmentgroup": "True",
         "customdata": [
          [
           15144
          ]
         ],
         "hoverlabel": {
          "namelength": 0
         },
         "hovertemplate": "State/Union territory=%{x}<br>Year=2001–02<br>GDP (in Crores)=%{customdata[0]}",
         "legendgroup": "State/Union territory=Uttarakhand",
         "marker": {
          "color": "#B6E880"
         },
         "name": "State/Union territory=Uttarakhand",
         "offsetgroup": "State/Union territory=Uttarakhand",
         "orientation": "v",
         "showlegend": true,
         "textposition": "auto",
         "type": "bar",
         "x": [
          "Uttarakhand"
         ],
         "xaxis": "x",
         "y": [
          15144
         ],
         "yaxis": "y"
        },
        {
         "alignmentgroup": "True",
         "customdata": [
          [
           157144
          ]
         ],
         "hoverlabel": {
          "namelength": 0
         },
         "hovertemplate": "State/Union territory=%{x}<br>Year=2001–02<br>GDP (in Crores)=%{customdata[0]}",
         "legendgroup": "State/Union territory=West Bengal",
         "marker": {
          "color": "#FF97FF"
         },
         "name": "State/Union territory=West Bengal",
         "offsetgroup": "State/Union territory=West Bengal",
         "orientation": "v",
         "showlegend": true,
         "textposition": "auto",
         "type": "bar",
         "x": [
          "West Bengal"
         ],
         "xaxis": "x",
         "y": [
          157144
         ],
         "yaxis": "y"
        },
        {
         "alignmentgroup": "True",
         "customdata": [
          [
           1082
          ]
         ],
         "hoverlabel": {
          "namelength": 0
         },
         "hovertemplate": "State/Union territory=%{x}<br>Year=2001–02<br>GDP (in Crores)=%{customdata[0]}",
         "legendgroup": "State/Union territory=Andaman and Nicobar Islands",
         "marker": {
          "color": "#FECB52"
         },
         "name": "State/Union territory=Andaman and Nicobar Islands",
         "offsetgroup": "State/Union territory=Andaman and Nicobar Islands",
         "orientation": "v",
         "showlegend": true,
         "textposition": "auto",
         "type": "bar",
         "x": [
          "Andaman and Nicobar Islands"
         ],
         "xaxis": "x",
         "y": [
          1082
         ],
         "yaxis": "y"
        },
        {
         "alignmentgroup": "True",
         "customdata": [
          [
           5490
          ]
         ],
         "hoverlabel": {
          "namelength": 0
         },
         "hovertemplate": "State/Union territory=%{x}<br>Year=2001–02<br>GDP (in Crores)=%{customdata[0]}",
         "legendgroup": "State/Union territory=Chandigarh",
         "marker": {
          "color": "#636efa"
         },
         "name": "State/Union territory=Chandigarh",
         "offsetgroup": "State/Union territory=Chandigarh",
         "orientation": "v",
         "showlegend": true,
         "textposition": "auto",
         "type": "bar",
         "x": [
          "Chandigarh"
         ],
         "xaxis": "x",
         "y": [
          5490
         ],
         "yaxis": "y"
        },
        {
         "alignmentgroup": "True",
         "customdata": [
          [
           65027
          ]
         ],
         "hoverlabel": {
          "namelength": 0
         },
         "hovertemplate": "State/Union territory=%{x}<br>Year=2001–02<br>GDP (in Crores)=%{customdata[0]}",
         "legendgroup": "State/Union territory=Delhi",
         "marker": {
          "color": "#EF553B"
         },
         "name": "State/Union territory=Delhi",
         "offsetgroup": "State/Union territory=Delhi",
         "orientation": "v",
         "showlegend": true,
         "textposition": "auto",
         "type": "bar",
         "x": [
          "Delhi"
         ],
         "xaxis": "x",
         "y": [
          65027
         ],
         "yaxis": "y"
        },
        {
         "alignmentgroup": "True",
         "customdata": [
          [
           4259
          ]
         ],
         "hoverlabel": {
          "namelength": 0
         },
         "hovertemplate": "State/Union territory=%{x}<br>Year=2001–02<br>GDP (in Crores)=%{customdata[0]}",
         "legendgroup": "State/Union territory=Pudduchery",
         "marker": {
          "color": "#00cc96"
         },
         "name": "State/Union territory=Pudduchery",
         "offsetgroup": "State/Union territory=Pudduchery",
         "orientation": "v",
         "showlegend": true,
         "textposition": "auto",
         "type": "bar",
         "x": [
          "Pudduchery"
         ],
         "xaxis": "x",
         "y": [
          4259
         ],
         "yaxis": "y"
        }
       ],
       "frames": [
        {
         "data": [
          {
           "alignmentgroup": "True",
           "customdata": [
            [
             2097726
            ]
           ],
           "hoverlabel": {
            "namelength": 0
           },
           "hovertemplate": "State/Union territory=%{x}<br>Year=2001–02<br>GDP (in Crores)=%{customdata[0]}",
           "legendgroup": "State/Union territory= India",
           "marker": {
            "color": "#636efa"
           },
           "name": "State/Union territory= India",
           "offsetgroup": "State/Union territory= India",
           "orientation": "v",
           "showlegend": true,
           "textposition": "auto",
           "type": "bar",
           "x": [
            " India"
           ],
           "xaxis": "x",
           "y": [
            2097726
           ],
           "yaxis": "y"
          },
          {
           "alignmentgroup": "True",
           "customdata": [
            [
             156711
            ]
           ],
           "hoverlabel": {
            "namelength": 0
           },
           "hovertemplate": "State/Union territory=%{x}<br>Year=2001–02<br>GDP (in Crores)=%{customdata[0]}",
           "legendgroup": "State/Union territory=Andhra Pradesh",
           "marker": {
            "color": "#EF553B"
           },
           "name": "State/Union territory=Andhra Pradesh",
           "offsetgroup": "State/Union territory=Andhra Pradesh",
           "orientation": "v",
           "showlegend": true,
           "textposition": "auto",
           "type": "bar",
           "x": [
            "Andhra Pradesh"
           ],
           "xaxis": "x",
           "y": [
            156711
           ],
           "yaxis": "y"
          },
          {
           "alignmentgroup": "True",
           "customdata": [
            [
             2104
            ]
           ],
           "hoverlabel": {
            "namelength": 0
           },
           "hovertemplate": "State/Union territory=%{x}<br>Year=2001–02<br>GDP (in Crores)=%{customdata[0]}",
           "legendgroup": "State/Union territory=Arunachal Pradesh",
           "marker": {
            "color": "#00cc96"
           },
           "name": "State/Union territory=Arunachal Pradesh",
           "offsetgroup": "State/Union territory=Arunachal Pradesh",
           "orientation": "v",
           "showlegend": true,
           "textposition": "auto",
           "type": "bar",
           "x": [
            "Arunachal Pradesh"
           ],
           "xaxis": "x",
           "y": [
            2104
           ],
           "yaxis": "y"
          },
          {
           "alignmentgroup": "True",
           "customdata": [
            [
             38313
            ]
           ],
           "hoverlabel": {
            "namelength": 0
           },
           "hovertemplate": "State/Union territory=%{x}<br>Year=2001–02<br>GDP (in Crores)=%{customdata[0]}",
           "legendgroup": "State/Union territory=Assam",
           "marker": {
            "color": "#ab63fa"
           },
           "name": "State/Union territory=Assam",
           "offsetgroup": "State/Union territory=Assam",
           "orientation": "v",
           "showlegend": true,
           "textposition": "auto",
           "type": "bar",
           "x": [
            "Assam"
           ],
           "xaxis": "x",
           "y": [
            38313
           ],
           "yaxis": "y"
          },
          {
           "alignmentgroup": "True",
           "customdata": [
            [
             57657
            ]
           ],
           "hoverlabel": {
            "namelength": 0
           },
           "hovertemplate": "State/Union territory=%{x}<br>Year=2001–02<br>GDP (in Crores)=%{customdata[0]}",
           "legendgroup": "State/Union territory=Bihar",
           "marker": {
            "color": "#FFA15A"
           },
           "name": "State/Union territory=Bihar",
           "offsetgroup": "State/Union territory=Bihar",
           "orientation": "v",
           "showlegend": true,
           "textposition": "auto",
           "type": "bar",
           "x": [
            "Bihar"
           ],
           "xaxis": "x",
           "y": [
            57657
           ],
           "yaxis": "y"
          },
          {
           "alignmentgroup": "True",
           "customdata": [
            [
             29539
            ]
           ],
           "hoverlabel": {
            "namelength": 0
           },
           "hovertemplate": "State/Union territory=%{x}<br>Year=2001–02<br>GDP (in Crores)=%{customdata[0]}",
           "legendgroup": "State/Union territory=Chhattisgarh",
           "marker": {
            "color": "#19d3f3"
           },
           "name": "State/Union territory=Chhattisgarh",
           "offsetgroup": "State/Union territory=Chhattisgarh",
           "orientation": "v",
           "showlegend": true,
           "textposition": "auto",
           "type": "bar",
           "x": [
            "Chhattisgarh"
           ],
           "xaxis": "x",
           "y": [
            29539
           ],
           "yaxis": "y"
          },
          {
           "alignmentgroup": "True",
           "customdata": [
            [
             7097
            ]
           ],
           "hoverlabel": {
            "namelength": 0
           },
           "hovertemplate": "State/Union territory=%{x}<br>Year=2001–02<br>GDP (in Crores)=%{customdata[0]}",
           "legendgroup": "State/Union territory=Goa",
           "marker": {
            "color": "#FF6692"
           },
           "name": "State/Union territory=Goa",
           "offsetgroup": "State/Union territory=Goa",
           "orientation": "v",
           "showlegend": true,
           "textposition": "auto",
           "type": "bar",
           "x": [
            "Goa"
           ],
           "xaxis": "x",
           "y": [
            7097
           ],
           "yaxis": "y"
          },
          {
           "alignmentgroup": "True",
           "customdata": [
            [
             123573
            ]
           ],
           "hoverlabel": {
            "namelength": 0
           },
           "hovertemplate": "State/Union territory=%{x}<br>Year=2001–02<br>GDP (in Crores)=%{customdata[0]}",
           "legendgroup": "State/Union territory=Gujarat",
           "marker": {
            "color": "#B6E880"
           },
           "name": "State/Union territory=Gujarat",
           "offsetgroup": "State/Union territory=Gujarat",
           "orientation": "v",
           "showlegend": true,
           "textposition": "auto",
           "type": "bar",
           "x": [
            "Gujarat"
           ],
           "xaxis": "x",
           "y": [
            123573
           ],
           "yaxis": "y"
          },
          {
           "alignmentgroup": "True",
           "customdata": [
            [
             65505
            ]
           ],
           "hoverlabel": {
            "namelength": 0
           },
           "hovertemplate": "State/Union territory=%{x}<br>Year=2001–02<br>GDP (in Crores)=%{customdata[0]}",
           "legendgroup": "State/Union territory=Haryana",
           "marker": {
            "color": "#FF97FF"
           },
           "name": "State/Union territory=Haryana",
           "offsetgroup": "State/Union territory=Haryana",
           "orientation": "v",
           "showlegend": true,
           "textposition": "auto",
           "type": "bar",
           "x": [
            "Haryana"
           ],
           "xaxis": "x",
           "y": [
            65505
           ],
           "yaxis": "y"
          },
          {
           "alignmentgroup": "True",
           "customdata": [
            [
             17148
            ]
           ],
           "hoverlabel": {
            "namelength": 0
           },
           "hovertemplate": "State/Union territory=%{x}<br>Year=2001–02<br>GDP (in Crores)=%{customdata[0]}",
           "legendgroup": "State/Union territory=Himachal Pradesh",
           "marker": {
            "color": "#FECB52"
           },
           "name": "State/Union territory=Himachal Pradesh",
           "offsetgroup": "State/Union territory=Himachal Pradesh",
           "orientation": "v",
           "showlegend": true,
           "textposition": "auto",
           "type": "bar",
           "x": [
            "Himachal Pradesh"
           ],
           "xaxis": "x",
           "y": [
            17148
           ],
           "yaxis": "y"
          },
          {
           "alignmentgroup": "True",
           "customdata": [
            [
             18039
            ]
           ],
           "hoverlabel": {
            "namelength": 0
           },
           "hovertemplate": "State/Union territory=%{x}<br>Year=2001–02<br>GDP (in Crores)=%{customdata[0]}",
           "legendgroup": "State/Union territory=Jammu and Kashmir",
           "marker": {
            "color": "#636efa"
           },
           "name": "State/Union territory=Jammu and Kashmir",
           "offsetgroup": "State/Union territory=Jammu and Kashmir",
           "orientation": "v",
           "showlegend": true,
           "textposition": "auto",
           "type": "bar",
           "x": [
            "Jammu and Kashmir"
           ],
           "xaxis": "x",
           "y": [
            18039
           ],
           "yaxis": "y"
          },
          {
           "alignmentgroup": "True",
           "customdata": [
            [
             35069
            ]
           ],
           "hoverlabel": {
            "namelength": 0
           },
           "hovertemplate": "State/Union territory=%{x}<br>Year=2001–02<br>GDP (in Crores)=%{customdata[0]}",
           "legendgroup": "State/Union territory=Jharkhand",
           "marker": {
            "color": "#EF553B"
           },
           "name": "State/Union territory=Jharkhand",
           "offsetgroup": "State/Union territory=Jharkhand",
           "orientation": "v",
           "showlegend": true,
           "textposition": "auto",
           "type": "bar",
           "x": [
            "Jharkhand"
           ],
           "xaxis": "x",
           "y": [
            35069
           ],
           "yaxis": "y"
          },
          {
           "alignmentgroup": "True",
           "customdata": [
            [
             112847
            ]
           ],
           "hoverlabel": {
            "namelength": 0
           },
           "hovertemplate": "State/Union territory=%{x}<br>Year=2001–02<br>GDP (in Crores)=%{customdata[0]}",
           "legendgroup": "State/Union territory=Karnataka",
           "marker": {
            "color": "#00cc96"
           },
           "name": "State/Union territory=Karnataka",
           "offsetgroup": "State/Union territory=Karnataka",
           "orientation": "v",
           "showlegend": true,
           "textposition": "auto",
           "type": "bar",
           "x": [
            "Karnataka"
           ],
           "xaxis": "x",
           "y": [
            112847
           ],
           "yaxis": "y"
          },
          {
           "alignmentgroup": "True",
           "customdata": [
            [
             77924
            ]
           ],
           "hoverlabel": {
            "namelength": 0
           },
           "hovertemplate": "State/Union territory=%{x}<br>Year=2001–02<br>GDP (in Crores)=%{customdata[0]}",
           "legendgroup": "State/Union territory=Kerala",
           "marker": {
            "color": "#ab63fa"
           },
           "name": "State/Union territory=Kerala",
           "offsetgroup": "State/Union territory=Kerala",
           "orientation": "v",
           "showlegend": true,
           "textposition": "auto",
           "type": "bar",
           "x": [
            "Kerala"
           ],
           "xaxis": "x",
           "y": [
            77924
           ],
           "yaxis": "y"
          },
          {
           "alignmentgroup": "True",
           "customdata": [
            [
             86745
            ]
           ],
           "hoverlabel": {
            "namelength": 0
           },
           "hovertemplate": "State/Union territory=%{x}<br>Year=2001–02<br>GDP (in Crores)=%{customdata[0]}",
           "legendgroup": "State/Union territory=Madhya Pradesh",
           "marker": {
            "color": "#FFA15A"
           },
           "name": "State/Union territory=Madhya Pradesh",
           "offsetgroup": "State/Union territory=Madhya Pradesh",
           "orientation": "v",
           "showlegend": true,
           "textposition": "auto",
           "type": "bar",
           "x": [
            "Madhya Pradesh"
           ],
           "xaxis": "x",
           "y": [
            86745
           ],
           "yaxis": "y"
          },
          {
           "alignmentgroup": "True",
           "customdata": [
            [
             273188
            ]
           ],
           "hoverlabel": {
            "namelength": 0
           },
           "hovertemplate": "State/Union territory=%{x}<br>Year=2001–02<br>GDP (in Crores)=%{customdata[0]}",
           "legendgroup": "State/Union territory=Maharashtra",
           "marker": {
            "color": "#19d3f3"
           },
           "name": "State/Union territory=Maharashtra",
           "offsetgroup": "State/Union territory=Maharashtra",
           "orientation": "v",
           "showlegend": true,
           "textposition": "auto",
           "type": "bar",
           "x": [
            "Maharashtra"
           ],
           "xaxis": "x",
           "y": [
            273188
           ],
           "yaxis": "y"
          },
          {
           "alignmentgroup": "True",
           "customdata": [
            [
             3369
            ]
           ],
           "hoverlabel": {
            "namelength": 0
           },
           "hovertemplate": "State/Union territory=%{x}<br>Year=2001–02<br>GDP (in Crores)=%{customdata[0]}",
           "legendgroup": "State/Union territory=Manipur",
           "marker": {
            "color": "#FF6692"
           },
           "name": "State/Union territory=Manipur",
           "offsetgroup": "State/Union territory=Manipur",
           "orientation": "v",
           "showlegend": true,
           "textposition": "auto",
           "type": "bar",
           "x": [
            "Manipur"
           ],
           "xaxis": "x",
           "y": [
            3369
           ],
           "yaxis": "y"
          },
          {
           "alignmentgroup": "True",
           "customdata": [
            [
             4478
            ]
           ],
           "hoverlabel": {
            "namelength": 0
           },
           "hovertemplate": "State/Union territory=%{x}<br>Year=2001–02<br>GDP (in Crores)=%{customdata[0]}",
           "legendgroup": "State/Union territory=Meghalaya",
           "marker": {
            "color": "#B6E880"
           },
           "name": "State/Union territory=Meghalaya",
           "offsetgroup": "State/Union territory=Meghalaya",
           "orientation": "v",
           "showlegend": true,
           "textposition": "auto",
           "type": "bar",
           "x": [
            "Meghalaya"
           ],
           "xaxis": "x",
           "y": [
            4478
           ],
           "yaxis": "y"
          },
          {
           "alignmentgroup": "True",
           "customdata": [
            [
             1947
            ]
           ],
           "hoverlabel": {
            "namelength": 0
           },
           "hovertemplate": "State/Union territory=%{x}<br>Year=2001–02<br>GDP (in Crores)=%{customdata[0]}",
           "legendgroup": "State/Union territory=Mizoram",
           "marker": {
            "color": "#FF97FF"
           },
           "name": "State/Union territory=Mizoram",
           "offsetgroup": "State/Union territory=Mizoram",
           "orientation": "v",
           "showlegend": true,
           "textposition": "auto",
           "type": "bar",
           "x": [
            "Mizoram"
           ],
           "xaxis": "x",
           "y": [
            1947
           ],
           "yaxis": "y"
          },
          {
           "alignmentgroup": "True",
           "customdata": [
            [
             3972
            ]
           ],
           "hoverlabel": {
            "namelength": 0
           },
           "hovertemplate": "State/Union territory=%{x}<br>Year=2001–02<br>GDP (in Crores)=%{customdata[0]}",
           "legendgroup": "State/Union territory=Nagaland",
           "marker": {
            "color": "#FECB52"
           },
           "name": "State/Union territory=Nagaland",
           "offsetgroup": "State/Union territory=Nagaland",
           "orientation": "v",
           "showlegend": true,
           "textposition": "auto",
           "type": "bar",
           "x": [
            "Nagaland"
           ],
           "xaxis": "x",
           "y": [
            3972
           ],
           "yaxis": "y"
          },
          {
           "alignmentgroup": "True",
           "customdata": [
            [
             46756
            ]
           ],
           "hoverlabel": {
            "namelength": 0
           },
           "hovertemplate": "State/Union territory=%{x}<br>Year=2001–02<br>GDP (in Crores)=%{customdata[0]}",
           "legendgroup": "State/Union territory=Odisha",
           "marker": {
            "color": "#636efa"
           },
           "name": "State/Union territory=Odisha",
           "offsetgroup": "State/Union territory=Odisha",
           "orientation": "v",
           "showlegend": true,
           "textposition": "auto",
           "type": "bar",
           "x": [
            "Odisha"
           ],
           "xaxis": "x",
           "y": [
            46756
           ],
           "yaxis": "y"
          },
          {
           "alignmentgroup": "True",
           "customdata": [
            [
             79611
            ]
           ],
           "hoverlabel": {
            "namelength": 0
           },
           "hovertemplate": "State/Union territory=%{x}<br>Year=2001–02<br>GDP (in Crores)=%{customdata[0]}",
           "legendgroup": "State/Union territory=Punjab",
           "marker": {
            "color": "#EF553B"
           },
           "name": "State/Union territory=Punjab",
           "offsetgroup": "State/Union territory=Punjab",
           "orientation": "v",
           "showlegend": true,
           "textposition": "auto",
           "type": "bar",
           "x": [
            "Punjab"
           ],
           "xaxis": "x",
           "y": [
            79611
           ],
           "yaxis": "y"
          },
          {
           "alignmentgroup": "True",
           "customdata": [
            [
             91771
            ]
           ],
           "hoverlabel": {
            "namelength": 0
           },
           "hovertemplate": "State/Union territory=%{x}<br>Year=2001–02<br>GDP (in Crores)=%{customdata[0]}",
           "legendgroup": "State/Union territory=Rajasthan",
           "marker": {
            "color": "#00cc96"
           },
           "name": "State/Union territory=Rajasthan",
           "offsetgroup": "State/Union territory=Rajasthan",
           "orientation": "v",
           "showlegend": true,
           "textposition": "auto",
           "type": "bar",
           "x": [
            "Rajasthan"
           ],
           "xaxis": "x",
           "y": [
            91771
           ],
           "yaxis": "y"
          },
          {
           "alignmentgroup": "True",
           "customdata": [
            [
             1136
            ]
           ],
           "hoverlabel": {
            "namelength": 0
           },
           "hovertemplate": "State/Union territory=%{x}<br>Year=2001–02<br>GDP (in Crores)=%{customdata[0]}",
           "legendgroup": "State/Union territory=Sikkim",
           "marker": {
            "color": "#ab63fa"
           },
           "name": "State/Union territory=Sikkim",
           "offsetgroup": "State/Union territory=Sikkim",
           "orientation": "v",
           "showlegend": true,
           "textposition": "auto",
           "type": "bar",
           "x": [
            "Sikkim"
           ],
           "xaxis": "x",
           "y": [
            1136
           ],
           "yaxis": "y"
          },
          {
           "alignmentgroup": "True",
           "customdata": [
            [
             148861
            ]
           ],
           "hoverlabel": {
            "namelength": 0
           },
           "hovertemplate": "State/Union territory=%{x}<br>Year=2001–02<br>GDP (in Crores)=%{customdata[0]}",
           "legendgroup": "State/Union territory=Tamil Nadu",
           "marker": {
            "color": "#FFA15A"
           },
           "name": "State/Union territory=Tamil Nadu",
           "offsetgroup": "State/Union territory=Tamil Nadu",
           "orientation": "v",
           "showlegend": true,
           "textposition": "auto",
           "type": "bar",
           "x": [
            "Tamil Nadu"
           ],
           "xaxis": "x",
           "y": [
            148861
           ],
           "yaxis": "y"
          },
          {
           "alignmentgroup": "True",
           "customdata": [
            [
             6370
            ]
           ],
           "hoverlabel": {
            "namelength": 0
           },
           "hovertemplate": "State/Union territory=%{x}<br>Year=2001–02<br>GDP (in Crores)=%{customdata[0]}",
           "legendgroup": "State/Union territory=Tripura",
           "marker": {
            "color": "#19d3f3"
           },
           "name": "State/Union territory=Tripura",
           "offsetgroup": "State/Union territory=Tripura",
           "orientation": "v",
           "showlegend": true,
           "textposition": "auto",
           "type": "bar",
           "x": [
            "Tripura"
           ],
           "xaxis": "x",
           "y": [
            6370
           ],
           "yaxis": "y"
          },
          {
           "alignmentgroup": "True",
           "customdata": [
            [
             190269
            ]
           ],
           "hoverlabel": {
            "namelength": 0
           },
           "hovertemplate": "State/Union territory=%{x}<br>Year=2001–02<br>GDP (in Crores)=%{customdata[0]}",
           "legendgroup": "State/Union territory=Uttar Pradesh",
           "marker": {
            "color": "#FF6692"
           },
           "name": "State/Union territory=Uttar Pradesh",
           "offsetgroup": "State/Union territory=Uttar Pradesh",
           "orientation": "v",
           "showlegend": true,
           "textposition": "auto",
           "type": "bar",
           "x": [
            "Uttar Pradesh"
           ],
           "xaxis": "x",
           "y": [
            190269
           ],
           "yaxis": "y"
          },
          {
           "alignmentgroup": "True",
           "customdata": [
            [
             15144
            ]
           ],
           "hoverlabel": {
            "namelength": 0
           },
           "hovertemplate": "State/Union territory=%{x}<br>Year=2001–02<br>GDP (in Crores)=%{customdata[0]}",
           "legendgroup": "State/Union territory=Uttarakhand",
           "marker": {
            "color": "#B6E880"
           },
           "name": "State/Union territory=Uttarakhand",
           "offsetgroup": "State/Union territory=Uttarakhand",
           "orientation": "v",
           "showlegend": true,
           "textposition": "auto",
           "type": "bar",
           "x": [
            "Uttarakhand"
           ],
           "xaxis": "x",
           "y": [
            15144
           ],
           "yaxis": "y"
          },
          {
           "alignmentgroup": "True",
           "customdata": [
            [
             157144
            ]
           ],
           "hoverlabel": {
            "namelength": 0
           },
           "hovertemplate": "State/Union territory=%{x}<br>Year=2001–02<br>GDP (in Crores)=%{customdata[0]}",
           "legendgroup": "State/Union territory=West Bengal",
           "marker": {
            "color": "#FF97FF"
           },
           "name": "State/Union territory=West Bengal",
           "offsetgroup": "State/Union territory=West Bengal",
           "orientation": "v",
           "showlegend": true,
           "textposition": "auto",
           "type": "bar",
           "x": [
            "West Bengal"
           ],
           "xaxis": "x",
           "y": [
            157144
           ],
           "yaxis": "y"
          },
          {
           "alignmentgroup": "True",
           "customdata": [
            [
             1082
            ]
           ],
           "hoverlabel": {
            "namelength": 0
           },
           "hovertemplate": "State/Union territory=%{x}<br>Year=2001–02<br>GDP (in Crores)=%{customdata[0]}",
           "legendgroup": "State/Union territory=Andaman and Nicobar Islands",
           "marker": {
            "color": "#FECB52"
           },
           "name": "State/Union territory=Andaman and Nicobar Islands",
           "offsetgroup": "State/Union territory=Andaman and Nicobar Islands",
           "orientation": "v",
           "showlegend": true,
           "textposition": "auto",
           "type": "bar",
           "x": [
            "Andaman and Nicobar Islands"
           ],
           "xaxis": "x",
           "y": [
            1082
           ],
           "yaxis": "y"
          },
          {
           "alignmentgroup": "True",
           "customdata": [
            [
             5490
            ]
           ],
           "hoverlabel": {
            "namelength": 0
           },
           "hovertemplate": "State/Union territory=%{x}<br>Year=2001–02<br>GDP (in Crores)=%{customdata[0]}",
           "legendgroup": "State/Union territory=Chandigarh",
           "marker": {
            "color": "#636efa"
           },
           "name": "State/Union territory=Chandigarh",
           "offsetgroup": "State/Union territory=Chandigarh",
           "orientation": "v",
           "showlegend": true,
           "textposition": "auto",
           "type": "bar",
           "x": [
            "Chandigarh"
           ],
           "xaxis": "x",
           "y": [
            5490
           ],
           "yaxis": "y"
          },
          {
           "alignmentgroup": "True",
           "customdata": [
            [
             65027
            ]
           ],
           "hoverlabel": {
            "namelength": 0
           },
           "hovertemplate": "State/Union territory=%{x}<br>Year=2001–02<br>GDP (in Crores)=%{customdata[0]}",
           "legendgroup": "State/Union territory=Delhi",
           "marker": {
            "color": "#EF553B"
           },
           "name": "State/Union territory=Delhi",
           "offsetgroup": "State/Union territory=Delhi",
           "orientation": "v",
           "showlegend": true,
           "textposition": "auto",
           "type": "bar",
           "x": [
            "Delhi"
           ],
           "xaxis": "x",
           "y": [
            65027
           ],
           "yaxis": "y"
          },
          {
           "alignmentgroup": "True",
           "customdata": [
            [
             4259
            ]
           ],
           "hoverlabel": {
            "namelength": 0
           },
           "hovertemplate": "State/Union territory=%{x}<br>Year=2001–02<br>GDP (in Crores)=%{customdata[0]}",
           "legendgroup": "State/Union territory=Pudduchery",
           "marker": {
            "color": "#00cc96"
           },
           "name": "State/Union territory=Pudduchery",
           "offsetgroup": "State/Union territory=Pudduchery",
           "orientation": "v",
           "showlegend": true,
           "textposition": "auto",
           "type": "bar",
           "x": [
            "Pudduchery"
           ],
           "xaxis": "x",
           "y": [
            4259
           ],
           "yaxis": "y"
          }
         ],
         "name": "2001–02"
        },
        {
         "data": [
          {
           "alignmentgroup": "True",
           "customdata": [
            [
             2261415
            ]
           ],
           "hoverlabel": {
            "namelength": 0
           },
           "hovertemplate": "State/Union territory=%{x}<br>Year=2002–03<br>GDP (in Crores)=%{customdata[0]}",
           "legendgroup": "State/Union territory= India",
           "marker": {
            "color": "#636efa"
           },
           "name": "State/Union territory= India",
           "offsetgroup": "State/Union territory= India",
           "orientation": "v",
           "showlegend": true,
           "textposition": "auto",
           "type": "bar",
           "x": [
            " India"
           ],
           "xaxis": "x",
           "y": [
            2261415
           ],
           "yaxis": "y"
          },
          {
           "alignmentgroup": "True",
           "customdata": [
            [
             167096
            ]
           ],
           "hoverlabel": {
            "namelength": 0
           },
           "hovertemplate": "State/Union territory=%{x}<br>Year=2002–03<br>GDP (in Crores)=%{customdata[0]}",
           "legendgroup": "State/Union territory=Andhra Pradesh",
           "marker": {
            "color": "#EF553B"
           },
           "name": "State/Union territory=Andhra Pradesh",
           "offsetgroup": "State/Union territory=Andhra Pradesh",
           "orientation": "v",
           "showlegend": true,
           "textposition": "auto",
           "type": "bar",
           "x": [
            "Andhra Pradesh"
           ],
           "xaxis": "x",
           "y": [
            167096
           ],
           "yaxis": "y"
          },
          {
           "alignmentgroup": "True",
           "customdata": [
            [
             2071
            ]
           ],
           "hoverlabel": {
            "namelength": 0
           },
           "hovertemplate": "State/Union territory=%{x}<br>Year=2002–03<br>GDP (in Crores)=%{customdata[0]}",
           "legendgroup": "State/Union territory=Arunachal Pradesh",
           "marker": {
            "color": "#00cc96"
           },
           "name": "State/Union territory=Arunachal Pradesh",
           "offsetgroup": "State/Union territory=Arunachal Pradesh",
           "orientation": "v",
           "showlegend": true,
           "textposition": "auto",
           "type": "bar",
           "x": [
            "Arunachal Pradesh"
           ],
           "xaxis": "x",
           "y": [
            2071
           ],
           "yaxis": "y"
          },
          {
           "alignmentgroup": "True",
           "customdata": [
            [
             43407
            ]
           ],
           "hoverlabel": {
            "namelength": 0
           },
           "hovertemplate": "State/Union territory=%{x}<br>Year=2002–03<br>GDP (in Crores)=%{customdata[0]}",
           "legendgroup": "State/Union territory=Assam",
           "marker": {
            "color": "#ab63fa"
           },
           "name": "State/Union territory=Assam",
           "offsetgroup": "State/Union territory=Assam",
           "orientation": "v",
           "showlegend": true,
           "textposition": "auto",
           "type": "bar",
           "x": [
            "Assam"
           ],
           "xaxis": "x",
           "y": [
            43407
           ],
           "yaxis": "y"
          },
          {
           "alignmentgroup": "True",
           "customdata": [
            [
             64965
            ]
           ],
           "hoverlabel": {
            "namelength": 0
           },
           "hovertemplate": "State/Union territory=%{x}<br>Year=2002–03<br>GDP (in Crores)=%{customdata[0]}",
           "legendgroup": "State/Union territory=Bihar",
           "marker": {
            "color": "#FFA15A"
           },
           "name": "State/Union territory=Bihar",
           "offsetgroup": "State/Union territory=Bihar",
           "orientation": "v",
           "showlegend": true,
           "textposition": "auto",
           "type": "bar",
           "x": [
            "Bihar"
           ],
           "xaxis": "x",
           "y": [
            64965
           ],
           "yaxis": "y"
          },
          {
           "alignmentgroup": "True",
           "customdata": [
            [
             32493
            ]
           ],
           "hoverlabel": {
            "namelength": 0
           },
           "hovertemplate": "State/Union territory=%{x}<br>Year=2002–03<br>GDP (in Crores)=%{customdata[0]}",
           "legendgroup": "State/Union territory=Chhattisgarh",
           "marker": {
            "color": "#19d3f3"
           },
           "name": "State/Union territory=Chhattisgarh",
           "offsetgroup": "State/Union territory=Chhattisgarh",
           "orientation": "v",
           "showlegend": true,
           "textposition": "auto",
           "type": "bar",
           "x": [
            "Chhattisgarh"
           ],
           "xaxis": "x",
           "y": [
            32493
           ],
           "yaxis": "y"
          },
          {
           "alignmentgroup": "True",
           "customdata": [
            [
             8100
            ]
           ],
           "hoverlabel": {
            "namelength": 0
           },
           "hovertemplate": "State/Union territory=%{x}<br>Year=2002–03<br>GDP (in Crores)=%{customdata[0]}",
           "legendgroup": "State/Union territory=Goa",
           "marker": {
            "color": "#FF6692"
           },
           "name": "State/Union territory=Goa",
           "offsetgroup": "State/Union territory=Goa",
           "orientation": "v",
           "showlegend": true,
           "textposition": "auto",
           "type": "bar",
           "x": [
            "Goa"
           ],
           "xaxis": "x",
           "y": [
            8100
           ],
           "yaxis": "y"
          },
          {
           "alignmentgroup": "True",
           "customdata": [
            [
             141534
            ]
           ],
           "hoverlabel": {
            "namelength": 0
           },
           "hovertemplate": "State/Union territory=%{x}<br>Year=2002–03<br>GDP (in Crores)=%{customdata[0]}",
           "legendgroup": "State/Union territory=Gujarat",
           "marker": {
            "color": "#B6E880"
           },
           "name": "State/Union territory=Gujarat",
           "offsetgroup": "State/Union territory=Gujarat",
           "orientation": "v",
           "showlegend": true,
           "textposition": "auto",
           "type": "bar",
           "x": [
            "Gujarat"
           ],
           "xaxis": "x",
           "y": [
            141534
           ],
           "yaxis": "y"
          },
          {
           "alignmentgroup": "True",
           "customdata": [
            [
             72528
            ]
           ],
           "hoverlabel": {
            "namelength": 0
           },
           "hovertemplate": "State/Union territory=%{x}<br>Year=2002–03<br>GDP (in Crores)=%{customdata[0]}",
           "legendgroup": "State/Union territory=Haryana",
           "marker": {
            "color": "#FF97FF"
           },
           "name": "State/Union territory=Haryana",
           "offsetgroup": "State/Union territory=Haryana",
           "orientation": "v",
           "showlegend": true,
           "textposition": "auto",
           "type": "bar",
           "x": [
            "Haryana"
           ],
           "xaxis": "x",
           "y": [
            72528
           ],
           "yaxis": "y"
          },
          {
           "alignmentgroup": "True",
           "customdata": [
            [
             18905
            ]
           ],
           "hoverlabel": {
            "namelength": 0
           },
           "hovertemplate": "State/Union territory=%{x}<br>Year=2002–03<br>GDP (in Crores)=%{customdata[0]}",
           "legendgroup": "State/Union territory=Himachal Pradesh",
           "marker": {
            "color": "#FECB52"
           },
           "name": "State/Union territory=Himachal Pradesh",
           "offsetgroup": "State/Union territory=Himachal Pradesh",
           "orientation": "v",
           "showlegend": true,
           "textposition": "auto",
           "type": "bar",
           "x": [
            "Himachal Pradesh"
           ],
           "xaxis": "x",
           "y": [
            18905
           ],
           "yaxis": "y"
          },
          {
           "alignmentgroup": "True",
           "customdata": [
            [
             20326
            ]
           ],
           "hoverlabel": {
            "namelength": 0
           },
           "hovertemplate": "State/Union territory=%{x}<br>Year=2002–03<br>GDP (in Crores)=%{customdata[0]}",
           "legendgroup": "State/Union territory=Jammu and Kashmir",
           "marker": {
            "color": "#636efa"
           },
           "name": "State/Union territory=Jammu and Kashmir",
           "offsetgroup": "State/Union territory=Jammu and Kashmir",
           "orientation": "v",
           "showlegend": true,
           "textposition": "auto",
           "type": "bar",
           "x": [
            "Jammu and Kashmir"
           ],
           "xaxis": "x",
           "y": [
            20326
           ],
           "yaxis": "y"
          },
          {
           "alignmentgroup": "True",
           "customdata": [
            [
             37967
            ]
           ],
           "hoverlabel": {
            "namelength": 0
           },
           "hovertemplate": "State/Union territory=%{x}<br>Year=2002–03<br>GDP (in Crores)=%{customdata[0]}",
           "legendgroup": "State/Union territory=Jharkhand",
           "marker": {
            "color": "#EF553B"
           },
           "name": "State/Union territory=Jharkhand",
           "offsetgroup": "State/Union territory=Jharkhand",
           "orientation": "v",
           "showlegend": true,
           "textposition": "auto",
           "type": "bar",
           "x": [
            "Jharkhand"
           ],
           "xaxis": "x",
           "y": [
            37967
           ],
           "yaxis": "y"
          },
          {
           "alignmentgroup": "True",
           "customdata": [
            [
             120889
            ]
           ],
           "hoverlabel": {
            "namelength": 0
           },
           "hovertemplate": "State/Union territory=%{x}<br>Year=2002–03<br>GDP (in Crores)=%{customdata[0]}",
           "legendgroup": "State/Union territory=Karnataka",
           "marker": {
            "color": "#00cc96"
           },
           "name": "State/Union territory=Karnataka",
           "offsetgroup": "State/Union territory=Karnataka",
           "orientation": "v",
           "showlegend": true,
           "textposition": "auto",
           "type": "bar",
           "x": [
            "Karnataka"
           ],
           "xaxis": "x",
           "y": [
            120889
           ],
           "yaxis": "y"
          },
          {
           "alignmentgroup": "True",
           "customdata": [
            [
             86895
            ]
           ],
           "hoverlabel": {
            "namelength": 0
           },
           "hovertemplate": "State/Union territory=%{x}<br>Year=2002–03<br>GDP (in Crores)=%{customdata[0]}",
           "legendgroup": "State/Union territory=Kerala",
           "marker": {
            "color": "#ab63fa"
           },
           "name": "State/Union territory=Kerala",
           "offsetgroup": "State/Union territory=Kerala",
           "orientation": "v",
           "showlegend": true,
           "textposition": "auto",
           "type": "bar",
           "x": [
            "Kerala"
           ],
           "xaxis": "x",
           "y": [
            86895
           ],
           "yaxis": "y"
          },
          {
           "alignmentgroup": "True",
           "customdata": [
            [
             86832
            ]
           ],
           "hoverlabel": {
            "namelength": 0
           },
           "hovertemplate": "State/Union territory=%{x}<br>Year=2002–03<br>GDP (in Crores)=%{customdata[0]}",
           "legendgroup": "State/Union territory=Madhya Pradesh",
           "marker": {
            "color": "#FFA15A"
           },
           "name": "State/Union territory=Madhya Pradesh",
           "offsetgroup": "State/Union territory=Madhya Pradesh",
           "orientation": "v",
           "showlegend": true,
           "textposition": "auto",
           "type": "bar",
           "x": [
            "Madhya Pradesh"
           ],
           "xaxis": "x",
           "y": [
            86832
           ],
           "yaxis": "y"
          },
          {
           "alignmentgroup": "True",
           "customdata": [
            [
             299479
            ]
           ],
           "hoverlabel": {
            "namelength": 0
           },
           "hovertemplate": "State/Union territory=%{x}<br>Year=2002–03<br>GDP (in Crores)=%{customdata[0]}",
           "legendgroup": "State/Union territory=Maharashtra",
           "marker": {
            "color": "#19d3f3"
           },
           "name": "State/Union territory=Maharashtra",
           "offsetgroup": "State/Union territory=Maharashtra",
           "orientation": "v",
           "showlegend": true,
           "textposition": "auto",
           "type": "bar",
           "x": [
            "Maharashtra"
           ],
           "xaxis": "x",
           "y": [
            299479
           ],
           "yaxis": "y"
          },
          {
           "alignmentgroup": "True",
           "customdata": [
            [
             3506
            ]
           ],
           "hoverlabel": {
            "namelength": 0
           },
           "hovertemplate": "State/Union territory=%{x}<br>Year=2002–03<br>GDP (in Crores)=%{customdata[0]}",
           "legendgroup": "State/Union territory=Manipur",
           "marker": {
            "color": "#FF6692"
           },
           "name": "State/Union territory=Manipur",
           "offsetgroup": "State/Union territory=Manipur",
           "orientation": "v",
           "showlegend": true,
           "textposition": "auto",
           "type": "bar",
           "x": [
            "Manipur"
           ],
           "xaxis": "x",
           "y": [
            3506
           ],
           "yaxis": "y"
          },
          {
           "alignmentgroup": "True",
           "customdata": [
            [
             4763
            ]
           ],
           "hoverlabel": {
            "namelength": 0
           },
           "hovertemplate": "State/Union territory=%{x}<br>Year=2002–03<br>GDP (in Crores)=%{customdata[0]}",
           "legendgroup": "State/Union territory=Meghalaya",
           "marker": {
            "color": "#B6E880"
           },
           "name": "State/Union territory=Meghalaya",
           "offsetgroup": "State/Union territory=Meghalaya",
           "orientation": "v",
           "showlegend": true,
           "textposition": "auto",
           "type": "bar",
           "x": [
            "Meghalaya"
           ],
           "xaxis": "x",
           "y": [
            4763
           ],
           "yaxis": "y"
          },
          {
           "alignmentgroup": "True",
           "customdata": [
            [
             2166
            ]
           ],
           "hoverlabel": {
            "namelength": 0
           },
           "hovertemplate": "State/Union territory=%{x}<br>Year=2002–03<br>GDP (in Crores)=%{customdata[0]}",
           "legendgroup": "State/Union territory=Mizoram",
           "marker": {
            "color": "#FF97FF"
           },
           "name": "State/Union territory=Mizoram",
           "offsetgroup": "State/Union territory=Mizoram",
           "orientation": "v",
           "showlegend": true,
           "textposition": "auto",
           "type": "bar",
           "x": [
            "Mizoram"
           ],
           "xaxis": "x",
           "y": [
            2166
           ],
           "yaxis": "y"
          },
          {
           "alignmentgroup": "True",
           "customdata": [
            [
             4467
            ]
           ],
           "hoverlabel": {
            "namelength": 0
           },
           "hovertemplate": "State/Union territory=%{x}<br>Year=2002–03<br>GDP (in Crores)=%{customdata[0]}",
           "legendgroup": "State/Union territory=Nagaland",
           "marker": {
            "color": "#FECB52"
           },
           "name": "State/Union territory=Nagaland",
           "offsetgroup": "State/Union territory=Nagaland",
           "orientation": "v",
           "showlegend": true,
           "textposition": "auto",
           "type": "bar",
           "x": [
            "Nagaland"
           ],
           "xaxis": "x",
           "y": [
            4467
           ],
           "yaxis": "y"
          },
          {
           "alignmentgroup": "True",
           "customdata": [
            [
             49713
            ]
           ],
           "hoverlabel": {
            "namelength": 0
           },
           "hovertemplate": "State/Union territory=%{x}<br>Year=2002–03<br>GDP (in Crores)=%{customdata[0]}",
           "legendgroup": "State/Union territory=Odisha",
           "marker": {
            "color": "#636efa"
           },
           "name": "State/Union territory=Odisha",
           "offsetgroup": "State/Union territory=Odisha",
           "orientation": "v",
           "showlegend": true,
           "textposition": "auto",
           "type": "bar",
           "x": [
            "Odisha"
           ],
           "xaxis": "x",
           "y": [
            49713
           ],
           "yaxis": "y"
          },
          {
           "alignmentgroup": "True",
           "customdata": [
            [
             82249
            ]
           ],
           "hoverlabel": {
            "namelength": 0
           },
           "hovertemplate": "State/Union territory=%{x}<br>Year=2002–03<br>GDP (in Crores)=%{customdata[0]}",
           "legendgroup": "State/Union territory=Punjab",
           "marker": {
            "color": "#EF553B"
           },
           "name": "State/Union territory=Punjab",
           "offsetgroup": "State/Union territory=Punjab",
           "orientation": "v",
           "showlegend": true,
           "textposition": "auto",
           "type": "bar",
           "x": [
            "Punjab"
           ],
           "xaxis": "x",
           "y": [
            82249
           ],
           "yaxis": "y"
          },
          {
           "alignmentgroup": "True",
           "customdata": [
            [
             88550
            ]
           ],
           "hoverlabel": {
            "namelength": 0
           },
           "hovertemplate": "State/Union territory=%{x}<br>Year=2002–03<br>GDP (in Crores)=%{customdata[0]}",
           "legendgroup": "State/Union territory=Rajasthan",
           "marker": {
            "color": "#00cc96"
           },
           "name": "State/Union territory=Rajasthan",
           "offsetgroup": "State/Union territory=Rajasthan",
           "orientation": "v",
           "showlegend": true,
           "textposition": "auto",
           "type": "bar",
           "x": [
            "Rajasthan"
           ],
           "xaxis": "x",
           "y": [
            88550
           ],
           "yaxis": "y"
          },
          {
           "alignmentgroup": "True",
           "customdata": [
            [
             1276
            ]
           ],
           "hoverlabel": {
            "namelength": 0
           },
           "hovertemplate": "State/Union territory=%{x}<br>Year=2002–03<br>GDP (in Crores)=%{customdata[0]}",
           "legendgroup": "State/Union territory=Sikkim",
           "marker": {
            "color": "#ab63fa"
           },
           "name": "State/Union territory=Sikkim",
           "offsetgroup": "State/Union territory=Sikkim",
           "orientation": "v",
           "showlegend": true,
           "textposition": "auto",
           "type": "bar",
           "x": [
            "Sikkim"
           ],
           "xaxis": "x",
           "y": [
            1276
           ],
           "yaxis": "y"
          },
          {
           "alignmentgroup": "True",
           "customdata": [
            [
             158155
            ]
           ],
           "hoverlabel": {
            "namelength": 0
           },
           "hovertemplate": "State/Union territory=%{x}<br>Year=2002–03<br>GDP (in Crores)=%{customdata[0]}",
           "legendgroup": "State/Union territory=Tamil Nadu",
           "marker": {
            "color": "#FFA15A"
           },
           "name": "State/Union territory=Tamil Nadu",
           "offsetgroup": "State/Union territory=Tamil Nadu",
           "orientation": "v",
           "showlegend": true,
           "textposition": "auto",
           "type": "bar",
           "x": [
            "Tamil Nadu"
           ],
           "xaxis": "x",
           "y": [
            158155
           ],
           "yaxis": "y"
          },
          {
           "alignmentgroup": "True",
           "customdata": [
            [
             6733
            ]
           ],
           "hoverlabel": {
            "namelength": 0
           },
           "hovertemplate": "State/Union territory=%{x}<br>Year=2002–03<br>GDP (in Crores)=%{customdata[0]}",
           "legendgroup": "State/Union territory=Tripura",
           "marker": {
            "color": "#19d3f3"
           },
           "name": "State/Union territory=Tripura",
           "offsetgroup": "State/Union territory=Tripura",
           "orientation": "v",
           "showlegend": true,
           "textposition": "auto",
           "type": "bar",
           "x": [
            "Tripura"
           ],
           "xaxis": "x",
           "y": [
            6733
           ],
           "yaxis": "y"
          },
          {
           "alignmentgroup": "True",
           "customdata": [
            [
             206855
            ]
           ],
           "hoverlabel": {
            "namelength": 0
           },
           "hovertemplate": "State/Union territory=%{x}<br>Year=2002–03<br>GDP (in Crores)=%{customdata[0]}",
           "legendgroup": "State/Union territory=Uttar Pradesh",
           "marker": {
            "color": "#FF6692"
           },
           "name": "State/Union territory=Uttar Pradesh",
           "offsetgroup": "State/Union territory=Uttar Pradesh",
           "orientation": "v",
           "showlegend": true,
           "textposition": "auto",
           "type": "bar",
           "x": [
            "Uttar Pradesh"
           ],
           "xaxis": "x",
           "y": [
            206855
           ],
           "yaxis": "y"
          },
          {
           "alignmentgroup": "True",
           "customdata": [
            [
             18473
            ]
           ],
           "hoverlabel": {
            "namelength": 0
           },
           "hovertemplate": "State/Union territory=%{x}<br>Year=2002–03<br>GDP (in Crores)=%{customdata[0]}",
           "legendgroup": "State/Union territory=Uttarakhand",
           "marker": {
            "color": "#B6E880"
           },
           "name": "State/Union territory=Uttarakhand",
           "offsetgroup": "State/Union territory=Uttarakhand",
           "orientation": "v",
           "showlegend": true,
           "textposition": "auto",
           "type": "bar",
           "x": [
            "Uttarakhand"
           ],
           "xaxis": "x",
           "y": [
            18473
           ],
           "yaxis": "y"
          },
          {
           "alignmentgroup": "True",
           "customdata": [
            [
             168000
            ]
           ],
           "hoverlabel": {
            "namelength": 0
           },
           "hovertemplate": "State/Union territory=%{x}<br>Year=2002–03<br>GDP (in Crores)=%{customdata[0]}",
           "legendgroup": "State/Union territory=West Bengal",
           "marker": {
            "color": "#FF97FF"
           },
           "name": "State/Union territory=West Bengal",
           "offsetgroup": "State/Union territory=West Bengal",
           "orientation": "v",
           "showlegend": true,
           "textposition": "auto",
           "type": "bar",
           "x": [
            "West Bengal"
           ],
           "xaxis": "x",
           "y": [
            168000
           ],
           "yaxis": "y"
          },
          {
           "alignmentgroup": "True",
           "customdata": [
            [
             1228
            ]
           ],
           "hoverlabel": {
            "namelength": 0
           },
           "hovertemplate": "State/Union territory=%{x}<br>Year=2002–03<br>GDP (in Crores)=%{customdata[0]}",
           "legendgroup": "State/Union territory=Andaman and Nicobar Islands",
           "marker": {
            "color": "#FECB52"
           },
           "name": "State/Union territory=Andaman and Nicobar Islands",
           "offsetgroup": "State/Union territory=Andaman and Nicobar Islands",
           "orientation": "v",
           "showlegend": true,
           "textposition": "auto",
           "type": "bar",
           "x": [
            "Andaman and Nicobar Islands"
           ],
           "xaxis": "x",
           "y": [
            1228
           ],
           "yaxis": "y"
          },
          {
           "alignmentgroup": "True",
           "customdata": [
            [
             6453
            ]
           ],
           "hoverlabel": {
            "namelength": 0
           },
           "hovertemplate": "State/Union territory=%{x}<br>Year=2002–03<br>GDP (in Crores)=%{customdata[0]}",
           "legendgroup": "State/Union territory=Chandigarh",
           "marker": {
            "color": "#636efa"
           },
           "name": "State/Union territory=Chandigarh",
           "offsetgroup": "State/Union territory=Chandigarh",
           "orientation": "v",
           "showlegend": true,
           "textposition": "auto",
           "type": "bar",
           "x": [
            "Chandigarh"
           ],
           "xaxis": "x",
           "y": [
            6453
           ],
           "yaxis": "y"
          },
          {
           "alignmentgroup": "True",
           "customdata": [
            [
             71361
            ]
           ],
           "hoverlabel": {
            "namelength": 0
           },
           "hovertemplate": "State/Union territory=%{x}<br>Year=2002–03<br>GDP (in Crores)=%{customdata[0]}",
           "legendgroup": "State/Union territory=Delhi",
           "marker": {
            "color": "#EF553B"
           },
           "name": "State/Union territory=Delhi",
           "offsetgroup": "State/Union territory=Delhi",
           "orientation": "v",
           "showlegend": true,
           "textposition": "auto",
           "type": "bar",
           "x": [
            "Delhi"
           ],
           "xaxis": "x",
           "y": [
            71361
           ],
           "yaxis": "y"
          },
          {
           "alignmentgroup": "True",
           "customdata": [
            [
             4931
            ]
           ],
           "hoverlabel": {
            "namelength": 0
           },
           "hovertemplate": "State/Union territory=%{x}<br>Year=2002–03<br>GDP (in Crores)=%{customdata[0]}",
           "legendgroup": "State/Union territory=Pudduchery",
           "marker": {
            "color": "#00cc96"
           },
           "name": "State/Union territory=Pudduchery",
           "offsetgroup": "State/Union territory=Pudduchery",
           "orientation": "v",
           "showlegend": true,
           "textposition": "auto",
           "type": "bar",
           "x": [
            "Pudduchery"
           ],
           "xaxis": "x",
           "y": [
            4931
           ],
           "yaxis": "y"
          }
         ],
         "name": "2002–03"
        },
        {
         "data": [
          {
           "alignmentgroup": "True",
           "customdata": [
            [
             2538170
            ]
           ],
           "hoverlabel": {
            "namelength": 0
           },
           "hovertemplate": "State/Union territory=%{x}<br>Year=2003–04<br>GDP (in Crores)=%{customdata[0]}",
           "legendgroup": "State/Union territory= India",
           "marker": {
            "color": "#636efa"
           },
           "name": "State/Union territory= India",
           "offsetgroup": "State/Union territory= India",
           "orientation": "v",
           "showlegend": true,
           "textposition": "auto",
           "type": "bar",
           "x": [
            " India"
           ],
           "xaxis": "x",
           "y": [
            2538170
           ],
           "yaxis": "y"
          },
          {
           "alignmentgroup": "True",
           "customdata": [
            [
             190017
            ]
           ],
           "hoverlabel": {
            "namelength": 0
           },
           "hovertemplate": "State/Union territory=%{x}<br>Year=2003–04<br>GDP (in Crores)=%{customdata[0]}",
           "legendgroup": "State/Union territory=Andhra Pradesh",
           "marker": {
            "color": "#EF553B"
           },
           "name": "State/Union territory=Andhra Pradesh",
           "offsetgroup": "State/Union territory=Andhra Pradesh",
           "orientation": "v",
           "showlegend": true,
           "textposition": "auto",
           "type": "bar",
           "x": [
            "Andhra Pradesh"
           ],
           "xaxis": "x",
           "y": [
            190017
           ],
           "yaxis": "y"
          },
          {
           "alignmentgroup": "True",
           "customdata": [
            [
             2368
            ]
           ],
           "hoverlabel": {
            "namelength": 0
           },
           "hovertemplate": "State/Union territory=%{x}<br>Year=2003–04<br>GDP (in Crores)=%{customdata[0]}",
           "legendgroup": "State/Union territory=Arunachal Pradesh",
           "marker": {
            "color": "#00cc96"
           },
           "name": "State/Union territory=Arunachal Pradesh",
           "offsetgroup": "State/Union territory=Arunachal Pradesh",
           "orientation": "v",
           "showlegend": true,
           "textposition": "auto",
           "type": "bar",
           "x": [
            "Arunachal Pradesh"
           ],
           "xaxis": "x",
           "y": [
            2368
           ],
           "yaxis": "y"
          },
          {
           "alignmentgroup": "True",
           "customdata": [
            [
             47305
            ]
           ],
           "hoverlabel": {
            "namelength": 0
           },
           "hovertemplate": "State/Union territory=%{x}<br>Year=2003–04<br>GDP (in Crores)=%{customdata[0]}",
           "legendgroup": "State/Union territory=Assam",
           "marker": {
            "color": "#ab63fa"
           },
           "name": "State/Union territory=Assam",
           "offsetgroup": "State/Union territory=Assam",
           "orientation": "v",
           "showlegend": true,
           "textposition": "auto",
           "type": "bar",
           "x": [
            "Assam"
           ],
           "xaxis": "x",
           "y": [
            47305
           ],
           "yaxis": "y"
          },
          {
           "alignmentgroup": "True",
           "customdata": [
            [
             66174
            ]
           ],
           "hoverlabel": {
            "namelength": 0
           },
           "hovertemplate": "State/Union territory=%{x}<br>Year=2003–04<br>GDP (in Crores)=%{customdata[0]}",
           "legendgroup": "State/Union territory=Bihar",
           "marker": {
            "color": "#FFA15A"
           },
           "name": "State/Union territory=Bihar",
           "offsetgroup": "State/Union territory=Bihar",
           "orientation": "v",
           "showlegend": true,
           "textposition": "auto",
           "type": "bar",
           "x": [
            "Bihar"
           ],
           "xaxis": "x",
           "y": [
            66174
           ],
           "yaxis": "y"
          },
          {
           "alignmentgroup": "True",
           "customdata": [
            [
             38802
            ]
           ],
           "hoverlabel": {
            "namelength": 0
           },
           "hovertemplate": "State/Union territory=%{x}<br>Year=2003–04<br>GDP (in Crores)=%{customdata[0]}",
           "legendgroup": "State/Union territory=Chhattisgarh",
           "marker": {
            "color": "#19d3f3"
           },
           "name": "State/Union territory=Chhattisgarh",
           "offsetgroup": "State/Union territory=Chhattisgarh",
           "orientation": "v",
           "showlegend": true,
           "textposition": "auto",
           "type": "bar",
           "x": [
            "Chhattisgarh"
           ],
           "xaxis": "x",
           "y": [
            38802
           ],
           "yaxis": "y"
          },
          {
           "alignmentgroup": "True",
           "customdata": [
            [
             9301
            ]
           ],
           "hoverlabel": {
            "namelength": 0
           },
           "hovertemplate": "State/Union territory=%{x}<br>Year=2003–04<br>GDP (in Crores)=%{customdata[0]}",
           "legendgroup": "State/Union territory=Goa",
           "marker": {
            "color": "#FF6692"
           },
           "name": "State/Union territory=Goa",
           "offsetgroup": "State/Union territory=Goa",
           "orientation": "v",
           "showlegend": true,
           "textposition": "auto",
           "type": "bar",
           "x": [
            "Goa"
           ],
           "xaxis": "x",
           "y": [
            9301
           ],
           "yaxis": "y"
          },
          {
           "alignmentgroup": "True",
           "customdata": [
            [
             168080
            ]
           ],
           "hoverlabel": {
            "namelength": 0
           },
           "hovertemplate": "State/Union territory=%{x}<br>Year=2003–04<br>GDP (in Crores)=%{customdata[0]}",
           "legendgroup": "State/Union territory=Gujarat",
           "marker": {
            "color": "#B6E880"
           },
           "name": "State/Union territory=Gujarat",
           "offsetgroup": "State/Union territory=Gujarat",
           "orientation": "v",
           "showlegend": true,
           "textposition": "auto",
           "type": "bar",
           "x": [
            "Gujarat"
           ],
           "xaxis": "x",
           "y": [
            168080
           ],
           "yaxis": "y"
          },
          {
           "alignmentgroup": "True",
           "customdata": [
            [
             82862
            ]
           ],
           "hoverlabel": {
            "namelength": 0
           },
           "hovertemplate": "State/Union territory=%{x}<br>Year=2003–04<br>GDP (in Crores)=%{customdata[0]}",
           "legendgroup": "State/Union territory=Haryana",
           "marker": {
            "color": "#FF97FF"
           },
           "name": "State/Union territory=Haryana",
           "offsetgroup": "State/Union territory=Haryana",
           "orientation": "v",
           "showlegend": true,
           "textposition": "auto",
           "type": "bar",
           "x": [
            "Haryana"
           ],
           "xaxis": "x",
           "y": [
            82862
           ],
           "yaxis": "y"
          },
          {
           "alignmentgroup": "True",
           "customdata": [
            [
             20721
            ]
           ],
           "hoverlabel": {
            "namelength": 0
           },
           "hovertemplate": "State/Union territory=%{x}<br>Year=2003–04<br>GDP (in Crores)=%{customdata[0]}",
           "legendgroup": "State/Union territory=Himachal Pradesh",
           "marker": {
            "color": "#FECB52"
           },
           "name": "State/Union territory=Himachal Pradesh",
           "offsetgroup": "State/Union territory=Himachal Pradesh",
           "orientation": "v",
           "showlegend": true,
           "textposition": "auto",
           "type": "bar",
           "x": [
            "Himachal Pradesh"
           ],
           "xaxis": "x",
           "y": [
            20721
           ],
           "yaxis": "y"
          },
          {
           "alignmentgroup": "True",
           "customdata": [
            [
             22194
            ]
           ],
           "hoverlabel": {
            "namelength": 0
           },
           "hovertemplate": "State/Union territory=%{x}<br>Year=2003–04<br>GDP (in Crores)=%{customdata[0]}",
           "legendgroup": "State/Union territory=Jammu and Kashmir",
           "marker": {
            "color": "#636efa"
           },
           "name": "State/Union territory=Jammu and Kashmir",
           "offsetgroup": "State/Union territory=Jammu and Kashmir",
           "orientation": "v",
           "showlegend": true,
           "textposition": "auto",
           "type": "bar",
           "x": [
            "Jammu and Kashmir"
           ],
           "xaxis": "x",
           "y": [
            22194
           ],
           "yaxis": "y"
          },
          {
           "alignmentgroup": "True",
           "customdata": [
            [
             42449
            ]
           ],
           "hoverlabel": {
            "namelength": 0
           },
           "hovertemplate": "State/Union territory=%{x}<br>Year=2003–04<br>GDP (in Crores)=%{customdata[0]}",
           "legendgroup": "State/Union territory=Jharkhand",
           "marker": {
            "color": "#EF553B"
           },
           "name": "State/Union territory=Jharkhand",
           "offsetgroup": "State/Union territory=Jharkhand",
           "orientation": "v",
           "showlegend": true,
           "textposition": "auto",
           "type": "bar",
           "x": [
            "Jharkhand"
           ],
           "xaxis": "x",
           "y": [
            42449
           ],
           "yaxis": "y"
          },
          {
           "alignmentgroup": "True",
           "customdata": [
            [
             130990
            ]
           ],
           "hoverlabel": {
            "namelength": 0
           },
           "hovertemplate": "State/Union territory=%{x}<br>Year=2003–04<br>GDP (in Crores)=%{customdata[0]}",
           "legendgroup": "State/Union territory=Karnataka",
           "marker": {
            "color": "#00cc96"
           },
           "name": "State/Union territory=Karnataka",
           "offsetgroup": "State/Union territory=Karnataka",
           "orientation": "v",
           "showlegend": true,
           "textposition": "auto",
           "type": "bar",
           "x": [
            "Karnataka"
           ],
           "xaxis": "x",
           "y": [
            130990
           ],
           "yaxis": "y"
          },
          {
           "alignmentgroup": "True",
           "customdata": [
            [
             96698
            ]
           ],
           "hoverlabel": {
            "namelength": 0
           },
           "hovertemplate": "State/Union territory=%{x}<br>Year=2003–04<br>GDP (in Crores)=%{customdata[0]}",
           "legendgroup": "State/Union territory=Kerala",
           "marker": {
            "color": "#ab63fa"
           },
           "name": "State/Union territory=Kerala",
           "offsetgroup": "State/Union territory=Kerala",
           "orientation": "v",
           "showlegend": true,
           "textposition": "auto",
           "type": "bar",
           "x": [
            "Kerala"
           ],
           "xaxis": "x",
           "y": [
            96698
           ],
           "yaxis": "y"
          },
          {
           "alignmentgroup": "True",
           "customdata": [
            [
             102839
            ]
           ],
           "hoverlabel": {
            "namelength": 0
           },
           "hovertemplate": "State/Union territory=%{x}<br>Year=2003–04<br>GDP (in Crores)=%{customdata[0]}",
           "legendgroup": "State/Union territory=Madhya Pradesh",
           "marker": {
            "color": "#FFA15A"
           },
           "name": "State/Union territory=Madhya Pradesh",
           "offsetgroup": "State/Union territory=Madhya Pradesh",
           "orientation": "v",
           "showlegend": true,
           "textposition": "auto",
           "type": "bar",
           "x": [
            "Madhya Pradesh"
           ],
           "xaxis": "x",
           "y": [
            102839
           ],
           "yaxis": "y"
          },
          {
           "alignmentgroup": "True",
           "customdata": [
            [
             340600
            ]
           ],
           "hoverlabel": {
            "namelength": 0
           },
           "hovertemplate": "State/Union territory=%{x}<br>Year=2003–04<br>GDP (in Crores)=%{customdata[0]}",
           "legendgroup": "State/Union territory=Maharashtra",
           "marker": {
            "color": "#19d3f3"
           },
           "name": "State/Union territory=Maharashtra",
           "offsetgroup": "State/Union territory=Maharashtra",
           "orientation": "v",
           "showlegend": true,
           "textposition": "auto",
           "type": "bar",
           "x": [
            "Maharashtra"
           ],
           "xaxis": "x",
           "y": [
            340600
           ],
           "yaxis": "y"
          },
          {
           "alignmentgroup": "True",
           "customdata": [
            [
             3979
            ]
           ],
           "hoverlabel": {
            "namelength": 0
           },
           "hovertemplate": "State/Union territory=%{x}<br>Year=2003–04<br>GDP (in Crores)=%{customdata[0]}",
           "legendgroup": "State/Union territory=Manipur",
           "marker": {
            "color": "#FF6692"
           },
           "name": "State/Union territory=Manipur",
           "offsetgroup": "State/Union territory=Manipur",
           "orientation": "v",
           "showlegend": true,
           "textposition": "auto",
           "type": "bar",
           "x": [
            "Manipur"
           ],
           "xaxis": "x",
           "y": [
            3979
           ],
           "yaxis": "y"
          },
          {
           "alignmentgroup": "True",
           "customdata": [
            [
             5280
            ]
           ],
           "hoverlabel": {
            "namelength": 0
           },
           "hovertemplate": "State/Union territory=%{x}<br>Year=2003–04<br>GDP (in Crores)=%{customdata[0]}",
           "legendgroup": "State/Union territory=Meghalaya",
           "marker": {
            "color": "#B6E880"
           },
           "name": "State/Union territory=Meghalaya",
           "offsetgroup": "State/Union territory=Meghalaya",
           "orientation": "v",
           "showlegend": true,
           "textposition": "auto",
           "type": "bar",
           "x": [
            "Meghalaya"
           ],
           "xaxis": "x",
           "y": [
            5280
           ],
           "yaxis": "y"
          },
          {
           "alignmentgroup": "True",
           "customdata": [
            [
             2325
            ]
           ],
           "hoverlabel": {
            "namelength": 0
           },
           "hovertemplate": "State/Union territory=%{x}<br>Year=2003–04<br>GDP (in Crores)=%{customdata[0]}",
           "legendgroup": "State/Union territory=Mizoram",
           "marker": {
            "color": "#FF97FF"
           },
           "name": "State/Union territory=Mizoram",
           "offsetgroup": "State/Union territory=Mizoram",
           "orientation": "v",
           "showlegend": true,
           "textposition": "auto",
           "type": "bar",
           "x": [
            "Mizoram"
           ],
           "xaxis": "x",
           "y": [
            2325
           ],
           "yaxis": "y"
          },
          {
           "alignmentgroup": "True",
           "customdata": [
            [
             4812
            ]
           ],
           "hoverlabel": {
            "namelength": 0
           },
           "hovertemplate": "State/Union territory=%{x}<br>Year=2003–04<br>GDP (in Crores)=%{customdata[0]}",
           "legendgroup": "State/Union territory=Nagaland",
           "marker": {
            "color": "#FECB52"
           },
           "name": "State/Union territory=Nagaland",
           "offsetgroup": "State/Union territory=Nagaland",
           "orientation": "v",
           "showlegend": true,
           "textposition": "auto",
           "type": "bar",
           "x": [
            "Nagaland"
           ],
           "xaxis": "x",
           "y": [
            4812
           ],
           "yaxis": "y"
          },
          {
           "alignmentgroup": "True",
           "customdata": [
            [
             61008
            ]
           ],
           "hoverlabel": {
            "namelength": 0
           },
           "hovertemplate": "State/Union territory=%{x}<br>Year=2003–04<br>GDP (in Crores)=%{customdata[0]}",
           "legendgroup": "State/Union territory=Odisha",
           "marker": {
            "color": "#636efa"
           },
           "name": "State/Union territory=Odisha",
           "offsetgroup": "State/Union territory=Odisha",
           "orientation": "v",
           "showlegend": true,
           "textposition": "auto",
           "type": "bar",
           "x": [
            "Odisha"
           ],
           "xaxis": "x",
           "y": [
            61008
           ],
           "yaxis": "y"
          },
          {
           "alignmentgroup": "True",
           "customdata": [
            [
             90089
            ]
           ],
           "hoverlabel": {
            "namelength": 0
           },
           "hovertemplate": "State/Union territory=%{x}<br>Year=2003–04<br>GDP (in Crores)=%{customdata[0]}",
           "legendgroup": "State/Union territory=Punjab",
           "marker": {
            "color": "#EF553B"
           },
           "name": "State/Union territory=Punjab",
           "offsetgroup": "State/Union territory=Punjab",
           "orientation": "v",
           "showlegend": true,
           "textposition": "auto",
           "type": "bar",
           "x": [
            "Punjab"
           ],
           "xaxis": "x",
           "y": [
            90089
           ],
           "yaxis": "y"
          },
          {
           "alignmentgroup": "True",
           "customdata": [
            [
             111606
            ]
           ],
           "hoverlabel": {
            "namelength": 0
           },
           "hovertemplate": "State/Union territory=%{x}<br>Year=2003–04<br>GDP (in Crores)=%{customdata[0]}",
           "legendgroup": "State/Union territory=Rajasthan",
           "marker": {
            "color": "#00cc96"
           },
           "name": "State/Union territory=Rajasthan",
           "offsetgroup": "State/Union territory=Rajasthan",
           "orientation": "v",
           "showlegend": true,
           "textposition": "auto",
           "type": "bar",
           "x": [
            "Rajasthan"
           ],
           "xaxis": "x",
           "y": [
            111606
           ],
           "yaxis": "y"
          },
          {
           "alignmentgroup": "True",
           "customdata": [
            [
             1430
            ]
           ],
           "hoverlabel": {
            "namelength": 0
           },
           "hovertemplate": "State/Union territory=%{x}<br>Year=2003–04<br>GDP (in Crores)=%{customdata[0]}",
           "legendgroup": "State/Union territory=Sikkim",
           "marker": {
            "color": "#ab63fa"
           },
           "name": "State/Union territory=Sikkim",
           "offsetgroup": "State/Union territory=Sikkim",
           "orientation": "v",
           "showlegend": true,
           "textposition": "auto",
           "type": "bar",
           "x": [
            "Sikkim"
           ],
           "xaxis": "x",
           "y": [
            1430
           ],
           "yaxis": "y"
          },
          {
           "alignmentgroup": "True",
           "customdata": [
            [
             175371
            ]
           ],
           "hoverlabel": {
            "namelength": 0
           },
           "hovertemplate": "State/Union territory=%{x}<br>Year=2003–04<br>GDP (in Crores)=%{customdata[0]}",
           "legendgroup": "State/Union territory=Tamil Nadu",
           "marker": {
            "color": "#FFA15A"
           },
           "name": "State/Union territory=Tamil Nadu",
           "offsetgroup": "State/Union territory=Tamil Nadu",
           "orientation": "v",
           "showlegend": true,
           "textposition": "auto",
           "type": "bar",
           "x": [
            "Tamil Nadu"
           ],
           "xaxis": "x",
           "y": [
            175371
           ],
           "yaxis": "y"
          },
          {
           "alignmentgroup": "True",
           "customdata": [
            [
             7551
            ]
           ],
           "hoverlabel": {
            "namelength": 0
           },
           "hovertemplate": "State/Union territory=%{x}<br>Year=2003–04<br>GDP (in Crores)=%{customdata[0]}",
           "legendgroup": "State/Union territory=Tripura",
           "marker": {
            "color": "#19d3f3"
           },
           "name": "State/Union territory=Tripura",
           "offsetgroup": "State/Union territory=Tripura",
           "orientation": "v",
           "showlegend": true,
           "textposition": "auto",
           "type": "bar",
           "x": [
            "Tripura"
           ],
           "xaxis": "x",
           "y": [
            7551
           ],
           "yaxis": "y"
          },
          {
           "alignmentgroup": "True",
           "customdata": [
            [
             226972
            ]
           ],
           "hoverlabel": {
            "namelength": 0
           },
           "hovertemplate": "State/Union territory=%{x}<br>Year=2003–04<br>GDP (in Crores)=%{customdata[0]}",
           "legendgroup": "State/Union territory=Uttar Pradesh",
           "marker": {
            "color": "#FF6692"
           },
           "name": "State/Union territory=Uttar Pradesh",
           "offsetgroup": "State/Union territory=Uttar Pradesh",
           "orientation": "v",
           "showlegend": true,
           "textposition": "auto",
           "type": "bar",
           "x": [
            "Uttar Pradesh"
           ],
           "xaxis": "x",
           "y": [
            226972
           ],
           "yaxis": "y"
          },
          {
           "alignmentgroup": "True",
           "customdata": [
            [
             20439
            ]
           ],
           "hoverlabel": {
            "namelength": 0
           },
           "hovertemplate": "State/Union territory=%{x}<br>Year=2003–04<br>GDP (in Crores)=%{customdata[0]}",
           "legendgroup": "State/Union territory=Uttarakhand",
           "marker": {
            "color": "#B6E880"
           },
           "name": "State/Union territory=Uttarakhand",
           "offsetgroup": "State/Union territory=Uttarakhand",
           "orientation": "v",
           "showlegend": true,
           "textposition": "auto",
           "type": "bar",
           "x": [
            "Uttarakhand"
           ],
           "xaxis": "x",
           "y": [
            20439
           ],
           "yaxis": "y"
          },
          {
           "alignmentgroup": "True",
           "customdata": [
            [
             189259
            ]
           ],
           "hoverlabel": {
            "namelength": 0
           },
           "hovertemplate": "State/Union territory=%{x}<br>Year=2003–04<br>GDP (in Crores)=%{customdata[0]}",
           "legendgroup": "State/Union territory=West Bengal",
           "marker": {
            "color": "#FF97FF"
           },
           "name": "State/Union territory=West Bengal",
           "offsetgroup": "State/Union territory=West Bengal",
           "orientation": "v",
           "showlegend": true,
           "textposition": "auto",
           "type": "bar",
           "x": [
            "West Bengal"
           ],
           "xaxis": "x",
           "y": [
            189259
           ],
           "yaxis": "y"
          },
          {
           "alignmentgroup": "True",
           "customdata": [
            [
             1392
            ]
           ],
           "hoverlabel": {
            "namelength": 0
           },
           "hovertemplate": "State/Union territory=%{x}<br>Year=2003–04<br>GDP (in Crores)=%{customdata[0]}",
           "legendgroup": "State/Union territory=Andaman and Nicobar Islands",
           "marker": {
            "color": "#FECB52"
           },
           "name": "State/Union territory=Andaman and Nicobar Islands",
           "offsetgroup": "State/Union territory=Andaman and Nicobar Islands",
           "orientation": "v",
           "showlegend": true,
           "textposition": "auto",
           "type": "bar",
           "x": [
            "Andaman and Nicobar Islands"
           ],
           "xaxis": "x",
           "y": [
            1392
           ],
           "yaxis": "y"
          },
          {
           "alignmentgroup": "True",
           "customdata": [
            [
             7419
            ]
           ],
           "hoverlabel": {
            "namelength": 0
           },
           "hovertemplate": "State/Union territory=%{x}<br>Year=2003–04<br>GDP (in Crores)=%{customdata[0]}",
           "legendgroup": "State/Union territory=Chandigarh",
           "marker": {
            "color": "#636efa"
           },
           "name": "State/Union territory=Chandigarh",
           "offsetgroup": "State/Union territory=Chandigarh",
           "orientation": "v",
           "showlegend": true,
           "textposition": "auto",
           "type": "bar",
           "x": [
            "Chandigarh"
           ],
           "xaxis": "x",
           "y": [
            7419
           ],
           "yaxis": "y"
          },
          {
           "alignmentgroup": "True",
           "customdata": [
            [
             79468
            ]
           ],
           "hoverlabel": {
            "namelength": 0
           },
           "hovertemplate": "State/Union territory=%{x}<br>Year=2003–04<br>GDP (in Crores)=%{customdata[0]}",
           "legendgroup": "State/Union territory=Delhi",
           "marker": {
            "color": "#EF553B"
           },
           "name": "State/Union territory=Delhi",
           "offsetgroup": "State/Union territory=Delhi",
           "orientation": "v",
           "showlegend": true,
           "textposition": "auto",
           "type": "bar",
           "x": [
            "Delhi"
           ],
           "xaxis": "x",
           "y": [
            79468
           ],
           "yaxis": "y"
          },
          {
           "alignmentgroup": "True",
           "customdata": [
            [
             5438
            ]
           ],
           "hoverlabel": {
            "namelength": 0
           },
           "hovertemplate": "State/Union territory=%{x}<br>Year=2003–04<br>GDP (in Crores)=%{customdata[0]}",
           "legendgroup": "State/Union territory=Pudduchery",
           "marker": {
            "color": "#00cc96"
           },
           "name": "State/Union territory=Pudduchery",
           "offsetgroup": "State/Union territory=Pudduchery",
           "orientation": "v",
           "showlegend": true,
           "textposition": "auto",
           "type": "bar",
           "x": [
            "Pudduchery"
           ],
           "xaxis": "x",
           "y": [
            5438
           ],
           "yaxis": "y"
          }
         ],
         "name": "2003–04"
        },
        {
         "data": [
          {
           "alignmentgroup": "True",
           "customdata": [
            [
             2971464
            ]
           ],
           "hoverlabel": {
            "namelength": 0
           },
           "hovertemplate": "State/Union territory=%{x}<br>Year=2004–05<br>GDP (in Crores)=%{customdata[0]}",
           "legendgroup": "State/Union territory= India",
           "marker": {
            "color": "#636efa"
           },
           "name": "State/Union territory= India",
           "offsetgroup": "State/Union territory= India",
           "orientation": "v",
           "showlegend": true,
           "textposition": "auto",
           "type": "bar",
           "x": [
            " India"
           ],
           "xaxis": "x",
           "y": [
            2971464
           ],
           "yaxis": "y"
          },
          {
           "alignmentgroup": "True",
           "customdata": [
            [
             224713
            ]
           ],
           "hoverlabel": {
            "namelength": 0
           },
           "hovertemplate": "State/Union territory=%{x}<br>Year=2004–05<br>GDP (in Crores)=%{customdata[0]}",
           "legendgroup": "State/Union territory=Andhra Pradesh",
           "marker": {
            "color": "#EF553B"
           },
           "name": "State/Union territory=Andhra Pradesh",
           "offsetgroup": "State/Union territory=Andhra Pradesh",
           "orientation": "v",
           "showlegend": true,
           "textposition": "auto",
           "type": "bar",
           "x": [
            "Andhra Pradesh"
           ],
           "xaxis": "x",
           "y": [
            224713
           ],
           "yaxis": "y"
          },
          {
           "alignmentgroup": "True",
           "customdata": [
            [
             3488
            ]
           ],
           "hoverlabel": {
            "namelength": 0
           },
           "hovertemplate": "State/Union territory=%{x}<br>Year=2004–05<br>GDP (in Crores)=%{customdata[0]}",
           "legendgroup": "State/Union territory=Arunachal Pradesh",
           "marker": {
            "color": "#00cc96"
           },
           "name": "State/Union territory=Arunachal Pradesh",
           "offsetgroup": "State/Union territory=Arunachal Pradesh",
           "orientation": "v",
           "showlegend": true,
           "textposition": "auto",
           "type": "bar",
           "x": [
            "Arunachal Pradesh"
           ],
           "xaxis": "x",
           "y": [
            3488
           ],
           "yaxis": "y"
          },
          {
           "alignmentgroup": "True",
           "customdata": [
            [
             53398
            ]
           ],
           "hoverlabel": {
            "namelength": 0
           },
           "hovertemplate": "State/Union territory=%{x}<br>Year=2004–05<br>GDP (in Crores)=%{customdata[0]}",
           "legendgroup": "State/Union territory=Assam",
           "marker": {
            "color": "#ab63fa"
           },
           "name": "State/Union territory=Assam",
           "offsetgroup": "State/Union territory=Assam",
           "orientation": "v",
           "showlegend": true,
           "textposition": "auto",
           "type": "bar",
           "x": [
            "Assam"
           ],
           "xaxis": "x",
           "y": [
            53398
           ],
           "yaxis": "y"
          },
          {
           "alignmentgroup": "True",
           "customdata": [
            [
             77781
            ]
           ],
           "hoverlabel": {
            "namelength": 0
           },
           "hovertemplate": "State/Union territory=%{x}<br>Year=2004–05<br>GDP (in Crores)=%{customdata[0]}",
           "legendgroup": "State/Union territory=Bihar",
           "marker": {
            "color": "#FFA15A"
           },
           "name": "State/Union territory=Bihar",
           "offsetgroup": "State/Union territory=Bihar",
           "orientation": "v",
           "showlegend": true,
           "textposition": "auto",
           "type": "bar",
           "x": [
            "Bihar"
           ],
           "xaxis": "x",
           "y": [
            77781
           ],
           "yaxis": "y"
          },
          {
           "alignmentgroup": "True",
           "customdata": [
            [
             47862
            ]
           ],
           "hoverlabel": {
            "namelength": 0
           },
           "hovertemplate": "State/Union territory=%{x}<br>Year=2004–05<br>GDP (in Crores)=%{customdata[0]}",
           "legendgroup": "State/Union territory=Chhattisgarh",
           "marker": {
            "color": "#19d3f3"
           },
           "name": "State/Union territory=Chhattisgarh",
           "offsetgroup": "State/Union territory=Chhattisgarh",
           "orientation": "v",
           "showlegend": true,
           "textposition": "auto",
           "type": "bar",
           "x": [
            "Chhattisgarh"
           ],
           "xaxis": "x",
           "y": [
            47862
           ],
           "yaxis": "y"
          },
          {
           "alignmentgroup": "True",
           "customdata": [
            [
             12713
            ]
           ],
           "hoverlabel": {
            "namelength": 0
           },
           "hovertemplate": "State/Union territory=%{x}<br>Year=2004–05<br>GDP (in Crores)=%{customdata[0]}",
           "legendgroup": "State/Union territory=Goa",
           "marker": {
            "color": "#FF6692"
           },
           "name": "State/Union territory=Goa",
           "offsetgroup": "State/Union territory=Goa",
           "orientation": "v",
           "showlegend": true,
           "textposition": "auto",
           "type": "bar",
           "x": [
            "Goa"
           ],
           "xaxis": "x",
           "y": [
            12713
           ],
           "yaxis": "y"
          },
          {
           "alignmentgroup": "True",
           "customdata": [
            [
             203373
            ]
           ],
           "hoverlabel": {
            "namelength": 0
           },
           "hovertemplate": "State/Union territory=%{x}<br>Year=2004–05<br>GDP (in Crores)=%{customdata[0]}",
           "legendgroup": "State/Union territory=Gujarat",
           "marker": {
            "color": "#B6E880"
           },
           "name": "State/Union territory=Gujarat",
           "offsetgroup": "State/Union territory=Gujarat",
           "orientation": "v",
           "showlegend": true,
           "textposition": "auto",
           "type": "bar",
           "x": [
            "Gujarat"
           ],
           "xaxis": "x",
           "y": [
            203373
           ],
           "yaxis": "y"
          },
          {
           "alignmentgroup": "True",
           "customdata": [
            [
             95795
            ]
           ],
           "hoverlabel": {
            "namelength": 0
           },
           "hovertemplate": "State/Union territory=%{x}<br>Year=2004–05<br>GDP (in Crores)=%{customdata[0]}",
           "legendgroup": "State/Union territory=Haryana",
           "marker": {
            "color": "#FF97FF"
           },
           "name": "State/Union territory=Haryana",
           "offsetgroup": "State/Union territory=Haryana",
           "orientation": "v",
           "showlegend": true,
           "textposition": "auto",
           "type": "bar",
           "x": [
            "Haryana"
           ],
           "xaxis": "x",
           "y": [
            95795
           ],
           "yaxis": "y"
          },
          {
           "alignmentgroup": "True",
           "customdata": [
            [
             24077
            ]
           ],
           "hoverlabel": {
            "namelength": 0
           },
           "hovertemplate": "State/Union territory=%{x}<br>Year=2004–05<br>GDP (in Crores)=%{customdata[0]}",
           "legendgroup": "State/Union territory=Himachal Pradesh",
           "marker": {
            "color": "#FECB52"
           },
           "name": "State/Union territory=Himachal Pradesh",
           "offsetgroup": "State/Union territory=Himachal Pradesh",
           "orientation": "v",
           "showlegend": true,
           "textposition": "auto",
           "type": "bar",
           "x": [
            "Himachal Pradesh"
           ],
           "xaxis": "x",
           "y": [
            24077
           ],
           "yaxis": "y"
          },
          {
           "alignmentgroup": "True",
           "customdata": [
            [
             27305
            ]
           ],
           "hoverlabel": {
            "namelength": 0
           },
           "hovertemplate": "State/Union territory=%{x}<br>Year=2004–05<br>GDP (in Crores)=%{customdata[0]}",
           "legendgroup": "State/Union territory=Jammu and Kashmir",
           "marker": {
            "color": "#636efa"
           },
           "name": "State/Union territory=Jammu and Kashmir",
           "offsetgroup": "State/Union territory=Jammu and Kashmir",
           "orientation": "v",
           "showlegend": true,
           "textposition": "auto",
           "type": "bar",
           "x": [
            "Jammu and Kashmir"
           ],
           "xaxis": "x",
           "y": [
            27305
           ],
           "yaxis": "y"
          },
          {
           "alignmentgroup": "True",
           "customdata": [
            [
             59758
            ]
           ],
           "hoverlabel": {
            "namelength": 0
           },
           "hovertemplate": "State/Union territory=%{x}<br>Year=2004–05<br>GDP (in Crores)=%{customdata[0]}",
           "legendgroup": "State/Union territory=Jharkhand",
           "marker": {
            "color": "#EF553B"
           },
           "name": "State/Union territory=Jharkhand",
           "offsetgroup": "State/Union territory=Jharkhand",
           "orientation": "v",
           "showlegend": true,
           "textposition": "auto",
           "type": "bar",
           "x": [
            "Jharkhand"
           ],
           "xaxis": "x",
           "y": [
            59758
           ],
           "yaxis": "y"
          },
          {
           "alignmentgroup": "True",
           "customdata": [
            [
             166747
            ]
           ],
           "hoverlabel": {
            "namelength": 0
           },
           "hovertemplate": "State/Union territory=%{x}<br>Year=2004–05<br>GDP (in Crores)=%{customdata[0]}",
           "legendgroup": "State/Union territory=Karnataka",
           "marker": {
            "color": "#00cc96"
           },
           "name": "State/Union territory=Karnataka",
           "offsetgroup": "State/Union territory=Karnataka",
           "orientation": "v",
           "showlegend": true,
           "textposition": "auto",
           "type": "bar",
           "x": [
            "Karnataka"
           ],
           "xaxis": "x",
           "y": [
            166747
           ],
           "yaxis": "y"
          },
          {
           "alignmentgroup": "True",
           "customdata": [
            [
             119264
            ]
           ],
           "hoverlabel": {
            "namelength": 0
           },
           "hovertemplate": "State/Union territory=%{x}<br>Year=2004–05<br>GDP (in Crores)=%{customdata[0]}",
           "legendgroup": "State/Union territory=Kerala",
           "marker": {
            "color": "#ab63fa"
           },
           "name": "State/Union territory=Kerala",
           "offsetgroup": "State/Union territory=Kerala",
           "orientation": "v",
           "showlegend": true,
           "textposition": "auto",
           "type": "bar",
           "x": [
            "Kerala"
           ],
           "xaxis": "x",
           "y": [
            119264
           ],
           "yaxis": "y"
          },
          {
           "alignmentgroup": "True",
           "customdata": [
            [
             112927
            ]
           ],
           "hoverlabel": {
            "namelength": 0
           },
           "hovertemplate": "State/Union territory=%{x}<br>Year=2004–05<br>GDP (in Crores)=%{customdata[0]}",
           "legendgroup": "State/Union territory=Madhya Pradesh",
           "marker": {
            "color": "#FFA15A"
           },
           "name": "State/Union territory=Madhya Pradesh",
           "offsetgroup": "State/Union territory=Madhya Pradesh",
           "orientation": "v",
           "showlegend": true,
           "textposition": "auto",
           "type": "bar",
           "x": [
            "Madhya Pradesh"
           ],
           "xaxis": "x",
           "y": [
            112927
           ],
           "yaxis": "y"
          },
          {
           "alignmentgroup": "True",
           "customdata": [
            [
             415480
            ]
           ],
           "hoverlabel": {
            "namelength": 0
           },
           "hovertemplate": "State/Union territory=%{x}<br>Year=2004–05<br>GDP (in Crores)=%{customdata[0]}",
           "legendgroup": "State/Union territory=Maharashtra",
           "marker": {
            "color": "#19d3f3"
           },
           "name": "State/Union territory=Maharashtra",
           "offsetgroup": "State/Union territory=Maharashtra",
           "orientation": "v",
           "showlegend": true,
           "textposition": "auto",
           "type": "bar",
           "x": [
            "Maharashtra"
           ],
           "xaxis": "x",
           "y": [
            415480
           ],
           "yaxis": "y"
          },
          {
           "alignmentgroup": "True",
           "customdata": [
            [
             5133
            ]
           ],
           "hoverlabel": {
            "namelength": 0
           },
           "hovertemplate": "State/Union territory=%{x}<br>Year=2004–05<br>GDP (in Crores)=%{customdata[0]}",
           "legendgroup": "State/Union territory=Manipur",
           "marker": {
            "color": "#FF6692"
           },
           "name": "State/Union territory=Manipur",
           "offsetgroup": "State/Union territory=Manipur",
           "orientation": "v",
           "showlegend": true,
           "textposition": "auto",
           "type": "bar",
           "x": [
            "Manipur"
           ],
           "xaxis": "x",
           "y": [
            5133
           ],
           "yaxis": "y"
          },
          {
           "alignmentgroup": "True",
           "customdata": [
            [
             6559
            ]
           ],
           "hoverlabel": {
            "namelength": 0
           },
           "hovertemplate": "State/Union territory=%{x}<br>Year=2004–05<br>GDP (in Crores)=%{customdata[0]}",
           "legendgroup": "State/Union territory=Meghalaya",
           "marker": {
            "color": "#B6E880"
           },
           "name": "State/Union territory=Meghalaya",
           "offsetgroup": "State/Union territory=Meghalaya",
           "orientation": "v",
           "showlegend": true,
           "textposition": "auto",
           "type": "bar",
           "x": [
            "Meghalaya"
           ],
           "xaxis": "x",
           "y": [
            6559
           ],
           "yaxis": "y"
          },
          {
           "alignmentgroup": "True",
           "customdata": [
            [
             2682
            ]
           ],
           "hoverlabel": {
            "namelength": 0
           },
           "hovertemplate": "State/Union territory=%{x}<br>Year=2004–05<br>GDP (in Crores)=%{customdata[0]}",
           "legendgroup": "State/Union territory=Mizoram",
           "marker": {
            "color": "#FF97FF"
           },
           "name": "State/Union territory=Mizoram",
           "offsetgroup": "State/Union territory=Mizoram",
           "orientation": "v",
           "showlegend": true,
           "textposition": "auto",
           "type": "bar",
           "x": [
            "Mizoram"
           ],
           "xaxis": "x",
           "y": [
            2682
           ],
           "yaxis": "y"
          },
          {
           "alignmentgroup": "True",
           "customdata": [
            [
             5839
            ]
           ],
           "hoverlabel": {
            "namelength": 0
           },
           "hovertemplate": "State/Union territory=%{x}<br>Year=2004–05<br>GDP (in Crores)=%{customdata[0]}",
           "legendgroup": "State/Union territory=Nagaland",
           "marker": {
            "color": "#FECB52"
           },
           "name": "State/Union territory=Nagaland",
           "offsetgroup": "State/Union territory=Nagaland",
           "orientation": "v",
           "showlegend": true,
           "textposition": "auto",
           "type": "bar",
           "x": [
            "Nagaland"
           ],
           "xaxis": "x",
           "y": [
            5839
           ],
           "yaxis": "y"
          },
          {
           "alignmentgroup": "True",
           "customdata": [
            [
             77729
            ]
           ],
           "hoverlabel": {
            "namelength": 0
           },
           "hovertemplate": "State/Union territory=%{x}<br>Year=2004–05<br>GDP (in Crores)=%{customdata[0]}",
           "legendgroup": "State/Union territory=Odisha",
           "marker": {
            "color": "#636efa"
           },
           "name": "State/Union territory=Odisha",
           "offsetgroup": "State/Union territory=Odisha",
           "orientation": "v",
           "showlegend": true,
           "textposition": "auto",
           "type": "bar",
           "x": [
            "Odisha"
           ],
           "xaxis": "x",
           "y": [
            77729
           ],
           "yaxis": "y"
          },
          {
           "alignmentgroup": "True",
           "customdata": [
            [
             96839
            ]
           ],
           "hoverlabel": {
            "namelength": 0
           },
           "hovertemplate": "State/Union territory=%{x}<br>Year=2004–05<br>GDP (in Crores)=%{customdata[0]}",
           "legendgroup": "State/Union territory=Punjab",
           "marker": {
            "color": "#EF553B"
           },
           "name": "State/Union territory=Punjab",
           "offsetgroup": "State/Union territory=Punjab",
           "orientation": "v",
           "showlegend": true,
           "textposition": "auto",
           "type": "bar",
           "x": [
            "Punjab"
           ],
           "xaxis": "x",
           "y": [
            96839
           ],
           "yaxis": "y"
          },
          {
           "alignmentgroup": "True",
           "customdata": [
            [
             127746
            ]
           ],
           "hoverlabel": {
            "namelength": 0
           },
           "hovertemplate": "State/Union territory=%{x}<br>Year=2004–05<br>GDP (in Crores)=%{customdata[0]}",
           "legendgroup": "State/Union territory=Rajasthan",
           "marker": {
            "color": "#00cc96"
           },
           "name": "State/Union territory=Rajasthan",
           "offsetgroup": "State/Union territory=Rajasthan",
           "orientation": "v",
           "showlegend": true,
           "textposition": "auto",
           "type": "bar",
           "x": [
            "Rajasthan"
           ],
           "xaxis": "x",
           "y": [
            127746
           ],
           "yaxis": "y"
          },
          {
           "alignmentgroup": "True",
           "customdata": [
            [
             1739
            ]
           ],
           "hoverlabel": {
            "namelength": 0
           },
           "hovertemplate": "State/Union territory=%{x}<br>Year=2004–05<br>GDP (in Crores)=%{customdata[0]}",
           "legendgroup": "State/Union territory=Sikkim",
           "marker": {
            "color": "#ab63fa"
           },
           "name": "State/Union territory=Sikkim",
           "offsetgroup": "State/Union territory=Sikkim",
           "orientation": "v",
           "showlegend": true,
           "textposition": "auto",
           "type": "bar",
           "x": [
            "Sikkim"
           ],
           "xaxis": "x",
           "y": [
            1739
           ],
           "yaxis": "y"
          },
          {
           "alignmentgroup": "True",
           "customdata": [
            [
             219003
            ]
           ],
           "hoverlabel": {
            "namelength": 0
           },
           "hovertemplate": "State/Union territory=%{x}<br>Year=2004–05<br>GDP (in Crores)=%{customdata[0]}",
           "legendgroup": "State/Union territory=Tamil Nadu",
           "marker": {
            "color": "#FFA15A"
           },
           "name": "State/Union territory=Tamil Nadu",
           "offsetgroup": "State/Union territory=Tamil Nadu",
           "orientation": "v",
           "showlegend": true,
           "textposition": "auto",
           "type": "bar",
           "x": [
            "Tamil Nadu"
           ],
           "xaxis": "x",
           "y": [
            219003
           ],
           "yaxis": "y"
          },
          {
           "alignmentgroup": "True",
           "customdata": [
            [
             8904
            ]
           ],
           "hoverlabel": {
            "namelength": 0
           },
           "hovertemplate": "State/Union territory=%{x}<br>Year=2004–05<br>GDP (in Crores)=%{customdata[0]}",
           "legendgroup": "State/Union territory=Tripura",
           "marker": {
            "color": "#19d3f3"
           },
           "name": "State/Union territory=Tripura",
           "offsetgroup": "State/Union territory=Tripura",
           "orientation": "v",
           "showlegend": true,
           "textposition": "auto",
           "type": "bar",
           "x": [
            "Tripura"
           ],
           "xaxis": "x",
           "y": [
            8904
           ],
           "yaxis": "y"
          },
          {
           "alignmentgroup": "True",
           "customdata": [
            [
             260841
            ]
           ],
           "hoverlabel": {
            "namelength": 0
           },
           "hovertemplate": "State/Union territory=%{x}<br>Year=2004–05<br>GDP (in Crores)=%{customdata[0]}",
           "legendgroup": "State/Union territory=Uttar Pradesh",
           "marker": {
            "color": "#FF6692"
           },
           "name": "State/Union territory=Uttar Pradesh",
           "offsetgroup": "State/Union territory=Uttar Pradesh",
           "orientation": "v",
           "showlegend": true,
           "textposition": "auto",
           "type": "bar",
           "x": [
            "Uttar Pradesh"
           ],
           "xaxis": "x",
           "y": [
            260841
           ],
           "yaxis": "y"
          },
          {
           "alignmentgroup": "True",
           "customdata": [
            [
             24786
            ]
           ],
           "hoverlabel": {
            "namelength": 0
           },
           "hovertemplate": "State/Union territory=%{x}<br>Year=2004–05<br>GDP (in Crores)=%{customdata[0]}",
           "legendgroup": "State/Union territory=Uttarakhand",
           "marker": {
            "color": "#B6E880"
           },
           "name": "State/Union territory=Uttarakhand",
           "offsetgroup": "State/Union territory=Uttarakhand",
           "orientation": "v",
           "showlegend": true,
           "textposition": "auto",
           "type": "bar",
           "x": [
            "Uttarakhand"
           ],
           "xaxis": "x",
           "y": [
            24786
           ],
           "yaxis": "y"
          },
          {
           "alignmentgroup": "True",
           "customdata": [
            [
             208656
            ]
           ],
           "hoverlabel": {
            "namelength": 0
           },
           "hovertemplate": "State/Union territory=%{x}<br>Year=2004–05<br>GDP (in Crores)=%{customdata[0]}",
           "legendgroup": "State/Union territory=West Bengal",
           "marker": {
            "color": "#FF97FF"
           },
           "name": "State/Union territory=West Bengal",
           "offsetgroup": "State/Union territory=West Bengal",
           "orientation": "v",
           "showlegend": true,
           "textposition": "auto",
           "type": "bar",
           "x": [
            "West Bengal"
           ],
           "xaxis": "x",
           "y": [
            208656
           ],
           "yaxis": "y"
          },
          {
           "alignmentgroup": "True",
           "customdata": [
            [
             1813
            ]
           ],
           "hoverlabel": {
            "namelength": 0
           },
           "hovertemplate": "State/Union territory=%{x}<br>Year=2004–05<br>GDP (in Crores)=%{customdata[0]}",
           "legendgroup": "State/Union territory=Andaman and Nicobar Islands",
           "marker": {
            "color": "#FECB52"
           },
           "name": "State/Union territory=Andaman and Nicobar Islands",
           "offsetgroup": "State/Union territory=Andaman and Nicobar Islands",
           "orientation": "v",
           "showlegend": true,
           "textposition": "auto",
           "type": "bar",
           "x": [
            "Andaman and Nicobar Islands"
           ],
           "xaxis": "x",
           "y": [
            1813
           ],
           "yaxis": "y"
          },
          {
           "alignmentgroup": "True",
           "customdata": [
            [
             8504
            ]
           ],
           "hoverlabel": {
            "namelength": 0
           },
           "hovertemplate": "State/Union territory=%{x}<br>Year=2004–05<br>GDP (in Crores)=%{customdata[0]}",
           "legendgroup": "State/Union territory=Chandigarh",
           "marker": {
            "color": "#636efa"
           },
           "name": "State/Union territory=Chandigarh",
           "offsetgroup": "State/Union territory=Chandigarh",
           "orientation": "v",
           "showlegend": true,
           "textposition": "auto",
           "type": "bar",
           "x": [
            "Chandigarh"
           ],
           "xaxis": "x",
           "y": [
            8504
           ],
           "yaxis": "y"
          },
          {
           "alignmentgroup": "True",
           "customdata": [
            [
             100325
            ]
           ],
           "hoverlabel": {
            "namelength": 0
           },
           "hovertemplate": "State/Union territory=%{x}<br>Year=2004–05<br>GDP (in Crores)=%{customdata[0]}",
           "legendgroup": "State/Union territory=Delhi",
           "marker": {
            "color": "#EF553B"
           },
           "name": "State/Union territory=Delhi",
           "offsetgroup": "State/Union territory=Delhi",
           "orientation": "v",
           "showlegend": true,
           "textposition": "auto",
           "type": "bar",
           "x": [
            "Delhi"
           ],
           "xaxis": "x",
           "y": [
            100325
           ],
           "yaxis": "y"
          },
          {
           "alignmentgroup": "True",
           "customdata": [
            [
             5754
            ]
           ],
           "hoverlabel": {
            "namelength": 0
           },
           "hovertemplate": "State/Union territory=%{x}<br>Year=2004–05<br>GDP (in Crores)=%{customdata[0]}",
           "legendgroup": "State/Union territory=Pudduchery",
           "marker": {
            "color": "#00cc96"
           },
           "name": "State/Union territory=Pudduchery",
           "offsetgroup": "State/Union territory=Pudduchery",
           "orientation": "v",
           "showlegend": true,
           "textposition": "auto",
           "type": "bar",
           "x": [
            "Pudduchery"
           ],
           "xaxis": "x",
           "y": [
            5754
           ],
           "yaxis": "y"
          }
         ],
         "name": "2004–05"
        },
        {
         "data": [
          {
           "alignmentgroup": "True",
           "customdata": [
            [
             3390503
            ]
           ],
           "hoverlabel": {
            "namelength": 0
           },
           "hovertemplate": "State/Union territory=%{x}<br>Year=2005–06<br>GDP (in Crores)=%{customdata[0]}",
           "legendgroup": "State/Union territory= India",
           "marker": {
            "color": "#636efa"
           },
           "name": "State/Union territory= India",
           "offsetgroup": "State/Union territory= India",
           "orientation": "v",
           "showlegend": true,
           "textposition": "auto",
           "type": "bar",
           "x": [
            " India"
           ],
           "xaxis": "x",
           "y": [
            3390503
           ],
           "yaxis": "y"
          },
          {
           "alignmentgroup": "True",
           "customdata": [
            [
             255941
            ]
           ],
           "hoverlabel": {
            "namelength": 0
           },
           "hovertemplate": "State/Union territory=%{x}<br>Year=2005–06<br>GDP (in Crores)=%{customdata[0]}",
           "legendgroup": "State/Union territory=Andhra Pradesh",
           "marker": {
            "color": "#EF553B"
           },
           "name": "State/Union territory=Andhra Pradesh",
           "offsetgroup": "State/Union territory=Andhra Pradesh",
           "orientation": "v",
           "showlegend": true,
           "textposition": "auto",
           "type": "bar",
           "x": [
            "Andhra Pradesh"
           ],
           "xaxis": "x",
           "y": [
            255941
           ],
           "yaxis": "y"
          },
          {
           "alignmentgroup": "True",
           "customdata": [
            [
             3755
            ]
           ],
           "hoverlabel": {
            "namelength": 0
           },
           "hovertemplate": "State/Union territory=%{x}<br>Year=2005–06<br>GDP (in Crores)=%{customdata[0]}",
           "legendgroup": "State/Union territory=Arunachal Pradesh",
           "marker": {
            "color": "#00cc96"
           },
           "name": "State/Union territory=Arunachal Pradesh",
           "offsetgroup": "State/Union territory=Arunachal Pradesh",
           "orientation": "v",
           "showlegend": true,
           "textposition": "auto",
           "type": "bar",
           "x": [
            "Arunachal Pradesh"
           ],
           "xaxis": "x",
           "y": [
            3755
           ],
           "yaxis": "y"
          },
          {
           "alignmentgroup": "True",
           "customdata": [
            [
             59385
            ]
           ],
           "hoverlabel": {
            "namelength": 0
           },
           "hovertemplate": "State/Union territory=%{x}<br>Year=2005–06<br>GDP (in Crores)=%{customdata[0]}",
           "legendgroup": "State/Union territory=Assam",
           "marker": {
            "color": "#ab63fa"
           },
           "name": "State/Union territory=Assam",
           "offsetgroup": "State/Union territory=Assam",
           "orientation": "v",
           "showlegend": true,
           "textposition": "auto",
           "type": "bar",
           "x": [
            "Assam"
           ],
           "xaxis": "x",
           "y": [
            59385
           ],
           "yaxis": "y"
          },
          {
           "alignmentgroup": "True",
           "customdata": [
            [
             82490
            ]
           ],
           "hoverlabel": {
            "namelength": 0
           },
           "hovertemplate": "State/Union territory=%{x}<br>Year=2005–06<br>GDP (in Crores)=%{customdata[0]}",
           "legendgroup": "State/Union territory=Bihar",
           "marker": {
            "color": "#FFA15A"
           },
           "name": "State/Union territory=Bihar",
           "offsetgroup": "State/Union territory=Bihar",
           "orientation": "v",
           "showlegend": true,
           "textposition": "auto",
           "type": "bar",
           "x": [
            "Bihar"
           ],
           "xaxis": "x",
           "y": [
            82490
           ],
           "yaxis": "y"
          },
          {
           "alignmentgroup": "True",
           "customdata": [
            [
             53381
            ]
           ],
           "hoverlabel": {
            "namelength": 0
           },
           "hovertemplate": "State/Union territory=%{x}<br>Year=2005–06<br>GDP (in Crores)=%{customdata[0]}",
           "legendgroup": "State/Union territory=Chhattisgarh",
           "marker": {
            "color": "#19d3f3"
           },
           "name": "State/Union territory=Chhattisgarh",
           "offsetgroup": "State/Union territory=Chhattisgarh",
           "orientation": "v",
           "showlegend": true,
           "textposition": "auto",
           "type": "bar",
           "x": [
            "Chhattisgarh"
           ],
           "xaxis": "x",
           "y": [
            53381
           ],
           "yaxis": "y"
          },
          {
           "alignmentgroup": "True",
           "customdata": [
            [
             14327
            ]
           ],
           "hoverlabel": {
            "namelength": 0
           },
           "hovertemplate": "State/Union territory=%{x}<br>Year=2005–06<br>GDP (in Crores)=%{customdata[0]}",
           "legendgroup": "State/Union territory=Goa",
           "marker": {
            "color": "#FF6692"
           },
           "name": "State/Union territory=Goa",
           "offsetgroup": "State/Union territory=Goa",
           "orientation": "v",
           "showlegend": true,
           "textposition": "auto",
           "type": "bar",
           "x": [
            "Goa"
           ],
           "xaxis": "x",
           "y": [
            14327
           ],
           "yaxis": "y"
          },
          {
           "alignmentgroup": "True",
           "customdata": [
            [
             244736
            ]
           ],
           "hoverlabel": {
            "namelength": 0
           },
           "hovertemplate": "State/Union territory=%{x}<br>Year=2005–06<br>GDP (in Crores)=%{customdata[0]}",
           "legendgroup": "State/Union territory=Gujarat",
           "marker": {
            "color": "#B6E880"
           },
           "name": "State/Union territory=Gujarat",
           "offsetgroup": "State/Union territory=Gujarat",
           "orientation": "v",
           "showlegend": true,
           "textposition": "auto",
           "type": "bar",
           "x": [
            "Gujarat"
           ],
           "xaxis": "x",
           "y": [
            244736
           ],
           "yaxis": "y"
          },
          {
           "alignmentgroup": "True",
           "customdata": [
            [
             108885
            ]
           ],
           "hoverlabel": {
            "namelength": 0
           },
           "hovertemplate": "State/Union territory=%{x}<br>Year=2005–06<br>GDP (in Crores)=%{customdata[0]}",
           "legendgroup": "State/Union territory=Haryana",
           "marker": {
            "color": "#FF97FF"
           },
           "name": "State/Union territory=Haryana",
           "offsetgroup": "State/Union territory=Haryana",
           "orientation": "v",
           "showlegend": true,
           "textposition": "auto",
           "type": "bar",
           "x": [
            "Haryana"
           ],
           "xaxis": "x",
           "y": [
            108885
           ],
           "yaxis": "y"
          },
          {
           "alignmentgroup": "True",
           "customdata": [
            [
             27127
            ]
           ],
           "hoverlabel": {
            "namelength": 0
           },
           "hovertemplate": "State/Union territory=%{x}<br>Year=2005–06<br>GDP (in Crores)=%{customdata[0]}",
           "legendgroup": "State/Union territory=Himachal Pradesh",
           "marker": {
            "color": "#FECB52"
           },
           "name": "State/Union territory=Himachal Pradesh",
           "offsetgroup": "State/Union territory=Himachal Pradesh",
           "orientation": "v",
           "showlegend": true,
           "textposition": "auto",
           "type": "bar",
           "x": [
            "Himachal Pradesh"
           ],
           "xaxis": "x",
           "y": [
            27127
           ],
           "yaxis": "y"
          },
          {
           "alignmentgroup": "True",
           "customdata": [
            [
             29920
            ]
           ],
           "hoverlabel": {
            "namelength": 0
           },
           "hovertemplate": "State/Union territory=%{x}<br>Year=2005–06<br>GDP (in Crores)=%{customdata[0]}",
           "legendgroup": "State/Union territory=Jammu and Kashmir",
           "marker": {
            "color": "#636efa"
           },
           "name": "State/Union territory=Jammu and Kashmir",
           "offsetgroup": "State/Union territory=Jammu and Kashmir",
           "orientation": "v",
           "showlegend": true,
           "textposition": "auto",
           "type": "bar",
           "x": [
            "Jammu and Kashmir"
           ],
           "xaxis": "x",
           "y": [
            29920
           ],
           "yaxis": "y"
          },
          {
           "alignmentgroup": "True",
           "customdata": [
            [
             60901
            ]
           ],
           "hoverlabel": {
            "namelength": 0
           },
           "hovertemplate": "State/Union territory=%{x}<br>Year=2005–06<br>GDP (in Crores)=%{customdata[0]}",
           "legendgroup": "State/Union territory=Jharkhand",
           "marker": {
            "color": "#EF553B"
           },
           "name": "State/Union territory=Jharkhand",
           "offsetgroup": "State/Union territory=Jharkhand",
           "orientation": "v",
           "showlegend": true,
           "textposition": "auto",
           "type": "bar",
           "x": [
            "Jharkhand"
           ],
           "xaxis": "x",
           "y": [
            60901
           ],
           "yaxis": "y"
          },
          {
           "alignmentgroup": "True",
           "customdata": [
            [
             195904
            ]
           ],
           "hoverlabel": {
            "namelength": 0
           },
           "hovertemplate": "State/Union territory=%{x}<br>Year=2005–06<br>GDP (in Crores)=%{customdata[0]}",
           "legendgroup": "State/Union territory=Karnataka",
           "marker": {
            "color": "#00cc96"
           },
           "name": "State/Union territory=Karnataka",
           "offsetgroup": "State/Union territory=Karnataka",
           "orientation": "v",
           "showlegend": true,
           "textposition": "auto",
           "type": "bar",
           "x": [
            "Karnataka"
           ],
           "xaxis": "x",
           "y": [
            195904
           ],
           "yaxis": "y"
          },
          {
           "alignmentgroup": "True",
           "customdata": [
            [
             136842
            ]
           ],
           "hoverlabel": {
            "namelength": 0
           },
           "hovertemplate": "State/Union territory=%{x}<br>Year=2005–06<br>GDP (in Crores)=%{customdata[0]}",
           "legendgroup": "State/Union territory=Kerala",
           "marker": {
            "color": "#ab63fa"
           },
           "name": "State/Union territory=Kerala",
           "offsetgroup": "State/Union territory=Kerala",
           "orientation": "v",
           "showlegend": true,
           "textposition": "auto",
           "type": "bar",
           "x": [
            "Kerala"
           ],
           "xaxis": "x",
           "y": [
            136842
           ],
           "yaxis": "y"
          },
          {
           "alignmentgroup": "True",
           "customdata": [
            [
             124276
            ]
           ],
           "hoverlabel": {
            "namelength": 0
           },
           "hovertemplate": "State/Union territory=%{x}<br>Year=2005–06<br>GDP (in Crores)=%{customdata[0]}",
           "legendgroup": "State/Union territory=Madhya Pradesh",
           "marker": {
            "color": "#FFA15A"
           },
           "name": "State/Union territory=Madhya Pradesh",
           "offsetgroup": "State/Union territory=Madhya Pradesh",
           "orientation": "v",
           "showlegend": true,
           "textposition": "auto",
           "type": "bar",
           "x": [
            "Madhya Pradesh"
           ],
           "xaxis": "x",
           "y": [
            124276
           ],
           "yaxis": "y"
          },
          {
           "alignmentgroup": "True",
           "customdata": [
            [
             486766
            ]
           ],
           "hoverlabel": {
            "namelength": 0
           },
           "hovertemplate": "State/Union territory=%{x}<br>Year=2005–06<br>GDP (in Crores)=%{customdata[0]}",
           "legendgroup": "State/Union territory=Maharashtra",
           "marker": {
            "color": "#19d3f3"
           },
           "name": "State/Union territory=Maharashtra",
           "offsetgroup": "State/Union territory=Maharashtra",
           "orientation": "v",
           "showlegend": true,
           "textposition": "auto",
           "type": "bar",
           "x": [
            "Maharashtra"
           ],
           "xaxis": "x",
           "y": [
            486766
           ],
           "yaxis": "y"
          },
          {
           "alignmentgroup": "True",
           "customdata": [
            [
             5718
            ]
           ],
           "hoverlabel": {
            "namelength": 0
           },
           "hovertemplate": "State/Union territory=%{x}<br>Year=2005–06<br>GDP (in Crores)=%{customdata[0]}",
           "legendgroup": "State/Union territory=Manipur",
           "marker": {
            "color": "#FF6692"
           },
           "name": "State/Union territory=Manipur",
           "offsetgroup": "State/Union territory=Manipur",
           "orientation": "v",
           "showlegend": true,
           "textposition": "auto",
           "type": "bar",
           "x": [
            "Manipur"
           ],
           "xaxis": "x",
           "y": [
            5718
           ],
           "yaxis": "y"
          },
          {
           "alignmentgroup": "True",
           "customdata": [
            [
             7265
            ]
           ],
           "hoverlabel": {
            "namelength": 0
           },
           "hovertemplate": "State/Union territory=%{x}<br>Year=2005–06<br>GDP (in Crores)=%{customdata[0]}",
           "legendgroup": "State/Union territory=Meghalaya",
           "marker": {
            "color": "#B6E880"
           },
           "name": "State/Union territory=Meghalaya",
           "offsetgroup": "State/Union territory=Meghalaya",
           "orientation": "v",
           "showlegend": true,
           "textposition": "auto",
           "type": "bar",
           "x": [
            "Meghalaya"
           ],
           "xaxis": "x",
           "y": [
            7265
           ],
           "yaxis": "y"
          },
          {
           "alignmentgroup": "True",
           "customdata": [
            [
             2971
            ]
           ],
           "hoverlabel": {
            "namelength": 0
           },
           "hovertemplate": "State/Union territory=%{x}<br>Year=2005–06<br>GDP (in Crores)=%{customdata[0]}",
           "legendgroup": "State/Union territory=Mizoram",
           "marker": {
            "color": "#FF97FF"
           },
           "name": "State/Union territory=Mizoram",
           "offsetgroup": "State/Union territory=Mizoram",
           "orientation": "v",
           "showlegend": true,
           "textposition": "auto",
           "type": "bar",
           "x": [
            "Mizoram"
           ],
           "xaxis": "x",
           "y": [
            2971
           ],
           "yaxis": "y"
          },
          {
           "alignmentgroup": "True",
           "customdata": [
            [
             6588
            ]
           ],
           "hoverlabel": {
            "namelength": 0
           },
           "hovertemplate": "State/Union territory=%{x}<br>Year=2005–06<br>GDP (in Crores)=%{customdata[0]}",
           "legendgroup": "State/Union territory=Nagaland",
           "marker": {
            "color": "#FECB52"
           },
           "name": "State/Union territory=Nagaland",
           "offsetgroup": "State/Union territory=Nagaland",
           "orientation": "v",
           "showlegend": true,
           "textposition": "auto",
           "type": "bar",
           "x": [
            "Nagaland"
           ],
           "xaxis": "x",
           "y": [
            6588
           ],
           "yaxis": "y"
          },
          {
           "alignmentgroup": "True",
           "customdata": [
            [
             85096
            ]
           ],
           "hoverlabel": {
            "namelength": 0
           },
           "hovertemplate": "State/Union territory=%{x}<br>Year=2005–06<br>GDP (in Crores)=%{customdata[0]}",
           "legendgroup": "State/Union territory=Odisha",
           "marker": {
            "color": "#636efa"
           },
           "name": "State/Union territory=Odisha",
           "offsetgroup": "State/Union territory=Odisha",
           "orientation": "v",
           "showlegend": true,
           "textposition": "auto",
           "type": "bar",
           "x": [
            "Odisha"
           ],
           "xaxis": "x",
           "y": [
            85096
           ],
           "yaxis": "y"
          },
          {
           "alignmentgroup": "True",
           "customdata": [
            [
             108637
            ]
           ],
           "hoverlabel": {
            "namelength": 0
           },
           "hovertemplate": "State/Union territory=%{x}<br>Year=2005–06<br>GDP (in Crores)=%{customdata[0]}",
           "legendgroup": "State/Union territory=Punjab",
           "marker": {
            "color": "#EF553B"
           },
           "name": "State/Union territory=Punjab",
           "offsetgroup": "State/Union territory=Punjab",
           "orientation": "v",
           "showlegend": true,
           "textposition": "auto",
           "type": "bar",
           "x": [
            "Punjab"
           ],
           "xaxis": "x",
           "y": [
            108637
           ],
           "yaxis": "y"
          },
          {
           "alignmentgroup": "True",
           "customdata": [
            [
             142236
            ]
           ],
           "hoverlabel": {
            "namelength": 0
           },
           "hovertemplate": "State/Union territory=%{x}<br>Year=2005–06<br>GDP (in Crores)=%{customdata[0]}",
           "legendgroup": "State/Union territory=Rajasthan",
           "marker": {
            "color": "#00cc96"
           },
           "name": "State/Union territory=Rajasthan",
           "offsetgroup": "State/Union territory=Rajasthan",
           "orientation": "v",
           "showlegend": true,
           "textposition": "auto",
           "type": "bar",
           "x": [
            "Rajasthan"
           ],
           "xaxis": "x",
           "y": [
            142236
           ],
           "yaxis": "y"
          },
          {
           "alignmentgroup": "True",
           "customdata": [
            [
             1993
            ]
           ],
           "hoverlabel": {
            "namelength": 0
           },
           "hovertemplate": "State/Union territory=%{x}<br>Year=2005–06<br>GDP (in Crores)=%{customdata[0]}",
           "legendgroup": "State/Union territory=Sikkim",
           "marker": {
            "color": "#ab63fa"
           },
           "name": "State/Union territory=Sikkim",
           "offsetgroup": "State/Union territory=Sikkim",
           "orientation": "v",
           "showlegend": true,
           "textposition": "auto",
           "type": "bar",
           "x": [
            "Sikkim"
           ],
           "xaxis": "x",
           "y": [
            1993
           ],
           "yaxis": "y"
          },
          {
           "alignmentgroup": "True",
           "customdata": [
            [
             257833
            ]
           ],
           "hoverlabel": {
            "namelength": 0
           },
           "hovertemplate": "State/Union territory=%{x}<br>Year=2005–06<br>GDP (in Crores)=%{customdata[0]}",
           "legendgroup": "State/Union territory=Tamil Nadu",
           "marker": {
            "color": "#FFA15A"
           },
           "name": "State/Union territory=Tamil Nadu",
           "offsetgroup": "State/Union territory=Tamil Nadu",
           "orientation": "v",
           "showlegend": true,
           "textposition": "auto",
           "type": "bar",
           "x": [
            "Tamil Nadu"
           ],
           "xaxis": "x",
           "y": [
            257833
           ],
           "yaxis": "y"
          },
          {
           "alignmentgroup": "True",
           "customdata": [
            [
             9826
            ]
           ],
           "hoverlabel": {
            "namelength": 0
           },
           "hovertemplate": "State/Union territory=%{x}<br>Year=2005–06<br>GDP (in Crores)=%{customdata[0]}",
           "legendgroup": "State/Union territory=Tripura",
           "marker": {
            "color": "#19d3f3"
           },
           "name": "State/Union territory=Tripura",
           "offsetgroup": "State/Union territory=Tripura",
           "orientation": "v",
           "showlegend": true,
           "textposition": "auto",
           "type": "bar",
           "x": [
            "Tripura"
           ],
           "xaxis": "x",
           "y": [
            9826
           ],
           "yaxis": "y"
          },
          {
           "alignmentgroup": "True",
           "customdata": [
            [
             293172
            ]
           ],
           "hoverlabel": {
            "namelength": 0
           },
           "hovertemplate": "State/Union territory=%{x}<br>Year=2005–06<br>GDP (in Crores)=%{customdata[0]}",
           "legendgroup": "State/Union territory=Uttar Pradesh",
           "marker": {
            "color": "#FF6692"
           },
           "name": "State/Union territory=Uttar Pradesh",
           "offsetgroup": "State/Union territory=Uttar Pradesh",
           "orientation": "v",
           "showlegend": true,
           "textposition": "auto",
           "type": "bar",
           "x": [
            "Uttar Pradesh"
           ],
           "xaxis": "x",
           "y": [
            293172
           ],
           "yaxis": "y"
          },
          {
           "alignmentgroup": "True",
           "customdata": [
            [
             29968
            ]
           ],
           "hoverlabel": {
            "namelength": 0
           },
           "hovertemplate": "State/Union territory=%{x}<br>Year=2005–06<br>GDP (in Crores)=%{customdata[0]}",
           "legendgroup": "State/Union territory=Uttarakhand",
           "marker": {
            "color": "#B6E880"
           },
           "name": "State/Union territory=Uttarakhand",
           "offsetgroup": "State/Union territory=Uttarakhand",
           "orientation": "v",
           "showlegend": true,
           "textposition": "auto",
           "type": "bar",
           "x": [
            "Uttarakhand"
           ],
           "xaxis": "x",
           "y": [
            29968
           ],
           "yaxis": "y"
          },
          {
           "alignmentgroup": "True",
           "customdata": [
            [
             230245
            ]
           ],
           "hoverlabel": {
            "namelength": 0
           },
           "hovertemplate": "State/Union territory=%{x}<br>Year=2005–06<br>GDP (in Crores)=%{customdata[0]}",
           "legendgroup": "State/Union territory=West Bengal",
           "marker": {
            "color": "#FF97FF"
           },
           "name": "State/Union territory=West Bengal",
           "offsetgroup": "State/Union territory=West Bengal",
           "orientation": "v",
           "showlegend": true,
           "textposition": "auto",
           "type": "bar",
           "x": [
            "West Bengal"
           ],
           "xaxis": "x",
           "y": [
            230245
           ],
           "yaxis": "y"
          },
          {
           "alignmentgroup": "True",
           "customdata": [
            [
             2044
            ]
           ],
           "hoverlabel": {
            "namelength": 0
           },
           "hovertemplate": "State/Union territory=%{x}<br>Year=2005–06<br>GDP (in Crores)=%{customdata[0]}",
           "legendgroup": "State/Union territory=Andaman and Nicobar Islands",
           "marker": {
            "color": "#FECB52"
           },
           "name": "State/Union territory=Andaman and Nicobar Islands",
           "offsetgroup": "State/Union territory=Andaman and Nicobar Islands",
           "orientation": "v",
           "showlegend": true,
           "textposition": "auto",
           "type": "bar",
           "x": [
            "Andaman and Nicobar Islands"
           ],
           "xaxis": "x",
           "y": [
            2044
           ],
           "yaxis": "y"
          },
          {
           "alignmentgroup": "True",
           "customdata": [
            [
             10185
            ]
           ],
           "hoverlabel": {
            "namelength": 0
           },
           "hovertemplate": "State/Union territory=%{x}<br>Year=2005–06<br>GDP (in Crores)=%{customdata[0]}",
           "legendgroup": "State/Union territory=Chandigarh",
           "marker": {
            "color": "#636efa"
           },
           "name": "State/Union territory=Chandigarh",
           "offsetgroup": "State/Union territory=Chandigarh",
           "orientation": "v",
           "showlegend": true,
           "textposition": "auto",
           "type": "bar",
           "x": [
            "Chandigarh"
           ],
           "xaxis": "x",
           "y": [
            10185
           ],
           "yaxis": "y"
          },
          {
           "alignmentgroup": "True",
           "customdata": [
            [
             115374
            ]
           ],
           "hoverlabel": {
            "namelength": 0
           },
           "hovertemplate": "State/Union territory=%{x}<br>Year=2005–06<br>GDP (in Crores)=%{customdata[0]}",
           "legendgroup": "State/Union territory=Delhi",
           "marker": {
            "color": "#EF553B"
           },
           "name": "State/Union territory=Delhi",
           "offsetgroup": "State/Union territory=Delhi",
           "orientation": "v",
           "showlegend": true,
           "textposition": "auto",
           "type": "bar",
           "x": [
            "Delhi"
           ],
           "xaxis": "x",
           "y": [
            115374
           ],
           "yaxis": "y"
          },
          {
           "alignmentgroup": "True",
           "customdata": [
            [
             7977
            ]
           ],
           "hoverlabel": {
            "namelength": 0
           },
           "hovertemplate": "State/Union territory=%{x}<br>Year=2005–06<br>GDP (in Crores)=%{customdata[0]}",
           "legendgroup": "State/Union territory=Pudduchery",
           "marker": {
            "color": "#00cc96"
           },
           "name": "State/Union territory=Pudduchery",
           "offsetgroup": "State/Union territory=Pudduchery",
           "orientation": "v",
           "showlegend": true,
           "textposition": "auto",
           "type": "bar",
           "x": [
            "Pudduchery"
           ],
           "xaxis": "x",
           "y": [
            7977
           ],
           "yaxis": "y"
          }
         ],
         "name": "2005–06"
        },
        {
         "data": [
          {
           "alignmentgroup": "True",
           "customdata": [
            [
             3953276
            ]
           ],
           "hoverlabel": {
            "namelength": 0
           },
           "hovertemplate": "State/Union territory=%{x}<br>Year=2006–07<br>GDP (in Crores)=%{customdata[0]}",
           "legendgroup": "State/Union territory= India",
           "marker": {
            "color": "#636efa"
           },
           "name": "State/Union territory= India",
           "offsetgroup": "State/Union territory= India",
           "orientation": "v",
           "showlegend": true,
           "textposition": "auto",
           "type": "bar",
           "x": [
            " India"
           ],
           "xaxis": "x",
           "y": [
            3953276
           ],
           "yaxis": "y"
          },
          {
           "alignmentgroup": "True",
           "customdata": [
            [
             301035
            ]
           ],
           "hoverlabel": {
            "namelength": 0
           },
           "hovertemplate": "State/Union territory=%{x}<br>Year=2006–07<br>GDP (in Crores)=%{customdata[0]}",
           "legendgroup": "State/Union territory=Andhra Pradesh",
           "marker": {
            "color": "#EF553B"
           },
           "name": "State/Union territory=Andhra Pradesh",
           "offsetgroup": "State/Union territory=Andhra Pradesh",
           "orientation": "v",
           "showlegend": true,
           "textposition": "auto",
           "type": "bar",
           "x": [
            "Andhra Pradesh"
           ],
           "xaxis": "x",
           "y": [
            301035
           ],
           "yaxis": "y"
          },
          {
           "alignmentgroup": "True",
           "customdata": [
            [
             4108
            ]
           ],
           "hoverlabel": {
            "namelength": 0
           },
           "hovertemplate": "State/Union territory=%{x}<br>Year=2006–07<br>GDP (in Crores)=%{customdata[0]}",
           "legendgroup": "State/Union territory=Arunachal Pradesh",
           "marker": {
            "color": "#00cc96"
           },
           "name": "State/Union territory=Arunachal Pradesh",
           "offsetgroup": "State/Union territory=Arunachal Pradesh",
           "orientation": "v",
           "showlegend": true,
           "textposition": "auto",
           "type": "bar",
           "x": [
            "Arunachal Pradesh"
           ],
           "xaxis": "x",
           "y": [
            4108
           ],
           "yaxis": "y"
          },
          {
           "alignmentgroup": "True",
           "customdata": [
            [
             64692
            ]
           ],
           "hoverlabel": {
            "namelength": 0
           },
           "hovertemplate": "State/Union territory=%{x}<br>Year=2006–07<br>GDP (in Crores)=%{customdata[0]}",
           "legendgroup": "State/Union territory=Assam",
           "marker": {
            "color": "#ab63fa"
           },
           "name": "State/Union territory=Assam",
           "offsetgroup": "State/Union territory=Assam",
           "orientation": "v",
           "showlegend": true,
           "textposition": "auto",
           "type": "bar",
           "x": [
            "Assam"
           ],
           "xaxis": "x",
           "y": [
            64692
           ],
           "yaxis": "y"
          },
          {
           "alignmentgroup": "True",
           "customdata": [
            [
             100737
            ]
           ],
           "hoverlabel": {
            "namelength": 0
           },
           "hovertemplate": "State/Union territory=%{x}<br>Year=2006–07<br>GDP (in Crores)=%{customdata[0]}",
           "legendgroup": "State/Union territory=Bihar",
           "marker": {
            "color": "#FFA15A"
           },
           "name": "State/Union territory=Bihar",
           "offsetgroup": "State/Union territory=Bihar",
           "orientation": "v",
           "showlegend": true,
           "textposition": "auto",
           "type": "bar",
           "x": [
            "Bihar"
           ],
           "xaxis": "x",
           "y": [
            100737
           ],
           "yaxis": "y"
          },
          {
           "alignmentgroup": "True",
           "customdata": [
            [
             66875
            ]
           ],
           "hoverlabel": {
            "namelength": 0
           },
           "hovertemplate": "State/Union territory=%{x}<br>Year=2006–07<br>GDP (in Crores)=%{customdata[0]}",
           "legendgroup": "State/Union territory=Chhattisgarh",
           "marker": {
            "color": "#19d3f3"
           },
           "name": "State/Union territory=Chhattisgarh",
           "offsetgroup": "State/Union territory=Chhattisgarh",
           "orientation": "v",
           "showlegend": true,
           "textposition": "auto",
           "type": "bar",
           "x": [
            "Chhattisgarh"
           ],
           "xaxis": "x",
           "y": [
            66875
           ],
           "yaxis": "y"
          },
          {
           "alignmentgroup": "True",
           "customdata": [
            [
             16523
            ]
           ],
           "hoverlabel": {
            "namelength": 0
           },
           "hovertemplate": "State/Union territory=%{x}<br>Year=2006–07<br>GDP (in Crores)=%{customdata[0]}",
           "legendgroup": "State/Union territory=Goa",
           "marker": {
            "color": "#FF6692"
           },
           "name": "State/Union territory=Goa",
           "offsetgroup": "State/Union territory=Goa",
           "orientation": "v",
           "showlegend": true,
           "textposition": "auto",
           "type": "bar",
           "x": [
            "Goa"
           ],
           "xaxis": "x",
           "y": [
            16523
           ],
           "yaxis": "y"
          },
          {
           "alignmentgroup": "True",
           "customdata": [
            [
             283693
            ]
           ],
           "hoverlabel": {
            "namelength": 0
           },
           "hovertemplate": "State/Union territory=%{x}<br>Year=2006–07<br>GDP (in Crores)=%{customdata[0]}",
           "legendgroup": "State/Union territory=Gujarat",
           "marker": {
            "color": "#B6E880"
           },
           "name": "State/Union territory=Gujarat",
           "offsetgroup": "State/Union territory=Gujarat",
           "orientation": "v",
           "showlegend": true,
           "textposition": "auto",
           "type": "bar",
           "x": [
            "Gujarat"
           ],
           "xaxis": "x",
           "y": [
            283693
           ],
           "yaxis": "y"
          },
          {
           "alignmentgroup": "True",
           "customdata": [
            [
             128732
            ]
           ],
           "hoverlabel": {
            "namelength": 0
           },
           "hovertemplate": "State/Union territory=%{x}<br>Year=2006–07<br>GDP (in Crores)=%{customdata[0]}",
           "legendgroup": "State/Union territory=Haryana",
           "marker": {
            "color": "#FF97FF"
           },
           "name": "State/Union territory=Haryana",
           "offsetgroup": "State/Union territory=Haryana",
           "orientation": "v",
           "showlegend": true,
           "textposition": "auto",
           "type": "bar",
           "x": [
            "Haryana"
           ],
           "xaxis": "x",
           "y": [
            128732
           ],
           "yaxis": "y"
          },
          {
           "alignmentgroup": "True",
           "customdata": [
            [
             30274
            ]
           ],
           "hoverlabel": {
            "namelength": 0
           },
           "hovertemplate": "State/Union territory=%{x}<br>Year=2006–07<br>GDP (in Crores)=%{customdata[0]}",
           "legendgroup": "State/Union territory=Himachal Pradesh",
           "marker": {
            "color": "#FECB52"
           },
           "name": "State/Union territory=Himachal Pradesh",
           "offsetgroup": "State/Union territory=Himachal Pradesh",
           "orientation": "v",
           "showlegend": true,
           "textposition": "auto",
           "type": "bar",
           "x": [
            "Himachal Pradesh"
           ],
           "xaxis": "x",
           "y": [
            30274
           ],
           "yaxis": "y"
          },
          {
           "alignmentgroup": "True",
           "customdata": [
            [
             33230
            ]
           ],
           "hoverlabel": {
            "namelength": 0
           },
           "hovertemplate": "State/Union territory=%{x}<br>Year=2006–07<br>GDP (in Crores)=%{customdata[0]}",
           "legendgroup": "State/Union territory=Jammu and Kashmir",
           "marker": {
            "color": "#636efa"
           },
           "name": "State/Union territory=Jammu and Kashmir",
           "offsetgroup": "State/Union territory=Jammu and Kashmir",
           "orientation": "v",
           "showlegend": true,
           "textposition": "auto",
           "type": "bar",
           "x": [
            "Jammu and Kashmir"
           ],
           "xaxis": "x",
           "y": [
            33230
           ],
           "yaxis": "y"
          },
          {
           "alignmentgroup": "True",
           "customdata": [
            [
             66935
            ]
           ],
           "hoverlabel": {
            "namelength": 0
           },
           "hovertemplate": "State/Union territory=%{x}<br>Year=2006–07<br>GDP (in Crores)=%{customdata[0]}",
           "legendgroup": "State/Union territory=Jharkhand",
           "marker": {
            "color": "#EF553B"
           },
           "name": "State/Union territory=Jharkhand",
           "offsetgroup": "State/Union territory=Jharkhand",
           "orientation": "v",
           "showlegend": true,
           "textposition": "auto",
           "type": "bar",
           "x": [
            "Jharkhand"
           ],
           "xaxis": "x",
           "y": [
            66935
           ],
           "yaxis": "y"
          },
          {
           "alignmentgroup": "True",
           "customdata": [
            [
             227237
            ]
           ],
           "hoverlabel": {
            "namelength": 0
           },
           "hovertemplate": "State/Union territory=%{x}<br>Year=2006–07<br>GDP (in Crores)=%{customdata[0]}",
           "legendgroup": "State/Union territory=Karnataka",
           "marker": {
            "color": "#00cc96"
           },
           "name": "State/Union territory=Karnataka",
           "offsetgroup": "State/Union territory=Karnataka",
           "orientation": "v",
           "showlegend": true,
           "textposition": "auto",
           "type": "bar",
           "x": [
            "Karnataka"
           ],
           "xaxis": "x",
           "y": [
            227237
           ],
           "yaxis": "y"
          },
          {
           "alignmentgroup": "True",
           "customdata": [
            [
             153758
            ]
           ],
           "hoverlabel": {
            "namelength": 0
           },
           "hovertemplate": "State/Union territory=%{x}<br>Year=2006–07<br>GDP (in Crores)=%{customdata[0]}",
           "legendgroup": "State/Union territory=Kerala",
           "marker": {
            "color": "#ab63fa"
           },
           "name": "State/Union territory=Kerala",
           "offsetgroup": "State/Union territory=Kerala",
           "orientation": "v",
           "showlegend": true,
           "textposition": "auto",
           "type": "bar",
           "x": [
            "Kerala"
           ],
           "xaxis": "x",
           "y": [
            153758
           ],
           "yaxis": "y"
          },
          {
           "alignmentgroup": "True",
           "customdata": [
            [
             144577
            ]
           ],
           "hoverlabel": {
            "namelength": 0
           },
           "hovertemplate": "State/Union territory=%{x}<br>Year=2006–07<br>GDP (in Crores)=%{customdata[0]}",
           "legendgroup": "State/Union territory=Madhya Pradesh",
           "marker": {
            "color": "#FFA15A"
           },
           "name": "State/Union territory=Madhya Pradesh",
           "offsetgroup": "State/Union territory=Madhya Pradesh",
           "orientation": "v",
           "showlegend": true,
           "textposition": "auto",
           "type": "bar",
           "x": [
            "Madhya Pradesh"
           ],
           "xaxis": "x",
           "y": [
            144577
           ],
           "yaxis": "y"
          },
          {
           "alignmentgroup": "True",
           "customdata": [
            [
             584498
            ]
           ],
           "hoverlabel": {
            "namelength": 0
           },
           "hovertemplate": "State/Union territory=%{x}<br>Year=2006–07<br>GDP (in Crores)=%{customdata[0]}",
           "legendgroup": "State/Union territory=Maharashtra",
           "marker": {
            "color": "#19d3f3"
           },
           "name": "State/Union territory=Maharashtra",
           "offsetgroup": "State/Union territory=Maharashtra",
           "orientation": "v",
           "showlegend": true,
           "textposition": "auto",
           "type": "bar",
           "x": [
            "Maharashtra"
           ],
           "xaxis": "x",
           "y": [
            584498
           ],
           "yaxis": "y"
          },
          {
           "alignmentgroup": "True",
           "customdata": [
            [
             6137
            ]
           ],
           "hoverlabel": {
            "namelength": 0
           },
           "hovertemplate": "State/Union territory=%{x}<br>Year=2006–07<br>GDP (in Crores)=%{customdata[0]}",
           "legendgroup": "State/Union territory=Manipur",
           "marker": {
            "color": "#FF6692"
           },
           "name": "State/Union territory=Manipur",
           "offsetgroup": "State/Union territory=Manipur",
           "orientation": "v",
           "showlegend": true,
           "textposition": "auto",
           "type": "bar",
           "x": [
            "Manipur"
           ],
           "xaxis": "x",
           "y": [
            6137
           ],
           "yaxis": "y"
          },
          {
           "alignmentgroup": "True",
           "customdata": [
            [
             8625
            ]
           ],
           "hoverlabel": {
            "namelength": 0
           },
           "hovertemplate": "State/Union territory=%{x}<br>Year=2006–07<br>GDP (in Crores)=%{customdata[0]}",
           "legendgroup": "State/Union territory=Meghalaya",
           "marker": {
            "color": "#B6E880"
           },
           "name": "State/Union territory=Meghalaya",
           "offsetgroup": "State/Union territory=Meghalaya",
           "orientation": "v",
           "showlegend": true,
           "textposition": "auto",
           "type": "bar",
           "x": [
            "Meghalaya"
           ],
           "xaxis": "x",
           "y": [
            8625
           ],
           "yaxis": "y"
          },
          {
           "alignmentgroup": "True",
           "customdata": [
            [
             3290
            ]
           ],
           "hoverlabel": {
            "namelength": 0
           },
           "hovertemplate": "State/Union territory=%{x}<br>Year=2006–07<br>GDP (in Crores)=%{customdata[0]}",
           "legendgroup": "State/Union territory=Mizoram",
           "marker": {
            "color": "#FF97FF"
           },
           "name": "State/Union territory=Mizoram",
           "offsetgroup": "State/Union territory=Mizoram",
           "orientation": "v",
           "showlegend": true,
           "textposition": "auto",
           "type": "bar",
           "x": [
            "Mizoram"
           ],
           "xaxis": "x",
           "y": [
            3290
           ],
           "yaxis": "y"
          },
          {
           "alignmentgroup": "True",
           "customdata": [
            [
             7257
            ]
           ],
           "hoverlabel": {
            "namelength": 0
           },
           "hovertemplate": "State/Union territory=%{x}<br>Year=2006–07<br>GDP (in Crores)=%{customdata[0]}",
           "legendgroup": "State/Union territory=Nagaland",
           "marker": {
            "color": "#FECB52"
           },
           "name": "State/Union territory=Nagaland",
           "offsetgroup": "State/Union territory=Nagaland",
           "orientation": "v",
           "showlegend": true,
           "textposition": "auto",
           "type": "bar",
           "x": [
            "Nagaland"
           ],
           "xaxis": "x",
           "y": [
            7257
           ],
           "yaxis": "y"
          },
          {
           "alignmentgroup": "True",
           "customdata": [
            [
             101839
            ]
           ],
           "hoverlabel": {
            "namelength": 0
           },
           "hovertemplate": "State/Union territory=%{x}<br>Year=2006–07<br>GDP (in Crores)=%{customdata[0]}",
           "legendgroup": "State/Union territory=Odisha",
           "marker": {
            "color": "#636efa"
           },
           "name": "State/Union territory=Odisha",
           "offsetgroup": "State/Union territory=Odisha",
           "orientation": "v",
           "showlegend": true,
           "textposition": "auto",
           "type": "bar",
           "x": [
            "Odisha"
           ],
           "xaxis": "x",
           "y": [
            101839
           ],
           "yaxis": "y"
          },
          {
           "alignmentgroup": "True",
           "customdata": [
            [
             127123
            ]
           ],
           "hoverlabel": {
            "namelength": 0
           },
           "hovertemplate": "State/Union territory=%{x}<br>Year=2006–07<br>GDP (in Crores)=%{customdata[0]}",
           "legendgroup": "State/Union territory=Punjab",
           "marker": {
            "color": "#EF553B"
           },
           "name": "State/Union territory=Punjab",
           "offsetgroup": "State/Union territory=Punjab",
           "orientation": "v",
           "showlegend": true,
           "textposition": "auto",
           "type": "bar",
           "x": [
            "Punjab"
           ],
           "xaxis": "x",
           "y": [
            127123
           ],
           "yaxis": "y"
          },
          {
           "alignmentgroup": "True",
           "customdata": [
            [
             171043
            ]
           ],
           "hoverlabel": {
            "namelength": 0
           },
           "hovertemplate": "State/Union territory=%{x}<br>Year=2006–07<br>GDP (in Crores)=%{customdata[0]}",
           "legendgroup": "State/Union territory=Rajasthan",
           "marker": {
            "color": "#00cc96"
           },
           "name": "State/Union territory=Rajasthan",
           "offsetgroup": "State/Union territory=Rajasthan",
           "orientation": "v",
           "showlegend": true,
           "textposition": "auto",
           "type": "bar",
           "x": [
            "Rajasthan"
           ],
           "xaxis": "x",
           "y": [
            171043
           ],
           "yaxis": "y"
          },
          {
           "alignmentgroup": "True",
           "customdata": [
            [
             2161
            ]
           ],
           "hoverlabel": {
            "namelength": 0
           },
           "hovertemplate": "State/Union territory=%{x}<br>Year=2006–07<br>GDP (in Crores)=%{customdata[0]}",
           "legendgroup": "State/Union territory=Sikkim",
           "marker": {
            "color": "#ab63fa"
           },
           "name": "State/Union territory=Sikkim",
           "offsetgroup": "State/Union territory=Sikkim",
           "orientation": "v",
           "showlegend": true,
           "textposition": "auto",
           "type": "bar",
           "x": [
            "Sikkim"
           ],
           "xaxis": "x",
           "y": [
            2161
           ],
           "yaxis": "y"
          },
          {
           "alignmentgroup": "True",
           "customdata": [
            [
             310526
            ]
           ],
           "hoverlabel": {
            "namelength": 0
           },
           "hovertemplate": "State/Union territory=%{x}<br>Year=2006–07<br>GDP (in Crores)=%{customdata[0]}",
           "legendgroup": "State/Union territory=Tamil Nadu",
           "marker": {
            "color": "#FFA15A"
           },
           "name": "State/Union territory=Tamil Nadu",
           "offsetgroup": "State/Union territory=Tamil Nadu",
           "orientation": "v",
           "showlegend": true,
           "textposition": "auto",
           "type": "bar",
           "x": [
            "Tamil Nadu"
           ],
           "xaxis": "x",
           "y": [
            310526
           ],
           "yaxis": "y"
          },
          {
           "alignmentgroup": "True",
           "customdata": [
            [
             10914
            ]
           ],
           "hoverlabel": {
            "namelength": 0
           },
           "hovertemplate": "State/Union territory=%{x}<br>Year=2006–07<br>GDP (in Crores)=%{customdata[0]}",
           "legendgroup": "State/Union territory=Tripura",
           "marker": {
            "color": "#19d3f3"
           },
           "name": "State/Union territory=Tripura",
           "offsetgroup": "State/Union territory=Tripura",
           "orientation": "v",
           "showlegend": true,
           "textposition": "auto",
           "type": "bar",
           "x": [
            "Tripura"
           ],
           "xaxis": "x",
           "y": [
            10914
           ],
           "yaxis": "y"
          },
          {
           "alignmentgroup": "True",
           "customdata": [
            [
             336317
            ]
           ],
           "hoverlabel": {
            "namelength": 0
           },
           "hovertemplate": "State/Union territory=%{x}<br>Year=2006–07<br>GDP (in Crores)=%{customdata[0]}",
           "legendgroup": "State/Union territory=Uttar Pradesh",
           "marker": {
            "color": "#FF6692"
           },
           "name": "State/Union territory=Uttar Pradesh",
           "offsetgroup": "State/Union territory=Uttar Pradesh",
           "orientation": "v",
           "showlegend": true,
           "textposition": "auto",
           "type": "bar",
           "x": [
            "Uttar Pradesh"
           ],
           "xaxis": "x",
           "y": [
            336317
           ],
           "yaxis": "y"
          },
          {
           "alignmentgroup": "True",
           "customdata": [
            [
             36795
            ]
           ],
           "hoverlabel": {
            "namelength": 0
           },
           "hovertemplate": "State/Union territory=%{x}<br>Year=2006–07<br>GDP (in Crores)=%{customdata[0]}",
           "legendgroup": "State/Union territory=Uttarakhand",
           "marker": {
            "color": "#B6E880"
           },
           "name": "State/Union territory=Uttarakhand",
           "offsetgroup": "State/Union territory=Uttarakhand",
           "orientation": "v",
           "showlegend": true,
           "textposition": "auto",
           "type": "bar",
           "x": [
            "Uttarakhand"
           ],
           "xaxis": "x",
           "y": [
            36795
           ],
           "yaxis": "y"
          },
          {
           "alignmentgroup": "True",
           "customdata": [
            [
             261682
            ]
           ],
           "hoverlabel": {
            "namelength": 0
           },
           "hovertemplate": "State/Union territory=%{x}<br>Year=2006–07<br>GDP (in Crores)=%{customdata[0]}",
           "legendgroup": "State/Union territory=West Bengal",
           "marker": {
            "color": "#FF97FF"
           },
           "name": "State/Union territory=West Bengal",
           "offsetgroup": "State/Union territory=West Bengal",
           "orientation": "v",
           "showlegend": true,
           "textposition": "auto",
           "type": "bar",
           "x": [
            "West Bengal"
           ],
           "xaxis": "x",
           "y": [
            261682
           ],
           "yaxis": "y"
          },
          {
           "alignmentgroup": "True",
           "customdata": [
            [
             2538
            ]
           ],
           "hoverlabel": {
            "namelength": 0
           },
           "hovertemplate": "State/Union territory=%{x}<br>Year=2006–07<br>GDP (in Crores)=%{customdata[0]}",
           "legendgroup": "State/Union territory=Andaman and Nicobar Islands",
           "marker": {
            "color": "#FECB52"
           },
           "name": "State/Union territory=Andaman and Nicobar Islands",
           "offsetgroup": "State/Union territory=Andaman and Nicobar Islands",
           "orientation": "v",
           "showlegend": true,
           "textposition": "auto",
           "type": "bar",
           "x": [
            "Andaman and Nicobar Islands"
           ],
           "xaxis": "x",
           "y": [
            2538
           ],
           "yaxis": "y"
          },
          {
           "alignmentgroup": "True",
           "customdata": [
            [
             12276
            ]
           ],
           "hoverlabel": {
            "namelength": 0
           },
           "hovertemplate": "State/Union territory=%{x}<br>Year=2006–07<br>GDP (in Crores)=%{customdata[0]}",
           "legendgroup": "State/Union territory=Chandigarh",
           "marker": {
            "color": "#636efa"
           },
           "name": "State/Union territory=Chandigarh",
           "offsetgroup": "State/Union territory=Chandigarh",
           "orientation": "v",
           "showlegend": true,
           "textposition": "auto",
           "type": "bar",
           "x": [
            "Chandigarh"
           ],
           "xaxis": "x",
           "y": [
            12276
           ],
           "yaxis": "y"
          },
          {
           "alignmentgroup": "True",
           "customdata": [
            [
             135584
            ]
           ],
           "hoverlabel": {
            "namelength": 0
           },
           "hovertemplate": "State/Union territory=%{x}<br>Year=2006–07<br>GDP (in Crores)=%{customdata[0]}",
           "legendgroup": "State/Union territory=Delhi",
           "marker": {
            "color": "#EF553B"
           },
           "name": "State/Union territory=Delhi",
           "offsetgroup": "State/Union territory=Delhi",
           "orientation": "v",
           "showlegend": true,
           "textposition": "auto",
           "type": "bar",
           "x": [
            "Delhi"
           ],
           "xaxis": "x",
           "y": [
            135584
           ],
           "yaxis": "y"
          },
          {
           "alignmentgroup": "True",
           "customdata": [
            [
             8335
            ]
           ],
           "hoverlabel": {
            "namelength": 0
           },
           "hovertemplate": "State/Union territory=%{x}<br>Year=2006–07<br>GDP (in Crores)=%{customdata[0]}",
           "legendgroup": "State/Union territory=Pudduchery",
           "marker": {
            "color": "#00cc96"
           },
           "name": "State/Union territory=Pudduchery",
           "offsetgroup": "State/Union territory=Pudduchery",
           "orientation": "v",
           "showlegend": true,
           "textposition": "auto",
           "type": "bar",
           "x": [
            "Pudduchery"
           ],
           "xaxis": "x",
           "y": [
            8335
           ],
           "yaxis": "y"
          }
         ],
         "name": "2006–07"
        },
        {
         "data": [
          {
           "alignmentgroup": "True",
           "customdata": [
            [
             4582086
            ]
           ],
           "hoverlabel": {
            "namelength": 0
           },
           "hovertemplate": "State/Union territory=%{x}<br>Year=2007–08<br>GDP (in Crores)=%{customdata[0]}",
           "legendgroup": "State/Union territory= India",
           "marker": {
            "color": "#636efa"
           },
           "name": "State/Union territory= India",
           "offsetgroup": "State/Union territory= India",
           "orientation": "v",
           "showlegend": true,
           "textposition": "auto",
           "type": "bar",
           "x": [
            " India"
           ],
           "xaxis": "x",
           "y": [
            4582086
           ],
           "yaxis": "y"
          },
          {
           "alignmentgroup": "True",
           "customdata": [
            [
             364813
            ]
           ],
           "hoverlabel": {
            "namelength": 0
           },
           "hovertemplate": "State/Union territory=%{x}<br>Year=2007–08<br>GDP (in Crores)=%{customdata[0]}",
           "legendgroup": "State/Union territory=Andhra Pradesh",
           "marker": {
            "color": "#EF553B"
           },
           "name": "State/Union territory=Andhra Pradesh",
           "offsetgroup": "State/Union territory=Andhra Pradesh",
           "orientation": "v",
           "showlegend": true,
           "textposition": "auto",
           "type": "bar",
           "x": [
            "Andhra Pradesh"
           ],
           "xaxis": "x",
           "y": [
            364813
           ],
           "yaxis": "y"
          },
          {
           "alignmentgroup": "True",
           "customdata": [
            [
             4810
            ]
           ],
           "hoverlabel": {
            "namelength": 0
           },
           "hovertemplate": "State/Union territory=%{x}<br>Year=2007–08<br>GDP (in Crores)=%{customdata[0]}",
           "legendgroup": "State/Union territory=Arunachal Pradesh",
           "marker": {
            "color": "#00cc96"
           },
           "name": "State/Union territory=Arunachal Pradesh",
           "offsetgroup": "State/Union territory=Arunachal Pradesh",
           "orientation": "v",
           "showlegend": true,
           "textposition": "auto",
           "type": "bar",
           "x": [
            "Arunachal Pradesh"
           ],
           "xaxis": "x",
           "y": [
            4810
           ],
           "yaxis": "y"
          },
          {
           "alignmentgroup": "True",
           "customdata": [
            [
             71076
            ]
           ],
           "hoverlabel": {
            "namelength": 0
           },
           "hovertemplate": "State/Union territory=%{x}<br>Year=2007–08<br>GDP (in Crores)=%{customdata[0]}",
           "legendgroup": "State/Union territory=Assam",
           "marker": {
            "color": "#ab63fa"
           },
           "name": "State/Union territory=Assam",
           "offsetgroup": "State/Union territory=Assam",
           "orientation": "v",
           "showlegend": true,
           "textposition": "auto",
           "type": "bar",
           "x": [
            "Assam"
           ],
           "xaxis": "x",
           "y": [
            71076
           ],
           "yaxis": "y"
          },
          {
           "alignmentgroup": "True",
           "customdata": [
            [
             113680
            ]
           ],
           "hoverlabel": {
            "namelength": 0
           },
           "hovertemplate": "State/Union territory=%{x}<br>Year=2007–08<br>GDP (in Crores)=%{customdata[0]}",
           "legendgroup": "State/Union territory=Bihar",
           "marker": {
            "color": "#FFA15A"
           },
           "name": "State/Union territory=Bihar",
           "offsetgroup": "State/Union territory=Bihar",
           "orientation": "v",
           "showlegend": true,
           "textposition": "auto",
           "type": "bar",
           "x": [
            "Bihar"
           ],
           "xaxis": "x",
           "y": [
            113680
           ],
           "yaxis": "y"
          },
          {
           "alignmentgroup": "True",
           "customdata": [
            [
             80255
            ]
           ],
           "hoverlabel": {
            "namelength": 0
           },
           "hovertemplate": "State/Union territory=%{x}<br>Year=2007–08<br>GDP (in Crores)=%{customdata[0]}",
           "legendgroup": "State/Union territory=Chhattisgarh",
           "marker": {
            "color": "#19d3f3"
           },
           "name": "State/Union territory=Chhattisgarh",
           "offsetgroup": "State/Union territory=Chhattisgarh",
           "orientation": "v",
           "showlegend": true,
           "textposition": "auto",
           "type": "bar",
           "x": [
            "Chhattisgarh"
           ],
           "xaxis": "x",
           "y": [
            80255
           ],
           "yaxis": "y"
          },
          {
           "alignmentgroup": "True",
           "customdata": [
            [
             19565
            ]
           ],
           "hoverlabel": {
            "namelength": 0
           },
           "hovertemplate": "State/Union territory=%{x}<br>Year=2007–08<br>GDP (in Crores)=%{customdata[0]}",
           "legendgroup": "State/Union territory=Goa",
           "marker": {
            "color": "#FF6692"
           },
           "name": "State/Union territory=Goa",
           "offsetgroup": "State/Union territory=Goa",
           "orientation": "v",
           "showlegend": true,
           "textposition": "auto",
           "type": "bar",
           "x": [
            "Goa"
           ],
           "xaxis": "x",
           "y": [
            19565
           ],
           "yaxis": "y"
          },
          {
           "alignmentgroup": "True",
           "customdata": [
            [
             329285
            ]
           ],
           "hoverlabel": {
            "namelength": 0
           },
           "hovertemplate": "State/Union territory=%{x}<br>Year=2007–08<br>GDP (in Crores)=%{customdata[0]}",
           "legendgroup": "State/Union territory=Gujarat",
           "marker": {
            "color": "#B6E880"
           },
           "name": "State/Union territory=Gujarat",
           "offsetgroup": "State/Union territory=Gujarat",
           "orientation": "v",
           "showlegend": true,
           "textposition": "auto",
           "type": "bar",
           "x": [
            "Gujarat"
           ],
           "xaxis": "x",
           "y": [
            329285
           ],
           "yaxis": "y"
          },
          {
           "alignmentgroup": "True",
           "customdata": [
            [
             151596
            ]
           ],
           "hoverlabel": {
            "namelength": 0
           },
           "hovertemplate": "State/Union territory=%{x}<br>Year=2007–08<br>GDP (in Crores)=%{customdata[0]}",
           "legendgroup": "State/Union territory=Haryana",
           "marker": {
            "color": "#FF97FF"
           },
           "name": "State/Union territory=Haryana",
           "offsetgroup": "State/Union territory=Haryana",
           "orientation": "v",
           "showlegend": true,
           "textposition": "auto",
           "type": "bar",
           "x": [
            "Haryana"
           ],
           "xaxis": "x",
           "y": [
            151596
           ],
           "yaxis": "y"
          },
          {
           "alignmentgroup": "True",
           "customdata": [
            [
             33963
            ]
           ],
           "hoverlabel": {
            "namelength": 0
           },
           "hovertemplate": "State/Union territory=%{x}<br>Year=2007–08<br>GDP (in Crores)=%{customdata[0]}",
           "legendgroup": "State/Union territory=Himachal Pradesh",
           "marker": {
            "color": "#FECB52"
           },
           "name": "State/Union territory=Himachal Pradesh",
           "offsetgroup": "State/Union territory=Himachal Pradesh",
           "orientation": "v",
           "showlegend": true,
           "textposition": "auto",
           "type": "bar",
           "x": [
            "Himachal Pradesh"
           ],
           "xaxis": "x",
           "y": [
            33963
           ],
           "yaxis": "y"
          },
          {
           "alignmentgroup": "True",
           "customdata": [
            [
             37099
            ]
           ],
           "hoverlabel": {
            "namelength": 0
           },
           "hovertemplate": "State/Union territory=%{x}<br>Year=2007–08<br>GDP (in Crores)=%{customdata[0]}",
           "legendgroup": "State/Union territory=Jammu and Kashmir",
           "marker": {
            "color": "#636efa"
           },
           "name": "State/Union territory=Jammu and Kashmir",
           "offsetgroup": "State/Union territory=Jammu and Kashmir",
           "orientation": "v",
           "showlegend": true,
           "textposition": "auto",
           "type": "bar",
           "x": [
            "Jammu and Kashmir"
           ],
           "xaxis": "x",
           "y": [
            37099
           ],
           "yaxis": "y"
          },
          {
           "alignmentgroup": "True",
           "customdata": [
            [
             83950
            ]
           ],
           "hoverlabel": {
            "namelength": 0
           },
           "hovertemplate": "State/Union territory=%{x}<br>Year=2007–08<br>GDP (in Crores)=%{customdata[0]}",
           "legendgroup": "State/Union territory=Jharkhand",
           "marker": {
            "color": "#EF553B"
           },
           "name": "State/Union territory=Jharkhand",
           "offsetgroup": "State/Union territory=Jharkhand",
           "orientation": "v",
           "showlegend": true,
           "textposition": "auto",
           "type": "bar",
           "x": [
            "Jharkhand"
           ],
           "xaxis": "x",
           "y": [
            83950
           ],
           "yaxis": "y"
          },
          {
           "alignmentgroup": "True",
           "customdata": [
            [
             270629
            ]
           ],
           "hoverlabel": {
            "namelength": 0
           },
           "hovertemplate": "State/Union territory=%{x}<br>Year=2007–08<br>GDP (in Crores)=%{customdata[0]}",
           "legendgroup": "State/Union territory=Karnataka",
           "marker": {
            "color": "#00cc96"
           },
           "name": "State/Union territory=Karnataka",
           "offsetgroup": "State/Union territory=Karnataka",
           "orientation": "v",
           "showlegend": true,
           "textposition": "auto",
           "type": "bar",
           "x": [
            "Karnataka"
           ],
           "xaxis": "x",
           "y": [
            270629
           ],
           "yaxis": "y"
          },
          {
           "alignmentgroup": "True",
           "customdata": [
            [
             175141
            ]
           ],
           "hoverlabel": {
            "namelength": 0
           },
           "hovertemplate": "State/Union territory=%{x}<br>Year=2007–08<br>GDP (in Crores)=%{customdata[0]}",
           "legendgroup": "State/Union territory=Kerala",
           "marker": {
            "color": "#ab63fa"
           },
           "name": "State/Union territory=Kerala",
           "offsetgroup": "State/Union territory=Kerala",
           "orientation": "v",
           "showlegend": true,
           "textposition": "auto",
           "type": "bar",
           "x": [
            "Kerala"
           ],
           "xaxis": "x",
           "y": [
            175141
           ],
           "yaxis": "y"
          },
          {
           "alignmentgroup": "True",
           "customdata": [
            [
             161479
            ]
           ],
           "hoverlabel": {
            "namelength": 0
           },
           "hovertemplate": "State/Union territory=%{x}<br>Year=2007–08<br>GDP (in Crores)=%{customdata[0]}",
           "legendgroup": "State/Union territory=Madhya Pradesh",
           "marker": {
            "color": "#FFA15A"
           },
           "name": "State/Union territory=Madhya Pradesh",
           "offsetgroup": "State/Union territory=Madhya Pradesh",
           "orientation": "v",
           "showlegend": true,
           "textposition": "auto",
           "type": "bar",
           "x": [
            "Madhya Pradesh"
           ],
           "xaxis": "x",
           "y": [
            161479
           ],
           "yaxis": "y"
          },
          {
           "alignmentgroup": "True",
           "customdata": [
            [
             684817
            ]
           ],
           "hoverlabel": {
            "namelength": 0
           },
           "hovertemplate": "State/Union territory=%{x}<br>Year=2007–08<br>GDP (in Crores)=%{customdata[0]}",
           "legendgroup": "State/Union territory=Maharashtra",
           "marker": {
            "color": "#19d3f3"
           },
           "name": "State/Union territory=Maharashtra",
           "offsetgroup": "State/Union territory=Maharashtra",
           "orientation": "v",
           "showlegend": true,
           "textposition": "auto",
           "type": "bar",
           "x": [
            "Maharashtra"
           ],
           "xaxis": "x",
           "y": [
            684817
           ],
           "yaxis": "y"
          },
          {
           "alignmentgroup": "True",
           "customdata": [
            [
             6783
            ]
           ],
           "hoverlabel": {
            "namelength": 0
           },
           "hovertemplate": "State/Union territory=%{x}<br>Year=2007–08<br>GDP (in Crores)=%{customdata[0]}",
           "legendgroup": "State/Union territory=Manipur",
           "marker": {
            "color": "#FF6692"
           },
           "name": "State/Union territory=Manipur",
           "offsetgroup": "State/Union territory=Manipur",
           "orientation": "v",
           "showlegend": true,
           "textposition": "auto",
           "type": "bar",
           "x": [
            "Manipur"
           ],
           "xaxis": "x",
           "y": [
            6783
           ],
           "yaxis": "y"
          },
          {
           "alignmentgroup": "True",
           "customdata": [
            [
             9735
            ]
           ],
           "hoverlabel": {
            "namelength": 0
           },
           "hovertemplate": "State/Union territory=%{x}<br>Year=2007–08<br>GDP (in Crores)=%{customdata[0]}",
           "legendgroup": "State/Union territory=Meghalaya",
           "marker": {
            "color": "#B6E880"
           },
           "name": "State/Union territory=Meghalaya",
           "offsetgroup": "State/Union territory=Meghalaya",
           "orientation": "v",
           "showlegend": true,
           "textposition": "auto",
           "type": "bar",
           "x": [
            "Meghalaya"
           ],
           "xaxis": "x",
           "y": [
            9735
           ],
           "yaxis": "y"
          },
          {
           "alignmentgroup": "True",
           "customdata": [
            [
             3816
            ]
           ],
           "hoverlabel": {
            "namelength": 0
           },
           "hovertemplate": "State/Union territory=%{x}<br>Year=2007–08<br>GDP (in Crores)=%{customdata[0]}",
           "legendgroup": "State/Union territory=Mizoram",
           "marker": {
            "color": "#FF97FF"
           },
           "name": "State/Union territory=Mizoram",
           "offsetgroup": "State/Union territory=Mizoram",
           "orientation": "v",
           "showlegend": true,
           "textposition": "auto",
           "type": "bar",
           "x": [
            "Mizoram"
           ],
           "xaxis": "x",
           "y": [
            3816
           ],
           "yaxis": "y"
          },
          {
           "alignmentgroup": "True",
           "customdata": [
            [
             8075
            ]
           ],
           "hoverlabel": {
            "namelength": 0
           },
           "hovertemplate": "State/Union territory=%{x}<br>Year=2007–08<br>GDP (in Crores)=%{customdata[0]}",
           "legendgroup": "State/Union territory=Nagaland",
           "marker": {
            "color": "#FECB52"
           },
           "name": "State/Union territory=Nagaland",
           "offsetgroup": "State/Union territory=Nagaland",
           "orientation": "v",
           "showlegend": true,
           "textposition": "auto",
           "type": "bar",
           "x": [
            "Nagaland"
           ],
           "xaxis": "x",
           "y": [
            8075
           ],
           "yaxis": "y"
          },
          {
           "alignmentgroup": "True",
           "customdata": [
            [
             129274
            ]
           ],
           "hoverlabel": {
            "namelength": 0
           },
           "hovertemplate": "State/Union territory=%{x}<br>Year=2007–08<br>GDP (in Crores)=%{customdata[0]}",
           "legendgroup": "State/Union territory=Odisha",
           "marker": {
            "color": "#636efa"
           },
           "name": "State/Union territory=Odisha",
           "offsetgroup": "State/Union territory=Odisha",
           "orientation": "v",
           "showlegend": true,
           "textposition": "auto",
           "type": "bar",
           "x": [
            "Odisha"
           ],
           "xaxis": "x",
           "y": [
            129274
           ],
           "yaxis": "y"
          },
          {
           "alignmentgroup": "True",
           "customdata": [
            [
             152245
            ]
           ],
           "hoverlabel": {
            "namelength": 0
           },
           "hovertemplate": "State/Union territory=%{x}<br>Year=2007–08<br>GDP (in Crores)=%{customdata[0]}",
           "legendgroup": "State/Union territory=Punjab",
           "marker": {
            "color": "#EF553B"
           },
           "name": "State/Union territory=Punjab",
           "offsetgroup": "State/Union territory=Punjab",
           "orientation": "v",
           "showlegend": true,
           "textposition": "auto",
           "type": "bar",
           "x": [
            "Punjab"
           ],
           "xaxis": "x",
           "y": [
            152245
           ],
           "yaxis": "y"
          },
          {
           "alignmentgroup": "True",
           "customdata": [
            [
             194822
            ]
           ],
           "hoverlabel": {
            "namelength": 0
           },
           "hovertemplate": "State/Union territory=%{x}<br>Year=2007–08<br>GDP (in Crores)=%{customdata[0]}",
           "legendgroup": "State/Union territory=Rajasthan",
           "marker": {
            "color": "#00cc96"
           },
           "name": "State/Union territory=Rajasthan",
           "offsetgroup": "State/Union territory=Rajasthan",
           "orientation": "v",
           "showlegend": true,
           "textposition": "auto",
           "type": "bar",
           "x": [
            "Rajasthan"
           ],
           "xaxis": "x",
           "y": [
            194822
           ],
           "yaxis": "y"
          },
          {
           "alignmentgroup": "True",
           "customdata": [
            [
             2506
            ]
           ],
           "hoverlabel": {
            "namelength": 0
           },
           "hovertemplate": "State/Union territory=%{x}<br>Year=2007–08<br>GDP (in Crores)=%{customdata[0]}",
           "legendgroup": "State/Union territory=Sikkim",
           "marker": {
            "color": "#ab63fa"
           },
           "name": "State/Union territory=Sikkim",
           "offsetgroup": "State/Union territory=Sikkim",
           "orientation": "v",
           "showlegend": true,
           "textposition": "auto",
           "type": "bar",
           "x": [
            "Sikkim"
           ],
           "xaxis": "x",
           "y": [
            2506
           ],
           "yaxis": "y"
          },
          {
           "alignmentgroup": "True",
           "customdata": [
            [
             350819
            ]
           ],
           "hoverlabel": {
            "namelength": 0
           },
           "hovertemplate": "State/Union territory=%{x}<br>Year=2007–08<br>GDP (in Crores)=%{customdata[0]}",
           "legendgroup": "State/Union territory=Tamil Nadu",
           "marker": {
            "color": "#FFA15A"
           },
           "name": "State/Union territory=Tamil Nadu",
           "offsetgroup": "State/Union territory=Tamil Nadu",
           "orientation": "v",
           "showlegend": true,
           "textposition": "auto",
           "type": "bar",
           "x": [
            "Tamil Nadu"
           ],
           "xaxis": "x",
           "y": [
            350819
           ],
           "yaxis": "y"
          },
          {
           "alignmentgroup": "True",
           "customdata": [
            [
             11797
            ]
           ],
           "hoverlabel": {
            "namelength": 0
           },
           "hovertemplate": "State/Union territory=%{x}<br>Year=2007–08<br>GDP (in Crores)=%{customdata[0]}",
           "legendgroup": "State/Union territory=Tripura",
           "marker": {
            "color": "#19d3f3"
           },
           "name": "State/Union territory=Tripura",
           "offsetgroup": "State/Union territory=Tripura",
           "orientation": "v",
           "showlegend": true,
           "textposition": "auto",
           "type": "bar",
           "x": [
            "Tripura"
           ],
           "xaxis": "x",
           "y": [
            11797
           ],
           "yaxis": "y"
          },
          {
           "alignmentgroup": "True",
           "customdata": [
            [
             383026
            ]
           ],
           "hoverlabel": {
            "namelength": 0
           },
           "hovertemplate": "State/Union territory=%{x}<br>Year=2007–08<br>GDP (in Crores)=%{customdata[0]}",
           "legendgroup": "State/Union territory=Uttar Pradesh",
           "marker": {
            "color": "#FF6692"
           },
           "name": "State/Union territory=Uttar Pradesh",
           "offsetgroup": "State/Union territory=Uttar Pradesh",
           "orientation": "v",
           "showlegend": true,
           "textposition": "auto",
           "type": "bar",
           "x": [
            "Uttar Pradesh"
           ],
           "xaxis": "x",
           "y": [
            383026
           ],
           "yaxis": "y"
          },
          {
           "alignmentgroup": "True",
           "customdata": [
            [
             45856
            ]
           ],
           "hoverlabel": {
            "namelength": 0
           },
           "hovertemplate": "State/Union territory=%{x}<br>Year=2007–08<br>GDP (in Crores)=%{customdata[0]}",
           "legendgroup": "State/Union territory=Uttarakhand",
           "marker": {
            "color": "#B6E880"
           },
           "name": "State/Union territory=Uttarakhand",
           "offsetgroup": "State/Union territory=Uttarakhand",
           "orientation": "v",
           "showlegend": true,
           "textposition": "auto",
           "type": "bar",
           "x": [
            "Uttarakhand"
           ],
           "xaxis": "x",
           "y": [
            45856
           ],
           "yaxis": "y"
          },
          {
           "alignmentgroup": "True",
           "customdata": [
            [
             299483
            ]
           ],
           "hoverlabel": {
            "namelength": 0
           },
           "hovertemplate": "State/Union territory=%{x}<br>Year=2007–08<br>GDP (in Crores)=%{customdata[0]}",
           "legendgroup": "State/Union territory=West Bengal",
           "marker": {
            "color": "#FF97FF"
           },
           "name": "State/Union territory=West Bengal",
           "offsetgroup": "State/Union territory=West Bengal",
           "orientation": "v",
           "showlegend": true,
           "textposition": "auto",
           "type": "bar",
           "x": [
            "West Bengal"
           ],
           "xaxis": "x",
           "y": [
            299483
           ],
           "yaxis": "y"
          },
          {
           "alignmentgroup": "True",
           "customdata": [
            [
             2990
            ]
           ],
           "hoverlabel": {
            "namelength": 0
           },
           "hovertemplate": "State/Union territory=%{x}<br>Year=2007–08<br>GDP (in Crores)=%{customdata[0]}",
           "legendgroup": "State/Union territory=Andaman and Nicobar Islands",
           "marker": {
            "color": "#FECB52"
           },
           "name": "State/Union territory=Andaman and Nicobar Islands",
           "offsetgroup": "State/Union territory=Andaman and Nicobar Islands",
           "orientation": "v",
           "showlegend": true,
           "textposition": "auto",
           "type": "bar",
           "x": [
            "Andaman and Nicobar Islands"
           ],
           "xaxis": "x",
           "y": [
            2990
           ],
           "yaxis": "y"
          },
          {
           "alignmentgroup": "True",
           "customdata": [
            [
             13669
            ]
           ],
           "hoverlabel": {
            "namelength": 0
           },
           "hovertemplate": "State/Union territory=%{x}<br>Year=2007–08<br>GDP (in Crores)=%{customdata[0]}",
           "legendgroup": "State/Union territory=Chandigarh",
           "marker": {
            "color": "#636efa"
           },
           "name": "State/Union territory=Chandigarh",
           "offsetgroup": "State/Union territory=Chandigarh",
           "orientation": "v",
           "showlegend": true,
           "textposition": "auto",
           "type": "bar",
           "x": [
            "Chandigarh"
           ],
           "xaxis": "x",
           "y": [
            13669
           ],
           "yaxis": "y"
          },
          {
           "alignmentgroup": "True",
           "customdata": [
            [
             157947
            ]
           ],
           "hoverlabel": {
            "namelength": 0
           },
           "hovertemplate": "State/Union territory=%{x}<br>Year=2007–08<br>GDP (in Crores)=%{customdata[0]}",
           "legendgroup": "State/Union territory=Delhi",
           "marker": {
            "color": "#EF553B"
           },
           "name": "State/Union territory=Delhi",
           "offsetgroup": "State/Union territory=Delhi",
           "orientation": "v",
           "showlegend": true,
           "textposition": "auto",
           "type": "bar",
           "x": [
            "Delhi"
           ],
           "xaxis": "x",
           "y": [
            157947
           ],
           "yaxis": "y"
          },
          {
           "alignmentgroup": "True",
           "customdata": [
            [
             9251
            ]
           ],
           "hoverlabel": {
            "namelength": 0
           },
           "hovertemplate": "State/Union territory=%{x}<br>Year=2007–08<br>GDP (in Crores)=%{customdata[0]}",
           "legendgroup": "State/Union territory=Pudduchery",
           "marker": {
            "color": "#00cc96"
           },
           "name": "State/Union territory=Pudduchery",
           "offsetgroup": "State/Union territory=Pudduchery",
           "orientation": "v",
           "showlegend": true,
           "textposition": "auto",
           "type": "bar",
           "x": [
            "Pudduchery"
           ],
           "xaxis": "x",
           "y": [
            9251
           ],
           "yaxis": "y"
          }
         ],
         "name": "2007–08"
        },
        {
         "data": [
          {
           "alignmentgroup": "True",
           "customdata": [
            [
             5303567
            ]
           ],
           "hoverlabel": {
            "namelength": 0
           },
           "hovertemplate": "State/Union territory=%{x}<br>Year=2008–09<br>GDP (in Crores)=%{customdata[0]}",
           "legendgroup": "State/Union territory= India",
           "marker": {
            "color": "#636efa"
           },
           "name": "State/Union territory= India",
           "offsetgroup": "State/Union territory= India",
           "orientation": "v",
           "showlegend": true,
           "textposition": "auto",
           "type": "bar",
           "x": [
            " India"
           ],
           "xaxis": "x",
           "y": [
            5303567
           ],
           "yaxis": "y"
          },
          {
           "alignmentgroup": "True",
           "customdata": [
            [
             426765
            ]
           ],
           "hoverlabel": {
            "namelength": 0
           },
           "hovertemplate": "State/Union territory=%{x}<br>Year=2008–09<br>GDP (in Crores)=%{customdata[0]}",
           "legendgroup": "State/Union territory=Andhra Pradesh",
           "marker": {
            "color": "#EF553B"
           },
           "name": "State/Union territory=Andhra Pradesh",
           "offsetgroup": "State/Union territory=Andhra Pradesh",
           "orientation": "v",
           "showlegend": true,
           "textposition": "auto",
           "type": "bar",
           "x": [
            "Andhra Pradesh"
           ],
           "xaxis": "x",
           "y": [
            426765
           ],
           "yaxis": "y"
          },
          {
           "alignmentgroup": "True",
           "customdata": [
            [
             5687
            ]
           ],
           "hoverlabel": {
            "namelength": 0
           },
           "hovertemplate": "State/Union territory=%{x}<br>Year=2008–09<br>GDP (in Crores)=%{customdata[0]}",
           "legendgroup": "State/Union territory=Arunachal Pradesh",
           "marker": {
            "color": "#00cc96"
           },
           "name": "State/Union territory=Arunachal Pradesh",
           "offsetgroup": "State/Union territory=Arunachal Pradesh",
           "orientation": "v",
           "showlegend": true,
           "textposition": "auto",
           "type": "bar",
           "x": [
            "Arunachal Pradesh"
           ],
           "xaxis": "x",
           "y": [
            5687
           ],
           "yaxis": "y"
          },
          {
           "alignmentgroup": "True",
           "customdata": [
            [
             81074
            ]
           ],
           "hoverlabel": {
            "namelength": 0
           },
           "hovertemplate": "State/Union territory=%{x}<br>Year=2008–09<br>GDP (in Crores)=%{customdata[0]}",
           "legendgroup": "State/Union territory=Assam",
           "marker": {
            "color": "#ab63fa"
           },
           "name": "State/Union territory=Assam",
           "offsetgroup": "State/Union territory=Assam",
           "orientation": "v",
           "showlegend": true,
           "textposition": "auto",
           "type": "bar",
           "x": [
            "Assam"
           ],
           "xaxis": "x",
           "y": [
            81074
           ],
           "yaxis": "y"
          },
          {
           "alignmentgroup": "True",
           "customdata": [
            [
             142279
            ]
           ],
           "hoverlabel": {
            "namelength": 0
           },
           "hovertemplate": "State/Union territory=%{x}<br>Year=2008–09<br>GDP (in Crores)=%{customdata[0]}",
           "legendgroup": "State/Union territory=Bihar",
           "marker": {
            "color": "#FFA15A"
           },
           "name": "State/Union territory=Bihar",
           "offsetgroup": "State/Union territory=Bihar",
           "orientation": "v",
           "showlegend": true,
           "textposition": "auto",
           "type": "bar",
           "x": [
            "Bihar"
           ],
           "xaxis": "x",
           "y": [
            142279
           ],
           "yaxis": "y"
          },
          {
           "alignmentgroup": "True",
           "customdata": [
            [
             96972
            ]
           ],
           "hoverlabel": {
            "namelength": 0
           },
           "hovertemplate": "State/Union territory=%{x}<br>Year=2008–09<br>GDP (in Crores)=%{customdata[0]}",
           "legendgroup": "State/Union territory=Chhattisgarh",
           "marker": {
            "color": "#19d3f3"
           },
           "name": "State/Union territory=Chhattisgarh",
           "offsetgroup": "State/Union territory=Chhattisgarh",
           "orientation": "v",
           "showlegend": true,
           "textposition": "auto",
           "type": "bar",
           "x": [
            "Chhattisgarh"
           ],
           "xaxis": "x",
           "y": [
            96972
           ],
           "yaxis": "y"
          },
          {
           "alignmentgroup": "True",
           "customdata": [
            [
             25414
            ]
           ],
           "hoverlabel": {
            "namelength": 0
           },
           "hovertemplate": "State/Union territory=%{x}<br>Year=2008–09<br>GDP (in Crores)=%{customdata[0]}",
           "legendgroup": "State/Union territory=Goa",
           "marker": {
            "color": "#FF6692"
           },
           "name": "State/Union territory=Goa",
           "offsetgroup": "State/Union territory=Goa",
           "orientation": "v",
           "showlegend": true,
           "textposition": "auto",
           "type": "bar",
           "x": [
            "Goa"
           ],
           "xaxis": "x",
           "y": [
            25414
           ],
           "yaxis": "y"
          },
          {
           "alignmentgroup": "True",
           "customdata": [
            [
             367912
            ]
           ],
           "hoverlabel": {
            "namelength": 0
           },
           "hovertemplate": "State/Union territory=%{x}<br>Year=2008–09<br>GDP (in Crores)=%{customdata[0]}",
           "legendgroup": "State/Union territory=Gujarat",
           "marker": {
            "color": "#B6E880"
           },
           "name": "State/Union territory=Gujarat",
           "offsetgroup": "State/Union territory=Gujarat",
           "orientation": "v",
           "showlegend": true,
           "textposition": "auto",
           "type": "bar",
           "x": [
            "Gujarat"
           ],
           "xaxis": "x",
           "y": [
            367912
           ],
           "yaxis": "y"
          },
          {
           "alignmentgroup": "True",
           "customdata": [
            [
             182522
            ]
           ],
           "hoverlabel": {
            "namelength": 0
           },
           "hovertemplate": "State/Union territory=%{x}<br>Year=2008–09<br>GDP (in Crores)=%{customdata[0]}",
           "legendgroup": "State/Union territory=Haryana",
           "marker": {
            "color": "#FF97FF"
           },
           "name": "State/Union territory=Haryana",
           "offsetgroup": "State/Union territory=Haryana",
           "orientation": "v",
           "showlegend": true,
           "textposition": "auto",
           "type": "bar",
           "x": [
            "Haryana"
           ],
           "xaxis": "x",
           "y": [
            182522
           ],
           "yaxis": "y"
          },
          {
           "alignmentgroup": "True",
           "customdata": [
            [
             41483
            ]
           ],
           "hoverlabel": {
            "namelength": 0
           },
           "hovertemplate": "State/Union territory=%{x}<br>Year=2008–09<br>GDP (in Crores)=%{customdata[0]}",
           "legendgroup": "State/Union territory=Himachal Pradesh",
           "marker": {
            "color": "#FECB52"
           },
           "name": "State/Union territory=Himachal Pradesh",
           "offsetgroup": "State/Union territory=Himachal Pradesh",
           "orientation": "v",
           "showlegend": true,
           "textposition": "auto",
           "type": "bar",
           "x": [
            "Himachal Pradesh"
           ],
           "xaxis": "x",
           "y": [
            41483
           ],
           "yaxis": "y"
          },
          {
           "alignmentgroup": "True",
           "customdata": [
            [
             42315
            ]
           ],
           "hoverlabel": {
            "namelength": 0
           },
           "hovertemplate": "State/Union territory=%{x}<br>Year=2008–09<br>GDP (in Crores)=%{customdata[0]}",
           "legendgroup": "State/Union territory=Jammu and Kashmir",
           "marker": {
            "color": "#636efa"
           },
           "name": "State/Union territory=Jammu and Kashmir",
           "offsetgroup": "State/Union territory=Jammu and Kashmir",
           "orientation": "v",
           "showlegend": true,
           "textposition": "auto",
           "type": "bar",
           "x": [
            "Jammu and Kashmir"
           ],
           "xaxis": "x",
           "y": [
            42315
           ],
           "yaxis": "y"
          },
          {
           "alignmentgroup": "True",
           "customdata": [
            [
             87794
            ]
           ],
           "hoverlabel": {
            "namelength": 0
           },
           "hovertemplate": "State/Union territory=%{x}<br>Year=2008–09<br>GDP (in Crores)=%{customdata[0]}",
           "legendgroup": "State/Union territory=Jharkhand",
           "marker": {
            "color": "#EF553B"
           },
           "name": "State/Union territory=Jharkhand",
           "offsetgroup": "State/Union territory=Jharkhand",
           "orientation": "v",
           "showlegend": true,
           "textposition": "auto",
           "type": "bar",
           "x": [
            "Jharkhand"
           ],
           "xaxis": "x",
           "y": [
            87794
           ],
           "yaxis": "y"
          },
          {
           "alignmentgroup": "True",
           "customdata": [
            [
             310312
            ]
           ],
           "hoverlabel": {
            "namelength": 0
           },
           "hovertemplate": "State/Union territory=%{x}<br>Year=2008–09<br>GDP (in Crores)=%{customdata[0]}",
           "legendgroup": "State/Union territory=Karnataka",
           "marker": {
            "color": "#00cc96"
           },
           "name": "State/Union territory=Karnataka",
           "offsetgroup": "State/Union territory=Karnataka",
           "orientation": "v",
           "showlegend": true,
           "textposition": "auto",
           "type": "bar",
           "x": [
            "Karnataka"
           ],
           "xaxis": "x",
           "y": [
            310312
           ],
           "yaxis": "y"
          },
          {
           "alignmentgroup": "True",
           "customdata": [
            [
             202783
            ]
           ],
           "hoverlabel": {
            "namelength": 0
           },
           "hovertemplate": "State/Union territory=%{x}<br>Year=2008–09<br>GDP (in Crores)=%{customdata[0]}",
           "legendgroup": "State/Union territory=Kerala",
           "marker": {
            "color": "#ab63fa"
           },
           "name": "State/Union territory=Kerala",
           "offsetgroup": "State/Union territory=Kerala",
           "orientation": "v",
           "showlegend": true,
           "textposition": "auto",
           "type": "bar",
           "x": [
            "Kerala"
           ],
           "xaxis": "x",
           "y": [
            202783
           ],
           "yaxis": "y"
          },
          {
           "alignmentgroup": "True",
           "customdata": [
            [
             197276
            ]
           ],
           "hoverlabel": {
            "namelength": 0
           },
           "hovertemplate": "State/Union territory=%{x}<br>Year=2008–09<br>GDP (in Crores)=%{customdata[0]}",
           "legendgroup": "State/Union territory=Madhya Pradesh",
           "marker": {
            "color": "#FFA15A"
           },
           "name": "State/Union territory=Madhya Pradesh",
           "offsetgroup": "State/Union territory=Madhya Pradesh",
           "orientation": "v",
           "showlegend": true,
           "textposition": "auto",
           "type": "bar",
           "x": [
            "Madhya Pradesh"
           ],
           "xaxis": "x",
           "y": [
            197276
           ],
           "yaxis": "y"
          },
          {
           "alignmentgroup": "True",
           "customdata": [
            [
             753969
            ]
           ],
           "hoverlabel": {
            "namelength": 0
           },
           "hovertemplate": "State/Union territory=%{x}<br>Year=2008–09<br>GDP (in Crores)=%{customdata[0]}",
           "legendgroup": "State/Union territory=Maharashtra",
           "marker": {
            "color": "#19d3f3"
           },
           "name": "State/Union territory=Maharashtra",
           "offsetgroup": "State/Union territory=Maharashtra",
           "orientation": "v",
           "showlegend": true,
           "textposition": "auto",
           "type": "bar",
           "x": [
            "Maharashtra"
           ],
           "xaxis": "x",
           "y": [
            753969
           ],
           "yaxis": "y"
          },
          {
           "alignmentgroup": "True",
           "customdata": [
            [
             7399
            ]
           ],
           "hoverlabel": {
            "namelength": 0
           },
           "hovertemplate": "State/Union territory=%{x}<br>Year=2008–09<br>GDP (in Crores)=%{customdata[0]}",
           "legendgroup": "State/Union territory=Manipur",
           "marker": {
            "color": "#FF6692"
           },
           "name": "State/Union territory=Manipur",
           "offsetgroup": "State/Union territory=Manipur",
           "orientation": "v",
           "showlegend": true,
           "textposition": "auto",
           "type": "bar",
           "x": [
            "Manipur"
           ],
           "xaxis": "x",
           "y": [
            7399
           ],
           "yaxis": "y"
          },
          {
           "alignmentgroup": "True",
           "customdata": [
            [
             11617
            ]
           ],
           "hoverlabel": {
            "namelength": 0
           },
           "hovertemplate": "State/Union territory=%{x}<br>Year=2008–09<br>GDP (in Crores)=%{customdata[0]}",
           "legendgroup": "State/Union territory=Meghalaya",
           "marker": {
            "color": "#B6E880"
           },
           "name": "State/Union territory=Meghalaya",
           "offsetgroup": "State/Union territory=Meghalaya",
           "orientation": "v",
           "showlegend": true,
           "textposition": "auto",
           "type": "bar",
           "x": [
            "Meghalaya"
           ],
           "xaxis": "x",
           "y": [
            11617
           ],
           "yaxis": "y"
          },
          {
           "alignmentgroup": "True",
           "customdata": [
            [
             4577
            ]
           ],
           "hoverlabel": {
            "namelength": 0
           },
           "hovertemplate": "State/Union territory=%{x}<br>Year=2008–09<br>GDP (in Crores)=%{customdata[0]}",
           "legendgroup": "State/Union territory=Mizoram",
           "marker": {
            "color": "#FF97FF"
           },
           "name": "State/Union territory=Mizoram",
           "offsetgroup": "State/Union territory=Mizoram",
           "orientation": "v",
           "showlegend": true,
           "textposition": "auto",
           "type": "bar",
           "x": [
            "Mizoram"
           ],
           "xaxis": "x",
           "y": [
            4577
           ],
           "yaxis": "y"
          },
          {
           "alignmentgroup": "True",
           "customdata": [
            [
             9436
            ]
           ],
           "hoverlabel": {
            "namelength": 0
           },
           "hovertemplate": "State/Union territory=%{x}<br>Year=2008–09<br>GDP (in Crores)=%{customdata[0]}",
           "legendgroup": "State/Union territory=Nagaland",
           "marker": {
            "color": "#FECB52"
           },
           "name": "State/Union territory=Nagaland",
           "offsetgroup": "State/Union territory=Nagaland",
           "orientation": "v",
           "showlegend": true,
           "textposition": "auto",
           "type": "bar",
           "x": [
            "Nagaland"
           ],
           "xaxis": "x",
           "y": [
            9436
           ],
           "yaxis": "y"
          },
          {
           "alignmentgroup": "True",
           "customdata": [
            [
             148491
            ]
           ],
           "hoverlabel": {
            "namelength": 0
           },
           "hovertemplate": "State/Union territory=%{x}<br>Year=2008–09<br>GDP (in Crores)=%{customdata[0]}",
           "legendgroup": "State/Union territory=Odisha",
           "marker": {
            "color": "#636efa"
           },
           "name": "State/Union territory=Odisha",
           "offsetgroup": "State/Union territory=Odisha",
           "orientation": "v",
           "showlegend": true,
           "textposition": "auto",
           "type": "bar",
           "x": [
            "Odisha"
           ],
           "xaxis": "x",
           "y": [
            148491
           ],
           "yaxis": "y"
          },
          {
           "alignmentgroup": "True",
           "customdata": [
            [
             174039
            ]
           ],
           "hoverlabel": {
            "namelength": 0
           },
           "hovertemplate": "State/Union territory=%{x}<br>Year=2008–09<br>GDP (in Crores)=%{customdata[0]}",
           "legendgroup": "State/Union territory=Punjab",
           "marker": {
            "color": "#EF553B"
           },
           "name": "State/Union territory=Punjab",
           "offsetgroup": "State/Union territory=Punjab",
           "orientation": "v",
           "showlegend": true,
           "textposition": "auto",
           "type": "bar",
           "x": [
            "Punjab"
           ],
           "xaxis": "x",
           "y": [
            174039
           ],
           "yaxis": "y"
          },
          {
           "alignmentgroup": "True",
           "customdata": [
            [
             230949
            ]
           ],
           "hoverlabel": {
            "namelength": 0
           },
           "hovertemplate": "State/Union territory=%{x}<br>Year=2008–09<br>GDP (in Crores)=%{customdata[0]}",
           "legendgroup": "State/Union territory=Rajasthan",
           "marker": {
            "color": "#00cc96"
           },
           "name": "State/Union territory=Rajasthan",
           "offsetgroup": "State/Union territory=Rajasthan",
           "orientation": "v",
           "showlegend": true,
           "textposition": "auto",
           "type": "bar",
           "x": [
            "Rajasthan"
           ],
           "xaxis": "x",
           "y": [
            230949
           ],
           "yaxis": "y"
          },
          {
           "alignmentgroup": "True",
           "customdata": [
            [
             3229
            ]
           ],
           "hoverlabel": {
            "namelength": 0
           },
           "hovertemplate": "State/Union territory=%{x}<br>Year=2008–09<br>GDP (in Crores)=%{customdata[0]}",
           "legendgroup": "State/Union territory=Sikkim",
           "marker": {
            "color": "#ab63fa"
           },
           "name": "State/Union territory=Sikkim",
           "offsetgroup": "State/Union territory=Sikkim",
           "orientation": "v",
           "showlegend": true,
           "textposition": "auto",
           "type": "bar",
           "x": [
            "Sikkim"
           ],
           "xaxis": "x",
           "y": [
            3229
           ],
           "yaxis": "y"
          },
          {
           "alignmentgroup": "True",
           "customdata": [
            [
             401336
            ]
           ],
           "hoverlabel": {
            "namelength": 0
           },
           "hovertemplate": "State/Union territory=%{x}<br>Year=2008–09<br>GDP (in Crores)=%{customdata[0]}",
           "legendgroup": "State/Union territory=Tamil Nadu",
           "marker": {
            "color": "#FFA15A"
           },
           "name": "State/Union territory=Tamil Nadu",
           "offsetgroup": "State/Union territory=Tamil Nadu",
           "orientation": "v",
           "showlegend": true,
           "textposition": "auto",
           "type": "bar",
           "x": [
            "Tamil Nadu"
           ],
           "xaxis": "x",
           "y": [
            401336
           ],
           "yaxis": "y"
          },
          {
           "alignmentgroup": "True",
           "customdata": [
            [
             13573
            ]
           ],
           "hoverlabel": {
            "namelength": 0
           },
           "hovertemplate": "State/Union territory=%{x}<br>Year=2008–09<br>GDP (in Crores)=%{customdata[0]}",
           "legendgroup": "State/Union territory=Tripura",
           "marker": {
            "color": "#19d3f3"
           },
           "name": "State/Union territory=Tripura",
           "offsetgroup": "State/Union territory=Tripura",
           "orientation": "v",
           "showlegend": true,
           "textposition": "auto",
           "type": "bar",
           "x": [
            "Tripura"
           ],
           "xaxis": "x",
           "y": [
            13573
           ],
           "yaxis": "y"
          },
          {
           "alignmentgroup": "True",
           "customdata": [
            [
             444685
            ]
           ],
           "hoverlabel": {
            "namelength": 0
           },
           "hovertemplate": "State/Union territory=%{x}<br>Year=2008–09<br>GDP (in Crores)=%{customdata[0]}",
           "legendgroup": "State/Union territory=Uttar Pradesh",
           "marker": {
            "color": "#FF6692"
           },
           "name": "State/Union territory=Uttar Pradesh",
           "offsetgroup": "State/Union territory=Uttar Pradesh",
           "orientation": "v",
           "showlegend": true,
           "textposition": "auto",
           "type": "bar",
           "x": [
            "Uttar Pradesh"
           ],
           "xaxis": "x",
           "y": [
            444685
           ],
           "yaxis": "y"
          },
          {
           "alignmentgroup": "True",
           "customdata": [
            [
             56025
            ]
           ],
           "hoverlabel": {
            "namelength": 0
           },
           "hovertemplate": "State/Union territory=%{x}<br>Year=2008–09<br>GDP (in Crores)=%{customdata[0]}",
           "legendgroup": "State/Union territory=Uttarakhand",
           "marker": {
            "color": "#B6E880"
           },
           "name": "State/Union territory=Uttarakhand",
           "offsetgroup": "State/Union territory=Uttarakhand",
           "orientation": "v",
           "showlegend": true,
           "textposition": "auto",
           "type": "bar",
           "x": [
            "Uttarakhand"
           ],
           "xaxis": "x",
           "y": [
            56025
           ],
           "yaxis": "y"
          },
          {
           "alignmentgroup": "True",
           "customdata": [
            [
             341942
            ]
           ],
           "hoverlabel": {
            "namelength": 0
           },
           "hovertemplate": "State/Union territory=%{x}<br>Year=2008–09<br>GDP (in Crores)=%{customdata[0]}",
           "legendgroup": "State/Union territory=West Bengal",
           "marker": {
            "color": "#FF97FF"
           },
           "name": "State/Union territory=West Bengal",
           "offsetgroup": "State/Union territory=West Bengal",
           "orientation": "v",
           "showlegend": true,
           "textposition": "auto",
           "type": "bar",
           "x": [
            "West Bengal"
           ],
           "xaxis": "x",
           "y": [
            341942
           ],
           "yaxis": "y"
          },
          {
           "alignmentgroup": "True",
           "customdata": [
            [
             3480
            ]
           ],
           "hoverlabel": {
            "namelength": 0
           },
           "hovertemplate": "State/Union territory=%{x}<br>Year=2008–09<br>GDP (in Crores)=%{customdata[0]}",
           "legendgroup": "State/Union territory=Andaman and Nicobar Islands",
           "marker": {
            "color": "#FECB52"
           },
           "name": "State/Union territory=Andaman and Nicobar Islands",
           "offsetgroup": "State/Union territory=Andaman and Nicobar Islands",
           "orientation": "v",
           "showlegend": true,
           "textposition": "auto",
           "type": "bar",
           "x": [
            "Andaman and Nicobar Islands"
           ],
           "xaxis": "x",
           "y": [
            3480
           ],
           "yaxis": "y"
          },
          {
           "alignmentgroup": "True",
           "customdata": [
            [
             15334
            ]
           ],
           "hoverlabel": {
            "namelength": 0
           },
           "hovertemplate": "State/Union territory=%{x}<br>Year=2008–09<br>GDP (in Crores)=%{customdata[0]}",
           "legendgroup": "State/Union territory=Chandigarh",
           "marker": {
            "color": "#636efa"
           },
           "name": "State/Union territory=Chandigarh",
           "offsetgroup": "State/Union territory=Chandigarh",
           "orientation": "v",
           "showlegend": true,
           "textposition": "auto",
           "type": "bar",
           "x": [
            "Chandigarh"
           ],
           "xaxis": "x",
           "y": [
            15334
           ],
           "yaxis": "y"
          },
          {
           "alignmentgroup": "True",
           "customdata": [
            [
             189553
            ]
           ],
           "hoverlabel": {
            "namelength": 0
           },
           "hovertemplate": "State/Union territory=%{x}<br>Year=2008–09<br>GDP (in Crores)=%{customdata[0]}",
           "legendgroup": "State/Union territory=Delhi",
           "marker": {
            "color": "#EF553B"
           },
           "name": "State/Union territory=Delhi",
           "offsetgroup": "State/Union territory=Delhi",
           "orientation": "v",
           "showlegend": true,
           "textposition": "auto",
           "type": "bar",
           "x": [
            "Delhi"
           ],
           "xaxis": "x",
           "y": [
            189553
           ],
           "yaxis": "y"
          },
          {
           "alignmentgroup": "True",
           "customdata": [
            [
             10050
            ]
           ],
           "hoverlabel": {
            "namelength": 0
           },
           "hovertemplate": "State/Union territory=%{x}<br>Year=2008–09<br>GDP (in Crores)=%{customdata[0]}",
           "legendgroup": "State/Union territory=Pudduchery",
           "marker": {
            "color": "#00cc96"
           },
           "name": "State/Union territory=Pudduchery",
           "offsetgroup": "State/Union territory=Pudduchery",
           "orientation": "v",
           "showlegend": true,
           "textposition": "auto",
           "type": "bar",
           "x": [
            "Pudduchery"
           ],
           "xaxis": "x",
           "y": [
            10050
           ],
           "yaxis": "y"
          }
         ],
         "name": "2008–09"
        },
        {
         "data": [
          {
           "alignmentgroup": "True",
           "customdata": [
            [
             6108903
            ]
           ],
           "hoverlabel": {
            "namelength": 0
           },
           "hovertemplate": "State/Union territory=%{x}<br>Year=2009–10<br>GDP (in Crores)=%{customdata[0]}",
           "legendgroup": "State/Union territory= India",
           "marker": {
            "color": "#636efa"
           },
           "name": "State/Union territory= India",
           "offsetgroup": "State/Union territory= India",
           "orientation": "v",
           "showlegend": true,
           "textposition": "auto",
           "type": "bar",
           "x": [
            " India"
           ],
           "xaxis": "x",
           "y": [
            6108903
           ],
           "yaxis": "y"
          },
          {
           "alignmentgroup": "True",
           "customdata": [
            [
             476835
            ]
           ],
           "hoverlabel": {
            "namelength": 0
           },
           "hovertemplate": "State/Union territory=%{x}<br>Year=2009–10<br>GDP (in Crores)=%{customdata[0]}",
           "legendgroup": "State/Union territory=Andhra Pradesh",
           "marker": {
            "color": "#EF553B"
           },
           "name": "State/Union territory=Andhra Pradesh",
           "offsetgroup": "State/Union territory=Andhra Pradesh",
           "orientation": "v",
           "showlegend": true,
           "textposition": "auto",
           "type": "bar",
           "x": [
            "Andhra Pradesh"
           ],
           "xaxis": "x",
           "y": [
            476835
           ],
           "yaxis": "y"
          },
          {
           "alignmentgroup": "True",
           "customdata": [
            [
             7474
            ]
           ],
           "hoverlabel": {
            "namelength": 0
           },
           "hovertemplate": "State/Union territory=%{x}<br>Year=2009–10<br>GDP (in Crores)=%{customdata[0]}",
           "legendgroup": "State/Union territory=Arunachal Pradesh",
           "marker": {
            "color": "#00cc96"
           },
           "name": "State/Union territory=Arunachal Pradesh",
           "offsetgroup": "State/Union territory=Arunachal Pradesh",
           "orientation": "v",
           "showlegend": true,
           "textposition": "auto",
           "type": "bar",
           "x": [
            "Arunachal Pradesh"
           ],
           "xaxis": "x",
           "y": [
            7474
           ],
           "yaxis": "y"
          },
          {
           "alignmentgroup": "True",
           "customdata": [
            [
             95975
            ]
           ],
           "hoverlabel": {
            "namelength": 0
           },
           "hovertemplate": "State/Union territory=%{x}<br>Year=2009–10<br>GDP (in Crores)=%{customdata[0]}",
           "legendgroup": "State/Union territory=Assam",
           "marker": {
            "color": "#ab63fa"
           },
           "name": "State/Union territory=Assam",
           "offsetgroup": "State/Union territory=Assam",
           "orientation": "v",
           "showlegend": true,
           "textposition": "auto",
           "type": "bar",
           "x": [
            "Assam"
           ],
           "xaxis": "x",
           "y": [
            95975
           ],
           "yaxis": "y"
          },
          {
           "alignmentgroup": "True",
           "customdata": [
            [
             162923
            ]
           ],
           "hoverlabel": {
            "namelength": 0
           },
           "hovertemplate": "State/Union territory=%{x}<br>Year=2009–10<br>GDP (in Crores)=%{customdata[0]}",
           "legendgroup": "State/Union territory=Bihar",
           "marker": {
            "color": "#FFA15A"
           },
           "name": "State/Union territory=Bihar",
           "offsetgroup": "State/Union territory=Bihar",
           "orientation": "v",
           "showlegend": true,
           "textposition": "auto",
           "type": "bar",
           "x": [
            "Bihar"
           ],
           "xaxis": "x",
           "y": [
            162923
           ],
           "yaxis": "y"
          },
          {
           "alignmentgroup": "True",
           "customdata": [
            [
             99364
            ]
           ],
           "hoverlabel": {
            "namelength": 0
           },
           "hovertemplate": "State/Union territory=%{x}<br>Year=2009–10<br>GDP (in Crores)=%{customdata[0]}",
           "legendgroup": "State/Union territory=Chhattisgarh",
           "marker": {
            "color": "#19d3f3"
           },
           "name": "State/Union territory=Chhattisgarh",
           "offsetgroup": "State/Union territory=Chhattisgarh",
           "orientation": "v",
           "showlegend": true,
           "textposition": "auto",
           "type": "bar",
           "x": [
            "Chhattisgarh"
           ],
           "xaxis": "x",
           "y": [
            99364
           ],
           "yaxis": "y"
          },
          {
           "alignmentgroup": "True",
           "customdata": [
            [
             29126
            ]
           ],
           "hoverlabel": {
            "namelength": 0
           },
           "hovertemplate": "State/Union territory=%{x}<br>Year=2009–10<br>GDP (in Crores)=%{customdata[0]}",
           "legendgroup": "State/Union territory=Goa",
           "marker": {
            "color": "#FF6692"
           },
           "name": "State/Union territory=Goa",
           "offsetgroup": "State/Union territory=Goa",
           "orientation": "v",
           "showlegend": true,
           "textposition": "auto",
           "type": "bar",
           "x": [
            "Goa"
           ],
           "xaxis": "x",
           "y": [
            29126
           ],
           "yaxis": "y"
          },
          {
           "alignmentgroup": "True",
           "customdata": [
            [
             431262
            ]
           ],
           "hoverlabel": {
            "namelength": 0
           },
           "hovertemplate": "State/Union territory=%{x}<br>Year=2009–10<br>GDP (in Crores)=%{customdata[0]}",
           "legendgroup": "State/Union territory=Gujarat",
           "marker": {
            "color": "#B6E880"
           },
           "name": "State/Union territory=Gujarat",
           "offsetgroup": "State/Union territory=Gujarat",
           "orientation": "v",
           "showlegend": true,
           "textposition": "auto",
           "type": "bar",
           "x": [
            "Gujarat"
           ],
           "xaxis": "x",
           "y": [
            431262
           ],
           "yaxis": "y"
          },
          {
           "alignmentgroup": "True",
           "customdata": [
            [
             223600
            ]
           ],
           "hoverlabel": {
            "namelength": 0
           },
           "hovertemplate": "State/Union territory=%{x}<br>Year=2009–10<br>GDP (in Crores)=%{customdata[0]}",
           "legendgroup": "State/Union territory=Haryana",
           "marker": {
            "color": "#FF97FF"
           },
           "name": "State/Union territory=Haryana",
           "offsetgroup": "State/Union territory=Haryana",
           "orientation": "v",
           "showlegend": true,
           "textposition": "auto",
           "type": "bar",
           "x": [
            "Haryana"
           ],
           "xaxis": "x",
           "y": [
            223600
           ],
           "yaxis": "y"
          },
          {
           "alignmentgroup": "True",
           "customdata": [
            [
             48189
            ]
           ],
           "hoverlabel": {
            "namelength": 0
           },
           "hovertemplate": "State/Union territory=%{x}<br>Year=2009–10<br>GDP (in Crores)=%{customdata[0]}",
           "legendgroup": "State/Union territory=Himachal Pradesh",
           "marker": {
            "color": "#FECB52"
           },
           "name": "State/Union territory=Himachal Pradesh",
           "offsetgroup": "State/Union territory=Himachal Pradesh",
           "orientation": "v",
           "showlegend": true,
           "textposition": "auto",
           "type": "bar",
           "x": [
            "Himachal Pradesh"
           ],
           "xaxis": "x",
           "y": [
            48189
           ],
           "yaxis": "y"
          },
          {
           "alignmentgroup": "True",
           "customdata": [
            [
             48385
            ]
           ],
           "hoverlabel": {
            "namelength": 0
           },
           "hovertemplate": "State/Union territory=%{x}<br>Year=2009–10<br>GDP (in Crores)=%{customdata[0]}",
           "legendgroup": "State/Union territory=Jammu and Kashmir",
           "marker": {
            "color": "#636efa"
           },
           "name": "State/Union territory=Jammu and Kashmir",
           "offsetgroup": "State/Union territory=Jammu and Kashmir",
           "orientation": "v",
           "showlegend": true,
           "textposition": "auto",
           "type": "bar",
           "x": [
            "Jammu and Kashmir"
           ],
           "xaxis": "x",
           "y": [
            48385
           ],
           "yaxis": "y"
          },
          {
           "alignmentgroup": "True",
           "customdata": [
            [
             100621
            ]
           ],
           "hoverlabel": {
            "namelength": 0
           },
           "hovertemplate": "State/Union territory=%{x}<br>Year=2009–10<br>GDP (in Crores)=%{customdata[0]}",
           "legendgroup": "State/Union territory=Jharkhand",
           "marker": {
            "color": "#EF553B"
           },
           "name": "State/Union territory=Jharkhand",
           "offsetgroup": "State/Union territory=Jharkhand",
           "orientation": "v",
           "showlegend": true,
           "textposition": "auto",
           "type": "bar",
           "x": [
            "Jharkhand"
           ],
           "xaxis": "x",
           "y": [
            100621
           ],
           "yaxis": "y"
          },
          {
           "alignmentgroup": "True",
           "customdata": [
            [
             337559
            ]
           ],
           "hoverlabel": {
            "namelength": 0
           },
           "hovertemplate": "State/Union territory=%{x}<br>Year=2009–10<br>GDP (in Crores)=%{customdata[0]}",
           "legendgroup": "State/Union territory=Karnataka",
           "marker": {
            "color": "#00cc96"
           },
           "name": "State/Union territory=Karnataka",
           "offsetgroup": "State/Union territory=Karnataka",
           "orientation": "v",
           "showlegend": true,
           "textposition": "auto",
           "type": "bar",
           "x": [
            "Karnataka"
           ],
           "xaxis": "x",
           "y": [
            337559
           ],
           "yaxis": "y"
          },
          {
           "alignmentgroup": "True",
           "customdata": [
            [
             231999
            ]
           ],
           "hoverlabel": {
            "namelength": 0
           },
           "hovertemplate": "State/Union territory=%{x}<br>Year=2009–10<br>GDP (in Crores)=%{customdata[0]}",
           "legendgroup": "State/Union territory=Kerala",
           "marker": {
            "color": "#ab63fa"
           },
           "name": "State/Union territory=Kerala",
           "offsetgroup": "State/Union territory=Kerala",
           "orientation": "v",
           "showlegend": true,
           "textposition": "auto",
           "type": "bar",
           "x": [
            "Kerala"
           ],
           "xaxis": "x",
           "y": [
            231999
           ],
           "yaxis": "y"
          },
          {
           "alignmentgroup": "True",
           "customdata": [
            [
             227984
            ]
           ],
           "hoverlabel": {
            "namelength": 0
           },
           "hovertemplate": "State/Union territory=%{x}<br>Year=2009–10<br>GDP (in Crores)=%{customdata[0]}",
           "legendgroup": "State/Union territory=Madhya Pradesh",
           "marker": {
            "color": "#FFA15A"
           },
           "name": "State/Union territory=Madhya Pradesh",
           "offsetgroup": "State/Union territory=Madhya Pradesh",
           "orientation": "v",
           "showlegend": true,
           "textposition": "auto",
           "type": "bar",
           "x": [
            "Madhya Pradesh"
           ],
           "xaxis": "x",
           "y": [
            227984
           ],
           "yaxis": "y"
          },
          {
           "alignmentgroup": "True",
           "customdata": [
            [
             855751
            ]
           ],
           "hoverlabel": {
            "namelength": 0
           },
           "hovertemplate": "State/Union territory=%{x}<br>Year=2009–10<br>GDP (in Crores)=%{customdata[0]}",
           "legendgroup": "State/Union territory=Maharashtra",
           "marker": {
            "color": "#19d3f3"
           },
           "name": "State/Union territory=Maharashtra",
           "offsetgroup": "State/Union territory=Maharashtra",
           "orientation": "v",
           "showlegend": true,
           "textposition": "auto",
           "type": "bar",
           "x": [
            "Maharashtra"
           ],
           "xaxis": "x",
           "y": [
            855751
           ],
           "yaxis": "y"
          },
          {
           "alignmentgroup": "True",
           "customdata": [
            [
             8254
            ]
           ],
           "hoverlabel": {
            "namelength": 0
           },
           "hovertemplate": "State/Union territory=%{x}<br>Year=2009–10<br>GDP (in Crores)=%{customdata[0]}",
           "legendgroup": "State/Union territory=Manipur",
           "marker": {
            "color": "#FF6692"
           },
           "name": "State/Union territory=Manipur",
           "offsetgroup": "State/Union territory=Manipur",
           "orientation": "v",
           "showlegend": true,
           "textposition": "auto",
           "type": "bar",
           "x": [
            "Manipur"
           ],
           "xaxis": "x",
           "y": [
            8254
           ],
           "yaxis": "y"
          },
          {
           "alignmentgroup": "True",
           "customdata": [
            [
             12709
            ]
           ],
           "hoverlabel": {
            "namelength": 0
           },
           "hovertemplate": "State/Union territory=%{x}<br>Year=2009–10<br>GDP (in Crores)=%{customdata[0]}",
           "legendgroup": "State/Union territory=Meghalaya",
           "marker": {
            "color": "#B6E880"
           },
           "name": "State/Union territory=Meghalaya",
           "offsetgroup": "State/Union territory=Meghalaya",
           "orientation": "v",
           "showlegend": true,
           "textposition": "auto",
           "type": "bar",
           "x": [
            "Meghalaya"
           ],
           "xaxis": "x",
           "y": [
            12709
           ],
           "yaxis": "y"
          },
          {
           "alignmentgroup": "True",
           "customdata": [
            [
             5260
            ]
           ],
           "hoverlabel": {
            "namelength": 0
           },
           "hovertemplate": "State/Union territory=%{x}<br>Year=2009–10<br>GDP (in Crores)=%{customdata[0]}",
           "legendgroup": "State/Union territory=Mizoram",
           "marker": {
            "color": "#FF97FF"
           },
           "name": "State/Union territory=Mizoram",
           "offsetgroup": "State/Union territory=Mizoram",
           "orientation": "v",
           "showlegend": true,
           "textposition": "auto",
           "type": "bar",
           "x": [
            "Mizoram"
           ],
           "xaxis": "x",
           "y": [
            5260
           ],
           "yaxis": "y"
          },
          {
           "alignmentgroup": "True",
           "customdata": [
            [
             10527
            ]
           ],
           "hoverlabel": {
            "namelength": 0
           },
           "hovertemplate": "State/Union territory=%{x}<br>Year=2009–10<br>GDP (in Crores)=%{customdata[0]}",
           "legendgroup": "State/Union territory=Nagaland",
           "marker": {
            "color": "#FECB52"
           },
           "name": "State/Union territory=Nagaland",
           "offsetgroup": "State/Union territory=Nagaland",
           "orientation": "v",
           "showlegend": true,
           "textposition": "auto",
           "type": "bar",
           "x": [
            "Nagaland"
           ],
           "xaxis": "x",
           "y": [
            10527
           ],
           "yaxis": "y"
          },
          {
           "alignmentgroup": "True",
           "customdata": [
            [
             162946
            ]
           ],
           "hoverlabel": {
            "namelength": 0
           },
           "hovertemplate": "State/Union territory=%{x}<br>Year=2009–10<br>GDP (in Crores)=%{customdata[0]}",
           "legendgroup": "State/Union territory=Odisha",
           "marker": {
            "color": "#636efa"
           },
           "name": "State/Union territory=Odisha",
           "offsetgroup": "State/Union territory=Odisha",
           "orientation": "v",
           "showlegend": true,
           "textposition": "auto",
           "type": "bar",
           "x": [
            "Odisha"
           ],
           "xaxis": "x",
           "y": [
            162946
           ],
           "yaxis": "y"
          },
          {
           "alignmentgroup": "True",
           "customdata": [
            [
             197500
            ]
           ],
           "hoverlabel": {
            "namelength": 0
           },
           "hovertemplate": "State/Union territory=%{x}<br>Year=2009–10<br>GDP (in Crores)=%{customdata[0]}",
           "legendgroup": "State/Union territory=Punjab",
           "marker": {
            "color": "#EF553B"
           },
           "name": "State/Union territory=Punjab",
           "offsetgroup": "State/Union territory=Punjab",
           "orientation": "v",
           "showlegend": true,
           "textposition": "auto",
           "type": "bar",
           "x": [
            "Punjab"
           ],
           "xaxis": "x",
           "y": [
            197500
           ],
           "yaxis": "y"
          },
          {
           "alignmentgroup": "True",
           "customdata": [
            [
             265825
            ]
           ],
           "hoverlabel": {
            "namelength": 0
           },
           "hovertemplate": "State/Union territory=%{x}<br>Year=2009–10<br>GDP (in Crores)=%{customdata[0]}",
           "legendgroup": "State/Union territory=Rajasthan",
           "marker": {
            "color": "#00cc96"
           },
           "name": "State/Union territory=Rajasthan",
           "offsetgroup": "State/Union territory=Rajasthan",
           "orientation": "v",
           "showlegend": true,
           "textposition": "auto",
           "type": "bar",
           "x": [
            "Rajasthan"
           ],
           "xaxis": "x",
           "y": [
            265825
           ],
           "yaxis": "y"
          },
          {
           "alignmentgroup": "True",
           "customdata": [
            [
             6133
            ]
           ],
           "hoverlabel": {
            "namelength": 0
           },
           "hovertemplate": "State/Union territory=%{x}<br>Year=2009–10<br>GDP (in Crores)=%{customdata[0]}",
           "legendgroup": "State/Union territory=Sikkim",
           "marker": {
            "color": "#ab63fa"
           },
           "name": "State/Union territory=Sikkim",
           "offsetgroup": "State/Union territory=Sikkim",
           "orientation": "v",
           "showlegend": true,
           "textposition": "auto",
           "type": "bar",
           "x": [
            "Sikkim"
           ],
           "xaxis": "x",
           "y": [
            6133
           ],
           "yaxis": "y"
          },
          {
           "alignmentgroup": "True",
           "customdata": [
            [
             479733
            ]
           ],
           "hoverlabel": {
            "namelength": 0
           },
           "hovertemplate": "State/Union territory=%{x}<br>Year=2009–10<br>GDP (in Crores)=%{customdata[0]}",
           "legendgroup": "State/Union territory=Tamil Nadu",
           "marker": {
            "color": "#FFA15A"
           },
           "name": "State/Union territory=Tamil Nadu",
           "offsetgroup": "State/Union territory=Tamil Nadu",
           "orientation": "v",
           "showlegend": true,
           "textposition": "auto",
           "type": "bar",
           "x": [
            "Tamil Nadu"
           ],
           "xaxis": "x",
           "y": [
            479733
           ],
           "yaxis": "y"
          },
          {
           "alignmentgroup": "True",
           "customdata": [
            [
             15403
            ]
           ],
           "hoverlabel": {
            "namelength": 0
           },
           "hovertemplate": "State/Union territory=%{x}<br>Year=2009–10<br>GDP (in Crores)=%{customdata[0]}",
           "legendgroup": "State/Union territory=Tripura",
           "marker": {
            "color": "#19d3f3"
           },
           "name": "State/Union territory=Tripura",
           "offsetgroup": "State/Union territory=Tripura",
           "orientation": "v",
           "showlegend": true,
           "textposition": "auto",
           "type": "bar",
           "x": [
            "Tripura"
           ],
           "xaxis": "x",
           "y": [
            15403
           ],
           "yaxis": "y"
          },
          {
           "alignmentgroup": "True",
           "customdata": [
            [
             523394
            ]
           ],
           "hoverlabel": {
            "namelength": 0
           },
           "hovertemplate": "State/Union territory=%{x}<br>Year=2009–10<br>GDP (in Crores)=%{customdata[0]}",
           "legendgroup": "State/Union territory=Uttar Pradesh",
           "marker": {
            "color": "#FF6692"
           },
           "name": "State/Union territory=Uttar Pradesh",
           "offsetgroup": "State/Union territory=Uttar Pradesh",
           "orientation": "v",
           "showlegend": true,
           "textposition": "auto",
           "type": "bar",
           "x": [
            "Uttar Pradesh"
           ],
           "xaxis": "x",
           "y": [
            523394
           ],
           "yaxis": "y"
          },
          {
           "alignmentgroup": "True",
           "customdata": [
            [
             70730
            ]
           ],
           "hoverlabel": {
            "namelength": 0
           },
           "hovertemplate": "State/Union territory=%{x}<br>Year=2009–10<br>GDP (in Crores)=%{customdata[0]}",
           "legendgroup": "State/Union territory=Uttarakhand",
           "marker": {
            "color": "#B6E880"
           },
           "name": "State/Union territory=Uttarakhand",
           "offsetgroup": "State/Union territory=Uttarakhand",
           "orientation": "v",
           "showlegend": true,
           "textposition": "auto",
           "type": "bar",
           "x": [
            "Uttarakhand"
           ],
           "xaxis": "x",
           "y": [
            70730
           ],
           "yaxis": "y"
          },
          {
           "alignmentgroup": "True",
           "customdata": [
            [
             398880
            ]
           ],
           "hoverlabel": {
            "namelength": 0
           },
           "hovertemplate": "State/Union territory=%{x}<br>Year=2009–10<br>GDP (in Crores)=%{customdata[0]}",
           "legendgroup": "State/Union territory=West Bengal",
           "marker": {
            "color": "#FF97FF"
           },
           "name": "State/Union territory=West Bengal",
           "offsetgroup": "State/Union territory=West Bengal",
           "orientation": "v",
           "showlegend": true,
           "textposition": "auto",
           "type": "bar",
           "x": [
            "West Bengal"
           ],
           "xaxis": "x",
           "y": [
            398880
           ],
           "yaxis": "y"
          },
          {
           "alignmentgroup": "True",
           "customdata": [
            [
             4120
            ]
           ],
           "hoverlabel": {
            "namelength": 0
           },
           "hovertemplate": "State/Union territory=%{x}<br>Year=2009–10<br>GDP (in Crores)=%{customdata[0]}",
           "legendgroup": "State/Union territory=Andaman and Nicobar Islands",
           "marker": {
            "color": "#FECB52"
           },
           "name": "State/Union territory=Andaman and Nicobar Islands",
           "offsetgroup": "State/Union territory=Andaman and Nicobar Islands",
           "orientation": "v",
           "showlegend": true,
           "textposition": "auto",
           "type": "bar",
           "x": [
            "Andaman and Nicobar Islands"
           ],
           "xaxis": "x",
           "y": [
            4120
           ],
           "yaxis": "y"
          },
          {
           "alignmentgroup": "True",
           "customdata": [
            [
             17717
            ]
           ],
           "hoverlabel": {
            "namelength": 0
           },
           "hovertemplate": "State/Union territory=%{x}<br>Year=2009–10<br>GDP (in Crores)=%{customdata[0]}",
           "legendgroup": "State/Union territory=Chandigarh",
           "marker": {
            "color": "#636efa"
           },
           "name": "State/Union territory=Chandigarh",
           "offsetgroup": "State/Union territory=Chandigarh",
           "orientation": "v",
           "showlegend": true,
           "textposition": "auto",
           "type": "bar",
           "x": [
            "Chandigarh"
           ],
           "xaxis": "x",
           "y": [
            17717
           ],
           "yaxis": "y"
          },
          {
           "alignmentgroup": "True",
           "customdata": [
            [
             219753
            ]
           ],
           "hoverlabel": {
            "namelength": 0
           },
           "hovertemplate": "State/Union territory=%{x}<br>Year=2009–10<br>GDP (in Crores)=%{customdata[0]}",
           "legendgroup": "State/Union territory=Delhi",
           "marker": {
            "color": "#EF553B"
           },
           "name": "State/Union territory=Delhi",
           "offsetgroup": "State/Union territory=Delhi",
           "orientation": "v",
           "showlegend": true,
           "textposition": "auto",
           "type": "bar",
           "x": [
            "Delhi"
           ],
           "xaxis": "x",
           "y": [
            219753
           ],
           "yaxis": "y"
          },
          {
           "alignmentgroup": "True",
           "customdata": [
            [
             12304
            ]
           ],
           "hoverlabel": {
            "namelength": 0
           },
           "hovertemplate": "State/Union territory=%{x}<br>Year=2009–10<br>GDP (in Crores)=%{customdata[0]}",
           "legendgroup": "State/Union territory=Pudduchery",
           "marker": {
            "color": "#00cc96"
           },
           "name": "State/Union territory=Pudduchery",
           "offsetgroup": "State/Union territory=Pudduchery",
           "orientation": "v",
           "showlegend": true,
           "textposition": "auto",
           "type": "bar",
           "x": [
            "Pudduchery"
           ],
           "xaxis": "x",
           "y": [
            12304
           ],
           "yaxis": "y"
          }
         ],
         "name": "2009–10"
        },
        {
         "data": [
          {
           "alignmentgroup": "True",
           "customdata": [
            [
             7248860
            ]
           ],
           "hoverlabel": {
            "namelength": 0
           },
           "hovertemplate": "State/Union territory=%{x}<br>Year=2010–11<br>GDP (in Crores)=%{customdata[0]}",
           "legendgroup": "State/Union territory= India",
           "marker": {
            "color": "#636efa"
           },
           "name": "State/Union territory= India",
           "offsetgroup": "State/Union territory= India",
           "orientation": "v",
           "showlegend": true,
           "textposition": "auto",
           "type": "bar",
           "x": [
            " India"
           ],
           "xaxis": "x",
           "y": [
            7248860
           ],
           "yaxis": "y"
          },
          {
           "alignmentgroup": "True",
           "customdata": [
            [
             583762
            ]
           ],
           "hoverlabel": {
            "namelength": 0
           },
           "hovertemplate": "State/Union territory=%{x}<br>Year=2010–11<br>GDP (in Crores)=%{customdata[0]}",
           "legendgroup": "State/Union territory=Andhra Pradesh",
           "marker": {
            "color": "#EF553B"
           },
           "name": "State/Union territory=Andhra Pradesh",
           "offsetgroup": "State/Union territory=Andhra Pradesh",
           "orientation": "v",
           "showlegend": true,
           "textposition": "auto",
           "type": "bar",
           "x": [
            "Andhra Pradesh"
           ],
           "xaxis": "x",
           "y": [
            583762
           ],
           "yaxis": "y"
          },
          {
           "alignmentgroup": "True",
           "customdata": [
            [
             9013
            ]
           ],
           "hoverlabel": {
            "namelength": 0
           },
           "hovertemplate": "State/Union territory=%{x}<br>Year=2010–11<br>GDP (in Crores)=%{customdata[0]}",
           "legendgroup": "State/Union territory=Arunachal Pradesh",
           "marker": {
            "color": "#00cc96"
           },
           "name": "State/Union territory=Arunachal Pradesh",
           "offsetgroup": "State/Union territory=Arunachal Pradesh",
           "orientation": "v",
           "showlegend": true,
           "textposition": "auto",
           "type": "bar",
           "x": [
            "Arunachal Pradesh"
           ],
           "xaxis": "x",
           "y": [
            9013
           ],
           "yaxis": "y"
          },
          {
           "alignmentgroup": "True",
           "customdata": [
            [
             112688
            ]
           ],
           "hoverlabel": {
            "namelength": 0
           },
           "hovertemplate": "State/Union territory=%{x}<br>Year=2010–11<br>GDP (in Crores)=%{customdata[0]}",
           "legendgroup": "State/Union territory=Assam",
           "marker": {
            "color": "#ab63fa"
           },
           "name": "State/Union territory=Assam",
           "offsetgroup": "State/Union territory=Assam",
           "orientation": "v",
           "showlegend": true,
           "textposition": "auto",
           "type": "bar",
           "x": [
            "Assam"
           ],
           "xaxis": "x",
           "y": [
            112688
           ],
           "yaxis": "y"
          },
          {
           "alignmentgroup": "True",
           "customdata": [
            [
             204289
            ]
           ],
           "hoverlabel": {
            "namelength": 0
           },
           "hovertemplate": "State/Union territory=%{x}<br>Year=2010–11<br>GDP (in Crores)=%{customdata[0]}",
           "legendgroup": "State/Union territory=Bihar",
           "marker": {
            "color": "#FFA15A"
           },
           "name": "State/Union territory=Bihar",
           "offsetgroup": "State/Union territory=Bihar",
           "orientation": "v",
           "showlegend": true,
           "textposition": "auto",
           "type": "bar",
           "x": [
            "Bihar"
           ],
           "xaxis": "x",
           "y": [
            204289
           ],
           "yaxis": "y"
          },
          {
           "alignmentgroup": "True",
           "customdata": [
            [
             119420
            ]
           ],
           "hoverlabel": {
            "namelength": 0
           },
           "hovertemplate": "State/Union territory=%{x}<br>Year=2010–11<br>GDP (in Crores)=%{customdata[0]}",
           "legendgroup": "State/Union territory=Chhattisgarh",
           "marker": {
            "color": "#19d3f3"
           },
           "name": "State/Union territory=Chhattisgarh",
           "offsetgroup": "State/Union territory=Chhattisgarh",
           "orientation": "v",
           "showlegend": true,
           "textposition": "auto",
           "type": "bar",
           "x": [
            "Chhattisgarh"
           ],
           "xaxis": "x",
           "y": [
            119420
           ],
           "yaxis": "y"
          },
          {
           "alignmentgroup": "True",
           "customdata": [
            [
             33605
            ]
           ],
           "hoverlabel": {
            "namelength": 0
           },
           "hovertemplate": "State/Union territory=%{x}<br>Year=2010–11<br>GDP (in Crores)=%{customdata[0]}",
           "legendgroup": "State/Union territory=Goa",
           "marker": {
            "color": "#FF6692"
           },
           "name": "State/Union territory=Goa",
           "offsetgroup": "State/Union territory=Goa",
           "orientation": "v",
           "showlegend": true,
           "textposition": "auto",
           "type": "bar",
           "x": [
            "Goa"
           ],
           "xaxis": "x",
           "y": [
            33605
           ],
           "yaxis": "y"
          },
          {
           "alignmentgroup": "True",
           "customdata": [
            [
             521519
            ]
           ],
           "hoverlabel": {
            "namelength": 0
           },
           "hovertemplate": "State/Union territory=%{x}<br>Year=2010–11<br>GDP (in Crores)=%{customdata[0]}",
           "legendgroup": "State/Union territory=Gujarat",
           "marker": {
            "color": "#B6E880"
           },
           "name": "State/Union territory=Gujarat",
           "offsetgroup": "State/Union territory=Gujarat",
           "orientation": "v",
           "showlegend": true,
           "textposition": "auto",
           "type": "bar",
           "x": [
            "Gujarat"
           ],
           "xaxis": "x",
           "y": [
            521519
           ],
           "yaxis": "y"
          },
          {
           "alignmentgroup": "True",
           "customdata": [
            [
             260621
            ]
           ],
           "hoverlabel": {
            "namelength": 0
           },
           "hovertemplate": "State/Union territory=%{x}<br>Year=2010–11<br>GDP (in Crores)=%{customdata[0]}",
           "legendgroup": "State/Union territory=Haryana",
           "marker": {
            "color": "#FF97FF"
           },
           "name": "State/Union territory=Haryana",
           "offsetgroup": "State/Union territory=Haryana",
           "orientation": "v",
           "showlegend": true,
           "textposition": "auto",
           "type": "bar",
           "x": [
            "Haryana"
           ],
           "xaxis": "x",
           "y": [
            260621
           ],
           "yaxis": "y"
          },
          {
           "alignmentgroup": "True",
           "customdata": [
            [
             57452
            ]
           ],
           "hoverlabel": {
            "namelength": 0
           },
           "hovertemplate": "State/Union territory=%{x}<br>Year=2010–11<br>GDP (in Crores)=%{customdata[0]}",
           "legendgroup": "State/Union territory=Himachal Pradesh",
           "marker": {
            "color": "#FECB52"
           },
           "name": "State/Union territory=Himachal Pradesh",
           "offsetgroup": "State/Union territory=Himachal Pradesh",
           "orientation": "v",
           "showlegend": true,
           "textposition": "auto",
           "type": "bar",
           "x": [
            "Himachal Pradesh"
           ],
           "xaxis": "x",
           "y": [
            57452
           ],
           "yaxis": "y"
          },
          {
           "alignmentgroup": "True",
           "customdata": [
            [
             58073
            ]
           ],
           "hoverlabel": {
            "namelength": 0
           },
           "hovertemplate": "State/Union territory=%{x}<br>Year=2010–11<br>GDP (in Crores)=%{customdata[0]}",
           "legendgroup": "State/Union territory=Jammu and Kashmir",
           "marker": {
            "color": "#636efa"
           },
           "name": "State/Union territory=Jammu and Kashmir",
           "offsetgroup": "State/Union territory=Jammu and Kashmir",
           "orientation": "v",
           "showlegend": true,
           "textposition": "auto",
           "type": "bar",
           "x": [
            "Jammu and Kashmir"
           ],
           "xaxis": "x",
           "y": [
            58073
           ],
           "yaxis": "y"
          },
          {
           "alignmentgroup": "True",
           "customdata": [
            [
             127281
            ]
           ],
           "hoverlabel": {
            "namelength": 0
           },
           "hovertemplate": "State/Union territory=%{x}<br>Year=2010–11<br>GDP (in Crores)=%{customdata[0]}",
           "legendgroup": "State/Union territory=Jharkhand",
           "marker": {
            "color": "#EF553B"
           },
           "name": "State/Union territory=Jharkhand",
           "offsetgroup": "State/Union territory=Jharkhand",
           "orientation": "v",
           "showlegend": true,
           "textposition": "auto",
           "type": "bar",
           "x": [
            "Jharkhand"
           ],
           "xaxis": "x",
           "y": [
            127281
           ],
           "yaxis": "y"
          },
          {
           "alignmentgroup": "True",
           "customdata": [
            [
             410703
            ]
           ],
           "hoverlabel": {
            "namelength": 0
           },
           "hovertemplate": "State/Union territory=%{x}<br>Year=2010–11<br>GDP (in Crores)=%{customdata[0]}",
           "legendgroup": "State/Union territory=Karnataka",
           "marker": {
            "color": "#00cc96"
           },
           "name": "State/Union territory=Karnataka",
           "offsetgroup": "State/Union territory=Karnataka",
           "orientation": "v",
           "showlegend": true,
           "textposition": "auto",
           "type": "bar",
           "x": [
            "Karnataka"
           ],
           "xaxis": "x",
           "y": [
            410703
           ],
           "yaxis": "y"
          },
          {
           "alignmentgroup": "True",
           "customdata": [
            [
             263773
            ]
           ],
           "hoverlabel": {
            "namelength": 0
           },
           "hovertemplate": "State/Union territory=%{x}<br>Year=2010–11<br>GDP (in Crores)=%{customdata[0]}",
           "legendgroup": "State/Union territory=Kerala",
           "marker": {
            "color": "#ab63fa"
           },
           "name": "State/Union territory=Kerala",
           "offsetgroup": "State/Union territory=Kerala",
           "orientation": "v",
           "showlegend": true,
           "textposition": "auto",
           "type": "bar",
           "x": [
            "Kerala"
           ],
           "xaxis": "x",
           "y": [
            263773
           ],
           "yaxis": "y"
          },
          {
           "alignmentgroup": "True",
           "customdata": [
            [
             263396
            ]
           ],
           "hoverlabel": {
            "namelength": 0
           },
           "hovertemplate": "State/Union territory=%{x}<br>Year=2010–11<br>GDP (in Crores)=%{customdata[0]}",
           "legendgroup": "State/Union territory=Madhya Pradesh",
           "marker": {
            "color": "#FFA15A"
           },
           "name": "State/Union territory=Madhya Pradesh",
           "offsetgroup": "State/Union territory=Madhya Pradesh",
           "orientation": "v",
           "showlegend": true,
           "textposition": "auto",
           "type": "bar",
           "x": [
            "Madhya Pradesh"
           ],
           "xaxis": "x",
           "y": [
            263396
           ],
           "yaxis": "y"
          },
          {
           "alignmentgroup": "True",
           "customdata": [
            [
             1035086
            ]
           ],
           "hoverlabel": {
            "namelength": 0
           },
           "hovertemplate": "State/Union territory=%{x}<br>Year=2010–11<br>GDP (in Crores)=%{customdata[0]}",
           "legendgroup": "State/Union territory=Maharashtra",
           "marker": {
            "color": "#19d3f3"
           },
           "name": "State/Union territory=Maharashtra",
           "offsetgroup": "State/Union territory=Maharashtra",
           "orientation": "v",
           "showlegend": true,
           "textposition": "auto",
           "type": "bar",
           "x": [
            "Maharashtra"
           ],
           "xaxis": "x",
           "y": [
            1035086
           ],
           "yaxis": "y"
          },
          {
           "alignmentgroup": "True",
           "customdata": [
            [
             9137
            ]
           ],
           "hoverlabel": {
            "namelength": 0
           },
           "hovertemplate": "State/Union territory=%{x}<br>Year=2010–11<br>GDP (in Crores)=%{customdata[0]}",
           "legendgroup": "State/Union territory=Manipur",
           "marker": {
            "color": "#FF6692"
           },
           "name": "State/Union territory=Manipur",
           "offsetgroup": "State/Union territory=Manipur",
           "orientation": "v",
           "showlegend": true,
           "textposition": "auto",
           "type": "bar",
           "x": [
            "Manipur"
           ],
           "xaxis": "x",
           "y": [
            9137
           ],
           "yaxis": "y"
          },
          {
           "alignmentgroup": "True",
           "customdata": [
            [
             14583
            ]
           ],
           "hoverlabel": {
            "namelength": 0
           },
           "hovertemplate": "State/Union territory=%{x}<br>Year=2010–11<br>GDP (in Crores)=%{customdata[0]}",
           "legendgroup": "State/Union territory=Meghalaya",
           "marker": {
            "color": "#B6E880"
           },
           "name": "State/Union territory=Meghalaya",
           "offsetgroup": "State/Union territory=Meghalaya",
           "orientation": "v",
           "showlegend": true,
           "textposition": "auto",
           "type": "bar",
           "x": [
            "Meghalaya"
           ],
           "xaxis": "x",
           "y": [
            14583
           ],
           "yaxis": "y"
          },
          {
           "alignmentgroup": "True",
           "customdata": [
            [
             6388
            ]
           ],
           "hoverlabel": {
            "namelength": 0
           },
           "hovertemplate": "State/Union territory=%{x}<br>Year=2010–11<br>GDP (in Crores)=%{customdata[0]}",
           "legendgroup": "State/Union territory=Mizoram",
           "marker": {
            "color": "#FF97FF"
           },
           "name": "State/Union territory=Mizoram",
           "offsetgroup": "State/Union territory=Mizoram",
           "orientation": "v",
           "showlegend": true,
           "textposition": "auto",
           "type": "bar",
           "x": [
            "Mizoram"
           ],
           "xaxis": "x",
           "y": [
            6388
           ],
           "yaxis": "y"
          },
          {
           "alignmentgroup": "True",
           "customdata": [
            [
             11759
            ]
           ],
           "hoverlabel": {
            "namelength": 0
           },
           "hovertemplate": "State/Union territory=%{x}<br>Year=2010–11<br>GDP (in Crores)=%{customdata[0]}",
           "legendgroup": "State/Union territory=Nagaland",
           "marker": {
            "color": "#FECB52"
           },
           "name": "State/Union territory=Nagaland",
           "offsetgroup": "State/Union territory=Nagaland",
           "orientation": "v",
           "showlegend": true,
           "textposition": "auto",
           "type": "bar",
           "x": [
            "Nagaland"
           ],
           "xaxis": "x",
           "y": [
            11759
           ],
           "yaxis": "y"
          },
          {
           "alignmentgroup": "True",
           "customdata": [
            [
             197530
            ]
           ],
           "hoverlabel": {
            "namelength": 0
           },
           "hovertemplate": "State/Union territory=%{x}<br>Year=2010–11<br>GDP (in Crores)=%{customdata[0]}",
           "legendgroup": "State/Union territory=Odisha",
           "marker": {
            "color": "#636efa"
           },
           "name": "State/Union territory=Odisha",
           "offsetgroup": "State/Union territory=Odisha",
           "orientation": "v",
           "showlegend": true,
           "textposition": "auto",
           "type": "bar",
           "x": [
            "Odisha"
           ],
           "xaxis": "x",
           "y": [
            197530
           ],
           "yaxis": "y"
          },
          {
           "alignmentgroup": "True",
           "customdata": [
            [
             226204
            ]
           ],
           "hoverlabel": {
            "namelength": 0
           },
           "hovertemplate": "State/Union territory=%{x}<br>Year=2010–11<br>GDP (in Crores)=%{customdata[0]}",
           "legendgroup": "State/Union territory=Punjab",
           "marker": {
            "color": "#EF553B"
           },
           "name": "State/Union territory=Punjab",
           "offsetgroup": "State/Union territory=Punjab",
           "orientation": "v",
           "showlegend": true,
           "textposition": "auto",
           "type": "bar",
           "x": [
            "Punjab"
           ],
           "xaxis": "x",
           "y": [
            226204
           ],
           "yaxis": "y"
          },
          {
           "alignmentgroup": "True",
           "customdata": [
            [
             338348
            ]
           ],
           "hoverlabel": {
            "namelength": 0
           },
           "hovertemplate": "State/Union territory=%{x}<br>Year=2010–11<br>GDP (in Crores)=%{customdata[0]}",
           "legendgroup": "State/Union territory=Rajasthan",
           "marker": {
            "color": "#00cc96"
           },
           "name": "State/Union territory=Rajasthan",
           "offsetgroup": "State/Union territory=Rajasthan",
           "orientation": "v",
           "showlegend": true,
           "textposition": "auto",
           "type": "bar",
           "x": [
            "Rajasthan"
           ],
           "xaxis": "x",
           "y": [
            338348
           ],
           "yaxis": "y"
          },
          {
           "alignmentgroup": "True",
           "customdata": [
            [
             7412
            ]
           ],
           "hoverlabel": {
            "namelength": 0
           },
           "hovertemplate": "State/Union territory=%{x}<br>Year=2010–11<br>GDP (in Crores)=%{customdata[0]}",
           "legendgroup": "State/Union territory=Sikkim",
           "marker": {
            "color": "#ab63fa"
           },
           "name": "State/Union territory=Sikkim",
           "offsetgroup": "State/Union territory=Sikkim",
           "orientation": "v",
           "showlegend": true,
           "textposition": "auto",
           "type": "bar",
           "x": [
            "Sikkim"
           ],
           "xaxis": "x",
           "y": [
            7412
           ],
           "yaxis": "y"
          },
          {
           "alignmentgroup": "True",
           "customdata": [
            [
             584896
            ]
           ],
           "hoverlabel": {
            "namelength": 0
           },
           "hovertemplate": "State/Union territory=%{x}<br>Year=2010–11<br>GDP (in Crores)=%{customdata[0]}",
           "legendgroup": "State/Union territory=Tamil Nadu",
           "marker": {
            "color": "#FFA15A"
           },
           "name": "State/Union territory=Tamil Nadu",
           "offsetgroup": "State/Union territory=Tamil Nadu",
           "orientation": "v",
           "showlegend": true,
           "textposition": "auto",
           "type": "bar",
           "x": [
            "Tamil Nadu"
           ],
           "xaxis": "x",
           "y": [
            584896
           ],
           "yaxis": "y"
          },
          {
           "alignmentgroup": "True",
           "customdata": [
            [
             17868
            ]
           ],
           "hoverlabel": {
            "namelength": 0
           },
           "hovertemplate": "State/Union territory=%{x}<br>Year=2010–11<br>GDP (in Crores)=%{customdata[0]}",
           "legendgroup": "State/Union territory=Tripura",
           "marker": {
            "color": "#19d3f3"
           },
           "name": "State/Union territory=Tripura",
           "offsetgroup": "State/Union territory=Tripura",
           "orientation": "v",
           "showlegend": true,
           "textposition": "auto",
           "type": "bar",
           "x": [
            "Tripura"
           ],
           "xaxis": "x",
           "y": [
            17868
           ],
           "yaxis": "y"
          },
          {
           "alignmentgroup": "True",
           "customdata": [
            [
             600164
            ]
           ],
           "hoverlabel": {
            "namelength": 0
           },
           "hovertemplate": "State/Union territory=%{x}<br>Year=2010–11<br>GDP (in Crores)=%{customdata[0]}",
           "legendgroup": "State/Union territory=Uttar Pradesh",
           "marker": {
            "color": "#FF6692"
           },
           "name": "State/Union territory=Uttar Pradesh",
           "offsetgroup": "State/Union territory=Uttar Pradesh",
           "orientation": "v",
           "showlegend": true,
           "textposition": "auto",
           "type": "bar",
           "x": [
            "Uttar Pradesh"
           ],
           "xaxis": "x",
           "y": [
            600164
           ],
           "yaxis": "y"
          },
          {
           "alignmentgroup": "True",
           "customdata": [
            [
             83969
            ]
           ],
           "hoverlabel": {
            "namelength": 0
           },
           "hovertemplate": "State/Union territory=%{x}<br>Year=2010–11<br>GDP (in Crores)=%{customdata[0]}",
           "legendgroup": "State/Union territory=Uttarakhand",
           "marker": {
            "color": "#B6E880"
           },
           "name": "State/Union territory=Uttarakhand",
           "offsetgroup": "State/Union territory=Uttarakhand",
           "orientation": "v",
           "showlegend": true,
           "textposition": "auto",
           "type": "bar",
           "x": [
            "Uttarakhand"
           ],
           "xaxis": "x",
           "y": [
            83969
           ],
           "yaxis": "y"
          },
          {
           "alignmentgroup": "True",
           "customdata": [
            [
             460959
            ]
           ],
           "hoverlabel": {
            "namelength": 0
           },
           "hovertemplate": "State/Union territory=%{x}<br>Year=2010–11<br>GDP (in Crores)=%{customdata[0]}",
           "legendgroup": "State/Union territory=West Bengal",
           "marker": {
            "color": "#FF97FF"
           },
           "name": "State/Union territory=West Bengal",
           "offsetgroup": "State/Union territory=West Bengal",
           "orientation": "v",
           "showlegend": true,
           "textposition": "auto",
           "type": "bar",
           "x": [
            "West Bengal"
           ],
           "xaxis": "x",
           "y": [
            460959
           ],
           "yaxis": "y"
          },
          {
           "alignmentgroup": "True",
           "customdata": [
            [
             4345
            ]
           ],
           "hoverlabel": {
            "namelength": 0
           },
           "hovertemplate": "State/Union territory=%{x}<br>Year=2010–11<br>GDP (in Crores)=%{customdata[0]}",
           "legendgroup": "State/Union territory=Andaman and Nicobar Islands",
           "marker": {
            "color": "#FECB52"
           },
           "name": "State/Union territory=Andaman and Nicobar Islands",
           "offsetgroup": "State/Union territory=Andaman and Nicobar Islands",
           "orientation": "v",
           "showlegend": true,
           "textposition": "auto",
           "type": "bar",
           "x": [
            "Andaman and Nicobar Islands"
           ],
           "xaxis": "x",
           "y": [
            4345
           ],
           "yaxis": "y"
          },
          {
           "alignmentgroup": "True",
           "customdata": [
            [
             20017
            ]
           ],
           "hoverlabel": {
            "namelength": 0
           },
           "hovertemplate": "State/Union territory=%{x}<br>Year=2010–11<br>GDP (in Crores)=%{customdata[0]}",
           "legendgroup": "State/Union territory=Chandigarh",
           "marker": {
            "color": "#636efa"
           },
           "name": "State/Union territory=Chandigarh",
           "offsetgroup": "State/Union territory=Chandigarh",
           "orientation": "v",
           "showlegend": true,
           "textposition": "auto",
           "type": "bar",
           "x": [
            "Chandigarh"
           ],
           "xaxis": "x",
           "y": [
            20017
           ],
           "yaxis": "y"
          },
          {
           "alignmentgroup": "True",
           "customdata": [
            [
             252753
            ]
           ],
           "hoverlabel": {
            "namelength": 0
           },
           "hovertemplate": "State/Union territory=%{x}<br>Year=2010–11<br>GDP (in Crores)=%{customdata[0]}",
           "legendgroup": "State/Union territory=Delhi",
           "marker": {
            "color": "#EF553B"
           },
           "name": "State/Union territory=Delhi",
           "offsetgroup": "State/Union territory=Delhi",
           "orientation": "v",
           "showlegend": true,
           "textposition": "auto",
           "type": "bar",
           "x": [
            "Delhi"
           ],
           "xaxis": "x",
           "y": [
            252753
           ],
           "yaxis": "y"
          },
          {
           "alignmentgroup": "True",
           "customdata": [
            [
             13092
            ]
           ],
           "hoverlabel": {
            "namelength": 0
           },
           "hovertemplate": "State/Union territory=%{x}<br>Year=2010–11<br>GDP (in Crores)=%{customdata[0]}",
           "legendgroup": "State/Union territory=Pudduchery",
           "marker": {
            "color": "#00cc96"
           },
           "name": "State/Union territory=Pudduchery",
           "offsetgroup": "State/Union territory=Pudduchery",
           "orientation": "v",
           "showlegend": true,
           "textposition": "auto",
           "type": "bar",
           "x": [
            "Pudduchery"
           ],
           "xaxis": "x",
           "y": [
            13092
           ],
           "yaxis": "y"
          }
         ],
         "name": "2010–11"
        }
       ],
       "layout": {
        "barmode": "relative",
        "height": 600,
        "legend": {
         "tracegroupgap": 0
        },
        "margin": {
         "t": 60
        },
        "sliders": [
         {
          "active": 0,
          "currentvalue": {
           "prefix": "Year="
          },
          "len": 0.9,
          "pad": {
           "b": 10,
           "t": 60
          },
          "steps": [
           {
            "args": [
             [
              "2001–02"
             ],
             {
              "frame": {
               "duration": 0,
               "redraw": true
              },
              "fromcurrent": true,
              "mode": "immediate",
              "transition": {
               "duration": 0,
               "easing": "linear"
              }
             }
            ],
            "label": "2001–02",
            "method": "animate"
           },
           {
            "args": [
             [
              "2002–03"
             ],
             {
              "frame": {
               "duration": 0,
               "redraw": true
              },
              "fromcurrent": true,
              "mode": "immediate",
              "transition": {
               "duration": 0,
               "easing": "linear"
              }
             }
            ],
            "label": "2002–03",
            "method": "animate"
           },
           {
            "args": [
             [
              "2003–04"
             ],
             {
              "frame": {
               "duration": 0,
               "redraw": true
              },
              "fromcurrent": true,
              "mode": "immediate",
              "transition": {
               "duration": 0,
               "easing": "linear"
              }
             }
            ],
            "label": "2003–04",
            "method": "animate"
           },
           {
            "args": [
             [
              "2004–05"
             ],
             {
              "frame": {
               "duration": 0,
               "redraw": true
              },
              "fromcurrent": true,
              "mode": "immediate",
              "transition": {
               "duration": 0,
               "easing": "linear"
              }
             }
            ],
            "label": "2004–05",
            "method": "animate"
           },
           {
            "args": [
             [
              "2005–06"
             ],
             {
              "frame": {
               "duration": 0,
               "redraw": true
              },
              "fromcurrent": true,
              "mode": "immediate",
              "transition": {
               "duration": 0,
               "easing": "linear"
              }
             }
            ],
            "label": "2005–06",
            "method": "animate"
           },
           {
            "args": [
             [
              "2006–07"
             ],
             {
              "frame": {
               "duration": 0,
               "redraw": true
              },
              "fromcurrent": true,
              "mode": "immediate",
              "transition": {
               "duration": 0,
               "easing": "linear"
              }
             }
            ],
            "label": "2006–07",
            "method": "animate"
           },
           {
            "args": [
             [
              "2007–08"
             ],
             {
              "frame": {
               "duration": 0,
               "redraw": true
              },
              "fromcurrent": true,
              "mode": "immediate",
              "transition": {
               "duration": 0,
               "easing": "linear"
              }
             }
            ],
            "label": "2007–08",
            "method": "animate"
           },
           {
            "args": [
             [
              "2008–09"
             ],
             {
              "frame": {
               "duration": 0,
               "redraw": true
              },
              "fromcurrent": true,
              "mode": "immediate",
              "transition": {
               "duration": 0,
               "easing": "linear"
              }
             }
            ],
            "label": "2008–09",
            "method": "animate"
           },
           {
            "args": [
             [
              "2009–10"
             ],
             {
              "frame": {
               "duration": 0,
               "redraw": true
              },
              "fromcurrent": true,
              "mode": "immediate",
              "transition": {
               "duration": 0,
               "easing": "linear"
              }
             }
            ],
            "label": "2009–10",
            "method": "animate"
           },
           {
            "args": [
             [
              "2010–11"
             ],
             {
              "frame": {
               "duration": 0,
               "redraw": true
              },
              "fromcurrent": true,
              "mode": "immediate",
              "transition": {
               "duration": 0,
               "easing": "linear"
              }
             }
            ],
            "label": "2010–11",
            "method": "animate"
           }
          ],
          "x": 0.1,
          "xanchor": "left",
          "y": 0,
          "yanchor": "top"
         }
        ],
        "template": {
         "data": {
          "bar": [
           {
            "error_x": {
             "color": "#2a3f5f"
            },
            "error_y": {
             "color": "#2a3f5f"
            },
            "marker": {
             "line": {
              "color": "#E5ECF6",
              "width": 0.5
             }
            },
            "type": "bar"
           }
          ],
          "barpolar": [
           {
            "marker": {
             "line": {
              "color": "#E5ECF6",
              "width": 0.5
             }
            },
            "type": "barpolar"
           }
          ],
          "carpet": [
           {
            "aaxis": {
             "endlinecolor": "#2a3f5f",
             "gridcolor": "white",
             "linecolor": "white",
             "minorgridcolor": "white",
             "startlinecolor": "#2a3f5f"
            },
            "baxis": {
             "endlinecolor": "#2a3f5f",
             "gridcolor": "white",
             "linecolor": "white",
             "minorgridcolor": "white",
             "startlinecolor": "#2a3f5f"
            },
            "type": "carpet"
           }
          ],
          "choropleth": [
           {
            "colorbar": {
             "outlinewidth": 0,
             "ticks": ""
            },
            "type": "choropleth"
           }
          ],
          "contour": [
           {
            "colorbar": {
             "outlinewidth": 0,
             "ticks": ""
            },
            "colorscale": [
             [
              0,
              "#0d0887"
             ],
             [
              0.1111111111111111,
              "#46039f"
             ],
             [
              0.2222222222222222,
              "#7201a8"
             ],
             [
              0.3333333333333333,
              "#9c179e"
             ],
             [
              0.4444444444444444,
              "#bd3786"
             ],
             [
              0.5555555555555556,
              "#d8576b"
             ],
             [
              0.6666666666666666,
              "#ed7953"
             ],
             [
              0.7777777777777778,
              "#fb9f3a"
             ],
             [
              0.8888888888888888,
              "#fdca26"
             ],
             [
              1,
              "#f0f921"
             ]
            ],
            "type": "contour"
           }
          ],
          "contourcarpet": [
           {
            "colorbar": {
             "outlinewidth": 0,
             "ticks": ""
            },
            "type": "contourcarpet"
           }
          ],
          "heatmap": [
           {
            "colorbar": {
             "outlinewidth": 0,
             "ticks": ""
            },
            "colorscale": [
             [
              0,
              "#0d0887"
             ],
             [
              0.1111111111111111,
              "#46039f"
             ],
             [
              0.2222222222222222,
              "#7201a8"
             ],
             [
              0.3333333333333333,
              "#9c179e"
             ],
             [
              0.4444444444444444,
              "#bd3786"
             ],
             [
              0.5555555555555556,
              "#d8576b"
             ],
             [
              0.6666666666666666,
              "#ed7953"
             ],
             [
              0.7777777777777778,
              "#fb9f3a"
             ],
             [
              0.8888888888888888,
              "#fdca26"
             ],
             [
              1,
              "#f0f921"
             ]
            ],
            "type": "heatmap"
           }
          ],
          "heatmapgl": [
           {
            "colorbar": {
             "outlinewidth": 0,
             "ticks": ""
            },
            "colorscale": [
             [
              0,
              "#0d0887"
             ],
             [
              0.1111111111111111,
              "#46039f"
             ],
             [
              0.2222222222222222,
              "#7201a8"
             ],
             [
              0.3333333333333333,
              "#9c179e"
             ],
             [
              0.4444444444444444,
              "#bd3786"
             ],
             [
              0.5555555555555556,
              "#d8576b"
             ],
             [
              0.6666666666666666,
              "#ed7953"
             ],
             [
              0.7777777777777778,
              "#fb9f3a"
             ],
             [
              0.8888888888888888,
              "#fdca26"
             ],
             [
              1,
              "#f0f921"
             ]
            ],
            "type": "heatmapgl"
           }
          ],
          "histogram": [
           {
            "marker": {
             "colorbar": {
              "outlinewidth": 0,
              "ticks": ""
             }
            },
            "type": "histogram"
           }
          ],
          "histogram2d": [
           {
            "colorbar": {
             "outlinewidth": 0,
             "ticks": ""
            },
            "colorscale": [
             [
              0,
              "#0d0887"
             ],
             [
              0.1111111111111111,
              "#46039f"
             ],
             [
              0.2222222222222222,
              "#7201a8"
             ],
             [
              0.3333333333333333,
              "#9c179e"
             ],
             [
              0.4444444444444444,
              "#bd3786"
             ],
             [
              0.5555555555555556,
              "#d8576b"
             ],
             [
              0.6666666666666666,
              "#ed7953"
             ],
             [
              0.7777777777777778,
              "#fb9f3a"
             ],
             [
              0.8888888888888888,
              "#fdca26"
             ],
             [
              1,
              "#f0f921"
             ]
            ],
            "type": "histogram2d"
           }
          ],
          "histogram2dcontour": [
           {
            "colorbar": {
             "outlinewidth": 0,
             "ticks": ""
            },
            "colorscale": [
             [
              0,
              "#0d0887"
             ],
             [
              0.1111111111111111,
              "#46039f"
             ],
             [
              0.2222222222222222,
              "#7201a8"
             ],
             [
              0.3333333333333333,
              "#9c179e"
             ],
             [
              0.4444444444444444,
              "#bd3786"
             ],
             [
              0.5555555555555556,
              "#d8576b"
             ],
             [
              0.6666666666666666,
              "#ed7953"
             ],
             [
              0.7777777777777778,
              "#fb9f3a"
             ],
             [
              0.8888888888888888,
              "#fdca26"
             ],
             [
              1,
              "#f0f921"
             ]
            ],
            "type": "histogram2dcontour"
           }
          ],
          "mesh3d": [
           {
            "colorbar": {
             "outlinewidth": 0,
             "ticks": ""
            },
            "type": "mesh3d"
           }
          ],
          "parcoords": [
           {
            "line": {
             "colorbar": {
              "outlinewidth": 0,
              "ticks": ""
             }
            },
            "type": "parcoords"
           }
          ],
          "scatter": [
           {
            "marker": {
             "colorbar": {
              "outlinewidth": 0,
              "ticks": ""
             }
            },
            "type": "scatter"
           }
          ],
          "scatter3d": [
           {
            "line": {
             "colorbar": {
              "outlinewidth": 0,
              "ticks": ""
             }
            },
            "marker": {
             "colorbar": {
              "outlinewidth": 0,
              "ticks": ""
             }
            },
            "type": "scatter3d"
           }
          ],
          "scattercarpet": [
           {
            "marker": {
             "colorbar": {
              "outlinewidth": 0,
              "ticks": ""
             }
            },
            "type": "scattercarpet"
           }
          ],
          "scattergeo": [
           {
            "marker": {
             "colorbar": {
              "outlinewidth": 0,
              "ticks": ""
             }
            },
            "type": "scattergeo"
           }
          ],
          "scattergl": [
           {
            "marker": {
             "colorbar": {
              "outlinewidth": 0,
              "ticks": ""
             }
            },
            "type": "scattergl"
           }
          ],
          "scattermapbox": [
           {
            "marker": {
             "colorbar": {
              "outlinewidth": 0,
              "ticks": ""
             }
            },
            "type": "scattermapbox"
           }
          ],
          "scatterpolar": [
           {
            "marker": {
             "colorbar": {
              "outlinewidth": 0,
              "ticks": ""
             }
            },
            "type": "scatterpolar"
           }
          ],
          "scatterpolargl": [
           {
            "marker": {
             "colorbar": {
              "outlinewidth": 0,
              "ticks": ""
             }
            },
            "type": "scatterpolargl"
           }
          ],
          "scatterternary": [
           {
            "marker": {
             "colorbar": {
              "outlinewidth": 0,
              "ticks": ""
             }
            },
            "type": "scatterternary"
           }
          ],
          "surface": [
           {
            "colorbar": {
             "outlinewidth": 0,
             "ticks": ""
            },
            "colorscale": [
             [
              0,
              "#0d0887"
             ],
             [
              0.1111111111111111,
              "#46039f"
             ],
             [
              0.2222222222222222,
              "#7201a8"
             ],
             [
              0.3333333333333333,
              "#9c179e"
             ],
             [
              0.4444444444444444,
              "#bd3786"
             ],
             [
              0.5555555555555556,
              "#d8576b"
             ],
             [
              0.6666666666666666,
              "#ed7953"
             ],
             [
              0.7777777777777778,
              "#fb9f3a"
             ],
             [
              0.8888888888888888,
              "#fdca26"
             ],
             [
              1,
              "#f0f921"
             ]
            ],
            "type": "surface"
           }
          ],
          "table": [
           {
            "cells": {
             "fill": {
              "color": "#EBF0F8"
             },
             "line": {
              "color": "white"
             }
            },
            "header": {
             "fill": {
              "color": "#C8D4E3"
             },
             "line": {
              "color": "white"
             }
            },
            "type": "table"
           }
          ]
         },
         "layout": {
          "annotationdefaults": {
           "arrowcolor": "#2a3f5f",
           "arrowhead": 0,
           "arrowwidth": 1
          },
          "colorscale": {
           "diverging": [
            [
             0,
             "#8e0152"
            ],
            [
             0.1,
             "#c51b7d"
            ],
            [
             0.2,
             "#de77ae"
            ],
            [
             0.3,
             "#f1b6da"
            ],
            [
             0.4,
             "#fde0ef"
            ],
            [
             0.5,
             "#f7f7f7"
            ],
            [
             0.6,
             "#e6f5d0"
            ],
            [
             0.7,
             "#b8e186"
            ],
            [
             0.8,
             "#7fbc41"
            ],
            [
             0.9,
             "#4d9221"
            ],
            [
             1,
             "#276419"
            ]
           ],
           "sequential": [
            [
             0,
             "#0d0887"
            ],
            [
             0.1111111111111111,
             "#46039f"
            ],
            [
             0.2222222222222222,
             "#7201a8"
            ],
            [
             0.3333333333333333,
             "#9c179e"
            ],
            [
             0.4444444444444444,
             "#bd3786"
            ],
            [
             0.5555555555555556,
             "#d8576b"
            ],
            [
             0.6666666666666666,
             "#ed7953"
            ],
            [
             0.7777777777777778,
             "#fb9f3a"
            ],
            [
             0.8888888888888888,
             "#fdca26"
            ],
            [
             1,
             "#f0f921"
            ]
           ],
           "sequentialminus": [
            [
             0,
             "#0d0887"
            ],
            [
             0.1111111111111111,
             "#46039f"
            ],
            [
             0.2222222222222222,
             "#7201a8"
            ],
            [
             0.3333333333333333,
             "#9c179e"
            ],
            [
             0.4444444444444444,
             "#bd3786"
            ],
            [
             0.5555555555555556,
             "#d8576b"
            ],
            [
             0.6666666666666666,
             "#ed7953"
            ],
            [
             0.7777777777777778,
             "#fb9f3a"
            ],
            [
             0.8888888888888888,
             "#fdca26"
            ],
            [
             1,
             "#f0f921"
            ]
           ]
          },
          "colorway": [
           "#636efa",
           "#EF553B",
           "#00cc96",
           "#ab63fa",
           "#FFA15A",
           "#19d3f3",
           "#FF6692",
           "#B6E880",
           "#FF97FF",
           "#FECB52"
          ],
          "font": {
           "color": "#2a3f5f"
          },
          "geo": {
           "bgcolor": "white",
           "lakecolor": "white",
           "landcolor": "#E5ECF6",
           "showlakes": true,
           "showland": true,
           "subunitcolor": "white"
          },
          "hoverlabel": {
           "align": "left"
          },
          "hovermode": "closest",
          "mapbox": {
           "style": "light"
          },
          "paper_bgcolor": "white",
          "plot_bgcolor": "#E5ECF6",
          "polar": {
           "angularaxis": {
            "gridcolor": "white",
            "linecolor": "white",
            "ticks": ""
           },
           "bgcolor": "#E5ECF6",
           "radialaxis": {
            "gridcolor": "white",
            "linecolor": "white",
            "ticks": ""
           }
          },
          "scene": {
           "xaxis": {
            "backgroundcolor": "#E5ECF6",
            "gridcolor": "white",
            "gridwidth": 2,
            "linecolor": "white",
            "showbackground": true,
            "ticks": "",
            "zerolinecolor": "white"
           },
           "yaxis": {
            "backgroundcolor": "#E5ECF6",
            "gridcolor": "white",
            "gridwidth": 2,
            "linecolor": "white",
            "showbackground": true,
            "ticks": "",
            "zerolinecolor": "white"
           },
           "zaxis": {
            "backgroundcolor": "#E5ECF6",
            "gridcolor": "white",
            "gridwidth": 2,
            "linecolor": "white",
            "showbackground": true,
            "ticks": "",
            "zerolinecolor": "white"
           }
          },
          "shapedefaults": {
           "line": {
            "color": "#2a3f5f"
           }
          },
          "ternary": {
           "aaxis": {
            "gridcolor": "white",
            "linecolor": "white",
            "ticks": ""
           },
           "baxis": {
            "gridcolor": "white",
            "linecolor": "white",
            "ticks": ""
           },
           "bgcolor": "#E5ECF6",
           "caxis": {
            "gridcolor": "white",
            "linecolor": "white",
            "ticks": ""
           }
          },
          "title": {
           "x": 0.05
          },
          "xaxis": {
           "automargin": true,
           "gridcolor": "white",
           "linecolor": "white",
           "ticks": "",
           "zerolinecolor": "white",
           "zerolinewidth": 2
          },
          "yaxis": {
           "automargin": true,
           "gridcolor": "white",
           "linecolor": "white",
           "ticks": "",
           "zerolinecolor": "white",
           "zerolinewidth": 2
          }
         }
        },
        "updatemenus": [
         {
          "buttons": [
           {
            "args": [
             null,
             {
              "frame": {
               "duration": 500,
               "redraw": true
              },
              "fromcurrent": true,
              "mode": "immediate",
              "transition": {
               "duration": 500,
               "easing": "linear"
              }
             }
            ],
            "label": "&#9654;",
            "method": "animate"
           },
           {
            "args": [
             [
              null
             ],
             {
              "frame": {
               "duration": 0,
               "redraw": true
              },
              "fromcurrent": true,
              "mode": "immediate",
              "transition": {
               "duration": 0,
               "easing": "linear"
              }
             }
            ],
            "label": "&#9724;",
            "method": "animate"
           }
          ],
          "direction": "left",
          "pad": {
           "r": 10,
           "t": 70
          },
          "showactive": false,
          "type": "buttons",
          "x": 0.1,
          "xanchor": "right",
          "y": 0,
          "yanchor": "top"
         }
        ],
        "xaxis": {
         "anchor": "y",
         "categoryarray": [
          " India",
          "Andhra Pradesh",
          "Arunachal Pradesh",
          "Assam",
          "Bihar",
          "Chhattisgarh",
          "Goa",
          "Gujarat",
          "Haryana",
          "Himachal Pradesh",
          "Jammu and Kashmir",
          "Jharkhand",
          "Karnataka",
          "Kerala",
          "Madhya Pradesh",
          "Maharashtra",
          "Manipur",
          "Meghalaya",
          "Mizoram",
          "Nagaland",
          "Odisha",
          "Punjab",
          "Rajasthan",
          "Sikkim",
          "Tamil Nadu",
          "Tripura",
          "Uttar Pradesh",
          "Uttarakhand",
          "West Bengal",
          "Andaman and Nicobar Islands",
          "Chandigarh",
          "Delhi",
          "Pudduchery"
         ],
         "categoryorder": "total descending",
         "domain": [
          0,
          0.98
         ],
         "range": [
          0,
          10.5
         ],
         "title": {
          "text": "State/Union territory"
         }
        },
        "yaxis": {
         "anchor": "x",
         "domain": [
          0,
          1
         ],
         "title": {
          "text": "GDP (in Crores)"
         }
        }
       }
      },
      "text/html": [
       "<div>\n",
       "        \n",
       "        \n",
       "            <div id=\"795558d4-cff0-4854-881f-9494301084b3\" class=\"plotly-graph-div\" style=\"height:600px; width:100%;\"></div>\n",
       "            <script type=\"text/javascript\">\n",
       "                require([\"plotly\"], function(Plotly) {\n",
       "                    window.PLOTLYENV=window.PLOTLYENV || {};\n",
       "                    \n",
       "                if (document.getElementById(\"795558d4-cff0-4854-881f-9494301084b3\")) {\n",
       "                    Plotly.newPlot(\n",
       "                        '795558d4-cff0-4854-881f-9494301084b3',\n",
       "                        [{\"alignmentgroup\": \"True\", \"customdata\": [[2097726]], \"hoverlabel\": {\"namelength\": 0}, \"hovertemplate\": \"State/Union territory=%{x}<br>Year=2001\\u201302<br>GDP (in Crores)=%{customdata[0]}\", \"legendgroup\": \"State/Union territory=\\u00a0India\", \"marker\": {\"color\": \"#636efa\"}, \"name\": \"State/Union territory=\\u00a0India\", \"offsetgroup\": \"State/Union territory=\\u00a0India\", \"orientation\": \"v\", \"showlegend\": true, \"textposition\": \"auto\", \"type\": \"bar\", \"x\": [\"\\u00a0India\"], \"xaxis\": \"x\", \"y\": [2097726], \"yaxis\": \"y\"}, {\"alignmentgroup\": \"True\", \"customdata\": [[156711]], \"hoverlabel\": {\"namelength\": 0}, \"hovertemplate\": \"State/Union territory=%{x}<br>Year=2001\\u201302<br>GDP (in Crores)=%{customdata[0]}\", \"legendgroup\": \"State/Union territory=Andhra Pradesh\", \"marker\": {\"color\": \"#EF553B\"}, \"name\": \"State/Union territory=Andhra Pradesh\", \"offsetgroup\": \"State/Union territory=Andhra Pradesh\", \"orientation\": \"v\", \"showlegend\": true, \"textposition\": \"auto\", \"type\": \"bar\", \"x\": [\"Andhra Pradesh\"], \"xaxis\": \"x\", \"y\": [156711], \"yaxis\": \"y\"}, {\"alignmentgroup\": \"True\", \"customdata\": [[2104]], \"hoverlabel\": {\"namelength\": 0}, \"hovertemplate\": \"State/Union territory=%{x}<br>Year=2001\\u201302<br>GDP (in Crores)=%{customdata[0]}\", \"legendgroup\": \"State/Union territory=Arunachal Pradesh\", \"marker\": {\"color\": \"#00cc96\"}, \"name\": \"State/Union territory=Arunachal Pradesh\", \"offsetgroup\": \"State/Union territory=Arunachal Pradesh\", \"orientation\": \"v\", \"showlegend\": true, \"textposition\": \"auto\", \"type\": \"bar\", \"x\": [\"Arunachal Pradesh\"], \"xaxis\": \"x\", \"y\": [2104], \"yaxis\": \"y\"}, {\"alignmentgroup\": \"True\", \"customdata\": [[38313]], \"hoverlabel\": {\"namelength\": 0}, \"hovertemplate\": \"State/Union territory=%{x}<br>Year=2001\\u201302<br>GDP (in Crores)=%{customdata[0]}\", \"legendgroup\": \"State/Union territory=Assam\", \"marker\": {\"color\": \"#ab63fa\"}, \"name\": \"State/Union territory=Assam\", \"offsetgroup\": \"State/Union territory=Assam\", \"orientation\": \"v\", \"showlegend\": true, \"textposition\": \"auto\", \"type\": \"bar\", \"x\": [\"Assam\"], \"xaxis\": \"x\", \"y\": [38313], \"yaxis\": \"y\"}, {\"alignmentgroup\": \"True\", \"customdata\": [[57657]], \"hoverlabel\": {\"namelength\": 0}, \"hovertemplate\": \"State/Union territory=%{x}<br>Year=2001\\u201302<br>GDP (in Crores)=%{customdata[0]}\", \"legendgroup\": \"State/Union territory=Bihar\", \"marker\": {\"color\": \"#FFA15A\"}, \"name\": \"State/Union territory=Bihar\", \"offsetgroup\": \"State/Union territory=Bihar\", \"orientation\": \"v\", \"showlegend\": true, \"textposition\": \"auto\", \"type\": \"bar\", \"x\": [\"Bihar\"], \"xaxis\": \"x\", \"y\": [57657], \"yaxis\": \"y\"}, {\"alignmentgroup\": \"True\", \"customdata\": [[29539]], \"hoverlabel\": {\"namelength\": 0}, \"hovertemplate\": \"State/Union territory=%{x}<br>Year=2001\\u201302<br>GDP (in Crores)=%{customdata[0]}\", \"legendgroup\": \"State/Union territory=Chhattisgarh\", \"marker\": {\"color\": \"#19d3f3\"}, \"name\": \"State/Union territory=Chhattisgarh\", \"offsetgroup\": \"State/Union territory=Chhattisgarh\", \"orientation\": \"v\", \"showlegend\": true, \"textposition\": \"auto\", \"type\": \"bar\", \"x\": [\"Chhattisgarh\"], \"xaxis\": \"x\", \"y\": [29539], \"yaxis\": \"y\"}, {\"alignmentgroup\": \"True\", \"customdata\": [[7097]], \"hoverlabel\": {\"namelength\": 0}, \"hovertemplate\": \"State/Union territory=%{x}<br>Year=2001\\u201302<br>GDP (in Crores)=%{customdata[0]}\", \"legendgroup\": \"State/Union territory=Goa\", \"marker\": {\"color\": \"#FF6692\"}, \"name\": \"State/Union territory=Goa\", \"offsetgroup\": \"State/Union territory=Goa\", \"orientation\": \"v\", \"showlegend\": true, \"textposition\": \"auto\", \"type\": \"bar\", \"x\": [\"Goa\"], \"xaxis\": \"x\", \"y\": [7097], \"yaxis\": \"y\"}, {\"alignmentgroup\": \"True\", \"customdata\": [[123573]], \"hoverlabel\": {\"namelength\": 0}, \"hovertemplate\": \"State/Union territory=%{x}<br>Year=2001\\u201302<br>GDP (in Crores)=%{customdata[0]}\", \"legendgroup\": \"State/Union territory=Gujarat\", \"marker\": {\"color\": \"#B6E880\"}, \"name\": \"State/Union territory=Gujarat\", \"offsetgroup\": \"State/Union territory=Gujarat\", \"orientation\": \"v\", \"showlegend\": true, \"textposition\": \"auto\", \"type\": \"bar\", \"x\": [\"Gujarat\"], \"xaxis\": \"x\", \"y\": [123573], \"yaxis\": \"y\"}, {\"alignmentgroup\": \"True\", \"customdata\": [[65505]], \"hoverlabel\": {\"namelength\": 0}, \"hovertemplate\": \"State/Union territory=%{x}<br>Year=2001\\u201302<br>GDP (in Crores)=%{customdata[0]}\", \"legendgroup\": \"State/Union territory=Haryana\", \"marker\": {\"color\": \"#FF97FF\"}, \"name\": \"State/Union territory=Haryana\", \"offsetgroup\": \"State/Union territory=Haryana\", \"orientation\": \"v\", \"showlegend\": true, \"textposition\": \"auto\", \"type\": \"bar\", \"x\": [\"Haryana\"], \"xaxis\": \"x\", \"y\": [65505], \"yaxis\": \"y\"}, {\"alignmentgroup\": \"True\", \"customdata\": [[17148]], \"hoverlabel\": {\"namelength\": 0}, \"hovertemplate\": \"State/Union territory=%{x}<br>Year=2001\\u201302<br>GDP (in Crores)=%{customdata[0]}\", \"legendgroup\": \"State/Union territory=Himachal Pradesh\", \"marker\": {\"color\": \"#FECB52\"}, \"name\": \"State/Union territory=Himachal Pradesh\", \"offsetgroup\": \"State/Union territory=Himachal Pradesh\", \"orientation\": \"v\", \"showlegend\": true, \"textposition\": \"auto\", \"type\": \"bar\", \"x\": [\"Himachal Pradesh\"], \"xaxis\": \"x\", \"y\": [17148], \"yaxis\": \"y\"}, {\"alignmentgroup\": \"True\", \"customdata\": [[18039]], \"hoverlabel\": {\"namelength\": 0}, \"hovertemplate\": \"State/Union territory=%{x}<br>Year=2001\\u201302<br>GDP (in Crores)=%{customdata[0]}\", \"legendgroup\": \"State/Union territory=Jammu and Kashmir\", \"marker\": {\"color\": \"#636efa\"}, \"name\": \"State/Union territory=Jammu and Kashmir\", \"offsetgroup\": \"State/Union territory=Jammu and Kashmir\", \"orientation\": \"v\", \"showlegend\": true, \"textposition\": \"auto\", \"type\": \"bar\", \"x\": [\"Jammu and Kashmir\"], \"xaxis\": \"x\", \"y\": [18039], \"yaxis\": \"y\"}, {\"alignmentgroup\": \"True\", \"customdata\": [[35069]], \"hoverlabel\": {\"namelength\": 0}, \"hovertemplate\": \"State/Union territory=%{x}<br>Year=2001\\u201302<br>GDP (in Crores)=%{customdata[0]}\", \"legendgroup\": \"State/Union territory=Jharkhand\", \"marker\": {\"color\": \"#EF553B\"}, \"name\": \"State/Union territory=Jharkhand\", \"offsetgroup\": \"State/Union territory=Jharkhand\", \"orientation\": \"v\", \"showlegend\": true, \"textposition\": \"auto\", \"type\": \"bar\", \"x\": [\"Jharkhand\"], \"xaxis\": \"x\", \"y\": [35069], \"yaxis\": \"y\"}, {\"alignmentgroup\": \"True\", \"customdata\": [[112847]], \"hoverlabel\": {\"namelength\": 0}, \"hovertemplate\": \"State/Union territory=%{x}<br>Year=2001\\u201302<br>GDP (in Crores)=%{customdata[0]}\", \"legendgroup\": \"State/Union territory=Karnataka\", \"marker\": {\"color\": \"#00cc96\"}, \"name\": \"State/Union territory=Karnataka\", \"offsetgroup\": \"State/Union territory=Karnataka\", \"orientation\": \"v\", \"showlegend\": true, \"textposition\": \"auto\", \"type\": \"bar\", \"x\": [\"Karnataka\"], \"xaxis\": \"x\", \"y\": [112847], \"yaxis\": \"y\"}, {\"alignmentgroup\": \"True\", \"customdata\": [[77924]], \"hoverlabel\": {\"namelength\": 0}, \"hovertemplate\": \"State/Union territory=%{x}<br>Year=2001\\u201302<br>GDP (in Crores)=%{customdata[0]}\", \"legendgroup\": \"State/Union territory=Kerala\", \"marker\": {\"color\": \"#ab63fa\"}, \"name\": \"State/Union territory=Kerala\", \"offsetgroup\": \"State/Union territory=Kerala\", \"orientation\": \"v\", \"showlegend\": true, \"textposition\": \"auto\", \"type\": \"bar\", \"x\": [\"Kerala\"], \"xaxis\": \"x\", \"y\": [77924], \"yaxis\": \"y\"}, {\"alignmentgroup\": \"True\", \"customdata\": [[86745]], \"hoverlabel\": {\"namelength\": 0}, \"hovertemplate\": \"State/Union territory=%{x}<br>Year=2001\\u201302<br>GDP (in Crores)=%{customdata[0]}\", \"legendgroup\": \"State/Union territory=Madhya Pradesh\", \"marker\": {\"color\": \"#FFA15A\"}, \"name\": \"State/Union territory=Madhya Pradesh\", \"offsetgroup\": \"State/Union territory=Madhya Pradesh\", \"orientation\": \"v\", \"showlegend\": true, \"textposition\": \"auto\", \"type\": \"bar\", \"x\": [\"Madhya Pradesh\"], \"xaxis\": \"x\", \"y\": [86745], \"yaxis\": \"y\"}, {\"alignmentgroup\": \"True\", \"customdata\": [[273188]], \"hoverlabel\": {\"namelength\": 0}, \"hovertemplate\": \"State/Union territory=%{x}<br>Year=2001\\u201302<br>GDP (in Crores)=%{customdata[0]}\", \"legendgroup\": \"State/Union territory=Maharashtra\", \"marker\": {\"color\": \"#19d3f3\"}, \"name\": \"State/Union territory=Maharashtra\", \"offsetgroup\": \"State/Union territory=Maharashtra\", \"orientation\": \"v\", \"showlegend\": true, \"textposition\": \"auto\", \"type\": \"bar\", \"x\": [\"Maharashtra\"], \"xaxis\": \"x\", \"y\": [273188], \"yaxis\": \"y\"}, {\"alignmentgroup\": \"True\", \"customdata\": [[3369]], \"hoverlabel\": {\"namelength\": 0}, \"hovertemplate\": \"State/Union territory=%{x}<br>Year=2001\\u201302<br>GDP (in Crores)=%{customdata[0]}\", \"legendgroup\": \"State/Union territory=Manipur\", \"marker\": {\"color\": \"#FF6692\"}, \"name\": \"State/Union territory=Manipur\", \"offsetgroup\": \"State/Union territory=Manipur\", \"orientation\": \"v\", \"showlegend\": true, \"textposition\": \"auto\", \"type\": \"bar\", \"x\": [\"Manipur\"], \"xaxis\": \"x\", \"y\": [3369], \"yaxis\": \"y\"}, {\"alignmentgroup\": \"True\", \"customdata\": [[4478]], \"hoverlabel\": {\"namelength\": 0}, \"hovertemplate\": \"State/Union territory=%{x}<br>Year=2001\\u201302<br>GDP (in Crores)=%{customdata[0]}\", \"legendgroup\": \"State/Union territory=Meghalaya\", \"marker\": {\"color\": \"#B6E880\"}, \"name\": \"State/Union territory=Meghalaya\", \"offsetgroup\": \"State/Union territory=Meghalaya\", \"orientation\": \"v\", \"showlegend\": true, \"textposition\": \"auto\", \"type\": \"bar\", \"x\": [\"Meghalaya\"], \"xaxis\": \"x\", \"y\": [4478], \"yaxis\": \"y\"}, {\"alignmentgroup\": \"True\", \"customdata\": [[1947]], \"hoverlabel\": {\"namelength\": 0}, \"hovertemplate\": \"State/Union territory=%{x}<br>Year=2001\\u201302<br>GDP (in Crores)=%{customdata[0]}\", \"legendgroup\": \"State/Union territory=Mizoram\", \"marker\": {\"color\": \"#FF97FF\"}, \"name\": \"State/Union territory=Mizoram\", \"offsetgroup\": \"State/Union territory=Mizoram\", \"orientation\": \"v\", \"showlegend\": true, \"textposition\": \"auto\", \"type\": \"bar\", \"x\": [\"Mizoram\"], \"xaxis\": \"x\", \"y\": [1947], \"yaxis\": \"y\"}, {\"alignmentgroup\": \"True\", \"customdata\": [[3972]], \"hoverlabel\": {\"namelength\": 0}, \"hovertemplate\": \"State/Union territory=%{x}<br>Year=2001\\u201302<br>GDP (in Crores)=%{customdata[0]}\", \"legendgroup\": \"State/Union territory=Nagaland\", \"marker\": {\"color\": \"#FECB52\"}, \"name\": \"State/Union territory=Nagaland\", \"offsetgroup\": \"State/Union territory=Nagaland\", \"orientation\": \"v\", \"showlegend\": true, \"textposition\": \"auto\", \"type\": \"bar\", \"x\": [\"Nagaland\"], \"xaxis\": \"x\", \"y\": [3972], \"yaxis\": \"y\"}, {\"alignmentgroup\": \"True\", \"customdata\": [[46756]], \"hoverlabel\": {\"namelength\": 0}, \"hovertemplate\": \"State/Union territory=%{x}<br>Year=2001\\u201302<br>GDP (in Crores)=%{customdata[0]}\", \"legendgroup\": \"State/Union territory=Odisha\", \"marker\": {\"color\": \"#636efa\"}, \"name\": \"State/Union territory=Odisha\", \"offsetgroup\": \"State/Union territory=Odisha\", \"orientation\": \"v\", \"showlegend\": true, \"textposition\": \"auto\", \"type\": \"bar\", \"x\": [\"Odisha\"], \"xaxis\": \"x\", \"y\": [46756], \"yaxis\": \"y\"}, {\"alignmentgroup\": \"True\", \"customdata\": [[79611]], \"hoverlabel\": {\"namelength\": 0}, \"hovertemplate\": \"State/Union territory=%{x}<br>Year=2001\\u201302<br>GDP (in Crores)=%{customdata[0]}\", \"legendgroup\": \"State/Union territory=Punjab\", \"marker\": {\"color\": \"#EF553B\"}, \"name\": \"State/Union territory=Punjab\", \"offsetgroup\": \"State/Union territory=Punjab\", \"orientation\": \"v\", \"showlegend\": true, \"textposition\": \"auto\", \"type\": \"bar\", \"x\": [\"Punjab\"], \"xaxis\": \"x\", \"y\": [79611], \"yaxis\": \"y\"}, {\"alignmentgroup\": \"True\", \"customdata\": [[91771]], \"hoverlabel\": {\"namelength\": 0}, \"hovertemplate\": \"State/Union territory=%{x}<br>Year=2001\\u201302<br>GDP (in Crores)=%{customdata[0]}\", \"legendgroup\": \"State/Union territory=Rajasthan\", \"marker\": {\"color\": \"#00cc96\"}, \"name\": \"State/Union territory=Rajasthan\", \"offsetgroup\": \"State/Union territory=Rajasthan\", \"orientation\": \"v\", \"showlegend\": true, \"textposition\": \"auto\", \"type\": \"bar\", \"x\": [\"Rajasthan\"], \"xaxis\": \"x\", \"y\": [91771], \"yaxis\": \"y\"}, {\"alignmentgroup\": \"True\", \"customdata\": [[1136]], \"hoverlabel\": {\"namelength\": 0}, \"hovertemplate\": \"State/Union territory=%{x}<br>Year=2001\\u201302<br>GDP (in Crores)=%{customdata[0]}\", \"legendgroup\": \"State/Union territory=Sikkim\", \"marker\": {\"color\": \"#ab63fa\"}, \"name\": \"State/Union territory=Sikkim\", \"offsetgroup\": \"State/Union territory=Sikkim\", \"orientation\": \"v\", \"showlegend\": true, \"textposition\": \"auto\", \"type\": \"bar\", \"x\": [\"Sikkim\"], \"xaxis\": \"x\", \"y\": [1136], \"yaxis\": \"y\"}, {\"alignmentgroup\": \"True\", \"customdata\": [[148861]], \"hoverlabel\": {\"namelength\": 0}, \"hovertemplate\": \"State/Union territory=%{x}<br>Year=2001\\u201302<br>GDP (in Crores)=%{customdata[0]}\", \"legendgroup\": \"State/Union territory=Tamil Nadu\", \"marker\": {\"color\": \"#FFA15A\"}, \"name\": \"State/Union territory=Tamil Nadu\", \"offsetgroup\": \"State/Union territory=Tamil Nadu\", \"orientation\": \"v\", \"showlegend\": true, \"textposition\": \"auto\", \"type\": \"bar\", \"x\": [\"Tamil Nadu\"], \"xaxis\": \"x\", \"y\": [148861], \"yaxis\": \"y\"}, {\"alignmentgroup\": \"True\", \"customdata\": [[6370]], \"hoverlabel\": {\"namelength\": 0}, \"hovertemplate\": \"State/Union territory=%{x}<br>Year=2001\\u201302<br>GDP (in Crores)=%{customdata[0]}\", \"legendgroup\": \"State/Union territory=Tripura\", \"marker\": {\"color\": \"#19d3f3\"}, \"name\": \"State/Union territory=Tripura\", \"offsetgroup\": \"State/Union territory=Tripura\", \"orientation\": \"v\", \"showlegend\": true, \"textposition\": \"auto\", \"type\": \"bar\", \"x\": [\"Tripura\"], \"xaxis\": \"x\", \"y\": [6370], \"yaxis\": \"y\"}, {\"alignmentgroup\": \"True\", \"customdata\": [[190269]], \"hoverlabel\": {\"namelength\": 0}, \"hovertemplate\": \"State/Union territory=%{x}<br>Year=2001\\u201302<br>GDP (in Crores)=%{customdata[0]}\", \"legendgroup\": \"State/Union territory=Uttar Pradesh\", \"marker\": {\"color\": \"#FF6692\"}, \"name\": \"State/Union territory=Uttar Pradesh\", \"offsetgroup\": \"State/Union territory=Uttar Pradesh\", \"orientation\": \"v\", \"showlegend\": true, \"textposition\": \"auto\", \"type\": \"bar\", \"x\": [\"Uttar Pradesh\"], \"xaxis\": \"x\", \"y\": [190269], \"yaxis\": \"y\"}, {\"alignmentgroup\": \"True\", \"customdata\": [[15144]], \"hoverlabel\": {\"namelength\": 0}, \"hovertemplate\": \"State/Union territory=%{x}<br>Year=2001\\u201302<br>GDP (in Crores)=%{customdata[0]}\", \"legendgroup\": \"State/Union territory=Uttarakhand\", \"marker\": {\"color\": \"#B6E880\"}, \"name\": \"State/Union territory=Uttarakhand\", \"offsetgroup\": \"State/Union territory=Uttarakhand\", \"orientation\": \"v\", \"showlegend\": true, \"textposition\": \"auto\", \"type\": \"bar\", \"x\": [\"Uttarakhand\"], \"xaxis\": \"x\", \"y\": [15144], \"yaxis\": \"y\"}, {\"alignmentgroup\": \"True\", \"customdata\": [[157144]], \"hoverlabel\": {\"namelength\": 0}, \"hovertemplate\": \"State/Union territory=%{x}<br>Year=2001\\u201302<br>GDP (in Crores)=%{customdata[0]}\", \"legendgroup\": \"State/Union territory=West Bengal\", \"marker\": {\"color\": \"#FF97FF\"}, \"name\": \"State/Union territory=West Bengal\", \"offsetgroup\": \"State/Union territory=West Bengal\", \"orientation\": \"v\", \"showlegend\": true, \"textposition\": \"auto\", \"type\": \"bar\", \"x\": [\"West Bengal\"], \"xaxis\": \"x\", \"y\": [157144], \"yaxis\": \"y\"}, {\"alignmentgroup\": \"True\", \"customdata\": [[1082]], \"hoverlabel\": {\"namelength\": 0}, \"hovertemplate\": \"State/Union territory=%{x}<br>Year=2001\\u201302<br>GDP (in Crores)=%{customdata[0]}\", \"legendgroup\": \"State/Union territory=Andaman and Nicobar Islands\", \"marker\": {\"color\": \"#FECB52\"}, \"name\": \"State/Union territory=Andaman and Nicobar Islands\", \"offsetgroup\": \"State/Union territory=Andaman and Nicobar Islands\", \"orientation\": \"v\", \"showlegend\": true, \"textposition\": \"auto\", \"type\": \"bar\", \"x\": [\"Andaman and Nicobar Islands\"], \"xaxis\": \"x\", \"y\": [1082], \"yaxis\": \"y\"}, {\"alignmentgroup\": \"True\", \"customdata\": [[5490]], \"hoverlabel\": {\"namelength\": 0}, \"hovertemplate\": \"State/Union territory=%{x}<br>Year=2001\\u201302<br>GDP (in Crores)=%{customdata[0]}\", \"legendgroup\": \"State/Union territory=Chandigarh\", \"marker\": {\"color\": \"#636efa\"}, \"name\": \"State/Union territory=Chandigarh\", \"offsetgroup\": \"State/Union territory=Chandigarh\", \"orientation\": \"v\", \"showlegend\": true, \"textposition\": \"auto\", \"type\": \"bar\", \"x\": [\"Chandigarh\"], \"xaxis\": \"x\", \"y\": [5490], \"yaxis\": \"y\"}, {\"alignmentgroup\": \"True\", \"customdata\": [[65027]], \"hoverlabel\": {\"namelength\": 0}, \"hovertemplate\": \"State/Union territory=%{x}<br>Year=2001\\u201302<br>GDP (in Crores)=%{customdata[0]}\", \"legendgroup\": \"State/Union territory=Delhi\", \"marker\": {\"color\": \"#EF553B\"}, \"name\": \"State/Union territory=Delhi\", \"offsetgroup\": \"State/Union territory=Delhi\", \"orientation\": \"v\", \"showlegend\": true, \"textposition\": \"auto\", \"type\": \"bar\", \"x\": [\"Delhi\"], \"xaxis\": \"x\", \"y\": [65027], \"yaxis\": \"y\"}, {\"alignmentgroup\": \"True\", \"customdata\": [[4259]], \"hoverlabel\": {\"namelength\": 0}, \"hovertemplate\": \"State/Union territory=%{x}<br>Year=2001\\u201302<br>GDP (in Crores)=%{customdata[0]}\", \"legendgroup\": \"State/Union territory=Pudduchery\", \"marker\": {\"color\": \"#00cc96\"}, \"name\": \"State/Union territory=Pudduchery\", \"offsetgroup\": \"State/Union territory=Pudduchery\", \"orientation\": \"v\", \"showlegend\": true, \"textposition\": \"auto\", \"type\": \"bar\", \"x\": [\"Pudduchery\"], \"xaxis\": \"x\", \"y\": [4259], \"yaxis\": \"y\"}],\n",
       "                        {\"barmode\": \"relative\", \"height\": 600, \"legend\": {\"tracegroupgap\": 0}, \"margin\": {\"t\": 60}, \"sliders\": [{\"active\": 0, \"currentvalue\": {\"prefix\": \"Year=\"}, \"len\": 0.9, \"pad\": {\"b\": 10, \"t\": 60}, \"steps\": [{\"args\": [[\"2001\\u201302\"], {\"frame\": {\"duration\": 0, \"redraw\": true}, \"fromcurrent\": true, \"mode\": \"immediate\", \"transition\": {\"duration\": 0, \"easing\": \"linear\"}}], \"label\": \"2001\\u201302\", \"method\": \"animate\"}, {\"args\": [[\"2002\\u201303\"], {\"frame\": {\"duration\": 0, \"redraw\": true}, \"fromcurrent\": true, \"mode\": \"immediate\", \"transition\": {\"duration\": 0, \"easing\": \"linear\"}}], \"label\": \"2002\\u201303\", \"method\": \"animate\"}, {\"args\": [[\"2003\\u201304\"], {\"frame\": {\"duration\": 0, \"redraw\": true}, \"fromcurrent\": true, \"mode\": \"immediate\", \"transition\": {\"duration\": 0, \"easing\": \"linear\"}}], \"label\": \"2003\\u201304\", \"method\": \"animate\"}, {\"args\": [[\"2004\\u201305\"], {\"frame\": {\"duration\": 0, \"redraw\": true}, \"fromcurrent\": true, \"mode\": \"immediate\", \"transition\": {\"duration\": 0, \"easing\": \"linear\"}}], \"label\": \"2004\\u201305\", \"method\": \"animate\"}, {\"args\": [[\"2005\\u201306\"], {\"frame\": {\"duration\": 0, \"redraw\": true}, \"fromcurrent\": true, \"mode\": \"immediate\", \"transition\": {\"duration\": 0, \"easing\": \"linear\"}}], \"label\": \"2005\\u201306\", \"method\": \"animate\"}, {\"args\": [[\"2006\\u201307\"], {\"frame\": {\"duration\": 0, \"redraw\": true}, \"fromcurrent\": true, \"mode\": \"immediate\", \"transition\": {\"duration\": 0, \"easing\": \"linear\"}}], \"label\": \"2006\\u201307\", \"method\": \"animate\"}, {\"args\": [[\"2007\\u201308\"], {\"frame\": {\"duration\": 0, \"redraw\": true}, \"fromcurrent\": true, \"mode\": \"immediate\", \"transition\": {\"duration\": 0, \"easing\": \"linear\"}}], \"label\": \"2007\\u201308\", \"method\": \"animate\"}, {\"args\": [[\"2008\\u201309\"], {\"frame\": {\"duration\": 0, \"redraw\": true}, \"fromcurrent\": true, \"mode\": \"immediate\", \"transition\": {\"duration\": 0, \"easing\": \"linear\"}}], \"label\": \"2008\\u201309\", \"method\": \"animate\"}, {\"args\": [[\"2009\\u201310\"], {\"frame\": {\"duration\": 0, \"redraw\": true}, \"fromcurrent\": true, \"mode\": \"immediate\", \"transition\": {\"duration\": 0, \"easing\": \"linear\"}}], \"label\": \"2009\\u201310\", \"method\": \"animate\"}, {\"args\": [[\"2010\\u201311\"], {\"frame\": {\"duration\": 0, \"redraw\": true}, \"fromcurrent\": true, \"mode\": \"immediate\", \"transition\": {\"duration\": 0, \"easing\": \"linear\"}}], \"label\": \"2010\\u201311\", \"method\": \"animate\"}], \"x\": 0.1, \"xanchor\": \"left\", \"y\": 0, \"yanchor\": \"top\"}], \"template\": {\"data\": {\"bar\": [{\"error_x\": {\"color\": \"#2a3f5f\"}, \"error_y\": {\"color\": \"#2a3f5f\"}, \"marker\": {\"line\": {\"color\": \"#E5ECF6\", \"width\": 0.5}}, \"type\": \"bar\"}], \"barpolar\": [{\"marker\": {\"line\": {\"color\": \"#E5ECF6\", \"width\": 0.5}}, \"type\": \"barpolar\"}], \"carpet\": [{\"aaxis\": {\"endlinecolor\": \"#2a3f5f\", \"gridcolor\": \"white\", \"linecolor\": \"white\", \"minorgridcolor\": \"white\", \"startlinecolor\": \"#2a3f5f\"}, \"baxis\": {\"endlinecolor\": \"#2a3f5f\", \"gridcolor\": \"white\", \"linecolor\": \"white\", \"minorgridcolor\": \"white\", \"startlinecolor\": \"#2a3f5f\"}, \"type\": \"carpet\"}], \"choropleth\": [{\"colorbar\": {\"outlinewidth\": 0, \"ticks\": \"\"}, \"type\": \"choropleth\"}], \"contour\": [{\"colorbar\": {\"outlinewidth\": 0, \"ticks\": \"\"}, \"colorscale\": [[0.0, \"#0d0887\"], [0.1111111111111111, \"#46039f\"], [0.2222222222222222, \"#7201a8\"], [0.3333333333333333, \"#9c179e\"], [0.4444444444444444, \"#bd3786\"], [0.5555555555555556, \"#d8576b\"], [0.6666666666666666, \"#ed7953\"], [0.7777777777777778, \"#fb9f3a\"], [0.8888888888888888, \"#fdca26\"], [1.0, \"#f0f921\"]], \"type\": \"contour\"}], \"contourcarpet\": [{\"colorbar\": {\"outlinewidth\": 0, \"ticks\": \"\"}, \"type\": \"contourcarpet\"}], \"heatmap\": [{\"colorbar\": {\"outlinewidth\": 0, \"ticks\": \"\"}, \"colorscale\": [[0.0, \"#0d0887\"], [0.1111111111111111, \"#46039f\"], [0.2222222222222222, \"#7201a8\"], [0.3333333333333333, \"#9c179e\"], [0.4444444444444444, \"#bd3786\"], [0.5555555555555556, \"#d8576b\"], [0.6666666666666666, \"#ed7953\"], [0.7777777777777778, \"#fb9f3a\"], [0.8888888888888888, \"#fdca26\"], [1.0, \"#f0f921\"]], \"type\": \"heatmap\"}], \"heatmapgl\": [{\"colorbar\": {\"outlinewidth\": 0, \"ticks\": \"\"}, \"colorscale\": [[0.0, \"#0d0887\"], [0.1111111111111111, \"#46039f\"], [0.2222222222222222, \"#7201a8\"], [0.3333333333333333, \"#9c179e\"], [0.4444444444444444, \"#bd3786\"], [0.5555555555555556, \"#d8576b\"], [0.6666666666666666, \"#ed7953\"], [0.7777777777777778, \"#fb9f3a\"], [0.8888888888888888, \"#fdca26\"], [1.0, \"#f0f921\"]], \"type\": \"heatmapgl\"}], \"histogram\": [{\"marker\": {\"colorbar\": {\"outlinewidth\": 0, \"ticks\": \"\"}}, \"type\": \"histogram\"}], \"histogram2d\": [{\"colorbar\": {\"outlinewidth\": 0, \"ticks\": \"\"}, \"colorscale\": [[0.0, \"#0d0887\"], [0.1111111111111111, \"#46039f\"], [0.2222222222222222, \"#7201a8\"], [0.3333333333333333, \"#9c179e\"], [0.4444444444444444, \"#bd3786\"], [0.5555555555555556, \"#d8576b\"], [0.6666666666666666, \"#ed7953\"], [0.7777777777777778, \"#fb9f3a\"], [0.8888888888888888, \"#fdca26\"], [1.0, \"#f0f921\"]], \"type\": \"histogram2d\"}], \"histogram2dcontour\": [{\"colorbar\": {\"outlinewidth\": 0, \"ticks\": \"\"}, \"colorscale\": [[0.0, \"#0d0887\"], [0.1111111111111111, \"#46039f\"], [0.2222222222222222, \"#7201a8\"], [0.3333333333333333, \"#9c179e\"], [0.4444444444444444, \"#bd3786\"], [0.5555555555555556, \"#d8576b\"], [0.6666666666666666, \"#ed7953\"], [0.7777777777777778, \"#fb9f3a\"], [0.8888888888888888, \"#fdca26\"], [1.0, \"#f0f921\"]], \"type\": \"histogram2dcontour\"}], \"mesh3d\": [{\"colorbar\": {\"outlinewidth\": 0, \"ticks\": \"\"}, \"type\": \"mesh3d\"}], \"parcoords\": [{\"line\": {\"colorbar\": {\"outlinewidth\": 0, \"ticks\": \"\"}}, \"type\": \"parcoords\"}], \"scatter\": [{\"marker\": {\"colorbar\": {\"outlinewidth\": 0, \"ticks\": \"\"}}, \"type\": \"scatter\"}], \"scatter3d\": [{\"line\": {\"colorbar\": {\"outlinewidth\": 0, \"ticks\": \"\"}}, \"marker\": {\"colorbar\": {\"outlinewidth\": 0, \"ticks\": \"\"}}, \"type\": \"scatter3d\"}], \"scattercarpet\": [{\"marker\": {\"colorbar\": {\"outlinewidth\": 0, \"ticks\": \"\"}}, \"type\": \"scattercarpet\"}], \"scattergeo\": [{\"marker\": {\"colorbar\": {\"outlinewidth\": 0, \"ticks\": \"\"}}, \"type\": \"scattergeo\"}], \"scattergl\": [{\"marker\": {\"colorbar\": {\"outlinewidth\": 0, \"ticks\": \"\"}}, \"type\": \"scattergl\"}], \"scattermapbox\": [{\"marker\": {\"colorbar\": {\"outlinewidth\": 0, \"ticks\": \"\"}}, \"type\": \"scattermapbox\"}], \"scatterpolar\": [{\"marker\": {\"colorbar\": {\"outlinewidth\": 0, \"ticks\": \"\"}}, \"type\": \"scatterpolar\"}], \"scatterpolargl\": [{\"marker\": {\"colorbar\": {\"outlinewidth\": 0, \"ticks\": \"\"}}, \"type\": \"scatterpolargl\"}], \"scatterternary\": [{\"marker\": {\"colorbar\": {\"outlinewidth\": 0, \"ticks\": \"\"}}, \"type\": \"scatterternary\"}], \"surface\": [{\"colorbar\": {\"outlinewidth\": 0, \"ticks\": \"\"}, \"colorscale\": [[0.0, \"#0d0887\"], [0.1111111111111111, \"#46039f\"], [0.2222222222222222, \"#7201a8\"], [0.3333333333333333, \"#9c179e\"], [0.4444444444444444, \"#bd3786\"], [0.5555555555555556, \"#d8576b\"], [0.6666666666666666, \"#ed7953\"], [0.7777777777777778, \"#fb9f3a\"], [0.8888888888888888, \"#fdca26\"], [1.0, \"#f0f921\"]], \"type\": \"surface\"}], \"table\": [{\"cells\": {\"fill\": {\"color\": \"#EBF0F8\"}, \"line\": {\"color\": \"white\"}}, \"header\": {\"fill\": {\"color\": \"#C8D4E3\"}, \"line\": {\"color\": \"white\"}}, \"type\": \"table\"}]}, \"layout\": {\"annotationdefaults\": {\"arrowcolor\": \"#2a3f5f\", \"arrowhead\": 0, \"arrowwidth\": 1}, \"colorscale\": {\"diverging\": [[0, \"#8e0152\"], [0.1, \"#c51b7d\"], [0.2, \"#de77ae\"], [0.3, \"#f1b6da\"], [0.4, \"#fde0ef\"], [0.5, \"#f7f7f7\"], [0.6, \"#e6f5d0\"], [0.7, \"#b8e186\"], [0.8, \"#7fbc41\"], [0.9, \"#4d9221\"], [1, \"#276419\"]], \"sequential\": [[0.0, \"#0d0887\"], [0.1111111111111111, \"#46039f\"], [0.2222222222222222, \"#7201a8\"], [0.3333333333333333, \"#9c179e\"], [0.4444444444444444, \"#bd3786\"], [0.5555555555555556, \"#d8576b\"], [0.6666666666666666, \"#ed7953\"], [0.7777777777777778, \"#fb9f3a\"], [0.8888888888888888, \"#fdca26\"], [1.0, \"#f0f921\"]], \"sequentialminus\": [[0.0, \"#0d0887\"], [0.1111111111111111, \"#46039f\"], [0.2222222222222222, \"#7201a8\"], [0.3333333333333333, \"#9c179e\"], [0.4444444444444444, \"#bd3786\"], [0.5555555555555556, \"#d8576b\"], [0.6666666666666666, \"#ed7953\"], [0.7777777777777778, \"#fb9f3a\"], [0.8888888888888888, \"#fdca26\"], [1.0, \"#f0f921\"]]}, \"colorway\": [\"#636efa\", \"#EF553B\", \"#00cc96\", \"#ab63fa\", \"#FFA15A\", \"#19d3f3\", \"#FF6692\", \"#B6E880\", \"#FF97FF\", \"#FECB52\"], \"font\": {\"color\": \"#2a3f5f\"}, \"geo\": {\"bgcolor\": \"white\", \"lakecolor\": \"white\", \"landcolor\": \"#E5ECF6\", \"showlakes\": true, \"showland\": true, \"subunitcolor\": \"white\"}, \"hoverlabel\": {\"align\": \"left\"}, \"hovermode\": \"closest\", \"mapbox\": {\"style\": \"light\"}, \"paper_bgcolor\": \"white\", \"plot_bgcolor\": \"#E5ECF6\", \"polar\": {\"angularaxis\": {\"gridcolor\": \"white\", \"linecolor\": \"white\", \"ticks\": \"\"}, \"bgcolor\": \"#E5ECF6\", \"radialaxis\": {\"gridcolor\": \"white\", \"linecolor\": \"white\", \"ticks\": \"\"}}, \"scene\": {\"xaxis\": {\"backgroundcolor\": \"#E5ECF6\", \"gridcolor\": \"white\", \"gridwidth\": 2, \"linecolor\": \"white\", \"showbackground\": true, \"ticks\": \"\", \"zerolinecolor\": \"white\"}, \"yaxis\": {\"backgroundcolor\": \"#E5ECF6\", \"gridcolor\": \"white\", \"gridwidth\": 2, \"linecolor\": \"white\", \"showbackground\": true, \"ticks\": \"\", \"zerolinecolor\": \"white\"}, \"zaxis\": {\"backgroundcolor\": \"#E5ECF6\", \"gridcolor\": \"white\", \"gridwidth\": 2, \"linecolor\": \"white\", \"showbackground\": true, \"ticks\": \"\", \"zerolinecolor\": \"white\"}}, \"shapedefaults\": {\"line\": {\"color\": \"#2a3f5f\"}}, \"ternary\": {\"aaxis\": {\"gridcolor\": \"white\", \"linecolor\": \"white\", \"ticks\": \"\"}, \"baxis\": {\"gridcolor\": \"white\", \"linecolor\": \"white\", \"ticks\": \"\"}, \"bgcolor\": \"#E5ECF6\", \"caxis\": {\"gridcolor\": \"white\", \"linecolor\": \"white\", \"ticks\": \"\"}}, \"title\": {\"x\": 0.05}, \"xaxis\": {\"automargin\": true, \"gridcolor\": \"white\", \"linecolor\": \"white\", \"ticks\": \"\", \"zerolinecolor\": \"white\", \"zerolinewidth\": 2}, \"yaxis\": {\"automargin\": true, \"gridcolor\": \"white\", \"linecolor\": \"white\", \"ticks\": \"\", \"zerolinecolor\": \"white\", \"zerolinewidth\": 2}}}, \"updatemenus\": [{\"buttons\": [{\"args\": [null, {\"frame\": {\"duration\": 500, \"redraw\": true}, \"fromcurrent\": true, \"mode\": \"immediate\", \"transition\": {\"duration\": 500, \"easing\": \"linear\"}}], \"label\": \"&#9654;\", \"method\": \"animate\"}, {\"args\": [[null], {\"frame\": {\"duration\": 0, \"redraw\": true}, \"fromcurrent\": true, \"mode\": \"immediate\", \"transition\": {\"duration\": 0, \"easing\": \"linear\"}}], \"label\": \"&#9724;\", \"method\": \"animate\"}], \"direction\": \"left\", \"pad\": {\"r\": 10, \"t\": 70}, \"showactive\": false, \"type\": \"buttons\", \"x\": 0.1, \"xanchor\": \"right\", \"y\": 0, \"yanchor\": \"top\"}], \"xaxis\": {\"anchor\": \"y\", \"categoryarray\": [\"\\u00a0India\", \"Andhra Pradesh\", \"Arunachal Pradesh\", \"Assam\", \"Bihar\", \"Chhattisgarh\", \"Goa\", \"Gujarat\", \"Haryana\", \"Himachal Pradesh\", \"Jammu and Kashmir\", \"Jharkhand\", \"Karnataka\", \"Kerala\", \"Madhya Pradesh\", \"Maharashtra\", \"Manipur\", \"Meghalaya\", \"Mizoram\", \"Nagaland\", \"Odisha\", \"Punjab\", \"Rajasthan\", \"Sikkim\", \"Tamil Nadu\", \"Tripura\", \"Uttar Pradesh\", \"Uttarakhand\", \"West Bengal\", \"Andaman and Nicobar Islands\", \"Chandigarh\", \"Delhi\", \"Pudduchery\"], \"categoryorder\": \"total descending\", \"domain\": [0.0, 0.98], \"range\": [0, 10.5], \"title\": {\"text\": \"State/Union territory\"}}, \"yaxis\": {\"anchor\": \"x\", \"domain\": [0.0, 1.0], \"title\": {\"text\": \"GDP (in Crores)\"}}},\n",
       "                        {\"responsive\": true}\n",
       "                    ).then(function(){\n",
       "                            Plotly.addFrames('795558d4-cff0-4854-881f-9494301084b3', [{\"data\": [{\"alignmentgroup\": \"True\", \"customdata\": [[2097726]], \"hoverlabel\": {\"namelength\": 0}, \"hovertemplate\": \"State/Union territory=%{x}<br>Year=2001\\u201302<br>GDP (in Crores)=%{customdata[0]}\", \"legendgroup\": \"State/Union territory=\\u00a0India\", \"marker\": {\"color\": \"#636efa\"}, \"name\": \"State/Union territory=\\u00a0India\", \"offsetgroup\": \"State/Union territory=\\u00a0India\", \"orientation\": \"v\", \"showlegend\": true, \"textposition\": \"auto\", \"x\": [\"\\u00a0India\"], \"xaxis\": \"x\", \"y\": [2097726], \"yaxis\": \"y\", \"type\": \"bar\"}, {\"alignmentgroup\": \"True\", \"customdata\": [[156711]], \"hoverlabel\": {\"namelength\": 0}, \"hovertemplate\": \"State/Union territory=%{x}<br>Year=2001\\u201302<br>GDP (in Crores)=%{customdata[0]}\", \"legendgroup\": \"State/Union territory=Andhra Pradesh\", \"marker\": {\"color\": \"#EF553B\"}, \"name\": \"State/Union territory=Andhra Pradesh\", \"offsetgroup\": \"State/Union territory=Andhra Pradesh\", \"orientation\": \"v\", \"showlegend\": true, \"textposition\": \"auto\", \"x\": [\"Andhra Pradesh\"], \"xaxis\": \"x\", \"y\": [156711], \"yaxis\": \"y\", \"type\": \"bar\"}, {\"alignmentgroup\": \"True\", \"customdata\": [[2104]], \"hoverlabel\": {\"namelength\": 0}, \"hovertemplate\": \"State/Union territory=%{x}<br>Year=2001\\u201302<br>GDP (in Crores)=%{customdata[0]}\", \"legendgroup\": \"State/Union territory=Arunachal Pradesh\", \"marker\": {\"color\": \"#00cc96\"}, \"name\": \"State/Union territory=Arunachal Pradesh\", \"offsetgroup\": \"State/Union territory=Arunachal Pradesh\", \"orientation\": \"v\", \"showlegend\": true, \"textposition\": \"auto\", \"x\": [\"Arunachal Pradesh\"], \"xaxis\": \"x\", \"y\": [2104], \"yaxis\": \"y\", \"type\": \"bar\"}, {\"alignmentgroup\": \"True\", \"customdata\": [[38313]], \"hoverlabel\": {\"namelength\": 0}, \"hovertemplate\": \"State/Union territory=%{x}<br>Year=2001\\u201302<br>GDP (in Crores)=%{customdata[0]}\", \"legendgroup\": \"State/Union territory=Assam\", \"marker\": {\"color\": \"#ab63fa\"}, \"name\": \"State/Union territory=Assam\", \"offsetgroup\": \"State/Union territory=Assam\", \"orientation\": \"v\", \"showlegend\": true, \"textposition\": \"auto\", \"x\": [\"Assam\"], \"xaxis\": \"x\", \"y\": [38313], \"yaxis\": \"y\", \"type\": \"bar\"}, {\"alignmentgroup\": \"True\", \"customdata\": [[57657]], \"hoverlabel\": {\"namelength\": 0}, \"hovertemplate\": \"State/Union territory=%{x}<br>Year=2001\\u201302<br>GDP (in Crores)=%{customdata[0]}\", \"legendgroup\": \"State/Union territory=Bihar\", \"marker\": {\"color\": \"#FFA15A\"}, \"name\": \"State/Union territory=Bihar\", \"offsetgroup\": \"State/Union territory=Bihar\", \"orientation\": \"v\", \"showlegend\": true, \"textposition\": \"auto\", \"x\": [\"Bihar\"], \"xaxis\": \"x\", \"y\": [57657], \"yaxis\": \"y\", \"type\": \"bar\"}, {\"alignmentgroup\": \"True\", \"customdata\": [[29539]], \"hoverlabel\": {\"namelength\": 0}, \"hovertemplate\": \"State/Union territory=%{x}<br>Year=2001\\u201302<br>GDP (in Crores)=%{customdata[0]}\", \"legendgroup\": \"State/Union territory=Chhattisgarh\", \"marker\": {\"color\": \"#19d3f3\"}, \"name\": \"State/Union territory=Chhattisgarh\", \"offsetgroup\": \"State/Union territory=Chhattisgarh\", \"orientation\": \"v\", \"showlegend\": true, \"textposition\": \"auto\", \"x\": [\"Chhattisgarh\"], \"xaxis\": \"x\", \"y\": [29539], \"yaxis\": \"y\", \"type\": \"bar\"}, {\"alignmentgroup\": \"True\", \"customdata\": [[7097]], \"hoverlabel\": {\"namelength\": 0}, \"hovertemplate\": \"State/Union territory=%{x}<br>Year=2001\\u201302<br>GDP (in Crores)=%{customdata[0]}\", \"legendgroup\": \"State/Union territory=Goa\", \"marker\": {\"color\": \"#FF6692\"}, \"name\": \"State/Union territory=Goa\", \"offsetgroup\": \"State/Union territory=Goa\", \"orientation\": \"v\", \"showlegend\": true, \"textposition\": \"auto\", \"x\": [\"Goa\"], \"xaxis\": \"x\", \"y\": [7097], \"yaxis\": \"y\", \"type\": \"bar\"}, {\"alignmentgroup\": \"True\", \"customdata\": [[123573]], \"hoverlabel\": {\"namelength\": 0}, \"hovertemplate\": \"State/Union territory=%{x}<br>Year=2001\\u201302<br>GDP (in Crores)=%{customdata[0]}\", \"legendgroup\": \"State/Union territory=Gujarat\", \"marker\": {\"color\": \"#B6E880\"}, \"name\": \"State/Union territory=Gujarat\", \"offsetgroup\": \"State/Union territory=Gujarat\", \"orientation\": \"v\", \"showlegend\": true, \"textposition\": \"auto\", \"x\": [\"Gujarat\"], \"xaxis\": \"x\", \"y\": [123573], \"yaxis\": \"y\", \"type\": \"bar\"}, {\"alignmentgroup\": \"True\", \"customdata\": [[65505]], \"hoverlabel\": {\"namelength\": 0}, \"hovertemplate\": \"State/Union territory=%{x}<br>Year=2001\\u201302<br>GDP (in Crores)=%{customdata[0]}\", \"legendgroup\": \"State/Union territory=Haryana\", \"marker\": {\"color\": \"#FF97FF\"}, \"name\": \"State/Union territory=Haryana\", \"offsetgroup\": \"State/Union territory=Haryana\", \"orientation\": \"v\", \"showlegend\": true, \"textposition\": \"auto\", \"x\": [\"Haryana\"], \"xaxis\": \"x\", \"y\": [65505], \"yaxis\": \"y\", \"type\": \"bar\"}, {\"alignmentgroup\": \"True\", \"customdata\": [[17148]], \"hoverlabel\": {\"namelength\": 0}, \"hovertemplate\": \"State/Union territory=%{x}<br>Year=2001\\u201302<br>GDP (in Crores)=%{customdata[0]}\", \"legendgroup\": \"State/Union territory=Himachal Pradesh\", \"marker\": {\"color\": \"#FECB52\"}, \"name\": \"State/Union territory=Himachal Pradesh\", \"offsetgroup\": \"State/Union territory=Himachal Pradesh\", \"orientation\": \"v\", \"showlegend\": true, \"textposition\": \"auto\", \"x\": [\"Himachal Pradesh\"], \"xaxis\": \"x\", \"y\": [17148], \"yaxis\": \"y\", \"type\": \"bar\"}, {\"alignmentgroup\": \"True\", \"customdata\": [[18039]], \"hoverlabel\": {\"namelength\": 0}, \"hovertemplate\": \"State/Union territory=%{x}<br>Year=2001\\u201302<br>GDP (in Crores)=%{customdata[0]}\", \"legendgroup\": \"State/Union territory=Jammu and Kashmir\", \"marker\": {\"color\": \"#636efa\"}, \"name\": \"State/Union territory=Jammu and Kashmir\", \"offsetgroup\": \"State/Union territory=Jammu and Kashmir\", \"orientation\": \"v\", \"showlegend\": true, \"textposition\": \"auto\", \"x\": [\"Jammu and Kashmir\"], \"xaxis\": \"x\", \"y\": [18039], \"yaxis\": \"y\", \"type\": \"bar\"}, {\"alignmentgroup\": \"True\", \"customdata\": [[35069]], \"hoverlabel\": {\"namelength\": 0}, \"hovertemplate\": \"State/Union territory=%{x}<br>Year=2001\\u201302<br>GDP (in Crores)=%{customdata[0]}\", \"legendgroup\": \"State/Union territory=Jharkhand\", \"marker\": {\"color\": \"#EF553B\"}, \"name\": \"State/Union territory=Jharkhand\", \"offsetgroup\": \"State/Union territory=Jharkhand\", \"orientation\": \"v\", \"showlegend\": true, \"textposition\": \"auto\", \"x\": [\"Jharkhand\"], \"xaxis\": \"x\", \"y\": [35069], \"yaxis\": \"y\", \"type\": \"bar\"}, {\"alignmentgroup\": \"True\", \"customdata\": [[112847]], \"hoverlabel\": {\"namelength\": 0}, \"hovertemplate\": \"State/Union territory=%{x}<br>Year=2001\\u201302<br>GDP (in Crores)=%{customdata[0]}\", \"legendgroup\": \"State/Union territory=Karnataka\", \"marker\": {\"color\": \"#00cc96\"}, \"name\": \"State/Union territory=Karnataka\", \"offsetgroup\": \"State/Union territory=Karnataka\", \"orientation\": \"v\", \"showlegend\": true, \"textposition\": \"auto\", \"x\": [\"Karnataka\"], \"xaxis\": \"x\", \"y\": [112847], \"yaxis\": \"y\", \"type\": \"bar\"}, {\"alignmentgroup\": \"True\", \"customdata\": [[77924]], \"hoverlabel\": {\"namelength\": 0}, \"hovertemplate\": \"State/Union territory=%{x}<br>Year=2001\\u201302<br>GDP (in Crores)=%{customdata[0]}\", \"legendgroup\": \"State/Union territory=Kerala\", \"marker\": {\"color\": \"#ab63fa\"}, \"name\": \"State/Union territory=Kerala\", \"offsetgroup\": \"State/Union territory=Kerala\", \"orientation\": \"v\", \"showlegend\": true, \"textposition\": \"auto\", \"x\": [\"Kerala\"], \"xaxis\": \"x\", \"y\": [77924], \"yaxis\": \"y\", \"type\": \"bar\"}, {\"alignmentgroup\": \"True\", \"customdata\": [[86745]], \"hoverlabel\": {\"namelength\": 0}, \"hovertemplate\": \"State/Union territory=%{x}<br>Year=2001\\u201302<br>GDP (in Crores)=%{customdata[0]}\", \"legendgroup\": \"State/Union territory=Madhya Pradesh\", \"marker\": {\"color\": \"#FFA15A\"}, \"name\": \"State/Union territory=Madhya Pradesh\", \"offsetgroup\": \"State/Union territory=Madhya Pradesh\", \"orientation\": \"v\", \"showlegend\": true, \"textposition\": \"auto\", \"x\": [\"Madhya Pradesh\"], \"xaxis\": \"x\", \"y\": [86745], \"yaxis\": \"y\", \"type\": \"bar\"}, {\"alignmentgroup\": \"True\", \"customdata\": [[273188]], \"hoverlabel\": {\"namelength\": 0}, \"hovertemplate\": \"State/Union territory=%{x}<br>Year=2001\\u201302<br>GDP (in Crores)=%{customdata[0]}\", \"legendgroup\": \"State/Union territory=Maharashtra\", \"marker\": {\"color\": \"#19d3f3\"}, \"name\": \"State/Union territory=Maharashtra\", \"offsetgroup\": \"State/Union territory=Maharashtra\", \"orientation\": \"v\", \"showlegend\": true, \"textposition\": \"auto\", \"x\": [\"Maharashtra\"], \"xaxis\": \"x\", \"y\": [273188], \"yaxis\": \"y\", \"type\": \"bar\"}, {\"alignmentgroup\": \"True\", \"customdata\": [[3369]], \"hoverlabel\": {\"namelength\": 0}, \"hovertemplate\": \"State/Union territory=%{x}<br>Year=2001\\u201302<br>GDP (in Crores)=%{customdata[0]}\", \"legendgroup\": \"State/Union territory=Manipur\", \"marker\": {\"color\": \"#FF6692\"}, \"name\": \"State/Union territory=Manipur\", \"offsetgroup\": \"State/Union territory=Manipur\", \"orientation\": \"v\", \"showlegend\": true, \"textposition\": \"auto\", \"x\": [\"Manipur\"], \"xaxis\": \"x\", \"y\": [3369], \"yaxis\": \"y\", \"type\": \"bar\"}, {\"alignmentgroup\": \"True\", \"customdata\": [[4478]], \"hoverlabel\": {\"namelength\": 0}, \"hovertemplate\": \"State/Union territory=%{x}<br>Year=2001\\u201302<br>GDP (in Crores)=%{customdata[0]}\", \"legendgroup\": \"State/Union territory=Meghalaya\", \"marker\": {\"color\": \"#B6E880\"}, \"name\": \"State/Union territory=Meghalaya\", \"offsetgroup\": \"State/Union territory=Meghalaya\", \"orientation\": \"v\", \"showlegend\": true, \"textposition\": \"auto\", \"x\": [\"Meghalaya\"], \"xaxis\": \"x\", \"y\": [4478], \"yaxis\": \"y\", \"type\": \"bar\"}, {\"alignmentgroup\": \"True\", \"customdata\": [[1947]], \"hoverlabel\": {\"namelength\": 0}, \"hovertemplate\": \"State/Union territory=%{x}<br>Year=2001\\u201302<br>GDP (in Crores)=%{customdata[0]}\", \"legendgroup\": \"State/Union territory=Mizoram\", \"marker\": {\"color\": \"#FF97FF\"}, \"name\": \"State/Union territory=Mizoram\", \"offsetgroup\": \"State/Union territory=Mizoram\", \"orientation\": \"v\", \"showlegend\": true, \"textposition\": \"auto\", \"x\": [\"Mizoram\"], \"xaxis\": \"x\", \"y\": [1947], \"yaxis\": \"y\", \"type\": \"bar\"}, {\"alignmentgroup\": \"True\", \"customdata\": [[3972]], \"hoverlabel\": {\"namelength\": 0}, \"hovertemplate\": \"State/Union territory=%{x}<br>Year=2001\\u201302<br>GDP (in Crores)=%{customdata[0]}\", \"legendgroup\": \"State/Union territory=Nagaland\", \"marker\": {\"color\": \"#FECB52\"}, \"name\": \"State/Union territory=Nagaland\", \"offsetgroup\": \"State/Union territory=Nagaland\", \"orientation\": \"v\", \"showlegend\": true, \"textposition\": \"auto\", \"x\": [\"Nagaland\"], \"xaxis\": \"x\", \"y\": [3972], \"yaxis\": \"y\", \"type\": \"bar\"}, {\"alignmentgroup\": \"True\", \"customdata\": [[46756]], \"hoverlabel\": {\"namelength\": 0}, \"hovertemplate\": \"State/Union territory=%{x}<br>Year=2001\\u201302<br>GDP (in Crores)=%{customdata[0]}\", \"legendgroup\": \"State/Union territory=Odisha\", \"marker\": {\"color\": \"#636efa\"}, \"name\": \"State/Union territory=Odisha\", \"offsetgroup\": \"State/Union territory=Odisha\", \"orientation\": \"v\", \"showlegend\": true, \"textposition\": \"auto\", \"x\": [\"Odisha\"], \"xaxis\": \"x\", \"y\": [46756], \"yaxis\": \"y\", \"type\": \"bar\"}, {\"alignmentgroup\": \"True\", \"customdata\": [[79611]], \"hoverlabel\": {\"namelength\": 0}, \"hovertemplate\": \"State/Union territory=%{x}<br>Year=2001\\u201302<br>GDP (in Crores)=%{customdata[0]}\", \"legendgroup\": \"State/Union territory=Punjab\", \"marker\": {\"color\": \"#EF553B\"}, \"name\": \"State/Union territory=Punjab\", \"offsetgroup\": \"State/Union territory=Punjab\", \"orientation\": \"v\", \"showlegend\": true, \"textposition\": \"auto\", \"x\": [\"Punjab\"], \"xaxis\": \"x\", \"y\": [79611], \"yaxis\": \"y\", \"type\": \"bar\"}, {\"alignmentgroup\": \"True\", \"customdata\": [[91771]], \"hoverlabel\": {\"namelength\": 0}, \"hovertemplate\": \"State/Union territory=%{x}<br>Year=2001\\u201302<br>GDP (in Crores)=%{customdata[0]}\", \"legendgroup\": \"State/Union territory=Rajasthan\", \"marker\": {\"color\": \"#00cc96\"}, \"name\": \"State/Union territory=Rajasthan\", \"offsetgroup\": \"State/Union territory=Rajasthan\", \"orientation\": \"v\", \"showlegend\": true, \"textposition\": \"auto\", \"x\": [\"Rajasthan\"], \"xaxis\": \"x\", \"y\": [91771], \"yaxis\": \"y\", \"type\": \"bar\"}, {\"alignmentgroup\": \"True\", \"customdata\": [[1136]], \"hoverlabel\": {\"namelength\": 0}, \"hovertemplate\": \"State/Union territory=%{x}<br>Year=2001\\u201302<br>GDP (in Crores)=%{customdata[0]}\", \"legendgroup\": \"State/Union territory=Sikkim\", \"marker\": {\"color\": \"#ab63fa\"}, \"name\": \"State/Union territory=Sikkim\", \"offsetgroup\": \"State/Union territory=Sikkim\", \"orientation\": \"v\", \"showlegend\": true, \"textposition\": \"auto\", \"x\": [\"Sikkim\"], \"xaxis\": \"x\", \"y\": [1136], \"yaxis\": \"y\", \"type\": \"bar\"}, {\"alignmentgroup\": \"True\", \"customdata\": [[148861]], \"hoverlabel\": {\"namelength\": 0}, \"hovertemplate\": \"State/Union territory=%{x}<br>Year=2001\\u201302<br>GDP (in Crores)=%{customdata[0]}\", \"legendgroup\": \"State/Union territory=Tamil Nadu\", \"marker\": {\"color\": \"#FFA15A\"}, \"name\": \"State/Union territory=Tamil Nadu\", \"offsetgroup\": \"State/Union territory=Tamil Nadu\", \"orientation\": \"v\", \"showlegend\": true, \"textposition\": \"auto\", \"x\": [\"Tamil Nadu\"], \"xaxis\": \"x\", \"y\": [148861], \"yaxis\": \"y\", \"type\": \"bar\"}, {\"alignmentgroup\": \"True\", \"customdata\": [[6370]], \"hoverlabel\": {\"namelength\": 0}, \"hovertemplate\": \"State/Union territory=%{x}<br>Year=2001\\u201302<br>GDP (in Crores)=%{customdata[0]}\", \"legendgroup\": \"State/Union territory=Tripura\", \"marker\": {\"color\": \"#19d3f3\"}, \"name\": \"State/Union territory=Tripura\", \"offsetgroup\": \"State/Union territory=Tripura\", \"orientation\": \"v\", \"showlegend\": true, \"textposition\": \"auto\", \"x\": [\"Tripura\"], \"xaxis\": \"x\", \"y\": [6370], \"yaxis\": \"y\", \"type\": \"bar\"}, {\"alignmentgroup\": \"True\", \"customdata\": [[190269]], \"hoverlabel\": {\"namelength\": 0}, \"hovertemplate\": \"State/Union territory=%{x}<br>Year=2001\\u201302<br>GDP (in Crores)=%{customdata[0]}\", \"legendgroup\": \"State/Union territory=Uttar Pradesh\", \"marker\": {\"color\": \"#FF6692\"}, \"name\": \"State/Union territory=Uttar Pradesh\", \"offsetgroup\": \"State/Union territory=Uttar Pradesh\", \"orientation\": \"v\", \"showlegend\": true, \"textposition\": \"auto\", \"x\": [\"Uttar Pradesh\"], \"xaxis\": \"x\", \"y\": [190269], \"yaxis\": \"y\", \"type\": \"bar\"}, {\"alignmentgroup\": \"True\", \"customdata\": [[15144]], \"hoverlabel\": {\"namelength\": 0}, \"hovertemplate\": \"State/Union territory=%{x}<br>Year=2001\\u201302<br>GDP (in Crores)=%{customdata[0]}\", \"legendgroup\": \"State/Union territory=Uttarakhand\", \"marker\": {\"color\": \"#B6E880\"}, \"name\": \"State/Union territory=Uttarakhand\", \"offsetgroup\": \"State/Union territory=Uttarakhand\", \"orientation\": \"v\", \"showlegend\": true, \"textposition\": \"auto\", \"x\": [\"Uttarakhand\"], \"xaxis\": \"x\", \"y\": [15144], \"yaxis\": \"y\", \"type\": \"bar\"}, {\"alignmentgroup\": \"True\", \"customdata\": [[157144]], \"hoverlabel\": {\"namelength\": 0}, \"hovertemplate\": \"State/Union territory=%{x}<br>Year=2001\\u201302<br>GDP (in Crores)=%{customdata[0]}\", \"legendgroup\": \"State/Union territory=West Bengal\", \"marker\": {\"color\": \"#FF97FF\"}, \"name\": \"State/Union territory=West Bengal\", \"offsetgroup\": \"State/Union territory=West Bengal\", \"orientation\": \"v\", \"showlegend\": true, \"textposition\": \"auto\", \"x\": [\"West Bengal\"], \"xaxis\": \"x\", \"y\": [157144], \"yaxis\": \"y\", \"type\": \"bar\"}, {\"alignmentgroup\": \"True\", \"customdata\": [[1082]], \"hoverlabel\": {\"namelength\": 0}, \"hovertemplate\": \"State/Union territory=%{x}<br>Year=2001\\u201302<br>GDP (in Crores)=%{customdata[0]}\", \"legendgroup\": \"State/Union territory=Andaman and Nicobar Islands\", \"marker\": {\"color\": \"#FECB52\"}, \"name\": \"State/Union territory=Andaman and Nicobar Islands\", \"offsetgroup\": \"State/Union territory=Andaman and Nicobar Islands\", \"orientation\": \"v\", \"showlegend\": true, \"textposition\": \"auto\", \"x\": [\"Andaman and Nicobar Islands\"], \"xaxis\": \"x\", \"y\": [1082], \"yaxis\": \"y\", \"type\": \"bar\"}, {\"alignmentgroup\": \"True\", \"customdata\": [[5490]], \"hoverlabel\": {\"namelength\": 0}, \"hovertemplate\": \"State/Union territory=%{x}<br>Year=2001\\u201302<br>GDP (in Crores)=%{customdata[0]}\", \"legendgroup\": \"State/Union territory=Chandigarh\", \"marker\": {\"color\": \"#636efa\"}, \"name\": \"State/Union territory=Chandigarh\", \"offsetgroup\": \"State/Union territory=Chandigarh\", \"orientation\": \"v\", \"showlegend\": true, \"textposition\": \"auto\", \"x\": [\"Chandigarh\"], \"xaxis\": \"x\", \"y\": [5490], \"yaxis\": \"y\", \"type\": \"bar\"}, {\"alignmentgroup\": \"True\", \"customdata\": [[65027]], \"hoverlabel\": {\"namelength\": 0}, \"hovertemplate\": \"State/Union territory=%{x}<br>Year=2001\\u201302<br>GDP (in Crores)=%{customdata[0]}\", \"legendgroup\": \"State/Union territory=Delhi\", \"marker\": {\"color\": \"#EF553B\"}, \"name\": \"State/Union territory=Delhi\", \"offsetgroup\": \"State/Union territory=Delhi\", \"orientation\": \"v\", \"showlegend\": true, \"textposition\": \"auto\", \"x\": [\"Delhi\"], \"xaxis\": \"x\", \"y\": [65027], \"yaxis\": \"y\", \"type\": \"bar\"}, {\"alignmentgroup\": \"True\", \"customdata\": [[4259]], \"hoverlabel\": {\"namelength\": 0}, \"hovertemplate\": \"State/Union territory=%{x}<br>Year=2001\\u201302<br>GDP (in Crores)=%{customdata[0]}\", \"legendgroup\": \"State/Union territory=Pudduchery\", \"marker\": {\"color\": \"#00cc96\"}, \"name\": \"State/Union territory=Pudduchery\", \"offsetgroup\": \"State/Union territory=Pudduchery\", \"orientation\": \"v\", \"showlegend\": true, \"textposition\": \"auto\", \"x\": [\"Pudduchery\"], \"xaxis\": \"x\", \"y\": [4259], \"yaxis\": \"y\", \"type\": \"bar\"}], \"name\": \"2001\\u201302\"}, {\"data\": [{\"alignmentgroup\": \"True\", \"customdata\": [[2261415]], \"hoverlabel\": {\"namelength\": 0}, \"hovertemplate\": \"State/Union territory=%{x}<br>Year=2002\\u201303<br>GDP (in Crores)=%{customdata[0]}\", \"legendgroup\": \"State/Union territory=\\u00a0India\", \"marker\": {\"color\": \"#636efa\"}, \"name\": \"State/Union territory=\\u00a0India\", \"offsetgroup\": \"State/Union territory=\\u00a0India\", \"orientation\": \"v\", \"showlegend\": true, \"textposition\": \"auto\", \"x\": [\"\\u00a0India\"], \"xaxis\": \"x\", \"y\": [2261415], \"yaxis\": \"y\", \"type\": \"bar\"}, {\"alignmentgroup\": \"True\", \"customdata\": [[167096]], \"hoverlabel\": {\"namelength\": 0}, \"hovertemplate\": \"State/Union territory=%{x}<br>Year=2002\\u201303<br>GDP (in Crores)=%{customdata[0]}\", \"legendgroup\": \"State/Union territory=Andhra Pradesh\", \"marker\": {\"color\": \"#EF553B\"}, \"name\": \"State/Union territory=Andhra Pradesh\", \"offsetgroup\": \"State/Union territory=Andhra Pradesh\", \"orientation\": \"v\", \"showlegend\": true, \"textposition\": \"auto\", \"x\": [\"Andhra Pradesh\"], \"xaxis\": \"x\", \"y\": [167096], \"yaxis\": \"y\", \"type\": \"bar\"}, {\"alignmentgroup\": \"True\", \"customdata\": [[2071]], \"hoverlabel\": {\"namelength\": 0}, \"hovertemplate\": \"State/Union territory=%{x}<br>Year=2002\\u201303<br>GDP (in Crores)=%{customdata[0]}\", \"legendgroup\": \"State/Union territory=Arunachal Pradesh\", \"marker\": {\"color\": \"#00cc96\"}, \"name\": \"State/Union territory=Arunachal Pradesh\", \"offsetgroup\": \"State/Union territory=Arunachal Pradesh\", \"orientation\": \"v\", \"showlegend\": true, \"textposition\": \"auto\", \"x\": [\"Arunachal Pradesh\"], \"xaxis\": \"x\", \"y\": [2071], \"yaxis\": \"y\", \"type\": \"bar\"}, {\"alignmentgroup\": \"True\", \"customdata\": [[43407]], \"hoverlabel\": {\"namelength\": 0}, \"hovertemplate\": \"State/Union territory=%{x}<br>Year=2002\\u201303<br>GDP (in Crores)=%{customdata[0]}\", \"legendgroup\": \"State/Union territory=Assam\", \"marker\": {\"color\": \"#ab63fa\"}, \"name\": \"State/Union territory=Assam\", \"offsetgroup\": \"State/Union territory=Assam\", \"orientation\": \"v\", \"showlegend\": true, \"textposition\": \"auto\", \"x\": [\"Assam\"], \"xaxis\": \"x\", \"y\": [43407], \"yaxis\": \"y\", \"type\": \"bar\"}, {\"alignmentgroup\": \"True\", \"customdata\": [[64965]], \"hoverlabel\": {\"namelength\": 0}, \"hovertemplate\": \"State/Union territory=%{x}<br>Year=2002\\u201303<br>GDP (in Crores)=%{customdata[0]}\", \"legendgroup\": \"State/Union territory=Bihar\", \"marker\": {\"color\": \"#FFA15A\"}, \"name\": \"State/Union territory=Bihar\", \"offsetgroup\": \"State/Union territory=Bihar\", \"orientation\": \"v\", \"showlegend\": true, \"textposition\": \"auto\", \"x\": [\"Bihar\"], \"xaxis\": \"x\", \"y\": [64965], \"yaxis\": \"y\", \"type\": \"bar\"}, {\"alignmentgroup\": \"True\", \"customdata\": [[32493]], \"hoverlabel\": {\"namelength\": 0}, \"hovertemplate\": \"State/Union territory=%{x}<br>Year=2002\\u201303<br>GDP (in Crores)=%{customdata[0]}\", \"legendgroup\": \"State/Union territory=Chhattisgarh\", \"marker\": {\"color\": \"#19d3f3\"}, \"name\": \"State/Union territory=Chhattisgarh\", \"offsetgroup\": \"State/Union territory=Chhattisgarh\", \"orientation\": \"v\", \"showlegend\": true, \"textposition\": \"auto\", \"x\": [\"Chhattisgarh\"], \"xaxis\": \"x\", \"y\": [32493], \"yaxis\": \"y\", \"type\": \"bar\"}, {\"alignmentgroup\": \"True\", \"customdata\": [[8100]], \"hoverlabel\": {\"namelength\": 0}, \"hovertemplate\": \"State/Union territory=%{x}<br>Year=2002\\u201303<br>GDP (in Crores)=%{customdata[0]}\", \"legendgroup\": \"State/Union territory=Goa\", \"marker\": {\"color\": \"#FF6692\"}, \"name\": \"State/Union territory=Goa\", \"offsetgroup\": \"State/Union territory=Goa\", \"orientation\": \"v\", \"showlegend\": true, \"textposition\": \"auto\", \"x\": [\"Goa\"], \"xaxis\": \"x\", \"y\": [8100], \"yaxis\": \"y\", \"type\": \"bar\"}, {\"alignmentgroup\": \"True\", \"customdata\": [[141534]], \"hoverlabel\": {\"namelength\": 0}, \"hovertemplate\": \"State/Union territory=%{x}<br>Year=2002\\u201303<br>GDP (in Crores)=%{customdata[0]}\", \"legendgroup\": \"State/Union territory=Gujarat\", \"marker\": {\"color\": \"#B6E880\"}, \"name\": \"State/Union territory=Gujarat\", \"offsetgroup\": \"State/Union territory=Gujarat\", \"orientation\": \"v\", \"showlegend\": true, \"textposition\": \"auto\", \"x\": [\"Gujarat\"], \"xaxis\": \"x\", \"y\": [141534], \"yaxis\": \"y\", \"type\": \"bar\"}, {\"alignmentgroup\": \"True\", \"customdata\": [[72528]], \"hoverlabel\": {\"namelength\": 0}, \"hovertemplate\": \"State/Union territory=%{x}<br>Year=2002\\u201303<br>GDP (in Crores)=%{customdata[0]}\", \"legendgroup\": \"State/Union territory=Haryana\", \"marker\": {\"color\": \"#FF97FF\"}, \"name\": \"State/Union territory=Haryana\", \"offsetgroup\": \"State/Union territory=Haryana\", \"orientation\": \"v\", \"showlegend\": true, \"textposition\": \"auto\", \"x\": [\"Haryana\"], \"xaxis\": \"x\", \"y\": [72528], \"yaxis\": \"y\", \"type\": \"bar\"}, {\"alignmentgroup\": \"True\", \"customdata\": [[18905]], \"hoverlabel\": {\"namelength\": 0}, \"hovertemplate\": \"State/Union territory=%{x}<br>Year=2002\\u201303<br>GDP (in Crores)=%{customdata[0]}\", \"legendgroup\": \"State/Union territory=Himachal Pradesh\", \"marker\": {\"color\": \"#FECB52\"}, \"name\": \"State/Union territory=Himachal Pradesh\", \"offsetgroup\": \"State/Union territory=Himachal Pradesh\", \"orientation\": \"v\", \"showlegend\": true, \"textposition\": \"auto\", \"x\": [\"Himachal Pradesh\"], \"xaxis\": \"x\", \"y\": [18905], \"yaxis\": \"y\", \"type\": \"bar\"}, {\"alignmentgroup\": \"True\", \"customdata\": [[20326]], \"hoverlabel\": {\"namelength\": 0}, \"hovertemplate\": \"State/Union territory=%{x}<br>Year=2002\\u201303<br>GDP (in Crores)=%{customdata[0]}\", \"legendgroup\": \"State/Union territory=Jammu and Kashmir\", \"marker\": {\"color\": \"#636efa\"}, \"name\": \"State/Union territory=Jammu and Kashmir\", \"offsetgroup\": \"State/Union territory=Jammu and Kashmir\", \"orientation\": \"v\", \"showlegend\": true, \"textposition\": \"auto\", \"x\": [\"Jammu and Kashmir\"], \"xaxis\": \"x\", \"y\": [20326], \"yaxis\": \"y\", \"type\": \"bar\"}, {\"alignmentgroup\": \"True\", \"customdata\": [[37967]], \"hoverlabel\": {\"namelength\": 0}, \"hovertemplate\": \"State/Union territory=%{x}<br>Year=2002\\u201303<br>GDP (in Crores)=%{customdata[0]}\", \"legendgroup\": \"State/Union territory=Jharkhand\", \"marker\": {\"color\": \"#EF553B\"}, \"name\": \"State/Union territory=Jharkhand\", \"offsetgroup\": \"State/Union territory=Jharkhand\", \"orientation\": \"v\", \"showlegend\": true, \"textposition\": \"auto\", \"x\": [\"Jharkhand\"], \"xaxis\": \"x\", \"y\": [37967], \"yaxis\": \"y\", \"type\": \"bar\"}, {\"alignmentgroup\": \"True\", \"customdata\": [[120889]], \"hoverlabel\": {\"namelength\": 0}, \"hovertemplate\": \"State/Union territory=%{x}<br>Year=2002\\u201303<br>GDP (in Crores)=%{customdata[0]}\", \"legendgroup\": \"State/Union territory=Karnataka\", \"marker\": {\"color\": \"#00cc96\"}, \"name\": \"State/Union territory=Karnataka\", \"offsetgroup\": \"State/Union territory=Karnataka\", \"orientation\": \"v\", \"showlegend\": true, \"textposition\": \"auto\", \"x\": [\"Karnataka\"], \"xaxis\": \"x\", \"y\": [120889], \"yaxis\": \"y\", \"type\": \"bar\"}, {\"alignmentgroup\": \"True\", \"customdata\": [[86895]], \"hoverlabel\": {\"namelength\": 0}, \"hovertemplate\": \"State/Union territory=%{x}<br>Year=2002\\u201303<br>GDP (in Crores)=%{customdata[0]}\", \"legendgroup\": \"State/Union territory=Kerala\", \"marker\": {\"color\": \"#ab63fa\"}, \"name\": \"State/Union territory=Kerala\", \"offsetgroup\": \"State/Union territory=Kerala\", \"orientation\": \"v\", \"showlegend\": true, \"textposition\": \"auto\", \"x\": [\"Kerala\"], \"xaxis\": \"x\", \"y\": [86895], \"yaxis\": \"y\", \"type\": \"bar\"}, {\"alignmentgroup\": \"True\", \"customdata\": [[86832]], \"hoverlabel\": {\"namelength\": 0}, \"hovertemplate\": \"State/Union territory=%{x}<br>Year=2002\\u201303<br>GDP (in Crores)=%{customdata[0]}\", \"legendgroup\": \"State/Union territory=Madhya Pradesh\", \"marker\": {\"color\": \"#FFA15A\"}, \"name\": \"State/Union territory=Madhya Pradesh\", \"offsetgroup\": \"State/Union territory=Madhya Pradesh\", \"orientation\": \"v\", \"showlegend\": true, \"textposition\": \"auto\", \"x\": [\"Madhya Pradesh\"], \"xaxis\": \"x\", \"y\": [86832], \"yaxis\": \"y\", \"type\": \"bar\"}, {\"alignmentgroup\": \"True\", \"customdata\": [[299479]], \"hoverlabel\": {\"namelength\": 0}, \"hovertemplate\": \"State/Union territory=%{x}<br>Year=2002\\u201303<br>GDP (in Crores)=%{customdata[0]}\", \"legendgroup\": \"State/Union territory=Maharashtra\", \"marker\": {\"color\": \"#19d3f3\"}, \"name\": \"State/Union territory=Maharashtra\", \"offsetgroup\": \"State/Union territory=Maharashtra\", \"orientation\": \"v\", \"showlegend\": true, \"textposition\": \"auto\", \"x\": [\"Maharashtra\"], \"xaxis\": \"x\", \"y\": [299479], \"yaxis\": \"y\", \"type\": \"bar\"}, {\"alignmentgroup\": \"True\", \"customdata\": [[3506]], \"hoverlabel\": {\"namelength\": 0}, \"hovertemplate\": \"State/Union territory=%{x}<br>Year=2002\\u201303<br>GDP (in Crores)=%{customdata[0]}\", \"legendgroup\": \"State/Union territory=Manipur\", \"marker\": {\"color\": \"#FF6692\"}, \"name\": \"State/Union territory=Manipur\", \"offsetgroup\": \"State/Union territory=Manipur\", \"orientation\": \"v\", \"showlegend\": true, \"textposition\": \"auto\", \"x\": [\"Manipur\"], \"xaxis\": \"x\", \"y\": [3506], \"yaxis\": \"y\", \"type\": \"bar\"}, {\"alignmentgroup\": \"True\", \"customdata\": [[4763]], \"hoverlabel\": {\"namelength\": 0}, \"hovertemplate\": \"State/Union territory=%{x}<br>Year=2002\\u201303<br>GDP (in Crores)=%{customdata[0]}\", \"legendgroup\": \"State/Union territory=Meghalaya\", \"marker\": {\"color\": \"#B6E880\"}, \"name\": \"State/Union territory=Meghalaya\", \"offsetgroup\": \"State/Union territory=Meghalaya\", \"orientation\": \"v\", \"showlegend\": true, \"textposition\": \"auto\", \"x\": [\"Meghalaya\"], \"xaxis\": \"x\", \"y\": [4763], \"yaxis\": \"y\", \"type\": \"bar\"}, {\"alignmentgroup\": \"True\", \"customdata\": [[2166]], \"hoverlabel\": {\"namelength\": 0}, \"hovertemplate\": \"State/Union territory=%{x}<br>Year=2002\\u201303<br>GDP (in Crores)=%{customdata[0]}\", \"legendgroup\": \"State/Union territory=Mizoram\", \"marker\": {\"color\": \"#FF97FF\"}, \"name\": \"State/Union territory=Mizoram\", \"offsetgroup\": \"State/Union territory=Mizoram\", \"orientation\": \"v\", \"showlegend\": true, \"textposition\": \"auto\", \"x\": [\"Mizoram\"], \"xaxis\": \"x\", \"y\": [2166], \"yaxis\": \"y\", \"type\": \"bar\"}, {\"alignmentgroup\": \"True\", \"customdata\": [[4467]], \"hoverlabel\": {\"namelength\": 0}, \"hovertemplate\": \"State/Union territory=%{x}<br>Year=2002\\u201303<br>GDP (in Crores)=%{customdata[0]}\", \"legendgroup\": \"State/Union territory=Nagaland\", \"marker\": {\"color\": \"#FECB52\"}, \"name\": \"State/Union territory=Nagaland\", \"offsetgroup\": \"State/Union territory=Nagaland\", \"orientation\": \"v\", \"showlegend\": true, \"textposition\": \"auto\", \"x\": [\"Nagaland\"], \"xaxis\": \"x\", \"y\": [4467], \"yaxis\": \"y\", \"type\": \"bar\"}, {\"alignmentgroup\": \"True\", \"customdata\": [[49713]], \"hoverlabel\": {\"namelength\": 0}, \"hovertemplate\": \"State/Union territory=%{x}<br>Year=2002\\u201303<br>GDP (in Crores)=%{customdata[0]}\", \"legendgroup\": \"State/Union territory=Odisha\", \"marker\": {\"color\": \"#636efa\"}, \"name\": \"State/Union territory=Odisha\", \"offsetgroup\": \"State/Union territory=Odisha\", \"orientation\": \"v\", \"showlegend\": true, \"textposition\": \"auto\", \"x\": [\"Odisha\"], \"xaxis\": \"x\", \"y\": [49713], \"yaxis\": \"y\", \"type\": \"bar\"}, {\"alignmentgroup\": \"True\", \"customdata\": [[82249]], \"hoverlabel\": {\"namelength\": 0}, \"hovertemplate\": \"State/Union territory=%{x}<br>Year=2002\\u201303<br>GDP (in Crores)=%{customdata[0]}\", \"legendgroup\": \"State/Union territory=Punjab\", \"marker\": {\"color\": \"#EF553B\"}, \"name\": \"State/Union territory=Punjab\", \"offsetgroup\": \"State/Union territory=Punjab\", \"orientation\": \"v\", \"showlegend\": true, \"textposition\": \"auto\", \"x\": [\"Punjab\"], \"xaxis\": \"x\", \"y\": [82249], \"yaxis\": \"y\", \"type\": \"bar\"}, {\"alignmentgroup\": \"True\", \"customdata\": [[88550]], \"hoverlabel\": {\"namelength\": 0}, \"hovertemplate\": \"State/Union territory=%{x}<br>Year=2002\\u201303<br>GDP (in Crores)=%{customdata[0]}\", \"legendgroup\": \"State/Union territory=Rajasthan\", \"marker\": {\"color\": \"#00cc96\"}, \"name\": \"State/Union territory=Rajasthan\", \"offsetgroup\": \"State/Union territory=Rajasthan\", \"orientation\": \"v\", \"showlegend\": true, \"textposition\": \"auto\", \"x\": [\"Rajasthan\"], \"xaxis\": \"x\", \"y\": [88550], \"yaxis\": \"y\", \"type\": \"bar\"}, {\"alignmentgroup\": \"True\", \"customdata\": [[1276]], \"hoverlabel\": {\"namelength\": 0}, \"hovertemplate\": \"State/Union territory=%{x}<br>Year=2002\\u201303<br>GDP (in Crores)=%{customdata[0]}\", \"legendgroup\": \"State/Union territory=Sikkim\", \"marker\": {\"color\": \"#ab63fa\"}, \"name\": \"State/Union territory=Sikkim\", \"offsetgroup\": \"State/Union territory=Sikkim\", \"orientation\": \"v\", \"showlegend\": true, \"textposition\": \"auto\", \"x\": [\"Sikkim\"], \"xaxis\": \"x\", \"y\": [1276], \"yaxis\": \"y\", \"type\": \"bar\"}, {\"alignmentgroup\": \"True\", \"customdata\": [[158155]], \"hoverlabel\": {\"namelength\": 0}, \"hovertemplate\": \"State/Union territory=%{x}<br>Year=2002\\u201303<br>GDP (in Crores)=%{customdata[0]}\", \"legendgroup\": \"State/Union territory=Tamil Nadu\", \"marker\": {\"color\": \"#FFA15A\"}, \"name\": \"State/Union territory=Tamil Nadu\", \"offsetgroup\": \"State/Union territory=Tamil Nadu\", \"orientation\": \"v\", \"showlegend\": true, \"textposition\": \"auto\", \"x\": [\"Tamil Nadu\"], \"xaxis\": \"x\", \"y\": [158155], \"yaxis\": \"y\", \"type\": \"bar\"}, {\"alignmentgroup\": \"True\", \"customdata\": [[6733]], \"hoverlabel\": {\"namelength\": 0}, \"hovertemplate\": \"State/Union territory=%{x}<br>Year=2002\\u201303<br>GDP (in Crores)=%{customdata[0]}\", \"legendgroup\": \"State/Union territory=Tripura\", \"marker\": {\"color\": \"#19d3f3\"}, \"name\": \"State/Union territory=Tripura\", \"offsetgroup\": \"State/Union territory=Tripura\", \"orientation\": \"v\", \"showlegend\": true, \"textposition\": \"auto\", \"x\": [\"Tripura\"], \"xaxis\": \"x\", \"y\": [6733], \"yaxis\": \"y\", \"type\": \"bar\"}, {\"alignmentgroup\": \"True\", \"customdata\": [[206855]], \"hoverlabel\": {\"namelength\": 0}, \"hovertemplate\": \"State/Union territory=%{x}<br>Year=2002\\u201303<br>GDP (in Crores)=%{customdata[0]}\", \"legendgroup\": \"State/Union territory=Uttar Pradesh\", \"marker\": {\"color\": \"#FF6692\"}, \"name\": \"State/Union territory=Uttar Pradesh\", \"offsetgroup\": \"State/Union territory=Uttar Pradesh\", \"orientation\": \"v\", \"showlegend\": true, \"textposition\": \"auto\", \"x\": [\"Uttar Pradesh\"], \"xaxis\": \"x\", \"y\": [206855], \"yaxis\": \"y\", \"type\": \"bar\"}, {\"alignmentgroup\": \"True\", \"customdata\": [[18473]], \"hoverlabel\": {\"namelength\": 0}, \"hovertemplate\": \"State/Union territory=%{x}<br>Year=2002\\u201303<br>GDP (in Crores)=%{customdata[0]}\", \"legendgroup\": \"State/Union territory=Uttarakhand\", \"marker\": {\"color\": \"#B6E880\"}, \"name\": \"State/Union territory=Uttarakhand\", \"offsetgroup\": \"State/Union territory=Uttarakhand\", \"orientation\": \"v\", \"showlegend\": true, \"textposition\": \"auto\", \"x\": [\"Uttarakhand\"], \"xaxis\": \"x\", \"y\": [18473], \"yaxis\": \"y\", \"type\": \"bar\"}, {\"alignmentgroup\": \"True\", \"customdata\": [[168000]], \"hoverlabel\": {\"namelength\": 0}, \"hovertemplate\": \"State/Union territory=%{x}<br>Year=2002\\u201303<br>GDP (in Crores)=%{customdata[0]}\", \"legendgroup\": \"State/Union territory=West Bengal\", \"marker\": {\"color\": \"#FF97FF\"}, \"name\": \"State/Union territory=West Bengal\", \"offsetgroup\": \"State/Union territory=West Bengal\", \"orientation\": \"v\", \"showlegend\": true, \"textposition\": \"auto\", \"x\": [\"West Bengal\"], \"xaxis\": \"x\", \"y\": [168000], \"yaxis\": \"y\", \"type\": \"bar\"}, {\"alignmentgroup\": \"True\", \"customdata\": [[1228]], \"hoverlabel\": {\"namelength\": 0}, \"hovertemplate\": \"State/Union territory=%{x}<br>Year=2002\\u201303<br>GDP (in Crores)=%{customdata[0]}\", \"legendgroup\": \"State/Union territory=Andaman and Nicobar Islands\", \"marker\": {\"color\": \"#FECB52\"}, \"name\": \"State/Union territory=Andaman and Nicobar Islands\", \"offsetgroup\": \"State/Union territory=Andaman and Nicobar Islands\", \"orientation\": \"v\", \"showlegend\": true, \"textposition\": \"auto\", \"x\": [\"Andaman and Nicobar Islands\"], \"xaxis\": \"x\", \"y\": [1228], \"yaxis\": \"y\", \"type\": \"bar\"}, {\"alignmentgroup\": \"True\", \"customdata\": [[6453]], \"hoverlabel\": {\"namelength\": 0}, \"hovertemplate\": \"State/Union territory=%{x}<br>Year=2002\\u201303<br>GDP (in Crores)=%{customdata[0]}\", \"legendgroup\": \"State/Union territory=Chandigarh\", \"marker\": {\"color\": \"#636efa\"}, \"name\": \"State/Union territory=Chandigarh\", \"offsetgroup\": \"State/Union territory=Chandigarh\", \"orientation\": \"v\", \"showlegend\": true, \"textposition\": \"auto\", \"x\": [\"Chandigarh\"], \"xaxis\": \"x\", \"y\": [6453], \"yaxis\": \"y\", \"type\": \"bar\"}, {\"alignmentgroup\": \"True\", \"customdata\": [[71361]], \"hoverlabel\": {\"namelength\": 0}, \"hovertemplate\": \"State/Union territory=%{x}<br>Year=2002\\u201303<br>GDP (in Crores)=%{customdata[0]}\", \"legendgroup\": \"State/Union territory=Delhi\", \"marker\": {\"color\": \"#EF553B\"}, \"name\": \"State/Union territory=Delhi\", \"offsetgroup\": \"State/Union territory=Delhi\", \"orientation\": \"v\", \"showlegend\": true, \"textposition\": \"auto\", \"x\": [\"Delhi\"], \"xaxis\": \"x\", \"y\": [71361], \"yaxis\": \"y\", \"type\": \"bar\"}, {\"alignmentgroup\": \"True\", \"customdata\": [[4931]], \"hoverlabel\": {\"namelength\": 0}, \"hovertemplate\": \"State/Union territory=%{x}<br>Year=2002\\u201303<br>GDP (in Crores)=%{customdata[0]}\", \"legendgroup\": \"State/Union territory=Pudduchery\", \"marker\": {\"color\": \"#00cc96\"}, \"name\": \"State/Union territory=Pudduchery\", \"offsetgroup\": \"State/Union territory=Pudduchery\", \"orientation\": \"v\", \"showlegend\": true, \"textposition\": \"auto\", \"x\": [\"Pudduchery\"], \"xaxis\": \"x\", \"y\": [4931], \"yaxis\": \"y\", \"type\": \"bar\"}], \"name\": \"2002\\u201303\"}, {\"data\": [{\"alignmentgroup\": \"True\", \"customdata\": [[2538170]], \"hoverlabel\": {\"namelength\": 0}, \"hovertemplate\": \"State/Union territory=%{x}<br>Year=2003\\u201304<br>GDP (in Crores)=%{customdata[0]}\", \"legendgroup\": \"State/Union territory=\\u00a0India\", \"marker\": {\"color\": \"#636efa\"}, \"name\": \"State/Union territory=\\u00a0India\", \"offsetgroup\": \"State/Union territory=\\u00a0India\", \"orientation\": \"v\", \"showlegend\": true, \"textposition\": \"auto\", \"x\": [\"\\u00a0India\"], \"xaxis\": \"x\", \"y\": [2538170], \"yaxis\": \"y\", \"type\": \"bar\"}, {\"alignmentgroup\": \"True\", \"customdata\": [[190017]], \"hoverlabel\": {\"namelength\": 0}, \"hovertemplate\": \"State/Union territory=%{x}<br>Year=2003\\u201304<br>GDP (in Crores)=%{customdata[0]}\", \"legendgroup\": \"State/Union territory=Andhra Pradesh\", \"marker\": {\"color\": \"#EF553B\"}, \"name\": \"State/Union territory=Andhra Pradesh\", \"offsetgroup\": \"State/Union territory=Andhra Pradesh\", \"orientation\": \"v\", \"showlegend\": true, \"textposition\": \"auto\", \"x\": [\"Andhra Pradesh\"], \"xaxis\": \"x\", \"y\": [190017], \"yaxis\": \"y\", \"type\": \"bar\"}, {\"alignmentgroup\": \"True\", \"customdata\": [[2368]], \"hoverlabel\": {\"namelength\": 0}, \"hovertemplate\": \"State/Union territory=%{x}<br>Year=2003\\u201304<br>GDP (in Crores)=%{customdata[0]}\", \"legendgroup\": \"State/Union territory=Arunachal Pradesh\", \"marker\": {\"color\": \"#00cc96\"}, \"name\": \"State/Union territory=Arunachal Pradesh\", \"offsetgroup\": \"State/Union territory=Arunachal Pradesh\", \"orientation\": \"v\", \"showlegend\": true, \"textposition\": \"auto\", \"x\": [\"Arunachal Pradesh\"], \"xaxis\": \"x\", \"y\": [2368], \"yaxis\": \"y\", \"type\": \"bar\"}, {\"alignmentgroup\": \"True\", \"customdata\": [[47305]], \"hoverlabel\": {\"namelength\": 0}, \"hovertemplate\": \"State/Union territory=%{x}<br>Year=2003\\u201304<br>GDP (in Crores)=%{customdata[0]}\", \"legendgroup\": \"State/Union territory=Assam\", \"marker\": {\"color\": \"#ab63fa\"}, \"name\": \"State/Union territory=Assam\", \"offsetgroup\": \"State/Union territory=Assam\", \"orientation\": \"v\", \"showlegend\": true, \"textposition\": \"auto\", \"x\": [\"Assam\"], \"xaxis\": \"x\", \"y\": [47305], \"yaxis\": \"y\", \"type\": \"bar\"}, {\"alignmentgroup\": \"True\", \"customdata\": [[66174]], \"hoverlabel\": {\"namelength\": 0}, \"hovertemplate\": \"State/Union territory=%{x}<br>Year=2003\\u201304<br>GDP (in Crores)=%{customdata[0]}\", \"legendgroup\": \"State/Union territory=Bihar\", \"marker\": {\"color\": \"#FFA15A\"}, \"name\": \"State/Union territory=Bihar\", \"offsetgroup\": \"State/Union territory=Bihar\", \"orientation\": \"v\", \"showlegend\": true, \"textposition\": \"auto\", \"x\": [\"Bihar\"], \"xaxis\": \"x\", \"y\": [66174], \"yaxis\": \"y\", \"type\": \"bar\"}, {\"alignmentgroup\": \"True\", \"customdata\": [[38802]], \"hoverlabel\": {\"namelength\": 0}, \"hovertemplate\": \"State/Union territory=%{x}<br>Year=2003\\u201304<br>GDP (in Crores)=%{customdata[0]}\", \"legendgroup\": \"State/Union territory=Chhattisgarh\", \"marker\": {\"color\": \"#19d3f3\"}, \"name\": \"State/Union territory=Chhattisgarh\", \"offsetgroup\": \"State/Union territory=Chhattisgarh\", \"orientation\": \"v\", \"showlegend\": true, \"textposition\": \"auto\", \"x\": [\"Chhattisgarh\"], \"xaxis\": \"x\", \"y\": [38802], \"yaxis\": \"y\", \"type\": \"bar\"}, {\"alignmentgroup\": \"True\", \"customdata\": [[9301]], \"hoverlabel\": {\"namelength\": 0}, \"hovertemplate\": \"State/Union territory=%{x}<br>Year=2003\\u201304<br>GDP (in Crores)=%{customdata[0]}\", \"legendgroup\": \"State/Union territory=Goa\", \"marker\": {\"color\": \"#FF6692\"}, \"name\": \"State/Union territory=Goa\", \"offsetgroup\": \"State/Union territory=Goa\", \"orientation\": \"v\", \"showlegend\": true, \"textposition\": \"auto\", \"x\": [\"Goa\"], \"xaxis\": \"x\", \"y\": [9301], \"yaxis\": \"y\", \"type\": \"bar\"}, {\"alignmentgroup\": \"True\", \"customdata\": [[168080]], \"hoverlabel\": {\"namelength\": 0}, \"hovertemplate\": \"State/Union territory=%{x}<br>Year=2003\\u201304<br>GDP (in Crores)=%{customdata[0]}\", \"legendgroup\": \"State/Union territory=Gujarat\", \"marker\": {\"color\": \"#B6E880\"}, \"name\": \"State/Union territory=Gujarat\", \"offsetgroup\": \"State/Union territory=Gujarat\", \"orientation\": \"v\", \"showlegend\": true, \"textposition\": \"auto\", \"x\": [\"Gujarat\"], \"xaxis\": \"x\", \"y\": [168080], \"yaxis\": \"y\", \"type\": \"bar\"}, {\"alignmentgroup\": \"True\", \"customdata\": [[82862]], \"hoverlabel\": {\"namelength\": 0}, \"hovertemplate\": \"State/Union territory=%{x}<br>Year=2003\\u201304<br>GDP (in Crores)=%{customdata[0]}\", \"legendgroup\": \"State/Union territory=Haryana\", \"marker\": {\"color\": \"#FF97FF\"}, \"name\": \"State/Union territory=Haryana\", \"offsetgroup\": \"State/Union territory=Haryana\", \"orientation\": \"v\", \"showlegend\": true, \"textposition\": \"auto\", \"x\": [\"Haryana\"], \"xaxis\": \"x\", \"y\": [82862], \"yaxis\": \"y\", \"type\": \"bar\"}, {\"alignmentgroup\": \"True\", \"customdata\": [[20721]], \"hoverlabel\": {\"namelength\": 0}, \"hovertemplate\": \"State/Union territory=%{x}<br>Year=2003\\u201304<br>GDP (in Crores)=%{customdata[0]}\", \"legendgroup\": \"State/Union territory=Himachal Pradesh\", \"marker\": {\"color\": \"#FECB52\"}, \"name\": \"State/Union territory=Himachal Pradesh\", \"offsetgroup\": \"State/Union territory=Himachal Pradesh\", \"orientation\": \"v\", \"showlegend\": true, \"textposition\": \"auto\", \"x\": [\"Himachal Pradesh\"], \"xaxis\": \"x\", \"y\": [20721], \"yaxis\": \"y\", \"type\": \"bar\"}, {\"alignmentgroup\": \"True\", \"customdata\": [[22194]], \"hoverlabel\": {\"namelength\": 0}, \"hovertemplate\": \"State/Union territory=%{x}<br>Year=2003\\u201304<br>GDP (in Crores)=%{customdata[0]}\", \"legendgroup\": \"State/Union territory=Jammu and Kashmir\", \"marker\": {\"color\": \"#636efa\"}, \"name\": \"State/Union territory=Jammu and Kashmir\", \"offsetgroup\": \"State/Union territory=Jammu and Kashmir\", \"orientation\": \"v\", \"showlegend\": true, \"textposition\": \"auto\", \"x\": [\"Jammu and Kashmir\"], \"xaxis\": \"x\", \"y\": [22194], \"yaxis\": \"y\", \"type\": \"bar\"}, {\"alignmentgroup\": \"True\", \"customdata\": [[42449]], \"hoverlabel\": {\"namelength\": 0}, \"hovertemplate\": \"State/Union territory=%{x}<br>Year=2003\\u201304<br>GDP (in Crores)=%{customdata[0]}\", \"legendgroup\": \"State/Union territory=Jharkhand\", \"marker\": {\"color\": \"#EF553B\"}, \"name\": \"State/Union territory=Jharkhand\", \"offsetgroup\": \"State/Union territory=Jharkhand\", \"orientation\": \"v\", \"showlegend\": true, \"textposition\": \"auto\", \"x\": [\"Jharkhand\"], \"xaxis\": \"x\", \"y\": [42449], \"yaxis\": \"y\", \"type\": \"bar\"}, {\"alignmentgroup\": \"True\", \"customdata\": [[130990]], \"hoverlabel\": {\"namelength\": 0}, \"hovertemplate\": \"State/Union territory=%{x}<br>Year=2003\\u201304<br>GDP (in Crores)=%{customdata[0]}\", \"legendgroup\": \"State/Union territory=Karnataka\", \"marker\": {\"color\": \"#00cc96\"}, \"name\": \"State/Union territory=Karnataka\", \"offsetgroup\": \"State/Union territory=Karnataka\", \"orientation\": \"v\", \"showlegend\": true, \"textposition\": \"auto\", \"x\": [\"Karnataka\"], \"xaxis\": \"x\", \"y\": [130990], \"yaxis\": \"y\", \"type\": \"bar\"}, {\"alignmentgroup\": \"True\", \"customdata\": [[96698]], \"hoverlabel\": {\"namelength\": 0}, \"hovertemplate\": \"State/Union territory=%{x}<br>Year=2003\\u201304<br>GDP (in Crores)=%{customdata[0]}\", \"legendgroup\": \"State/Union territory=Kerala\", \"marker\": {\"color\": \"#ab63fa\"}, \"name\": \"State/Union territory=Kerala\", \"offsetgroup\": \"State/Union territory=Kerala\", \"orientation\": \"v\", \"showlegend\": true, \"textposition\": \"auto\", \"x\": [\"Kerala\"], \"xaxis\": \"x\", \"y\": [96698], \"yaxis\": \"y\", \"type\": \"bar\"}, {\"alignmentgroup\": \"True\", \"customdata\": [[102839]], \"hoverlabel\": {\"namelength\": 0}, \"hovertemplate\": \"State/Union territory=%{x}<br>Year=2003\\u201304<br>GDP (in Crores)=%{customdata[0]}\", \"legendgroup\": \"State/Union territory=Madhya Pradesh\", \"marker\": {\"color\": \"#FFA15A\"}, \"name\": \"State/Union territory=Madhya Pradesh\", \"offsetgroup\": \"State/Union territory=Madhya Pradesh\", \"orientation\": \"v\", \"showlegend\": true, \"textposition\": \"auto\", \"x\": [\"Madhya Pradesh\"], \"xaxis\": \"x\", \"y\": [102839], \"yaxis\": \"y\", \"type\": \"bar\"}, {\"alignmentgroup\": \"True\", \"customdata\": [[340600]], \"hoverlabel\": {\"namelength\": 0}, \"hovertemplate\": \"State/Union territory=%{x}<br>Year=2003\\u201304<br>GDP (in Crores)=%{customdata[0]}\", \"legendgroup\": \"State/Union territory=Maharashtra\", \"marker\": {\"color\": \"#19d3f3\"}, \"name\": \"State/Union territory=Maharashtra\", \"offsetgroup\": \"State/Union territory=Maharashtra\", \"orientation\": \"v\", \"showlegend\": true, \"textposition\": \"auto\", \"x\": [\"Maharashtra\"], \"xaxis\": \"x\", \"y\": [340600], \"yaxis\": \"y\", \"type\": \"bar\"}, {\"alignmentgroup\": \"True\", \"customdata\": [[3979]], \"hoverlabel\": {\"namelength\": 0}, \"hovertemplate\": \"State/Union territory=%{x}<br>Year=2003\\u201304<br>GDP (in Crores)=%{customdata[0]}\", \"legendgroup\": \"State/Union territory=Manipur\", \"marker\": {\"color\": \"#FF6692\"}, \"name\": \"State/Union territory=Manipur\", \"offsetgroup\": \"State/Union territory=Manipur\", \"orientation\": \"v\", \"showlegend\": true, \"textposition\": \"auto\", \"x\": [\"Manipur\"], \"xaxis\": \"x\", \"y\": [3979], \"yaxis\": \"y\", \"type\": \"bar\"}, {\"alignmentgroup\": \"True\", \"customdata\": [[5280]], \"hoverlabel\": {\"namelength\": 0}, \"hovertemplate\": \"State/Union territory=%{x}<br>Year=2003\\u201304<br>GDP (in Crores)=%{customdata[0]}\", \"legendgroup\": \"State/Union territory=Meghalaya\", \"marker\": {\"color\": \"#B6E880\"}, \"name\": \"State/Union territory=Meghalaya\", \"offsetgroup\": \"State/Union territory=Meghalaya\", \"orientation\": \"v\", \"showlegend\": true, \"textposition\": \"auto\", \"x\": [\"Meghalaya\"], \"xaxis\": \"x\", \"y\": [5280], \"yaxis\": \"y\", \"type\": \"bar\"}, {\"alignmentgroup\": \"True\", \"customdata\": [[2325]], \"hoverlabel\": {\"namelength\": 0}, \"hovertemplate\": \"State/Union territory=%{x}<br>Year=2003\\u201304<br>GDP (in Crores)=%{customdata[0]}\", \"legendgroup\": \"State/Union territory=Mizoram\", \"marker\": {\"color\": \"#FF97FF\"}, \"name\": \"State/Union territory=Mizoram\", \"offsetgroup\": \"State/Union territory=Mizoram\", \"orientation\": \"v\", \"showlegend\": true, \"textposition\": \"auto\", \"x\": [\"Mizoram\"], \"xaxis\": \"x\", \"y\": [2325], \"yaxis\": \"y\", \"type\": \"bar\"}, {\"alignmentgroup\": \"True\", \"customdata\": [[4812]], \"hoverlabel\": {\"namelength\": 0}, \"hovertemplate\": \"State/Union territory=%{x}<br>Year=2003\\u201304<br>GDP (in Crores)=%{customdata[0]}\", \"legendgroup\": \"State/Union territory=Nagaland\", \"marker\": {\"color\": \"#FECB52\"}, \"name\": \"State/Union territory=Nagaland\", \"offsetgroup\": \"State/Union territory=Nagaland\", \"orientation\": \"v\", \"showlegend\": true, \"textposition\": \"auto\", \"x\": [\"Nagaland\"], \"xaxis\": \"x\", \"y\": [4812], \"yaxis\": \"y\", \"type\": \"bar\"}, {\"alignmentgroup\": \"True\", \"customdata\": [[61008]], \"hoverlabel\": {\"namelength\": 0}, \"hovertemplate\": \"State/Union territory=%{x}<br>Year=2003\\u201304<br>GDP (in Crores)=%{customdata[0]}\", \"legendgroup\": \"State/Union territory=Odisha\", \"marker\": {\"color\": \"#636efa\"}, \"name\": \"State/Union territory=Odisha\", \"offsetgroup\": \"State/Union territory=Odisha\", \"orientation\": \"v\", \"showlegend\": true, \"textposition\": \"auto\", \"x\": [\"Odisha\"], \"xaxis\": \"x\", \"y\": [61008], \"yaxis\": \"y\", \"type\": \"bar\"}, {\"alignmentgroup\": \"True\", \"customdata\": [[90089]], \"hoverlabel\": {\"namelength\": 0}, \"hovertemplate\": \"State/Union territory=%{x}<br>Year=2003\\u201304<br>GDP (in Crores)=%{customdata[0]}\", \"legendgroup\": \"State/Union territory=Punjab\", \"marker\": {\"color\": \"#EF553B\"}, \"name\": \"State/Union territory=Punjab\", \"offsetgroup\": \"State/Union territory=Punjab\", \"orientation\": \"v\", \"showlegend\": true, \"textposition\": \"auto\", \"x\": [\"Punjab\"], \"xaxis\": \"x\", \"y\": [90089], \"yaxis\": \"y\", \"type\": \"bar\"}, {\"alignmentgroup\": \"True\", \"customdata\": [[111606]], \"hoverlabel\": {\"namelength\": 0}, \"hovertemplate\": \"State/Union territory=%{x}<br>Year=2003\\u201304<br>GDP (in Crores)=%{customdata[0]}\", \"legendgroup\": \"State/Union territory=Rajasthan\", \"marker\": {\"color\": \"#00cc96\"}, \"name\": \"State/Union territory=Rajasthan\", \"offsetgroup\": \"State/Union territory=Rajasthan\", \"orientation\": \"v\", \"showlegend\": true, \"textposition\": \"auto\", \"x\": [\"Rajasthan\"], \"xaxis\": \"x\", \"y\": [111606], \"yaxis\": \"y\", \"type\": \"bar\"}, {\"alignmentgroup\": \"True\", \"customdata\": [[1430]], \"hoverlabel\": {\"namelength\": 0}, \"hovertemplate\": \"State/Union territory=%{x}<br>Year=2003\\u201304<br>GDP (in Crores)=%{customdata[0]}\", \"legendgroup\": \"State/Union territory=Sikkim\", \"marker\": {\"color\": \"#ab63fa\"}, \"name\": \"State/Union territory=Sikkim\", \"offsetgroup\": \"State/Union territory=Sikkim\", \"orientation\": \"v\", \"showlegend\": true, \"textposition\": \"auto\", \"x\": [\"Sikkim\"], \"xaxis\": \"x\", \"y\": [1430], \"yaxis\": \"y\", \"type\": \"bar\"}, {\"alignmentgroup\": \"True\", \"customdata\": [[175371]], \"hoverlabel\": {\"namelength\": 0}, \"hovertemplate\": \"State/Union territory=%{x}<br>Year=2003\\u201304<br>GDP (in Crores)=%{customdata[0]}\", \"legendgroup\": \"State/Union territory=Tamil Nadu\", \"marker\": {\"color\": \"#FFA15A\"}, \"name\": \"State/Union territory=Tamil Nadu\", \"offsetgroup\": \"State/Union territory=Tamil Nadu\", \"orientation\": \"v\", \"showlegend\": true, \"textposition\": \"auto\", \"x\": [\"Tamil Nadu\"], \"xaxis\": \"x\", \"y\": [175371], \"yaxis\": \"y\", \"type\": \"bar\"}, {\"alignmentgroup\": \"True\", \"customdata\": [[7551]], \"hoverlabel\": {\"namelength\": 0}, \"hovertemplate\": \"State/Union territory=%{x}<br>Year=2003\\u201304<br>GDP (in Crores)=%{customdata[0]}\", \"legendgroup\": \"State/Union territory=Tripura\", \"marker\": {\"color\": \"#19d3f3\"}, \"name\": \"State/Union territory=Tripura\", \"offsetgroup\": \"State/Union territory=Tripura\", \"orientation\": \"v\", \"showlegend\": true, \"textposition\": \"auto\", \"x\": [\"Tripura\"], \"xaxis\": \"x\", \"y\": [7551], \"yaxis\": \"y\", \"type\": \"bar\"}, {\"alignmentgroup\": \"True\", \"customdata\": [[226972]], \"hoverlabel\": {\"namelength\": 0}, \"hovertemplate\": \"State/Union territory=%{x}<br>Year=2003\\u201304<br>GDP (in Crores)=%{customdata[0]}\", \"legendgroup\": \"State/Union territory=Uttar Pradesh\", \"marker\": {\"color\": \"#FF6692\"}, \"name\": \"State/Union territory=Uttar Pradesh\", \"offsetgroup\": \"State/Union territory=Uttar Pradesh\", \"orientation\": \"v\", \"showlegend\": true, \"textposition\": \"auto\", \"x\": [\"Uttar Pradesh\"], \"xaxis\": \"x\", \"y\": [226972], \"yaxis\": \"y\", \"type\": \"bar\"}, {\"alignmentgroup\": \"True\", \"customdata\": [[20439]], \"hoverlabel\": {\"namelength\": 0}, \"hovertemplate\": \"State/Union territory=%{x}<br>Year=2003\\u201304<br>GDP (in Crores)=%{customdata[0]}\", \"legendgroup\": \"State/Union territory=Uttarakhand\", \"marker\": {\"color\": \"#B6E880\"}, \"name\": \"State/Union territory=Uttarakhand\", \"offsetgroup\": \"State/Union territory=Uttarakhand\", \"orientation\": \"v\", \"showlegend\": true, \"textposition\": \"auto\", \"x\": [\"Uttarakhand\"], \"xaxis\": \"x\", \"y\": [20439], \"yaxis\": \"y\", \"type\": \"bar\"}, {\"alignmentgroup\": \"True\", \"customdata\": [[189259]], \"hoverlabel\": {\"namelength\": 0}, \"hovertemplate\": \"State/Union territory=%{x}<br>Year=2003\\u201304<br>GDP (in Crores)=%{customdata[0]}\", \"legendgroup\": \"State/Union territory=West Bengal\", \"marker\": {\"color\": \"#FF97FF\"}, \"name\": \"State/Union territory=West Bengal\", \"offsetgroup\": \"State/Union territory=West Bengal\", \"orientation\": \"v\", \"showlegend\": true, \"textposition\": \"auto\", \"x\": [\"West Bengal\"], \"xaxis\": \"x\", \"y\": [189259], \"yaxis\": \"y\", \"type\": \"bar\"}, {\"alignmentgroup\": \"True\", \"customdata\": [[1392]], \"hoverlabel\": {\"namelength\": 0}, \"hovertemplate\": \"State/Union territory=%{x}<br>Year=2003\\u201304<br>GDP (in Crores)=%{customdata[0]}\", \"legendgroup\": \"State/Union territory=Andaman and Nicobar Islands\", \"marker\": {\"color\": \"#FECB52\"}, \"name\": \"State/Union territory=Andaman and Nicobar Islands\", \"offsetgroup\": \"State/Union territory=Andaman and Nicobar Islands\", \"orientation\": \"v\", \"showlegend\": true, \"textposition\": \"auto\", \"x\": [\"Andaman and Nicobar Islands\"], \"xaxis\": \"x\", \"y\": [1392], \"yaxis\": \"y\", \"type\": \"bar\"}, {\"alignmentgroup\": \"True\", \"customdata\": [[7419]], \"hoverlabel\": {\"namelength\": 0}, \"hovertemplate\": \"State/Union territory=%{x}<br>Year=2003\\u201304<br>GDP (in Crores)=%{customdata[0]}\", \"legendgroup\": \"State/Union territory=Chandigarh\", \"marker\": {\"color\": \"#636efa\"}, \"name\": \"State/Union territory=Chandigarh\", \"offsetgroup\": \"State/Union territory=Chandigarh\", \"orientation\": \"v\", \"showlegend\": true, \"textposition\": \"auto\", \"x\": [\"Chandigarh\"], \"xaxis\": \"x\", \"y\": [7419], \"yaxis\": \"y\", \"type\": \"bar\"}, {\"alignmentgroup\": \"True\", \"customdata\": [[79468]], \"hoverlabel\": {\"namelength\": 0}, \"hovertemplate\": \"State/Union territory=%{x}<br>Year=2003\\u201304<br>GDP (in Crores)=%{customdata[0]}\", \"legendgroup\": \"State/Union territory=Delhi\", \"marker\": {\"color\": \"#EF553B\"}, \"name\": \"State/Union territory=Delhi\", \"offsetgroup\": \"State/Union territory=Delhi\", \"orientation\": \"v\", \"showlegend\": true, \"textposition\": \"auto\", \"x\": [\"Delhi\"], \"xaxis\": \"x\", \"y\": [79468], \"yaxis\": \"y\", \"type\": \"bar\"}, {\"alignmentgroup\": \"True\", \"customdata\": [[5438]], \"hoverlabel\": {\"namelength\": 0}, \"hovertemplate\": \"State/Union territory=%{x}<br>Year=2003\\u201304<br>GDP (in Crores)=%{customdata[0]}\", \"legendgroup\": \"State/Union territory=Pudduchery\", \"marker\": {\"color\": \"#00cc96\"}, \"name\": \"State/Union territory=Pudduchery\", \"offsetgroup\": \"State/Union territory=Pudduchery\", \"orientation\": \"v\", \"showlegend\": true, \"textposition\": \"auto\", \"x\": [\"Pudduchery\"], \"xaxis\": \"x\", \"y\": [5438], \"yaxis\": \"y\", \"type\": \"bar\"}], \"name\": \"2003\\u201304\"}, {\"data\": [{\"alignmentgroup\": \"True\", \"customdata\": [[2971464]], \"hoverlabel\": {\"namelength\": 0}, \"hovertemplate\": \"State/Union territory=%{x}<br>Year=2004\\u201305<br>GDP (in Crores)=%{customdata[0]}\", \"legendgroup\": \"State/Union territory=\\u00a0India\", \"marker\": {\"color\": \"#636efa\"}, \"name\": \"State/Union territory=\\u00a0India\", \"offsetgroup\": \"State/Union territory=\\u00a0India\", \"orientation\": \"v\", \"showlegend\": true, \"textposition\": \"auto\", \"x\": [\"\\u00a0India\"], \"xaxis\": \"x\", \"y\": [2971464], \"yaxis\": \"y\", \"type\": \"bar\"}, {\"alignmentgroup\": \"True\", \"customdata\": [[224713]], \"hoverlabel\": {\"namelength\": 0}, \"hovertemplate\": \"State/Union territory=%{x}<br>Year=2004\\u201305<br>GDP (in Crores)=%{customdata[0]}\", \"legendgroup\": \"State/Union territory=Andhra Pradesh\", \"marker\": {\"color\": \"#EF553B\"}, \"name\": \"State/Union territory=Andhra Pradesh\", \"offsetgroup\": \"State/Union territory=Andhra Pradesh\", \"orientation\": \"v\", \"showlegend\": true, \"textposition\": \"auto\", \"x\": [\"Andhra Pradesh\"], \"xaxis\": \"x\", \"y\": [224713], \"yaxis\": \"y\", \"type\": \"bar\"}, {\"alignmentgroup\": \"True\", \"customdata\": [[3488]], \"hoverlabel\": {\"namelength\": 0}, \"hovertemplate\": \"State/Union territory=%{x}<br>Year=2004\\u201305<br>GDP (in Crores)=%{customdata[0]}\", \"legendgroup\": \"State/Union territory=Arunachal Pradesh\", \"marker\": {\"color\": \"#00cc96\"}, \"name\": \"State/Union territory=Arunachal Pradesh\", \"offsetgroup\": \"State/Union territory=Arunachal Pradesh\", \"orientation\": \"v\", \"showlegend\": true, \"textposition\": \"auto\", \"x\": [\"Arunachal Pradesh\"], \"xaxis\": \"x\", \"y\": [3488], \"yaxis\": \"y\", \"type\": \"bar\"}, {\"alignmentgroup\": \"True\", \"customdata\": [[53398]], \"hoverlabel\": {\"namelength\": 0}, \"hovertemplate\": \"State/Union territory=%{x}<br>Year=2004\\u201305<br>GDP (in Crores)=%{customdata[0]}\", \"legendgroup\": \"State/Union territory=Assam\", \"marker\": {\"color\": \"#ab63fa\"}, \"name\": \"State/Union territory=Assam\", \"offsetgroup\": \"State/Union territory=Assam\", \"orientation\": \"v\", \"showlegend\": true, \"textposition\": \"auto\", \"x\": [\"Assam\"], \"xaxis\": \"x\", \"y\": [53398], \"yaxis\": \"y\", \"type\": \"bar\"}, {\"alignmentgroup\": \"True\", \"customdata\": [[77781]], \"hoverlabel\": {\"namelength\": 0}, \"hovertemplate\": \"State/Union territory=%{x}<br>Year=2004\\u201305<br>GDP (in Crores)=%{customdata[0]}\", \"legendgroup\": \"State/Union territory=Bihar\", \"marker\": {\"color\": \"#FFA15A\"}, \"name\": \"State/Union territory=Bihar\", \"offsetgroup\": \"State/Union territory=Bihar\", \"orientation\": \"v\", \"showlegend\": true, \"textposition\": \"auto\", \"x\": [\"Bihar\"], \"xaxis\": \"x\", \"y\": [77781], \"yaxis\": \"y\", \"type\": \"bar\"}, {\"alignmentgroup\": \"True\", \"customdata\": [[47862]], \"hoverlabel\": {\"namelength\": 0}, \"hovertemplate\": \"State/Union territory=%{x}<br>Year=2004\\u201305<br>GDP (in Crores)=%{customdata[0]}\", \"legendgroup\": \"State/Union territory=Chhattisgarh\", \"marker\": {\"color\": \"#19d3f3\"}, \"name\": \"State/Union territory=Chhattisgarh\", \"offsetgroup\": \"State/Union territory=Chhattisgarh\", \"orientation\": \"v\", \"showlegend\": true, \"textposition\": \"auto\", \"x\": [\"Chhattisgarh\"], \"xaxis\": \"x\", \"y\": [47862], \"yaxis\": \"y\", \"type\": \"bar\"}, {\"alignmentgroup\": \"True\", \"customdata\": [[12713]], \"hoverlabel\": {\"namelength\": 0}, \"hovertemplate\": \"State/Union territory=%{x}<br>Year=2004\\u201305<br>GDP (in Crores)=%{customdata[0]}\", \"legendgroup\": \"State/Union territory=Goa\", \"marker\": {\"color\": \"#FF6692\"}, \"name\": \"State/Union territory=Goa\", \"offsetgroup\": \"State/Union territory=Goa\", \"orientation\": \"v\", \"showlegend\": true, \"textposition\": \"auto\", \"x\": [\"Goa\"], \"xaxis\": \"x\", \"y\": [12713], \"yaxis\": \"y\", \"type\": \"bar\"}, {\"alignmentgroup\": \"True\", \"customdata\": [[203373]], \"hoverlabel\": {\"namelength\": 0}, \"hovertemplate\": \"State/Union territory=%{x}<br>Year=2004\\u201305<br>GDP (in Crores)=%{customdata[0]}\", \"legendgroup\": \"State/Union territory=Gujarat\", \"marker\": {\"color\": \"#B6E880\"}, \"name\": \"State/Union territory=Gujarat\", \"offsetgroup\": \"State/Union territory=Gujarat\", \"orientation\": \"v\", \"showlegend\": true, \"textposition\": \"auto\", \"x\": [\"Gujarat\"], \"xaxis\": \"x\", \"y\": [203373], \"yaxis\": \"y\", \"type\": \"bar\"}, {\"alignmentgroup\": \"True\", \"customdata\": [[95795]], \"hoverlabel\": {\"namelength\": 0}, \"hovertemplate\": \"State/Union territory=%{x}<br>Year=2004\\u201305<br>GDP (in Crores)=%{customdata[0]}\", \"legendgroup\": \"State/Union territory=Haryana\", \"marker\": {\"color\": \"#FF97FF\"}, \"name\": \"State/Union territory=Haryana\", \"offsetgroup\": \"State/Union territory=Haryana\", \"orientation\": \"v\", \"showlegend\": true, \"textposition\": \"auto\", \"x\": [\"Haryana\"], \"xaxis\": \"x\", \"y\": [95795], \"yaxis\": \"y\", \"type\": \"bar\"}, {\"alignmentgroup\": \"True\", \"customdata\": [[24077]], \"hoverlabel\": {\"namelength\": 0}, \"hovertemplate\": \"State/Union territory=%{x}<br>Year=2004\\u201305<br>GDP (in Crores)=%{customdata[0]}\", \"legendgroup\": \"State/Union territory=Himachal Pradesh\", \"marker\": {\"color\": \"#FECB52\"}, \"name\": \"State/Union territory=Himachal Pradesh\", \"offsetgroup\": \"State/Union territory=Himachal Pradesh\", \"orientation\": \"v\", \"showlegend\": true, \"textposition\": \"auto\", \"x\": [\"Himachal Pradesh\"], \"xaxis\": \"x\", \"y\": [24077], \"yaxis\": \"y\", \"type\": \"bar\"}, {\"alignmentgroup\": \"True\", \"customdata\": [[27305]], \"hoverlabel\": {\"namelength\": 0}, \"hovertemplate\": \"State/Union territory=%{x}<br>Year=2004\\u201305<br>GDP (in Crores)=%{customdata[0]}\", \"legendgroup\": \"State/Union territory=Jammu and Kashmir\", \"marker\": {\"color\": \"#636efa\"}, \"name\": \"State/Union territory=Jammu and Kashmir\", \"offsetgroup\": \"State/Union territory=Jammu and Kashmir\", \"orientation\": \"v\", \"showlegend\": true, \"textposition\": \"auto\", \"x\": [\"Jammu and Kashmir\"], \"xaxis\": \"x\", \"y\": [27305], \"yaxis\": \"y\", \"type\": \"bar\"}, {\"alignmentgroup\": \"True\", \"customdata\": [[59758]], \"hoverlabel\": {\"namelength\": 0}, \"hovertemplate\": \"State/Union territory=%{x}<br>Year=2004\\u201305<br>GDP (in Crores)=%{customdata[0]}\", \"legendgroup\": \"State/Union territory=Jharkhand\", \"marker\": {\"color\": \"#EF553B\"}, \"name\": \"State/Union territory=Jharkhand\", \"offsetgroup\": \"State/Union territory=Jharkhand\", \"orientation\": \"v\", \"showlegend\": true, \"textposition\": \"auto\", \"x\": [\"Jharkhand\"], \"xaxis\": \"x\", \"y\": [59758], \"yaxis\": \"y\", \"type\": \"bar\"}, {\"alignmentgroup\": \"True\", \"customdata\": [[166747]], \"hoverlabel\": {\"namelength\": 0}, \"hovertemplate\": \"State/Union territory=%{x}<br>Year=2004\\u201305<br>GDP (in Crores)=%{customdata[0]}\", \"legendgroup\": \"State/Union territory=Karnataka\", \"marker\": {\"color\": \"#00cc96\"}, \"name\": \"State/Union territory=Karnataka\", \"offsetgroup\": \"State/Union territory=Karnataka\", \"orientation\": \"v\", \"showlegend\": true, \"textposition\": \"auto\", \"x\": [\"Karnataka\"], \"xaxis\": \"x\", \"y\": [166747], \"yaxis\": \"y\", \"type\": \"bar\"}, {\"alignmentgroup\": \"True\", \"customdata\": [[119264]], \"hoverlabel\": {\"namelength\": 0}, \"hovertemplate\": \"State/Union territory=%{x}<br>Year=2004\\u201305<br>GDP (in Crores)=%{customdata[0]}\", \"legendgroup\": \"State/Union territory=Kerala\", \"marker\": {\"color\": \"#ab63fa\"}, \"name\": \"State/Union territory=Kerala\", \"offsetgroup\": \"State/Union territory=Kerala\", \"orientation\": \"v\", \"showlegend\": true, \"textposition\": \"auto\", \"x\": [\"Kerala\"], \"xaxis\": \"x\", \"y\": [119264], \"yaxis\": \"y\", \"type\": \"bar\"}, {\"alignmentgroup\": \"True\", \"customdata\": [[112927]], \"hoverlabel\": {\"namelength\": 0}, \"hovertemplate\": \"State/Union territory=%{x}<br>Year=2004\\u201305<br>GDP (in Crores)=%{customdata[0]}\", \"legendgroup\": \"State/Union territory=Madhya Pradesh\", \"marker\": {\"color\": \"#FFA15A\"}, \"name\": \"State/Union territory=Madhya Pradesh\", \"offsetgroup\": \"State/Union territory=Madhya Pradesh\", \"orientation\": \"v\", \"showlegend\": true, \"textposition\": \"auto\", \"x\": [\"Madhya Pradesh\"], \"xaxis\": \"x\", \"y\": [112927], \"yaxis\": \"y\", \"type\": \"bar\"}, {\"alignmentgroup\": \"True\", \"customdata\": [[415480]], \"hoverlabel\": {\"namelength\": 0}, \"hovertemplate\": \"State/Union territory=%{x}<br>Year=2004\\u201305<br>GDP (in Crores)=%{customdata[0]}\", \"legendgroup\": \"State/Union territory=Maharashtra\", \"marker\": {\"color\": \"#19d3f3\"}, \"name\": \"State/Union territory=Maharashtra\", \"offsetgroup\": \"State/Union territory=Maharashtra\", \"orientation\": \"v\", \"showlegend\": true, \"textposition\": \"auto\", \"x\": [\"Maharashtra\"], \"xaxis\": \"x\", \"y\": [415480], \"yaxis\": \"y\", \"type\": \"bar\"}, {\"alignmentgroup\": \"True\", \"customdata\": [[5133]], \"hoverlabel\": {\"namelength\": 0}, \"hovertemplate\": \"State/Union territory=%{x}<br>Year=2004\\u201305<br>GDP (in Crores)=%{customdata[0]}\", \"legendgroup\": \"State/Union territory=Manipur\", \"marker\": {\"color\": \"#FF6692\"}, \"name\": \"State/Union territory=Manipur\", \"offsetgroup\": \"State/Union territory=Manipur\", \"orientation\": \"v\", \"showlegend\": true, \"textposition\": \"auto\", \"x\": [\"Manipur\"], \"xaxis\": \"x\", \"y\": [5133], \"yaxis\": \"y\", \"type\": \"bar\"}, {\"alignmentgroup\": \"True\", \"customdata\": [[6559]], \"hoverlabel\": {\"namelength\": 0}, \"hovertemplate\": \"State/Union territory=%{x}<br>Year=2004\\u201305<br>GDP (in Crores)=%{customdata[0]}\", \"legendgroup\": \"State/Union territory=Meghalaya\", \"marker\": {\"color\": \"#B6E880\"}, \"name\": \"State/Union territory=Meghalaya\", \"offsetgroup\": \"State/Union territory=Meghalaya\", \"orientation\": \"v\", \"showlegend\": true, \"textposition\": \"auto\", \"x\": [\"Meghalaya\"], \"xaxis\": \"x\", \"y\": [6559], \"yaxis\": \"y\", \"type\": \"bar\"}, {\"alignmentgroup\": \"True\", \"customdata\": [[2682]], \"hoverlabel\": {\"namelength\": 0}, \"hovertemplate\": \"State/Union territory=%{x}<br>Year=2004\\u201305<br>GDP (in Crores)=%{customdata[0]}\", \"legendgroup\": \"State/Union territory=Mizoram\", \"marker\": {\"color\": \"#FF97FF\"}, \"name\": \"State/Union territory=Mizoram\", \"offsetgroup\": \"State/Union territory=Mizoram\", \"orientation\": \"v\", \"showlegend\": true, \"textposition\": \"auto\", \"x\": [\"Mizoram\"], \"xaxis\": \"x\", \"y\": [2682], \"yaxis\": \"y\", \"type\": \"bar\"}, {\"alignmentgroup\": \"True\", \"customdata\": [[5839]], \"hoverlabel\": {\"namelength\": 0}, \"hovertemplate\": \"State/Union territory=%{x}<br>Year=2004\\u201305<br>GDP (in Crores)=%{customdata[0]}\", \"legendgroup\": \"State/Union territory=Nagaland\", \"marker\": {\"color\": \"#FECB52\"}, \"name\": \"State/Union territory=Nagaland\", \"offsetgroup\": \"State/Union territory=Nagaland\", \"orientation\": \"v\", \"showlegend\": true, \"textposition\": \"auto\", \"x\": [\"Nagaland\"], \"xaxis\": \"x\", \"y\": [5839], \"yaxis\": \"y\", \"type\": \"bar\"}, {\"alignmentgroup\": \"True\", \"customdata\": [[77729]], \"hoverlabel\": {\"namelength\": 0}, \"hovertemplate\": \"State/Union territory=%{x}<br>Year=2004\\u201305<br>GDP (in Crores)=%{customdata[0]}\", \"legendgroup\": \"State/Union territory=Odisha\", \"marker\": {\"color\": \"#636efa\"}, \"name\": \"State/Union territory=Odisha\", \"offsetgroup\": \"State/Union territory=Odisha\", \"orientation\": \"v\", \"showlegend\": true, \"textposition\": \"auto\", \"x\": [\"Odisha\"], \"xaxis\": \"x\", \"y\": [77729], \"yaxis\": \"y\", \"type\": \"bar\"}, {\"alignmentgroup\": \"True\", \"customdata\": [[96839]], \"hoverlabel\": {\"namelength\": 0}, \"hovertemplate\": \"State/Union territory=%{x}<br>Year=2004\\u201305<br>GDP (in Crores)=%{customdata[0]}\", \"legendgroup\": \"State/Union territory=Punjab\", \"marker\": {\"color\": \"#EF553B\"}, \"name\": \"State/Union territory=Punjab\", \"offsetgroup\": \"State/Union territory=Punjab\", \"orientation\": \"v\", \"showlegend\": true, \"textposition\": \"auto\", \"x\": [\"Punjab\"], \"xaxis\": \"x\", \"y\": [96839], \"yaxis\": \"y\", \"type\": \"bar\"}, {\"alignmentgroup\": \"True\", \"customdata\": [[127746]], \"hoverlabel\": {\"namelength\": 0}, \"hovertemplate\": \"State/Union territory=%{x}<br>Year=2004\\u201305<br>GDP (in Crores)=%{customdata[0]}\", \"legendgroup\": \"State/Union territory=Rajasthan\", \"marker\": {\"color\": \"#00cc96\"}, \"name\": \"State/Union territory=Rajasthan\", \"offsetgroup\": \"State/Union territory=Rajasthan\", \"orientation\": \"v\", \"showlegend\": true, \"textposition\": \"auto\", \"x\": [\"Rajasthan\"], \"xaxis\": \"x\", \"y\": [127746], \"yaxis\": \"y\", \"type\": \"bar\"}, {\"alignmentgroup\": \"True\", \"customdata\": [[1739]], \"hoverlabel\": {\"namelength\": 0}, \"hovertemplate\": \"State/Union territory=%{x}<br>Year=2004\\u201305<br>GDP (in Crores)=%{customdata[0]}\", \"legendgroup\": \"State/Union territory=Sikkim\", \"marker\": {\"color\": \"#ab63fa\"}, \"name\": \"State/Union territory=Sikkim\", \"offsetgroup\": \"State/Union territory=Sikkim\", \"orientation\": \"v\", \"showlegend\": true, \"textposition\": \"auto\", \"x\": [\"Sikkim\"], \"xaxis\": \"x\", \"y\": [1739], \"yaxis\": \"y\", \"type\": \"bar\"}, {\"alignmentgroup\": \"True\", \"customdata\": [[219003]], \"hoverlabel\": {\"namelength\": 0}, \"hovertemplate\": \"State/Union territory=%{x}<br>Year=2004\\u201305<br>GDP (in Crores)=%{customdata[0]}\", \"legendgroup\": \"State/Union territory=Tamil Nadu\", \"marker\": {\"color\": \"#FFA15A\"}, \"name\": \"State/Union territory=Tamil Nadu\", \"offsetgroup\": \"State/Union territory=Tamil Nadu\", \"orientation\": \"v\", \"showlegend\": true, \"textposition\": \"auto\", \"x\": [\"Tamil Nadu\"], \"xaxis\": \"x\", \"y\": [219003], \"yaxis\": \"y\", \"type\": \"bar\"}, {\"alignmentgroup\": \"True\", \"customdata\": [[8904]], \"hoverlabel\": {\"namelength\": 0}, \"hovertemplate\": \"State/Union territory=%{x}<br>Year=2004\\u201305<br>GDP (in Crores)=%{customdata[0]}\", \"legendgroup\": \"State/Union territory=Tripura\", \"marker\": {\"color\": \"#19d3f3\"}, \"name\": \"State/Union territory=Tripura\", \"offsetgroup\": \"State/Union territory=Tripura\", \"orientation\": \"v\", \"showlegend\": true, \"textposition\": \"auto\", \"x\": [\"Tripura\"], \"xaxis\": \"x\", \"y\": [8904], \"yaxis\": \"y\", \"type\": \"bar\"}, {\"alignmentgroup\": \"True\", \"customdata\": [[260841]], \"hoverlabel\": {\"namelength\": 0}, \"hovertemplate\": \"State/Union territory=%{x}<br>Year=2004\\u201305<br>GDP (in Crores)=%{customdata[0]}\", \"legendgroup\": \"State/Union territory=Uttar Pradesh\", \"marker\": {\"color\": \"#FF6692\"}, \"name\": \"State/Union territory=Uttar Pradesh\", \"offsetgroup\": \"State/Union territory=Uttar Pradesh\", \"orientation\": \"v\", \"showlegend\": true, \"textposition\": \"auto\", \"x\": [\"Uttar Pradesh\"], \"xaxis\": \"x\", \"y\": [260841], \"yaxis\": \"y\", \"type\": \"bar\"}, {\"alignmentgroup\": \"True\", \"customdata\": [[24786]], \"hoverlabel\": {\"namelength\": 0}, \"hovertemplate\": \"State/Union territory=%{x}<br>Year=2004\\u201305<br>GDP (in Crores)=%{customdata[0]}\", \"legendgroup\": \"State/Union territory=Uttarakhand\", \"marker\": {\"color\": \"#B6E880\"}, \"name\": \"State/Union territory=Uttarakhand\", \"offsetgroup\": \"State/Union territory=Uttarakhand\", \"orientation\": \"v\", \"showlegend\": true, \"textposition\": \"auto\", \"x\": [\"Uttarakhand\"], \"xaxis\": \"x\", \"y\": [24786], \"yaxis\": \"y\", \"type\": \"bar\"}, {\"alignmentgroup\": \"True\", \"customdata\": [[208656]], \"hoverlabel\": {\"namelength\": 0}, \"hovertemplate\": \"State/Union territory=%{x}<br>Year=2004\\u201305<br>GDP (in Crores)=%{customdata[0]}\", \"legendgroup\": \"State/Union territory=West Bengal\", \"marker\": {\"color\": \"#FF97FF\"}, \"name\": \"State/Union territory=West Bengal\", \"offsetgroup\": \"State/Union territory=West Bengal\", \"orientation\": \"v\", \"showlegend\": true, \"textposition\": \"auto\", \"x\": [\"West Bengal\"], \"xaxis\": \"x\", \"y\": [208656], \"yaxis\": \"y\", \"type\": \"bar\"}, {\"alignmentgroup\": \"True\", \"customdata\": [[1813]], \"hoverlabel\": {\"namelength\": 0}, \"hovertemplate\": \"State/Union territory=%{x}<br>Year=2004\\u201305<br>GDP (in Crores)=%{customdata[0]}\", \"legendgroup\": \"State/Union territory=Andaman and Nicobar Islands\", \"marker\": {\"color\": \"#FECB52\"}, \"name\": \"State/Union territory=Andaman and Nicobar Islands\", \"offsetgroup\": \"State/Union territory=Andaman and Nicobar Islands\", \"orientation\": \"v\", \"showlegend\": true, \"textposition\": \"auto\", \"x\": [\"Andaman and Nicobar Islands\"], \"xaxis\": \"x\", \"y\": [1813], \"yaxis\": \"y\", \"type\": \"bar\"}, {\"alignmentgroup\": \"True\", \"customdata\": [[8504]], \"hoverlabel\": {\"namelength\": 0}, \"hovertemplate\": \"State/Union territory=%{x}<br>Year=2004\\u201305<br>GDP (in Crores)=%{customdata[0]}\", \"legendgroup\": \"State/Union territory=Chandigarh\", \"marker\": {\"color\": \"#636efa\"}, \"name\": \"State/Union territory=Chandigarh\", \"offsetgroup\": \"State/Union territory=Chandigarh\", \"orientation\": \"v\", \"showlegend\": true, \"textposition\": \"auto\", \"x\": [\"Chandigarh\"], \"xaxis\": \"x\", \"y\": [8504], \"yaxis\": \"y\", \"type\": \"bar\"}, {\"alignmentgroup\": \"True\", \"customdata\": [[100325]], \"hoverlabel\": {\"namelength\": 0}, \"hovertemplate\": \"State/Union territory=%{x}<br>Year=2004\\u201305<br>GDP (in Crores)=%{customdata[0]}\", \"legendgroup\": \"State/Union territory=Delhi\", \"marker\": {\"color\": \"#EF553B\"}, \"name\": \"State/Union territory=Delhi\", \"offsetgroup\": \"State/Union territory=Delhi\", \"orientation\": \"v\", \"showlegend\": true, \"textposition\": \"auto\", \"x\": [\"Delhi\"], \"xaxis\": \"x\", \"y\": [100325], \"yaxis\": \"y\", \"type\": \"bar\"}, {\"alignmentgroup\": \"True\", \"customdata\": [[5754]], \"hoverlabel\": {\"namelength\": 0}, \"hovertemplate\": \"State/Union territory=%{x}<br>Year=2004\\u201305<br>GDP (in Crores)=%{customdata[0]}\", \"legendgroup\": \"State/Union territory=Pudduchery\", \"marker\": {\"color\": \"#00cc96\"}, \"name\": \"State/Union territory=Pudduchery\", \"offsetgroup\": \"State/Union territory=Pudduchery\", \"orientation\": \"v\", \"showlegend\": true, \"textposition\": \"auto\", \"x\": [\"Pudduchery\"], \"xaxis\": \"x\", \"y\": [5754], \"yaxis\": \"y\", \"type\": \"bar\"}], \"name\": \"2004\\u201305\"}, {\"data\": [{\"alignmentgroup\": \"True\", \"customdata\": [[3390503]], \"hoverlabel\": {\"namelength\": 0}, \"hovertemplate\": \"State/Union territory=%{x}<br>Year=2005\\u201306<br>GDP (in Crores)=%{customdata[0]}\", \"legendgroup\": \"State/Union territory=\\u00a0India\", \"marker\": {\"color\": \"#636efa\"}, \"name\": \"State/Union territory=\\u00a0India\", \"offsetgroup\": \"State/Union territory=\\u00a0India\", \"orientation\": \"v\", \"showlegend\": true, \"textposition\": \"auto\", \"x\": [\"\\u00a0India\"], \"xaxis\": \"x\", \"y\": [3390503], \"yaxis\": \"y\", \"type\": \"bar\"}, {\"alignmentgroup\": \"True\", \"customdata\": [[255941]], \"hoverlabel\": {\"namelength\": 0}, \"hovertemplate\": \"State/Union territory=%{x}<br>Year=2005\\u201306<br>GDP (in Crores)=%{customdata[0]}\", \"legendgroup\": \"State/Union territory=Andhra Pradesh\", \"marker\": {\"color\": \"#EF553B\"}, \"name\": \"State/Union territory=Andhra Pradesh\", \"offsetgroup\": \"State/Union territory=Andhra Pradesh\", \"orientation\": \"v\", \"showlegend\": true, \"textposition\": \"auto\", \"x\": [\"Andhra Pradesh\"], \"xaxis\": \"x\", \"y\": [255941], \"yaxis\": \"y\", \"type\": \"bar\"}, {\"alignmentgroup\": \"True\", \"customdata\": [[3755]], \"hoverlabel\": {\"namelength\": 0}, \"hovertemplate\": \"State/Union territory=%{x}<br>Year=2005\\u201306<br>GDP (in Crores)=%{customdata[0]}\", \"legendgroup\": \"State/Union territory=Arunachal Pradesh\", \"marker\": {\"color\": \"#00cc96\"}, \"name\": \"State/Union territory=Arunachal Pradesh\", \"offsetgroup\": \"State/Union territory=Arunachal Pradesh\", \"orientation\": \"v\", \"showlegend\": true, \"textposition\": \"auto\", \"x\": [\"Arunachal Pradesh\"], \"xaxis\": \"x\", \"y\": [3755], \"yaxis\": \"y\", \"type\": \"bar\"}, {\"alignmentgroup\": \"True\", \"customdata\": [[59385]], \"hoverlabel\": {\"namelength\": 0}, \"hovertemplate\": \"State/Union territory=%{x}<br>Year=2005\\u201306<br>GDP (in Crores)=%{customdata[0]}\", \"legendgroup\": \"State/Union territory=Assam\", \"marker\": {\"color\": \"#ab63fa\"}, \"name\": \"State/Union territory=Assam\", \"offsetgroup\": \"State/Union territory=Assam\", \"orientation\": \"v\", \"showlegend\": true, \"textposition\": \"auto\", \"x\": [\"Assam\"], \"xaxis\": \"x\", \"y\": [59385], \"yaxis\": \"y\", \"type\": \"bar\"}, {\"alignmentgroup\": \"True\", \"customdata\": [[82490]], \"hoverlabel\": {\"namelength\": 0}, \"hovertemplate\": \"State/Union territory=%{x}<br>Year=2005\\u201306<br>GDP (in Crores)=%{customdata[0]}\", \"legendgroup\": \"State/Union territory=Bihar\", \"marker\": {\"color\": \"#FFA15A\"}, \"name\": \"State/Union territory=Bihar\", \"offsetgroup\": \"State/Union territory=Bihar\", \"orientation\": \"v\", \"showlegend\": true, \"textposition\": \"auto\", \"x\": [\"Bihar\"], \"xaxis\": \"x\", \"y\": [82490], \"yaxis\": \"y\", \"type\": \"bar\"}, {\"alignmentgroup\": \"True\", \"customdata\": [[53381]], \"hoverlabel\": {\"namelength\": 0}, \"hovertemplate\": \"State/Union territory=%{x}<br>Year=2005\\u201306<br>GDP (in Crores)=%{customdata[0]}\", \"legendgroup\": \"State/Union territory=Chhattisgarh\", \"marker\": {\"color\": \"#19d3f3\"}, \"name\": \"State/Union territory=Chhattisgarh\", \"offsetgroup\": \"State/Union territory=Chhattisgarh\", \"orientation\": \"v\", \"showlegend\": true, \"textposition\": \"auto\", \"x\": [\"Chhattisgarh\"], \"xaxis\": \"x\", \"y\": [53381], \"yaxis\": \"y\", \"type\": \"bar\"}, {\"alignmentgroup\": \"True\", \"customdata\": [[14327]], \"hoverlabel\": {\"namelength\": 0}, \"hovertemplate\": \"State/Union territory=%{x}<br>Year=2005\\u201306<br>GDP (in Crores)=%{customdata[0]}\", \"legendgroup\": \"State/Union territory=Goa\", \"marker\": {\"color\": \"#FF6692\"}, \"name\": \"State/Union territory=Goa\", \"offsetgroup\": \"State/Union territory=Goa\", \"orientation\": \"v\", \"showlegend\": true, \"textposition\": \"auto\", \"x\": [\"Goa\"], \"xaxis\": \"x\", \"y\": [14327], \"yaxis\": \"y\", \"type\": \"bar\"}, {\"alignmentgroup\": \"True\", \"customdata\": [[244736]], \"hoverlabel\": {\"namelength\": 0}, \"hovertemplate\": \"State/Union territory=%{x}<br>Year=2005\\u201306<br>GDP (in Crores)=%{customdata[0]}\", \"legendgroup\": \"State/Union territory=Gujarat\", \"marker\": {\"color\": \"#B6E880\"}, \"name\": \"State/Union territory=Gujarat\", \"offsetgroup\": \"State/Union territory=Gujarat\", \"orientation\": \"v\", \"showlegend\": true, \"textposition\": \"auto\", \"x\": [\"Gujarat\"], \"xaxis\": \"x\", \"y\": [244736], \"yaxis\": \"y\", \"type\": \"bar\"}, {\"alignmentgroup\": \"True\", \"customdata\": [[108885]], \"hoverlabel\": {\"namelength\": 0}, \"hovertemplate\": \"State/Union territory=%{x}<br>Year=2005\\u201306<br>GDP (in Crores)=%{customdata[0]}\", \"legendgroup\": \"State/Union territory=Haryana\", \"marker\": {\"color\": \"#FF97FF\"}, \"name\": \"State/Union territory=Haryana\", \"offsetgroup\": \"State/Union territory=Haryana\", \"orientation\": \"v\", \"showlegend\": true, \"textposition\": \"auto\", \"x\": [\"Haryana\"], \"xaxis\": \"x\", \"y\": [108885], \"yaxis\": \"y\", \"type\": \"bar\"}, {\"alignmentgroup\": \"True\", \"customdata\": [[27127]], \"hoverlabel\": {\"namelength\": 0}, \"hovertemplate\": \"State/Union territory=%{x}<br>Year=2005\\u201306<br>GDP (in Crores)=%{customdata[0]}\", \"legendgroup\": \"State/Union territory=Himachal Pradesh\", \"marker\": {\"color\": \"#FECB52\"}, \"name\": \"State/Union territory=Himachal Pradesh\", \"offsetgroup\": \"State/Union territory=Himachal Pradesh\", \"orientation\": \"v\", \"showlegend\": true, \"textposition\": \"auto\", \"x\": [\"Himachal Pradesh\"], \"xaxis\": \"x\", \"y\": [27127], \"yaxis\": \"y\", \"type\": \"bar\"}, {\"alignmentgroup\": \"True\", \"customdata\": [[29920]], \"hoverlabel\": {\"namelength\": 0}, \"hovertemplate\": \"State/Union territory=%{x}<br>Year=2005\\u201306<br>GDP (in Crores)=%{customdata[0]}\", \"legendgroup\": \"State/Union territory=Jammu and Kashmir\", \"marker\": {\"color\": \"#636efa\"}, \"name\": \"State/Union territory=Jammu and Kashmir\", \"offsetgroup\": \"State/Union territory=Jammu and Kashmir\", \"orientation\": \"v\", \"showlegend\": true, \"textposition\": \"auto\", \"x\": [\"Jammu and Kashmir\"], \"xaxis\": \"x\", \"y\": [29920], \"yaxis\": \"y\", \"type\": \"bar\"}, {\"alignmentgroup\": \"True\", \"customdata\": [[60901]], \"hoverlabel\": {\"namelength\": 0}, \"hovertemplate\": \"State/Union territory=%{x}<br>Year=2005\\u201306<br>GDP (in Crores)=%{customdata[0]}\", \"legendgroup\": \"State/Union territory=Jharkhand\", \"marker\": {\"color\": \"#EF553B\"}, \"name\": \"State/Union territory=Jharkhand\", \"offsetgroup\": \"State/Union territory=Jharkhand\", \"orientation\": \"v\", \"showlegend\": true, \"textposition\": \"auto\", \"x\": [\"Jharkhand\"], \"xaxis\": \"x\", \"y\": [60901], \"yaxis\": \"y\", \"type\": \"bar\"}, {\"alignmentgroup\": \"True\", \"customdata\": [[195904]], \"hoverlabel\": {\"namelength\": 0}, \"hovertemplate\": \"State/Union territory=%{x}<br>Year=2005\\u201306<br>GDP (in Crores)=%{customdata[0]}\", \"legendgroup\": \"State/Union territory=Karnataka\", \"marker\": {\"color\": \"#00cc96\"}, \"name\": \"State/Union territory=Karnataka\", \"offsetgroup\": \"State/Union territory=Karnataka\", \"orientation\": \"v\", \"showlegend\": true, \"textposition\": \"auto\", \"x\": [\"Karnataka\"], \"xaxis\": \"x\", \"y\": [195904], \"yaxis\": \"y\", \"type\": \"bar\"}, {\"alignmentgroup\": \"True\", \"customdata\": [[136842]], \"hoverlabel\": {\"namelength\": 0}, \"hovertemplate\": \"State/Union territory=%{x}<br>Year=2005\\u201306<br>GDP (in Crores)=%{customdata[0]}\", \"legendgroup\": \"State/Union territory=Kerala\", \"marker\": {\"color\": \"#ab63fa\"}, \"name\": \"State/Union territory=Kerala\", \"offsetgroup\": \"State/Union territory=Kerala\", \"orientation\": \"v\", \"showlegend\": true, \"textposition\": \"auto\", \"x\": [\"Kerala\"], \"xaxis\": \"x\", \"y\": [136842], \"yaxis\": \"y\", \"type\": \"bar\"}, {\"alignmentgroup\": \"True\", \"customdata\": [[124276]], \"hoverlabel\": {\"namelength\": 0}, \"hovertemplate\": \"State/Union territory=%{x}<br>Year=2005\\u201306<br>GDP (in Crores)=%{customdata[0]}\", \"legendgroup\": \"State/Union territory=Madhya Pradesh\", \"marker\": {\"color\": \"#FFA15A\"}, \"name\": \"State/Union territory=Madhya Pradesh\", \"offsetgroup\": \"State/Union territory=Madhya Pradesh\", \"orientation\": \"v\", \"showlegend\": true, \"textposition\": \"auto\", \"x\": [\"Madhya Pradesh\"], \"xaxis\": \"x\", \"y\": [124276], \"yaxis\": \"y\", \"type\": \"bar\"}, {\"alignmentgroup\": \"True\", \"customdata\": [[486766]], \"hoverlabel\": {\"namelength\": 0}, \"hovertemplate\": \"State/Union territory=%{x}<br>Year=2005\\u201306<br>GDP (in Crores)=%{customdata[0]}\", \"legendgroup\": \"State/Union territory=Maharashtra\", \"marker\": {\"color\": \"#19d3f3\"}, \"name\": \"State/Union territory=Maharashtra\", \"offsetgroup\": \"State/Union territory=Maharashtra\", \"orientation\": \"v\", \"showlegend\": true, \"textposition\": \"auto\", \"x\": [\"Maharashtra\"], \"xaxis\": \"x\", \"y\": [486766], \"yaxis\": \"y\", \"type\": \"bar\"}, {\"alignmentgroup\": \"True\", \"customdata\": [[5718]], \"hoverlabel\": {\"namelength\": 0}, \"hovertemplate\": \"State/Union territory=%{x}<br>Year=2005\\u201306<br>GDP (in Crores)=%{customdata[0]}\", \"legendgroup\": \"State/Union territory=Manipur\", \"marker\": {\"color\": \"#FF6692\"}, \"name\": \"State/Union territory=Manipur\", \"offsetgroup\": \"State/Union territory=Manipur\", \"orientation\": \"v\", \"showlegend\": true, \"textposition\": \"auto\", \"x\": [\"Manipur\"], \"xaxis\": \"x\", \"y\": [5718], \"yaxis\": \"y\", \"type\": \"bar\"}, {\"alignmentgroup\": \"True\", \"customdata\": [[7265]], \"hoverlabel\": {\"namelength\": 0}, \"hovertemplate\": \"State/Union territory=%{x}<br>Year=2005\\u201306<br>GDP (in Crores)=%{customdata[0]}\", \"legendgroup\": \"State/Union territory=Meghalaya\", \"marker\": {\"color\": \"#B6E880\"}, \"name\": \"State/Union territory=Meghalaya\", \"offsetgroup\": \"State/Union territory=Meghalaya\", \"orientation\": \"v\", \"showlegend\": true, \"textposition\": \"auto\", \"x\": [\"Meghalaya\"], \"xaxis\": \"x\", \"y\": [7265], \"yaxis\": \"y\", \"type\": \"bar\"}, {\"alignmentgroup\": \"True\", \"customdata\": [[2971]], \"hoverlabel\": {\"namelength\": 0}, \"hovertemplate\": \"State/Union territory=%{x}<br>Year=2005\\u201306<br>GDP (in Crores)=%{customdata[0]}\", \"legendgroup\": \"State/Union territory=Mizoram\", \"marker\": {\"color\": \"#FF97FF\"}, \"name\": \"State/Union territory=Mizoram\", \"offsetgroup\": \"State/Union territory=Mizoram\", \"orientation\": \"v\", \"showlegend\": true, \"textposition\": \"auto\", \"x\": [\"Mizoram\"], \"xaxis\": \"x\", \"y\": [2971], \"yaxis\": \"y\", \"type\": \"bar\"}, {\"alignmentgroup\": \"True\", \"customdata\": [[6588]], \"hoverlabel\": {\"namelength\": 0}, \"hovertemplate\": \"State/Union territory=%{x}<br>Year=2005\\u201306<br>GDP (in Crores)=%{customdata[0]}\", \"legendgroup\": \"State/Union territory=Nagaland\", \"marker\": {\"color\": \"#FECB52\"}, \"name\": \"State/Union territory=Nagaland\", \"offsetgroup\": \"State/Union territory=Nagaland\", \"orientation\": \"v\", \"showlegend\": true, \"textposition\": \"auto\", \"x\": [\"Nagaland\"], \"xaxis\": \"x\", \"y\": [6588], \"yaxis\": \"y\", \"type\": \"bar\"}, {\"alignmentgroup\": \"True\", \"customdata\": [[85096]], \"hoverlabel\": {\"namelength\": 0}, \"hovertemplate\": \"State/Union territory=%{x}<br>Year=2005\\u201306<br>GDP (in Crores)=%{customdata[0]}\", \"legendgroup\": \"State/Union territory=Odisha\", \"marker\": {\"color\": \"#636efa\"}, \"name\": \"State/Union territory=Odisha\", \"offsetgroup\": \"State/Union territory=Odisha\", \"orientation\": \"v\", \"showlegend\": true, \"textposition\": \"auto\", \"x\": [\"Odisha\"], \"xaxis\": \"x\", \"y\": [85096], \"yaxis\": \"y\", \"type\": \"bar\"}, {\"alignmentgroup\": \"True\", \"customdata\": [[108637]], \"hoverlabel\": {\"namelength\": 0}, \"hovertemplate\": \"State/Union territory=%{x}<br>Year=2005\\u201306<br>GDP (in Crores)=%{customdata[0]}\", \"legendgroup\": \"State/Union territory=Punjab\", \"marker\": {\"color\": \"#EF553B\"}, \"name\": \"State/Union territory=Punjab\", \"offsetgroup\": \"State/Union territory=Punjab\", \"orientation\": \"v\", \"showlegend\": true, \"textposition\": \"auto\", \"x\": [\"Punjab\"], \"xaxis\": \"x\", \"y\": [108637], \"yaxis\": \"y\", \"type\": \"bar\"}, {\"alignmentgroup\": \"True\", \"customdata\": [[142236]], \"hoverlabel\": {\"namelength\": 0}, \"hovertemplate\": \"State/Union territory=%{x}<br>Year=2005\\u201306<br>GDP (in Crores)=%{customdata[0]}\", \"legendgroup\": \"State/Union territory=Rajasthan\", \"marker\": {\"color\": \"#00cc96\"}, \"name\": \"State/Union territory=Rajasthan\", \"offsetgroup\": \"State/Union territory=Rajasthan\", \"orientation\": \"v\", \"showlegend\": true, \"textposition\": \"auto\", \"x\": [\"Rajasthan\"], \"xaxis\": \"x\", \"y\": [142236], \"yaxis\": \"y\", \"type\": \"bar\"}, {\"alignmentgroup\": \"True\", \"customdata\": [[1993]], \"hoverlabel\": {\"namelength\": 0}, \"hovertemplate\": \"State/Union territory=%{x}<br>Year=2005\\u201306<br>GDP (in Crores)=%{customdata[0]}\", \"legendgroup\": \"State/Union territory=Sikkim\", \"marker\": {\"color\": \"#ab63fa\"}, \"name\": \"State/Union territory=Sikkim\", \"offsetgroup\": \"State/Union territory=Sikkim\", \"orientation\": \"v\", \"showlegend\": true, \"textposition\": \"auto\", \"x\": [\"Sikkim\"], \"xaxis\": \"x\", \"y\": [1993], \"yaxis\": \"y\", \"type\": \"bar\"}, {\"alignmentgroup\": \"True\", \"customdata\": [[257833]], \"hoverlabel\": {\"namelength\": 0}, \"hovertemplate\": \"State/Union territory=%{x}<br>Year=2005\\u201306<br>GDP (in Crores)=%{customdata[0]}\", \"legendgroup\": \"State/Union territory=Tamil Nadu\", \"marker\": {\"color\": \"#FFA15A\"}, \"name\": \"State/Union territory=Tamil Nadu\", \"offsetgroup\": \"State/Union territory=Tamil Nadu\", \"orientation\": \"v\", \"showlegend\": true, \"textposition\": \"auto\", \"x\": [\"Tamil Nadu\"], \"xaxis\": \"x\", \"y\": [257833], \"yaxis\": \"y\", \"type\": \"bar\"}, {\"alignmentgroup\": \"True\", \"customdata\": [[9826]], \"hoverlabel\": {\"namelength\": 0}, \"hovertemplate\": \"State/Union territory=%{x}<br>Year=2005\\u201306<br>GDP (in Crores)=%{customdata[0]}\", \"legendgroup\": \"State/Union territory=Tripura\", \"marker\": {\"color\": \"#19d3f3\"}, \"name\": \"State/Union territory=Tripura\", \"offsetgroup\": \"State/Union territory=Tripura\", \"orientation\": \"v\", \"showlegend\": true, \"textposition\": \"auto\", \"x\": [\"Tripura\"], \"xaxis\": \"x\", \"y\": [9826], \"yaxis\": \"y\", \"type\": \"bar\"}, {\"alignmentgroup\": \"True\", \"customdata\": [[293172]], \"hoverlabel\": {\"namelength\": 0}, \"hovertemplate\": \"State/Union territory=%{x}<br>Year=2005\\u201306<br>GDP (in Crores)=%{customdata[0]}\", \"legendgroup\": \"State/Union territory=Uttar Pradesh\", \"marker\": {\"color\": \"#FF6692\"}, \"name\": \"State/Union territory=Uttar Pradesh\", \"offsetgroup\": \"State/Union territory=Uttar Pradesh\", \"orientation\": \"v\", \"showlegend\": true, \"textposition\": \"auto\", \"x\": [\"Uttar Pradesh\"], \"xaxis\": \"x\", \"y\": [293172], \"yaxis\": \"y\", \"type\": \"bar\"}, {\"alignmentgroup\": \"True\", \"customdata\": [[29968]], \"hoverlabel\": {\"namelength\": 0}, \"hovertemplate\": \"State/Union territory=%{x}<br>Year=2005\\u201306<br>GDP (in Crores)=%{customdata[0]}\", \"legendgroup\": \"State/Union territory=Uttarakhand\", \"marker\": {\"color\": \"#B6E880\"}, \"name\": \"State/Union territory=Uttarakhand\", \"offsetgroup\": \"State/Union territory=Uttarakhand\", \"orientation\": \"v\", \"showlegend\": true, \"textposition\": \"auto\", \"x\": [\"Uttarakhand\"], \"xaxis\": \"x\", \"y\": [29968], \"yaxis\": \"y\", \"type\": \"bar\"}, {\"alignmentgroup\": \"True\", \"customdata\": [[230245]], \"hoverlabel\": {\"namelength\": 0}, \"hovertemplate\": \"State/Union territory=%{x}<br>Year=2005\\u201306<br>GDP (in Crores)=%{customdata[0]}\", \"legendgroup\": \"State/Union territory=West Bengal\", \"marker\": {\"color\": \"#FF97FF\"}, \"name\": \"State/Union territory=West Bengal\", \"offsetgroup\": \"State/Union territory=West Bengal\", \"orientation\": \"v\", \"showlegend\": true, \"textposition\": \"auto\", \"x\": [\"West Bengal\"], \"xaxis\": \"x\", \"y\": [230245], \"yaxis\": \"y\", \"type\": \"bar\"}, {\"alignmentgroup\": \"True\", \"customdata\": [[2044]], \"hoverlabel\": {\"namelength\": 0}, \"hovertemplate\": \"State/Union territory=%{x}<br>Year=2005\\u201306<br>GDP (in Crores)=%{customdata[0]}\", \"legendgroup\": \"State/Union territory=Andaman and Nicobar Islands\", \"marker\": {\"color\": \"#FECB52\"}, \"name\": \"State/Union territory=Andaman and Nicobar Islands\", \"offsetgroup\": \"State/Union territory=Andaman and Nicobar Islands\", \"orientation\": \"v\", \"showlegend\": true, \"textposition\": \"auto\", \"x\": [\"Andaman and Nicobar Islands\"], \"xaxis\": \"x\", \"y\": [2044], \"yaxis\": \"y\", \"type\": \"bar\"}, {\"alignmentgroup\": \"True\", \"customdata\": [[10185]], \"hoverlabel\": {\"namelength\": 0}, \"hovertemplate\": \"State/Union territory=%{x}<br>Year=2005\\u201306<br>GDP (in Crores)=%{customdata[0]}\", \"legendgroup\": \"State/Union territory=Chandigarh\", \"marker\": {\"color\": \"#636efa\"}, \"name\": \"State/Union territory=Chandigarh\", \"offsetgroup\": \"State/Union territory=Chandigarh\", \"orientation\": \"v\", \"showlegend\": true, \"textposition\": \"auto\", \"x\": [\"Chandigarh\"], \"xaxis\": \"x\", \"y\": [10185], \"yaxis\": \"y\", \"type\": \"bar\"}, {\"alignmentgroup\": \"True\", \"customdata\": [[115374]], \"hoverlabel\": {\"namelength\": 0}, \"hovertemplate\": \"State/Union territory=%{x}<br>Year=2005\\u201306<br>GDP (in Crores)=%{customdata[0]}\", \"legendgroup\": \"State/Union territory=Delhi\", \"marker\": {\"color\": \"#EF553B\"}, \"name\": \"State/Union territory=Delhi\", \"offsetgroup\": \"State/Union territory=Delhi\", \"orientation\": \"v\", \"showlegend\": true, \"textposition\": \"auto\", \"x\": [\"Delhi\"], \"xaxis\": \"x\", \"y\": [115374], \"yaxis\": \"y\", \"type\": \"bar\"}, {\"alignmentgroup\": \"True\", \"customdata\": [[7977]], \"hoverlabel\": {\"namelength\": 0}, \"hovertemplate\": \"State/Union territory=%{x}<br>Year=2005\\u201306<br>GDP (in Crores)=%{customdata[0]}\", \"legendgroup\": \"State/Union territory=Pudduchery\", \"marker\": {\"color\": \"#00cc96\"}, \"name\": \"State/Union territory=Pudduchery\", \"offsetgroup\": \"State/Union territory=Pudduchery\", \"orientation\": \"v\", \"showlegend\": true, \"textposition\": \"auto\", \"x\": [\"Pudduchery\"], \"xaxis\": \"x\", \"y\": [7977], \"yaxis\": \"y\", \"type\": \"bar\"}], \"name\": \"2005\\u201306\"}, {\"data\": [{\"alignmentgroup\": \"True\", \"customdata\": [[3953276]], \"hoverlabel\": {\"namelength\": 0}, \"hovertemplate\": \"State/Union territory=%{x}<br>Year=2006\\u201307<br>GDP (in Crores)=%{customdata[0]}\", \"legendgroup\": \"State/Union territory=\\u00a0India\", \"marker\": {\"color\": \"#636efa\"}, \"name\": \"State/Union territory=\\u00a0India\", \"offsetgroup\": \"State/Union territory=\\u00a0India\", \"orientation\": \"v\", \"showlegend\": true, \"textposition\": \"auto\", \"x\": [\"\\u00a0India\"], \"xaxis\": \"x\", \"y\": [3953276], \"yaxis\": \"y\", \"type\": \"bar\"}, {\"alignmentgroup\": \"True\", \"customdata\": [[301035]], \"hoverlabel\": {\"namelength\": 0}, \"hovertemplate\": \"State/Union territory=%{x}<br>Year=2006\\u201307<br>GDP (in Crores)=%{customdata[0]}\", \"legendgroup\": \"State/Union territory=Andhra Pradesh\", \"marker\": {\"color\": \"#EF553B\"}, \"name\": \"State/Union territory=Andhra Pradesh\", \"offsetgroup\": \"State/Union territory=Andhra Pradesh\", \"orientation\": \"v\", \"showlegend\": true, \"textposition\": \"auto\", \"x\": [\"Andhra Pradesh\"], \"xaxis\": \"x\", \"y\": [301035], \"yaxis\": \"y\", \"type\": \"bar\"}, {\"alignmentgroup\": \"True\", \"customdata\": [[4108]], \"hoverlabel\": {\"namelength\": 0}, \"hovertemplate\": \"State/Union territory=%{x}<br>Year=2006\\u201307<br>GDP (in Crores)=%{customdata[0]}\", \"legendgroup\": \"State/Union territory=Arunachal Pradesh\", \"marker\": {\"color\": \"#00cc96\"}, \"name\": \"State/Union territory=Arunachal Pradesh\", \"offsetgroup\": \"State/Union territory=Arunachal Pradesh\", \"orientation\": \"v\", \"showlegend\": true, \"textposition\": \"auto\", \"x\": [\"Arunachal Pradesh\"], \"xaxis\": \"x\", \"y\": [4108], \"yaxis\": \"y\", \"type\": \"bar\"}, {\"alignmentgroup\": \"True\", \"customdata\": [[64692]], \"hoverlabel\": {\"namelength\": 0}, \"hovertemplate\": \"State/Union territory=%{x}<br>Year=2006\\u201307<br>GDP (in Crores)=%{customdata[0]}\", \"legendgroup\": \"State/Union territory=Assam\", \"marker\": {\"color\": \"#ab63fa\"}, \"name\": \"State/Union territory=Assam\", \"offsetgroup\": \"State/Union territory=Assam\", \"orientation\": \"v\", \"showlegend\": true, \"textposition\": \"auto\", \"x\": [\"Assam\"], \"xaxis\": \"x\", \"y\": [64692], \"yaxis\": \"y\", \"type\": \"bar\"}, {\"alignmentgroup\": \"True\", \"customdata\": [[100737]], \"hoverlabel\": {\"namelength\": 0}, \"hovertemplate\": \"State/Union territory=%{x}<br>Year=2006\\u201307<br>GDP (in Crores)=%{customdata[0]}\", \"legendgroup\": \"State/Union territory=Bihar\", \"marker\": {\"color\": \"#FFA15A\"}, \"name\": \"State/Union territory=Bihar\", \"offsetgroup\": \"State/Union territory=Bihar\", \"orientation\": \"v\", \"showlegend\": true, \"textposition\": \"auto\", \"x\": [\"Bihar\"], \"xaxis\": \"x\", \"y\": [100737], \"yaxis\": \"y\", \"type\": \"bar\"}, {\"alignmentgroup\": \"True\", \"customdata\": [[66875]], \"hoverlabel\": {\"namelength\": 0}, \"hovertemplate\": \"State/Union territory=%{x}<br>Year=2006\\u201307<br>GDP (in Crores)=%{customdata[0]}\", \"legendgroup\": \"State/Union territory=Chhattisgarh\", \"marker\": {\"color\": \"#19d3f3\"}, \"name\": \"State/Union territory=Chhattisgarh\", \"offsetgroup\": \"State/Union territory=Chhattisgarh\", \"orientation\": \"v\", \"showlegend\": true, \"textposition\": \"auto\", \"x\": [\"Chhattisgarh\"], \"xaxis\": \"x\", \"y\": [66875], \"yaxis\": \"y\", \"type\": \"bar\"}, {\"alignmentgroup\": \"True\", \"customdata\": [[16523]], \"hoverlabel\": {\"namelength\": 0}, \"hovertemplate\": \"State/Union territory=%{x}<br>Year=2006\\u201307<br>GDP (in Crores)=%{customdata[0]}\", \"legendgroup\": \"State/Union territory=Goa\", \"marker\": {\"color\": \"#FF6692\"}, \"name\": \"State/Union territory=Goa\", \"offsetgroup\": \"State/Union territory=Goa\", \"orientation\": \"v\", \"showlegend\": true, \"textposition\": \"auto\", \"x\": [\"Goa\"], \"xaxis\": \"x\", \"y\": [16523], \"yaxis\": \"y\", \"type\": \"bar\"}, {\"alignmentgroup\": \"True\", \"customdata\": [[283693]], \"hoverlabel\": {\"namelength\": 0}, \"hovertemplate\": \"State/Union territory=%{x}<br>Year=2006\\u201307<br>GDP (in Crores)=%{customdata[0]}\", \"legendgroup\": \"State/Union territory=Gujarat\", \"marker\": {\"color\": \"#B6E880\"}, \"name\": \"State/Union territory=Gujarat\", \"offsetgroup\": \"State/Union territory=Gujarat\", \"orientation\": \"v\", \"showlegend\": true, \"textposition\": \"auto\", \"x\": [\"Gujarat\"], \"xaxis\": \"x\", \"y\": [283693], \"yaxis\": \"y\", \"type\": \"bar\"}, {\"alignmentgroup\": \"True\", \"customdata\": [[128732]], \"hoverlabel\": {\"namelength\": 0}, \"hovertemplate\": \"State/Union territory=%{x}<br>Year=2006\\u201307<br>GDP (in Crores)=%{customdata[0]}\", \"legendgroup\": \"State/Union territory=Haryana\", \"marker\": {\"color\": \"#FF97FF\"}, \"name\": \"State/Union territory=Haryana\", \"offsetgroup\": \"State/Union territory=Haryana\", \"orientation\": \"v\", \"showlegend\": true, \"textposition\": \"auto\", \"x\": [\"Haryana\"], \"xaxis\": \"x\", \"y\": [128732], \"yaxis\": \"y\", \"type\": \"bar\"}, {\"alignmentgroup\": \"True\", \"customdata\": [[30274]], \"hoverlabel\": {\"namelength\": 0}, \"hovertemplate\": \"State/Union territory=%{x}<br>Year=2006\\u201307<br>GDP (in Crores)=%{customdata[0]}\", \"legendgroup\": \"State/Union territory=Himachal Pradesh\", \"marker\": {\"color\": \"#FECB52\"}, \"name\": \"State/Union territory=Himachal Pradesh\", \"offsetgroup\": \"State/Union territory=Himachal Pradesh\", \"orientation\": \"v\", \"showlegend\": true, \"textposition\": \"auto\", \"x\": [\"Himachal Pradesh\"], \"xaxis\": \"x\", \"y\": [30274], \"yaxis\": \"y\", \"type\": \"bar\"}, {\"alignmentgroup\": \"True\", \"customdata\": [[33230]], \"hoverlabel\": {\"namelength\": 0}, \"hovertemplate\": \"State/Union territory=%{x}<br>Year=2006\\u201307<br>GDP (in Crores)=%{customdata[0]}\", \"legendgroup\": \"State/Union territory=Jammu and Kashmir\", \"marker\": {\"color\": \"#636efa\"}, \"name\": \"State/Union territory=Jammu and Kashmir\", \"offsetgroup\": \"State/Union territory=Jammu and Kashmir\", \"orientation\": \"v\", \"showlegend\": true, \"textposition\": \"auto\", \"x\": [\"Jammu and Kashmir\"], \"xaxis\": \"x\", \"y\": [33230], \"yaxis\": \"y\", \"type\": \"bar\"}, {\"alignmentgroup\": \"True\", \"customdata\": [[66935]], \"hoverlabel\": {\"namelength\": 0}, \"hovertemplate\": \"State/Union territory=%{x}<br>Year=2006\\u201307<br>GDP (in Crores)=%{customdata[0]}\", \"legendgroup\": \"State/Union territory=Jharkhand\", \"marker\": {\"color\": \"#EF553B\"}, \"name\": \"State/Union territory=Jharkhand\", \"offsetgroup\": \"State/Union territory=Jharkhand\", \"orientation\": \"v\", \"showlegend\": true, \"textposition\": \"auto\", \"x\": [\"Jharkhand\"], \"xaxis\": \"x\", \"y\": [66935], \"yaxis\": \"y\", \"type\": \"bar\"}, {\"alignmentgroup\": \"True\", \"customdata\": [[227237]], \"hoverlabel\": {\"namelength\": 0}, \"hovertemplate\": \"State/Union territory=%{x}<br>Year=2006\\u201307<br>GDP (in Crores)=%{customdata[0]}\", \"legendgroup\": \"State/Union territory=Karnataka\", \"marker\": {\"color\": \"#00cc96\"}, \"name\": \"State/Union territory=Karnataka\", \"offsetgroup\": \"State/Union territory=Karnataka\", \"orientation\": \"v\", \"showlegend\": true, \"textposition\": \"auto\", \"x\": [\"Karnataka\"], \"xaxis\": \"x\", \"y\": [227237], \"yaxis\": \"y\", \"type\": \"bar\"}, {\"alignmentgroup\": \"True\", \"customdata\": [[153758]], \"hoverlabel\": {\"namelength\": 0}, \"hovertemplate\": \"State/Union territory=%{x}<br>Year=2006\\u201307<br>GDP (in Crores)=%{customdata[0]}\", \"legendgroup\": \"State/Union territory=Kerala\", \"marker\": {\"color\": \"#ab63fa\"}, \"name\": \"State/Union territory=Kerala\", \"offsetgroup\": \"State/Union territory=Kerala\", \"orientation\": \"v\", \"showlegend\": true, \"textposition\": \"auto\", \"x\": [\"Kerala\"], \"xaxis\": \"x\", \"y\": [153758], \"yaxis\": \"y\", \"type\": \"bar\"}, {\"alignmentgroup\": \"True\", \"customdata\": [[144577]], \"hoverlabel\": {\"namelength\": 0}, \"hovertemplate\": \"State/Union territory=%{x}<br>Year=2006\\u201307<br>GDP (in Crores)=%{customdata[0]}\", \"legendgroup\": \"State/Union territory=Madhya Pradesh\", \"marker\": {\"color\": \"#FFA15A\"}, \"name\": \"State/Union territory=Madhya Pradesh\", \"offsetgroup\": \"State/Union territory=Madhya Pradesh\", \"orientation\": \"v\", \"showlegend\": true, \"textposition\": \"auto\", \"x\": [\"Madhya Pradesh\"], \"xaxis\": \"x\", \"y\": [144577], \"yaxis\": \"y\", \"type\": \"bar\"}, {\"alignmentgroup\": \"True\", \"customdata\": [[584498]], \"hoverlabel\": {\"namelength\": 0}, \"hovertemplate\": \"State/Union territory=%{x}<br>Year=2006\\u201307<br>GDP (in Crores)=%{customdata[0]}\", \"legendgroup\": \"State/Union territory=Maharashtra\", \"marker\": {\"color\": \"#19d3f3\"}, \"name\": \"State/Union territory=Maharashtra\", \"offsetgroup\": \"State/Union territory=Maharashtra\", \"orientation\": \"v\", \"showlegend\": true, \"textposition\": \"auto\", \"x\": [\"Maharashtra\"], \"xaxis\": \"x\", \"y\": [584498], \"yaxis\": \"y\", \"type\": \"bar\"}, {\"alignmentgroup\": \"True\", \"customdata\": [[6137]], \"hoverlabel\": {\"namelength\": 0}, \"hovertemplate\": \"State/Union territory=%{x}<br>Year=2006\\u201307<br>GDP (in Crores)=%{customdata[0]}\", \"legendgroup\": \"State/Union territory=Manipur\", \"marker\": {\"color\": \"#FF6692\"}, \"name\": \"State/Union territory=Manipur\", \"offsetgroup\": \"State/Union territory=Manipur\", \"orientation\": \"v\", \"showlegend\": true, \"textposition\": \"auto\", \"x\": [\"Manipur\"], \"xaxis\": \"x\", \"y\": [6137], \"yaxis\": \"y\", \"type\": \"bar\"}, {\"alignmentgroup\": \"True\", \"customdata\": [[8625]], \"hoverlabel\": {\"namelength\": 0}, \"hovertemplate\": \"State/Union territory=%{x}<br>Year=2006\\u201307<br>GDP (in Crores)=%{customdata[0]}\", \"legendgroup\": \"State/Union territory=Meghalaya\", \"marker\": {\"color\": \"#B6E880\"}, \"name\": \"State/Union territory=Meghalaya\", \"offsetgroup\": \"State/Union territory=Meghalaya\", \"orientation\": \"v\", \"showlegend\": true, \"textposition\": \"auto\", \"x\": [\"Meghalaya\"], \"xaxis\": \"x\", \"y\": [8625], \"yaxis\": \"y\", \"type\": \"bar\"}, {\"alignmentgroup\": \"True\", \"customdata\": [[3290]], \"hoverlabel\": {\"namelength\": 0}, \"hovertemplate\": \"State/Union territory=%{x}<br>Year=2006\\u201307<br>GDP (in Crores)=%{customdata[0]}\", \"legendgroup\": \"State/Union territory=Mizoram\", \"marker\": {\"color\": \"#FF97FF\"}, \"name\": \"State/Union territory=Mizoram\", \"offsetgroup\": \"State/Union territory=Mizoram\", \"orientation\": \"v\", \"showlegend\": true, \"textposition\": \"auto\", \"x\": [\"Mizoram\"], \"xaxis\": \"x\", \"y\": [3290], \"yaxis\": \"y\", \"type\": \"bar\"}, {\"alignmentgroup\": \"True\", \"customdata\": [[7257]], \"hoverlabel\": {\"namelength\": 0}, \"hovertemplate\": \"State/Union territory=%{x}<br>Year=2006\\u201307<br>GDP (in Crores)=%{customdata[0]}\", \"legendgroup\": \"State/Union territory=Nagaland\", \"marker\": {\"color\": \"#FECB52\"}, \"name\": \"State/Union territory=Nagaland\", \"offsetgroup\": \"State/Union territory=Nagaland\", \"orientation\": \"v\", \"showlegend\": true, \"textposition\": \"auto\", \"x\": [\"Nagaland\"], \"xaxis\": \"x\", \"y\": [7257], \"yaxis\": \"y\", \"type\": \"bar\"}, {\"alignmentgroup\": \"True\", \"customdata\": [[101839]], \"hoverlabel\": {\"namelength\": 0}, \"hovertemplate\": \"State/Union territory=%{x}<br>Year=2006\\u201307<br>GDP (in Crores)=%{customdata[0]}\", \"legendgroup\": \"State/Union territory=Odisha\", \"marker\": {\"color\": \"#636efa\"}, \"name\": \"State/Union territory=Odisha\", \"offsetgroup\": \"State/Union territory=Odisha\", \"orientation\": \"v\", \"showlegend\": true, \"textposition\": \"auto\", \"x\": [\"Odisha\"], \"xaxis\": \"x\", \"y\": [101839], \"yaxis\": \"y\", \"type\": \"bar\"}, {\"alignmentgroup\": \"True\", \"customdata\": [[127123]], \"hoverlabel\": {\"namelength\": 0}, \"hovertemplate\": \"State/Union territory=%{x}<br>Year=2006\\u201307<br>GDP (in Crores)=%{customdata[0]}\", \"legendgroup\": \"State/Union territory=Punjab\", \"marker\": {\"color\": \"#EF553B\"}, \"name\": \"State/Union territory=Punjab\", \"offsetgroup\": \"State/Union territory=Punjab\", \"orientation\": \"v\", \"showlegend\": true, \"textposition\": \"auto\", \"x\": [\"Punjab\"], \"xaxis\": \"x\", \"y\": [127123], \"yaxis\": \"y\", \"type\": \"bar\"}, {\"alignmentgroup\": \"True\", \"customdata\": [[171043]], \"hoverlabel\": {\"namelength\": 0}, \"hovertemplate\": \"State/Union territory=%{x}<br>Year=2006\\u201307<br>GDP (in Crores)=%{customdata[0]}\", \"legendgroup\": \"State/Union territory=Rajasthan\", \"marker\": {\"color\": \"#00cc96\"}, \"name\": \"State/Union territory=Rajasthan\", \"offsetgroup\": \"State/Union territory=Rajasthan\", \"orientation\": \"v\", \"showlegend\": true, \"textposition\": \"auto\", \"x\": [\"Rajasthan\"], \"xaxis\": \"x\", \"y\": [171043], \"yaxis\": \"y\", \"type\": \"bar\"}, {\"alignmentgroup\": \"True\", \"customdata\": [[2161]], \"hoverlabel\": {\"namelength\": 0}, \"hovertemplate\": \"State/Union territory=%{x}<br>Year=2006\\u201307<br>GDP (in Crores)=%{customdata[0]}\", \"legendgroup\": \"State/Union territory=Sikkim\", \"marker\": {\"color\": \"#ab63fa\"}, \"name\": \"State/Union territory=Sikkim\", \"offsetgroup\": \"State/Union territory=Sikkim\", \"orientation\": \"v\", \"showlegend\": true, \"textposition\": \"auto\", \"x\": [\"Sikkim\"], \"xaxis\": \"x\", \"y\": [2161], \"yaxis\": \"y\", \"type\": \"bar\"}, {\"alignmentgroup\": \"True\", \"customdata\": [[310526]], \"hoverlabel\": {\"namelength\": 0}, \"hovertemplate\": \"State/Union territory=%{x}<br>Year=2006\\u201307<br>GDP (in Crores)=%{customdata[0]}\", \"legendgroup\": \"State/Union territory=Tamil Nadu\", \"marker\": {\"color\": \"#FFA15A\"}, \"name\": \"State/Union territory=Tamil Nadu\", \"offsetgroup\": \"State/Union territory=Tamil Nadu\", \"orientation\": \"v\", \"showlegend\": true, \"textposition\": \"auto\", \"x\": [\"Tamil Nadu\"], \"xaxis\": \"x\", \"y\": [310526], \"yaxis\": \"y\", \"type\": \"bar\"}, {\"alignmentgroup\": \"True\", \"customdata\": [[10914]], \"hoverlabel\": {\"namelength\": 0}, \"hovertemplate\": \"State/Union territory=%{x}<br>Year=2006\\u201307<br>GDP (in Crores)=%{customdata[0]}\", \"legendgroup\": \"State/Union territory=Tripura\", \"marker\": {\"color\": \"#19d3f3\"}, \"name\": \"State/Union territory=Tripura\", \"offsetgroup\": \"State/Union territory=Tripura\", \"orientation\": \"v\", \"showlegend\": true, \"textposition\": \"auto\", \"x\": [\"Tripura\"], \"xaxis\": \"x\", \"y\": [10914], \"yaxis\": \"y\", \"type\": \"bar\"}, {\"alignmentgroup\": \"True\", \"customdata\": [[336317]], \"hoverlabel\": {\"namelength\": 0}, \"hovertemplate\": \"State/Union territory=%{x}<br>Year=2006\\u201307<br>GDP (in Crores)=%{customdata[0]}\", \"legendgroup\": \"State/Union territory=Uttar Pradesh\", \"marker\": {\"color\": \"#FF6692\"}, \"name\": \"State/Union territory=Uttar Pradesh\", \"offsetgroup\": \"State/Union territory=Uttar Pradesh\", \"orientation\": \"v\", \"showlegend\": true, \"textposition\": \"auto\", \"x\": [\"Uttar Pradesh\"], \"xaxis\": \"x\", \"y\": [336317], \"yaxis\": \"y\", \"type\": \"bar\"}, {\"alignmentgroup\": \"True\", \"customdata\": [[36795]], \"hoverlabel\": {\"namelength\": 0}, \"hovertemplate\": \"State/Union territory=%{x}<br>Year=2006\\u201307<br>GDP (in Crores)=%{customdata[0]}\", \"legendgroup\": \"State/Union territory=Uttarakhand\", \"marker\": {\"color\": \"#B6E880\"}, \"name\": \"State/Union territory=Uttarakhand\", \"offsetgroup\": \"State/Union territory=Uttarakhand\", \"orientation\": \"v\", \"showlegend\": true, \"textposition\": \"auto\", \"x\": [\"Uttarakhand\"], \"xaxis\": \"x\", \"y\": [36795], \"yaxis\": \"y\", \"type\": \"bar\"}, {\"alignmentgroup\": \"True\", \"customdata\": [[261682]], \"hoverlabel\": {\"namelength\": 0}, \"hovertemplate\": \"State/Union territory=%{x}<br>Year=2006\\u201307<br>GDP (in Crores)=%{customdata[0]}\", \"legendgroup\": \"State/Union territory=West Bengal\", \"marker\": {\"color\": \"#FF97FF\"}, \"name\": \"State/Union territory=West Bengal\", \"offsetgroup\": \"State/Union territory=West Bengal\", \"orientation\": \"v\", \"showlegend\": true, \"textposition\": \"auto\", \"x\": [\"West Bengal\"], \"xaxis\": \"x\", \"y\": [261682], \"yaxis\": \"y\", \"type\": \"bar\"}, {\"alignmentgroup\": \"True\", \"customdata\": [[2538]], \"hoverlabel\": {\"namelength\": 0}, \"hovertemplate\": \"State/Union territory=%{x}<br>Year=2006\\u201307<br>GDP (in Crores)=%{customdata[0]}\", \"legendgroup\": \"State/Union territory=Andaman and Nicobar Islands\", \"marker\": {\"color\": \"#FECB52\"}, \"name\": \"State/Union territory=Andaman and Nicobar Islands\", \"offsetgroup\": \"State/Union territory=Andaman and Nicobar Islands\", \"orientation\": \"v\", \"showlegend\": true, \"textposition\": \"auto\", \"x\": [\"Andaman and Nicobar Islands\"], \"xaxis\": \"x\", \"y\": [2538], \"yaxis\": \"y\", \"type\": \"bar\"}, {\"alignmentgroup\": \"True\", \"customdata\": [[12276]], \"hoverlabel\": {\"namelength\": 0}, \"hovertemplate\": \"State/Union territory=%{x}<br>Year=2006\\u201307<br>GDP (in Crores)=%{customdata[0]}\", \"legendgroup\": \"State/Union territory=Chandigarh\", \"marker\": {\"color\": \"#636efa\"}, \"name\": \"State/Union territory=Chandigarh\", \"offsetgroup\": \"State/Union territory=Chandigarh\", \"orientation\": \"v\", \"showlegend\": true, \"textposition\": \"auto\", \"x\": [\"Chandigarh\"], \"xaxis\": \"x\", \"y\": [12276], \"yaxis\": \"y\", \"type\": \"bar\"}, {\"alignmentgroup\": \"True\", \"customdata\": [[135584]], \"hoverlabel\": {\"namelength\": 0}, \"hovertemplate\": \"State/Union territory=%{x}<br>Year=2006\\u201307<br>GDP (in Crores)=%{customdata[0]}\", \"legendgroup\": \"State/Union territory=Delhi\", \"marker\": {\"color\": \"#EF553B\"}, \"name\": \"State/Union territory=Delhi\", \"offsetgroup\": \"State/Union territory=Delhi\", \"orientation\": \"v\", \"showlegend\": true, \"textposition\": \"auto\", \"x\": [\"Delhi\"], \"xaxis\": \"x\", \"y\": [135584], \"yaxis\": \"y\", \"type\": \"bar\"}, {\"alignmentgroup\": \"True\", \"customdata\": [[8335]], \"hoverlabel\": {\"namelength\": 0}, \"hovertemplate\": \"State/Union territory=%{x}<br>Year=2006\\u201307<br>GDP (in Crores)=%{customdata[0]}\", \"legendgroup\": \"State/Union territory=Pudduchery\", \"marker\": {\"color\": \"#00cc96\"}, \"name\": \"State/Union territory=Pudduchery\", \"offsetgroup\": \"State/Union territory=Pudduchery\", \"orientation\": \"v\", \"showlegend\": true, \"textposition\": \"auto\", \"x\": [\"Pudduchery\"], \"xaxis\": \"x\", \"y\": [8335], \"yaxis\": \"y\", \"type\": \"bar\"}], \"name\": \"2006\\u201307\"}, {\"data\": [{\"alignmentgroup\": \"True\", \"customdata\": [[4582086]], \"hoverlabel\": {\"namelength\": 0}, \"hovertemplate\": \"State/Union territory=%{x}<br>Year=2007\\u201308<br>GDP (in Crores)=%{customdata[0]}\", \"legendgroup\": \"State/Union territory=\\u00a0India\", \"marker\": {\"color\": \"#636efa\"}, \"name\": \"State/Union territory=\\u00a0India\", \"offsetgroup\": \"State/Union territory=\\u00a0India\", \"orientation\": \"v\", \"showlegend\": true, \"textposition\": \"auto\", \"x\": [\"\\u00a0India\"], \"xaxis\": \"x\", \"y\": [4582086], \"yaxis\": \"y\", \"type\": \"bar\"}, {\"alignmentgroup\": \"True\", \"customdata\": [[364813]], \"hoverlabel\": {\"namelength\": 0}, \"hovertemplate\": \"State/Union territory=%{x}<br>Year=2007\\u201308<br>GDP (in Crores)=%{customdata[0]}\", \"legendgroup\": \"State/Union territory=Andhra Pradesh\", \"marker\": {\"color\": \"#EF553B\"}, \"name\": \"State/Union territory=Andhra Pradesh\", \"offsetgroup\": \"State/Union territory=Andhra Pradesh\", \"orientation\": \"v\", \"showlegend\": true, \"textposition\": \"auto\", \"x\": [\"Andhra Pradesh\"], \"xaxis\": \"x\", \"y\": [364813], \"yaxis\": \"y\", \"type\": \"bar\"}, {\"alignmentgroup\": \"True\", \"customdata\": [[4810]], \"hoverlabel\": {\"namelength\": 0}, \"hovertemplate\": \"State/Union territory=%{x}<br>Year=2007\\u201308<br>GDP (in Crores)=%{customdata[0]}\", \"legendgroup\": \"State/Union territory=Arunachal Pradesh\", \"marker\": {\"color\": \"#00cc96\"}, \"name\": \"State/Union territory=Arunachal Pradesh\", \"offsetgroup\": \"State/Union territory=Arunachal Pradesh\", \"orientation\": \"v\", \"showlegend\": true, \"textposition\": \"auto\", \"x\": [\"Arunachal Pradesh\"], \"xaxis\": \"x\", \"y\": [4810], \"yaxis\": \"y\", \"type\": \"bar\"}, {\"alignmentgroup\": \"True\", \"customdata\": [[71076]], \"hoverlabel\": {\"namelength\": 0}, \"hovertemplate\": \"State/Union territory=%{x}<br>Year=2007\\u201308<br>GDP (in Crores)=%{customdata[0]}\", \"legendgroup\": \"State/Union territory=Assam\", \"marker\": {\"color\": \"#ab63fa\"}, \"name\": \"State/Union territory=Assam\", \"offsetgroup\": \"State/Union territory=Assam\", \"orientation\": \"v\", \"showlegend\": true, \"textposition\": \"auto\", \"x\": [\"Assam\"], \"xaxis\": \"x\", \"y\": [71076], \"yaxis\": \"y\", \"type\": \"bar\"}, {\"alignmentgroup\": \"True\", \"customdata\": [[113680]], \"hoverlabel\": {\"namelength\": 0}, \"hovertemplate\": \"State/Union territory=%{x}<br>Year=2007\\u201308<br>GDP (in Crores)=%{customdata[0]}\", \"legendgroup\": \"State/Union territory=Bihar\", \"marker\": {\"color\": \"#FFA15A\"}, \"name\": \"State/Union territory=Bihar\", \"offsetgroup\": \"State/Union territory=Bihar\", \"orientation\": \"v\", \"showlegend\": true, \"textposition\": \"auto\", \"x\": [\"Bihar\"], \"xaxis\": \"x\", \"y\": [113680], \"yaxis\": \"y\", \"type\": \"bar\"}, {\"alignmentgroup\": \"True\", \"customdata\": [[80255]], \"hoverlabel\": {\"namelength\": 0}, \"hovertemplate\": \"State/Union territory=%{x}<br>Year=2007\\u201308<br>GDP (in Crores)=%{customdata[0]}\", \"legendgroup\": \"State/Union territory=Chhattisgarh\", \"marker\": {\"color\": \"#19d3f3\"}, \"name\": \"State/Union territory=Chhattisgarh\", \"offsetgroup\": \"State/Union territory=Chhattisgarh\", \"orientation\": \"v\", \"showlegend\": true, \"textposition\": \"auto\", \"x\": [\"Chhattisgarh\"], \"xaxis\": \"x\", \"y\": [80255], \"yaxis\": \"y\", \"type\": \"bar\"}, {\"alignmentgroup\": \"True\", \"customdata\": [[19565]], \"hoverlabel\": {\"namelength\": 0}, \"hovertemplate\": \"State/Union territory=%{x}<br>Year=2007\\u201308<br>GDP (in Crores)=%{customdata[0]}\", \"legendgroup\": \"State/Union territory=Goa\", \"marker\": {\"color\": \"#FF6692\"}, \"name\": \"State/Union territory=Goa\", \"offsetgroup\": \"State/Union territory=Goa\", \"orientation\": \"v\", \"showlegend\": true, \"textposition\": \"auto\", \"x\": [\"Goa\"], \"xaxis\": \"x\", \"y\": [19565], \"yaxis\": \"y\", \"type\": \"bar\"}, {\"alignmentgroup\": \"True\", \"customdata\": [[329285]], \"hoverlabel\": {\"namelength\": 0}, \"hovertemplate\": \"State/Union territory=%{x}<br>Year=2007\\u201308<br>GDP (in Crores)=%{customdata[0]}\", \"legendgroup\": \"State/Union territory=Gujarat\", \"marker\": {\"color\": \"#B6E880\"}, \"name\": \"State/Union territory=Gujarat\", \"offsetgroup\": \"State/Union territory=Gujarat\", \"orientation\": \"v\", \"showlegend\": true, \"textposition\": \"auto\", \"x\": [\"Gujarat\"], \"xaxis\": \"x\", \"y\": [329285], \"yaxis\": \"y\", \"type\": \"bar\"}, {\"alignmentgroup\": \"True\", \"customdata\": [[151596]], \"hoverlabel\": {\"namelength\": 0}, \"hovertemplate\": \"State/Union territory=%{x}<br>Year=2007\\u201308<br>GDP (in Crores)=%{customdata[0]}\", \"legendgroup\": \"State/Union territory=Haryana\", \"marker\": {\"color\": \"#FF97FF\"}, \"name\": \"State/Union territory=Haryana\", \"offsetgroup\": \"State/Union territory=Haryana\", \"orientation\": \"v\", \"showlegend\": true, \"textposition\": \"auto\", \"x\": [\"Haryana\"], \"xaxis\": \"x\", \"y\": [151596], \"yaxis\": \"y\", \"type\": \"bar\"}, {\"alignmentgroup\": \"True\", \"customdata\": [[33963]], \"hoverlabel\": {\"namelength\": 0}, \"hovertemplate\": \"State/Union territory=%{x}<br>Year=2007\\u201308<br>GDP (in Crores)=%{customdata[0]}\", \"legendgroup\": \"State/Union territory=Himachal Pradesh\", \"marker\": {\"color\": \"#FECB52\"}, \"name\": \"State/Union territory=Himachal Pradesh\", \"offsetgroup\": \"State/Union territory=Himachal Pradesh\", \"orientation\": \"v\", \"showlegend\": true, \"textposition\": \"auto\", \"x\": [\"Himachal Pradesh\"], \"xaxis\": \"x\", \"y\": [33963], \"yaxis\": \"y\", \"type\": \"bar\"}, {\"alignmentgroup\": \"True\", \"customdata\": [[37099]], \"hoverlabel\": {\"namelength\": 0}, \"hovertemplate\": \"State/Union territory=%{x}<br>Year=2007\\u201308<br>GDP (in Crores)=%{customdata[0]}\", \"legendgroup\": \"State/Union territory=Jammu and Kashmir\", \"marker\": {\"color\": \"#636efa\"}, \"name\": \"State/Union territory=Jammu and Kashmir\", \"offsetgroup\": \"State/Union territory=Jammu and Kashmir\", \"orientation\": \"v\", \"showlegend\": true, \"textposition\": \"auto\", \"x\": [\"Jammu and Kashmir\"], \"xaxis\": \"x\", \"y\": [37099], \"yaxis\": \"y\", \"type\": \"bar\"}, {\"alignmentgroup\": \"True\", \"customdata\": [[83950]], \"hoverlabel\": {\"namelength\": 0}, \"hovertemplate\": \"State/Union territory=%{x}<br>Year=2007\\u201308<br>GDP (in Crores)=%{customdata[0]}\", \"legendgroup\": \"State/Union territory=Jharkhand\", \"marker\": {\"color\": \"#EF553B\"}, \"name\": \"State/Union territory=Jharkhand\", \"offsetgroup\": \"State/Union territory=Jharkhand\", \"orientation\": \"v\", \"showlegend\": true, \"textposition\": \"auto\", \"x\": [\"Jharkhand\"], \"xaxis\": \"x\", \"y\": [83950], \"yaxis\": \"y\", \"type\": \"bar\"}, {\"alignmentgroup\": \"True\", \"customdata\": [[270629]], \"hoverlabel\": {\"namelength\": 0}, \"hovertemplate\": \"State/Union territory=%{x}<br>Year=2007\\u201308<br>GDP (in Crores)=%{customdata[0]}\", \"legendgroup\": \"State/Union territory=Karnataka\", \"marker\": {\"color\": \"#00cc96\"}, \"name\": \"State/Union territory=Karnataka\", \"offsetgroup\": \"State/Union territory=Karnataka\", \"orientation\": \"v\", \"showlegend\": true, \"textposition\": \"auto\", \"x\": [\"Karnataka\"], \"xaxis\": \"x\", \"y\": [270629], \"yaxis\": \"y\", \"type\": \"bar\"}, {\"alignmentgroup\": \"True\", \"customdata\": [[175141]], \"hoverlabel\": {\"namelength\": 0}, \"hovertemplate\": \"State/Union territory=%{x}<br>Year=2007\\u201308<br>GDP (in Crores)=%{customdata[0]}\", \"legendgroup\": \"State/Union territory=Kerala\", \"marker\": {\"color\": \"#ab63fa\"}, \"name\": \"State/Union territory=Kerala\", \"offsetgroup\": \"State/Union territory=Kerala\", \"orientation\": \"v\", \"showlegend\": true, \"textposition\": \"auto\", \"x\": [\"Kerala\"], \"xaxis\": \"x\", \"y\": [175141], \"yaxis\": \"y\", \"type\": \"bar\"}, {\"alignmentgroup\": \"True\", \"customdata\": [[161479]], \"hoverlabel\": {\"namelength\": 0}, \"hovertemplate\": \"State/Union territory=%{x}<br>Year=2007\\u201308<br>GDP (in Crores)=%{customdata[0]}\", \"legendgroup\": \"State/Union territory=Madhya Pradesh\", \"marker\": {\"color\": \"#FFA15A\"}, \"name\": \"State/Union territory=Madhya Pradesh\", \"offsetgroup\": \"State/Union territory=Madhya Pradesh\", \"orientation\": \"v\", \"showlegend\": true, \"textposition\": \"auto\", \"x\": [\"Madhya Pradesh\"], \"xaxis\": \"x\", \"y\": [161479], \"yaxis\": \"y\", \"type\": \"bar\"}, {\"alignmentgroup\": \"True\", \"customdata\": [[684817]], \"hoverlabel\": {\"namelength\": 0}, \"hovertemplate\": \"State/Union territory=%{x}<br>Year=2007\\u201308<br>GDP (in Crores)=%{customdata[0]}\", \"legendgroup\": \"State/Union territory=Maharashtra\", \"marker\": {\"color\": \"#19d3f3\"}, \"name\": \"State/Union territory=Maharashtra\", \"offsetgroup\": \"State/Union territory=Maharashtra\", \"orientation\": \"v\", \"showlegend\": true, \"textposition\": \"auto\", \"x\": [\"Maharashtra\"], \"xaxis\": \"x\", \"y\": [684817], \"yaxis\": \"y\", \"type\": \"bar\"}, {\"alignmentgroup\": \"True\", \"customdata\": [[6783]], \"hoverlabel\": {\"namelength\": 0}, \"hovertemplate\": \"State/Union territory=%{x}<br>Year=2007\\u201308<br>GDP (in Crores)=%{customdata[0]}\", \"legendgroup\": \"State/Union territory=Manipur\", \"marker\": {\"color\": \"#FF6692\"}, \"name\": \"State/Union territory=Manipur\", \"offsetgroup\": \"State/Union territory=Manipur\", \"orientation\": \"v\", \"showlegend\": true, \"textposition\": \"auto\", \"x\": [\"Manipur\"], \"xaxis\": \"x\", \"y\": [6783], \"yaxis\": \"y\", \"type\": \"bar\"}, {\"alignmentgroup\": \"True\", \"customdata\": [[9735]], \"hoverlabel\": {\"namelength\": 0}, \"hovertemplate\": \"State/Union territory=%{x}<br>Year=2007\\u201308<br>GDP (in Crores)=%{customdata[0]}\", \"legendgroup\": \"State/Union territory=Meghalaya\", \"marker\": {\"color\": \"#B6E880\"}, \"name\": \"State/Union territory=Meghalaya\", \"offsetgroup\": \"State/Union territory=Meghalaya\", \"orientation\": \"v\", \"showlegend\": true, \"textposition\": \"auto\", \"x\": [\"Meghalaya\"], \"xaxis\": \"x\", \"y\": [9735], \"yaxis\": \"y\", \"type\": \"bar\"}, {\"alignmentgroup\": \"True\", \"customdata\": [[3816]], \"hoverlabel\": {\"namelength\": 0}, \"hovertemplate\": \"State/Union territory=%{x}<br>Year=2007\\u201308<br>GDP (in Crores)=%{customdata[0]}\", \"legendgroup\": \"State/Union territory=Mizoram\", \"marker\": {\"color\": \"#FF97FF\"}, \"name\": \"State/Union territory=Mizoram\", \"offsetgroup\": \"State/Union territory=Mizoram\", \"orientation\": \"v\", \"showlegend\": true, \"textposition\": \"auto\", \"x\": [\"Mizoram\"], \"xaxis\": \"x\", \"y\": [3816], \"yaxis\": \"y\", \"type\": \"bar\"}, {\"alignmentgroup\": \"True\", \"customdata\": [[8075]], \"hoverlabel\": {\"namelength\": 0}, \"hovertemplate\": \"State/Union territory=%{x}<br>Year=2007\\u201308<br>GDP (in Crores)=%{customdata[0]}\", \"legendgroup\": \"State/Union territory=Nagaland\", \"marker\": {\"color\": \"#FECB52\"}, \"name\": \"State/Union territory=Nagaland\", \"offsetgroup\": \"State/Union territory=Nagaland\", \"orientation\": \"v\", \"showlegend\": true, \"textposition\": \"auto\", \"x\": [\"Nagaland\"], \"xaxis\": \"x\", \"y\": [8075], \"yaxis\": \"y\", \"type\": \"bar\"}, {\"alignmentgroup\": \"True\", \"customdata\": [[129274]], \"hoverlabel\": {\"namelength\": 0}, \"hovertemplate\": \"State/Union territory=%{x}<br>Year=2007\\u201308<br>GDP (in Crores)=%{customdata[0]}\", \"legendgroup\": \"State/Union territory=Odisha\", \"marker\": {\"color\": \"#636efa\"}, \"name\": \"State/Union territory=Odisha\", \"offsetgroup\": \"State/Union territory=Odisha\", \"orientation\": \"v\", \"showlegend\": true, \"textposition\": \"auto\", \"x\": [\"Odisha\"], \"xaxis\": \"x\", \"y\": [129274], \"yaxis\": \"y\", \"type\": \"bar\"}, {\"alignmentgroup\": \"True\", \"customdata\": [[152245]], \"hoverlabel\": {\"namelength\": 0}, \"hovertemplate\": \"State/Union territory=%{x}<br>Year=2007\\u201308<br>GDP (in Crores)=%{customdata[0]}\", \"legendgroup\": \"State/Union territory=Punjab\", \"marker\": {\"color\": \"#EF553B\"}, \"name\": \"State/Union territory=Punjab\", \"offsetgroup\": \"State/Union territory=Punjab\", \"orientation\": \"v\", \"showlegend\": true, \"textposition\": \"auto\", \"x\": [\"Punjab\"], \"xaxis\": \"x\", \"y\": [152245], \"yaxis\": \"y\", \"type\": \"bar\"}, {\"alignmentgroup\": \"True\", \"customdata\": [[194822]], \"hoverlabel\": {\"namelength\": 0}, \"hovertemplate\": \"State/Union territory=%{x}<br>Year=2007\\u201308<br>GDP (in Crores)=%{customdata[0]}\", \"legendgroup\": \"State/Union territory=Rajasthan\", \"marker\": {\"color\": \"#00cc96\"}, \"name\": \"State/Union territory=Rajasthan\", \"offsetgroup\": \"State/Union territory=Rajasthan\", \"orientation\": \"v\", \"showlegend\": true, \"textposition\": \"auto\", \"x\": [\"Rajasthan\"], \"xaxis\": \"x\", \"y\": [194822], \"yaxis\": \"y\", \"type\": \"bar\"}, {\"alignmentgroup\": \"True\", \"customdata\": [[2506]], \"hoverlabel\": {\"namelength\": 0}, \"hovertemplate\": \"State/Union territory=%{x}<br>Year=2007\\u201308<br>GDP (in Crores)=%{customdata[0]}\", \"legendgroup\": \"State/Union territory=Sikkim\", \"marker\": {\"color\": \"#ab63fa\"}, \"name\": \"State/Union territory=Sikkim\", \"offsetgroup\": \"State/Union territory=Sikkim\", \"orientation\": \"v\", \"showlegend\": true, \"textposition\": \"auto\", \"x\": [\"Sikkim\"], \"xaxis\": \"x\", \"y\": [2506], \"yaxis\": \"y\", \"type\": \"bar\"}, {\"alignmentgroup\": \"True\", \"customdata\": [[350819]], \"hoverlabel\": {\"namelength\": 0}, \"hovertemplate\": \"State/Union territory=%{x}<br>Year=2007\\u201308<br>GDP (in Crores)=%{customdata[0]}\", \"legendgroup\": \"State/Union territory=Tamil Nadu\", \"marker\": {\"color\": \"#FFA15A\"}, \"name\": \"State/Union territory=Tamil Nadu\", \"offsetgroup\": \"State/Union territory=Tamil Nadu\", \"orientation\": \"v\", \"showlegend\": true, \"textposition\": \"auto\", \"x\": [\"Tamil Nadu\"], \"xaxis\": \"x\", \"y\": [350819], \"yaxis\": \"y\", \"type\": \"bar\"}, {\"alignmentgroup\": \"True\", \"customdata\": [[11797]], \"hoverlabel\": {\"namelength\": 0}, \"hovertemplate\": \"State/Union territory=%{x}<br>Year=2007\\u201308<br>GDP (in Crores)=%{customdata[0]}\", \"legendgroup\": \"State/Union territory=Tripura\", \"marker\": {\"color\": \"#19d3f3\"}, \"name\": \"State/Union territory=Tripura\", \"offsetgroup\": \"State/Union territory=Tripura\", \"orientation\": \"v\", \"showlegend\": true, \"textposition\": \"auto\", \"x\": [\"Tripura\"], \"xaxis\": \"x\", \"y\": [11797], \"yaxis\": \"y\", \"type\": \"bar\"}, {\"alignmentgroup\": \"True\", \"customdata\": [[383026]], \"hoverlabel\": {\"namelength\": 0}, \"hovertemplate\": \"State/Union territory=%{x}<br>Year=2007\\u201308<br>GDP (in Crores)=%{customdata[0]}\", \"legendgroup\": \"State/Union territory=Uttar Pradesh\", \"marker\": {\"color\": \"#FF6692\"}, \"name\": \"State/Union territory=Uttar Pradesh\", \"offsetgroup\": \"State/Union territory=Uttar Pradesh\", \"orientation\": \"v\", \"showlegend\": true, \"textposition\": \"auto\", \"x\": [\"Uttar Pradesh\"], \"xaxis\": \"x\", \"y\": [383026], \"yaxis\": \"y\", \"type\": \"bar\"}, {\"alignmentgroup\": \"True\", \"customdata\": [[45856]], \"hoverlabel\": {\"namelength\": 0}, \"hovertemplate\": \"State/Union territory=%{x}<br>Year=2007\\u201308<br>GDP (in Crores)=%{customdata[0]}\", \"legendgroup\": \"State/Union territory=Uttarakhand\", \"marker\": {\"color\": \"#B6E880\"}, \"name\": \"State/Union territory=Uttarakhand\", \"offsetgroup\": \"State/Union territory=Uttarakhand\", \"orientation\": \"v\", \"showlegend\": true, \"textposition\": \"auto\", \"x\": [\"Uttarakhand\"], \"xaxis\": \"x\", \"y\": [45856], \"yaxis\": \"y\", \"type\": \"bar\"}, {\"alignmentgroup\": \"True\", \"customdata\": [[299483]], \"hoverlabel\": {\"namelength\": 0}, \"hovertemplate\": \"State/Union territory=%{x}<br>Year=2007\\u201308<br>GDP (in Crores)=%{customdata[0]}\", \"legendgroup\": \"State/Union territory=West Bengal\", \"marker\": {\"color\": \"#FF97FF\"}, \"name\": \"State/Union territory=West Bengal\", \"offsetgroup\": \"State/Union territory=West Bengal\", \"orientation\": \"v\", \"showlegend\": true, \"textposition\": \"auto\", \"x\": [\"West Bengal\"], \"xaxis\": \"x\", \"y\": [299483], \"yaxis\": \"y\", \"type\": \"bar\"}, {\"alignmentgroup\": \"True\", \"customdata\": [[2990]], \"hoverlabel\": {\"namelength\": 0}, \"hovertemplate\": \"State/Union territory=%{x}<br>Year=2007\\u201308<br>GDP (in Crores)=%{customdata[0]}\", \"legendgroup\": \"State/Union territory=Andaman and Nicobar Islands\", \"marker\": {\"color\": \"#FECB52\"}, \"name\": \"State/Union territory=Andaman and Nicobar Islands\", \"offsetgroup\": \"State/Union territory=Andaman and Nicobar Islands\", \"orientation\": \"v\", \"showlegend\": true, \"textposition\": \"auto\", \"x\": [\"Andaman and Nicobar Islands\"], \"xaxis\": \"x\", \"y\": [2990], \"yaxis\": \"y\", \"type\": \"bar\"}, {\"alignmentgroup\": \"True\", \"customdata\": [[13669]], \"hoverlabel\": {\"namelength\": 0}, \"hovertemplate\": \"State/Union territory=%{x}<br>Year=2007\\u201308<br>GDP (in Crores)=%{customdata[0]}\", \"legendgroup\": \"State/Union territory=Chandigarh\", \"marker\": {\"color\": \"#636efa\"}, \"name\": \"State/Union territory=Chandigarh\", \"offsetgroup\": \"State/Union territory=Chandigarh\", \"orientation\": \"v\", \"showlegend\": true, \"textposition\": \"auto\", \"x\": [\"Chandigarh\"], \"xaxis\": \"x\", \"y\": [13669], \"yaxis\": \"y\", \"type\": \"bar\"}, {\"alignmentgroup\": \"True\", \"customdata\": [[157947]], \"hoverlabel\": {\"namelength\": 0}, \"hovertemplate\": \"State/Union territory=%{x}<br>Year=2007\\u201308<br>GDP (in Crores)=%{customdata[0]}\", \"legendgroup\": \"State/Union territory=Delhi\", \"marker\": {\"color\": \"#EF553B\"}, \"name\": \"State/Union territory=Delhi\", \"offsetgroup\": \"State/Union territory=Delhi\", \"orientation\": \"v\", \"showlegend\": true, \"textposition\": \"auto\", \"x\": [\"Delhi\"], \"xaxis\": \"x\", \"y\": [157947], \"yaxis\": \"y\", \"type\": \"bar\"}, {\"alignmentgroup\": \"True\", \"customdata\": [[9251]], \"hoverlabel\": {\"namelength\": 0}, \"hovertemplate\": \"State/Union territory=%{x}<br>Year=2007\\u201308<br>GDP (in Crores)=%{customdata[0]}\", \"legendgroup\": \"State/Union territory=Pudduchery\", \"marker\": {\"color\": \"#00cc96\"}, \"name\": \"State/Union territory=Pudduchery\", \"offsetgroup\": \"State/Union territory=Pudduchery\", \"orientation\": \"v\", \"showlegend\": true, \"textposition\": \"auto\", \"x\": [\"Pudduchery\"], \"xaxis\": \"x\", \"y\": [9251], \"yaxis\": \"y\", \"type\": \"bar\"}], \"name\": \"2007\\u201308\"}, {\"data\": [{\"alignmentgroup\": \"True\", \"customdata\": [[5303567]], \"hoverlabel\": {\"namelength\": 0}, \"hovertemplate\": \"State/Union territory=%{x}<br>Year=2008\\u201309<br>GDP (in Crores)=%{customdata[0]}\", \"legendgroup\": \"State/Union territory=\\u00a0India\", \"marker\": {\"color\": \"#636efa\"}, \"name\": \"State/Union territory=\\u00a0India\", \"offsetgroup\": \"State/Union territory=\\u00a0India\", \"orientation\": \"v\", \"showlegend\": true, \"textposition\": \"auto\", \"x\": [\"\\u00a0India\"], \"xaxis\": \"x\", \"y\": [5303567], \"yaxis\": \"y\", \"type\": \"bar\"}, {\"alignmentgroup\": \"True\", \"customdata\": [[426765]], \"hoverlabel\": {\"namelength\": 0}, \"hovertemplate\": \"State/Union territory=%{x}<br>Year=2008\\u201309<br>GDP (in Crores)=%{customdata[0]}\", \"legendgroup\": \"State/Union territory=Andhra Pradesh\", \"marker\": {\"color\": \"#EF553B\"}, \"name\": \"State/Union territory=Andhra Pradesh\", \"offsetgroup\": \"State/Union territory=Andhra Pradesh\", \"orientation\": \"v\", \"showlegend\": true, \"textposition\": \"auto\", \"x\": [\"Andhra Pradesh\"], \"xaxis\": \"x\", \"y\": [426765], \"yaxis\": \"y\", \"type\": \"bar\"}, {\"alignmentgroup\": \"True\", \"customdata\": [[5687]], \"hoverlabel\": {\"namelength\": 0}, \"hovertemplate\": \"State/Union territory=%{x}<br>Year=2008\\u201309<br>GDP (in Crores)=%{customdata[0]}\", \"legendgroup\": \"State/Union territory=Arunachal Pradesh\", \"marker\": {\"color\": \"#00cc96\"}, \"name\": \"State/Union territory=Arunachal Pradesh\", \"offsetgroup\": \"State/Union territory=Arunachal Pradesh\", \"orientation\": \"v\", \"showlegend\": true, \"textposition\": \"auto\", \"x\": [\"Arunachal Pradesh\"], \"xaxis\": \"x\", \"y\": [5687], \"yaxis\": \"y\", \"type\": \"bar\"}, {\"alignmentgroup\": \"True\", \"customdata\": [[81074]], \"hoverlabel\": {\"namelength\": 0}, \"hovertemplate\": \"State/Union territory=%{x}<br>Year=2008\\u201309<br>GDP (in Crores)=%{customdata[0]}\", \"legendgroup\": \"State/Union territory=Assam\", \"marker\": {\"color\": \"#ab63fa\"}, \"name\": \"State/Union territory=Assam\", \"offsetgroup\": \"State/Union territory=Assam\", \"orientation\": \"v\", \"showlegend\": true, \"textposition\": \"auto\", \"x\": [\"Assam\"], \"xaxis\": \"x\", \"y\": [81074], \"yaxis\": \"y\", \"type\": \"bar\"}, {\"alignmentgroup\": \"True\", \"customdata\": [[142279]], \"hoverlabel\": {\"namelength\": 0}, \"hovertemplate\": \"State/Union territory=%{x}<br>Year=2008\\u201309<br>GDP (in Crores)=%{customdata[0]}\", \"legendgroup\": \"State/Union territory=Bihar\", \"marker\": {\"color\": \"#FFA15A\"}, \"name\": \"State/Union territory=Bihar\", \"offsetgroup\": \"State/Union territory=Bihar\", \"orientation\": \"v\", \"showlegend\": true, \"textposition\": \"auto\", \"x\": [\"Bihar\"], \"xaxis\": \"x\", \"y\": [142279], \"yaxis\": \"y\", \"type\": \"bar\"}, {\"alignmentgroup\": \"True\", \"customdata\": [[96972]], \"hoverlabel\": {\"namelength\": 0}, \"hovertemplate\": \"State/Union territory=%{x}<br>Year=2008\\u201309<br>GDP (in Crores)=%{customdata[0]}\", \"legendgroup\": \"State/Union territory=Chhattisgarh\", \"marker\": {\"color\": \"#19d3f3\"}, \"name\": \"State/Union territory=Chhattisgarh\", \"offsetgroup\": \"State/Union territory=Chhattisgarh\", \"orientation\": \"v\", \"showlegend\": true, \"textposition\": \"auto\", \"x\": [\"Chhattisgarh\"], \"xaxis\": \"x\", \"y\": [96972], \"yaxis\": \"y\", \"type\": \"bar\"}, {\"alignmentgroup\": \"True\", \"customdata\": [[25414]], \"hoverlabel\": {\"namelength\": 0}, \"hovertemplate\": \"State/Union territory=%{x}<br>Year=2008\\u201309<br>GDP (in Crores)=%{customdata[0]}\", \"legendgroup\": \"State/Union territory=Goa\", \"marker\": {\"color\": \"#FF6692\"}, \"name\": \"State/Union territory=Goa\", \"offsetgroup\": \"State/Union territory=Goa\", \"orientation\": \"v\", \"showlegend\": true, \"textposition\": \"auto\", \"x\": [\"Goa\"], \"xaxis\": \"x\", \"y\": [25414], \"yaxis\": \"y\", \"type\": \"bar\"}, {\"alignmentgroup\": \"True\", \"customdata\": [[367912]], \"hoverlabel\": {\"namelength\": 0}, \"hovertemplate\": \"State/Union territory=%{x}<br>Year=2008\\u201309<br>GDP (in Crores)=%{customdata[0]}\", \"legendgroup\": \"State/Union territory=Gujarat\", \"marker\": {\"color\": \"#B6E880\"}, \"name\": \"State/Union territory=Gujarat\", \"offsetgroup\": \"State/Union territory=Gujarat\", \"orientation\": \"v\", \"showlegend\": true, \"textposition\": \"auto\", \"x\": [\"Gujarat\"], \"xaxis\": \"x\", \"y\": [367912], \"yaxis\": \"y\", \"type\": \"bar\"}, {\"alignmentgroup\": \"True\", \"customdata\": [[182522]], \"hoverlabel\": {\"namelength\": 0}, \"hovertemplate\": \"State/Union territory=%{x}<br>Year=2008\\u201309<br>GDP (in Crores)=%{customdata[0]}\", \"legendgroup\": \"State/Union territory=Haryana\", \"marker\": {\"color\": \"#FF97FF\"}, \"name\": \"State/Union territory=Haryana\", \"offsetgroup\": \"State/Union territory=Haryana\", \"orientation\": \"v\", \"showlegend\": true, \"textposition\": \"auto\", \"x\": [\"Haryana\"], \"xaxis\": \"x\", \"y\": [182522], \"yaxis\": \"y\", \"type\": \"bar\"}, {\"alignmentgroup\": \"True\", \"customdata\": [[41483]], \"hoverlabel\": {\"namelength\": 0}, \"hovertemplate\": \"State/Union territory=%{x}<br>Year=2008\\u201309<br>GDP (in Crores)=%{customdata[0]}\", \"legendgroup\": \"State/Union territory=Himachal Pradesh\", \"marker\": {\"color\": \"#FECB52\"}, \"name\": \"State/Union territory=Himachal Pradesh\", \"offsetgroup\": \"State/Union territory=Himachal Pradesh\", \"orientation\": \"v\", \"showlegend\": true, \"textposition\": \"auto\", \"x\": [\"Himachal Pradesh\"], \"xaxis\": \"x\", \"y\": [41483], \"yaxis\": \"y\", \"type\": \"bar\"}, {\"alignmentgroup\": \"True\", \"customdata\": [[42315]], \"hoverlabel\": {\"namelength\": 0}, \"hovertemplate\": \"State/Union territory=%{x}<br>Year=2008\\u201309<br>GDP (in Crores)=%{customdata[0]}\", \"legendgroup\": \"State/Union territory=Jammu and Kashmir\", \"marker\": {\"color\": \"#636efa\"}, \"name\": \"State/Union territory=Jammu and Kashmir\", \"offsetgroup\": \"State/Union territory=Jammu and Kashmir\", \"orientation\": \"v\", \"showlegend\": true, \"textposition\": \"auto\", \"x\": [\"Jammu and Kashmir\"], \"xaxis\": \"x\", \"y\": [42315], \"yaxis\": \"y\", \"type\": \"bar\"}, {\"alignmentgroup\": \"True\", \"customdata\": [[87794]], \"hoverlabel\": {\"namelength\": 0}, \"hovertemplate\": \"State/Union territory=%{x}<br>Year=2008\\u201309<br>GDP (in Crores)=%{customdata[0]}\", \"legendgroup\": \"State/Union territory=Jharkhand\", \"marker\": {\"color\": \"#EF553B\"}, \"name\": \"State/Union territory=Jharkhand\", \"offsetgroup\": \"State/Union territory=Jharkhand\", \"orientation\": \"v\", \"showlegend\": true, \"textposition\": \"auto\", \"x\": [\"Jharkhand\"], \"xaxis\": \"x\", \"y\": [87794], \"yaxis\": \"y\", \"type\": \"bar\"}, {\"alignmentgroup\": \"True\", \"customdata\": [[310312]], \"hoverlabel\": {\"namelength\": 0}, \"hovertemplate\": \"State/Union territory=%{x}<br>Year=2008\\u201309<br>GDP (in Crores)=%{customdata[0]}\", \"legendgroup\": \"State/Union territory=Karnataka\", \"marker\": {\"color\": \"#00cc96\"}, \"name\": \"State/Union territory=Karnataka\", \"offsetgroup\": \"State/Union territory=Karnataka\", \"orientation\": \"v\", \"showlegend\": true, \"textposition\": \"auto\", \"x\": [\"Karnataka\"], \"xaxis\": \"x\", \"y\": [310312], \"yaxis\": \"y\", \"type\": \"bar\"}, {\"alignmentgroup\": \"True\", \"customdata\": [[202783]], \"hoverlabel\": {\"namelength\": 0}, \"hovertemplate\": \"State/Union territory=%{x}<br>Year=2008\\u201309<br>GDP (in Crores)=%{customdata[0]}\", \"legendgroup\": \"State/Union territory=Kerala\", \"marker\": {\"color\": \"#ab63fa\"}, \"name\": \"State/Union territory=Kerala\", \"offsetgroup\": \"State/Union territory=Kerala\", \"orientation\": \"v\", \"showlegend\": true, \"textposition\": \"auto\", \"x\": [\"Kerala\"], \"xaxis\": \"x\", \"y\": [202783], \"yaxis\": \"y\", \"type\": \"bar\"}, {\"alignmentgroup\": \"True\", \"customdata\": [[197276]], \"hoverlabel\": {\"namelength\": 0}, \"hovertemplate\": \"State/Union territory=%{x}<br>Year=2008\\u201309<br>GDP (in Crores)=%{customdata[0]}\", \"legendgroup\": \"State/Union territory=Madhya Pradesh\", \"marker\": {\"color\": \"#FFA15A\"}, \"name\": \"State/Union territory=Madhya Pradesh\", \"offsetgroup\": \"State/Union territory=Madhya Pradesh\", \"orientation\": \"v\", \"showlegend\": true, \"textposition\": \"auto\", \"x\": [\"Madhya Pradesh\"], \"xaxis\": \"x\", \"y\": [197276], \"yaxis\": \"y\", \"type\": \"bar\"}, {\"alignmentgroup\": \"True\", \"customdata\": [[753969]], \"hoverlabel\": {\"namelength\": 0}, \"hovertemplate\": \"State/Union territory=%{x}<br>Year=2008\\u201309<br>GDP (in Crores)=%{customdata[0]}\", \"legendgroup\": \"State/Union territory=Maharashtra\", \"marker\": {\"color\": \"#19d3f3\"}, \"name\": \"State/Union territory=Maharashtra\", \"offsetgroup\": \"State/Union territory=Maharashtra\", \"orientation\": \"v\", \"showlegend\": true, \"textposition\": \"auto\", \"x\": [\"Maharashtra\"], \"xaxis\": \"x\", \"y\": [753969], \"yaxis\": \"y\", \"type\": \"bar\"}, {\"alignmentgroup\": \"True\", \"customdata\": [[7399]], \"hoverlabel\": {\"namelength\": 0}, \"hovertemplate\": \"State/Union territory=%{x}<br>Year=2008\\u201309<br>GDP (in Crores)=%{customdata[0]}\", \"legendgroup\": \"State/Union territory=Manipur\", \"marker\": {\"color\": \"#FF6692\"}, \"name\": \"State/Union territory=Manipur\", \"offsetgroup\": \"State/Union territory=Manipur\", \"orientation\": \"v\", \"showlegend\": true, \"textposition\": \"auto\", \"x\": [\"Manipur\"], \"xaxis\": \"x\", \"y\": [7399], \"yaxis\": \"y\", \"type\": \"bar\"}, {\"alignmentgroup\": \"True\", \"customdata\": [[11617]], \"hoverlabel\": {\"namelength\": 0}, \"hovertemplate\": \"State/Union territory=%{x}<br>Year=2008\\u201309<br>GDP (in Crores)=%{customdata[0]}\", \"legendgroup\": \"State/Union territory=Meghalaya\", \"marker\": {\"color\": \"#B6E880\"}, \"name\": \"State/Union territory=Meghalaya\", \"offsetgroup\": \"State/Union territory=Meghalaya\", \"orientation\": \"v\", \"showlegend\": true, \"textposition\": \"auto\", \"x\": [\"Meghalaya\"], \"xaxis\": \"x\", \"y\": [11617], \"yaxis\": \"y\", \"type\": \"bar\"}, {\"alignmentgroup\": \"True\", \"customdata\": [[4577]], \"hoverlabel\": {\"namelength\": 0}, \"hovertemplate\": \"State/Union territory=%{x}<br>Year=2008\\u201309<br>GDP (in Crores)=%{customdata[0]}\", \"legendgroup\": \"State/Union territory=Mizoram\", \"marker\": {\"color\": \"#FF97FF\"}, \"name\": \"State/Union territory=Mizoram\", \"offsetgroup\": \"State/Union territory=Mizoram\", \"orientation\": \"v\", \"showlegend\": true, \"textposition\": \"auto\", \"x\": [\"Mizoram\"], \"xaxis\": \"x\", \"y\": [4577], \"yaxis\": \"y\", \"type\": \"bar\"}, {\"alignmentgroup\": \"True\", \"customdata\": [[9436]], \"hoverlabel\": {\"namelength\": 0}, \"hovertemplate\": \"State/Union territory=%{x}<br>Year=2008\\u201309<br>GDP (in Crores)=%{customdata[0]}\", \"legendgroup\": \"State/Union territory=Nagaland\", \"marker\": {\"color\": \"#FECB52\"}, \"name\": \"State/Union territory=Nagaland\", \"offsetgroup\": \"State/Union territory=Nagaland\", \"orientation\": \"v\", \"showlegend\": true, \"textposition\": \"auto\", \"x\": [\"Nagaland\"], \"xaxis\": \"x\", \"y\": [9436], \"yaxis\": \"y\", \"type\": \"bar\"}, {\"alignmentgroup\": \"True\", \"customdata\": [[148491]], \"hoverlabel\": {\"namelength\": 0}, \"hovertemplate\": \"State/Union territory=%{x}<br>Year=2008\\u201309<br>GDP (in Crores)=%{customdata[0]}\", \"legendgroup\": \"State/Union territory=Odisha\", \"marker\": {\"color\": \"#636efa\"}, \"name\": \"State/Union territory=Odisha\", \"offsetgroup\": \"State/Union territory=Odisha\", \"orientation\": \"v\", \"showlegend\": true, \"textposition\": \"auto\", \"x\": [\"Odisha\"], \"xaxis\": \"x\", \"y\": [148491], \"yaxis\": \"y\", \"type\": \"bar\"}, {\"alignmentgroup\": \"True\", \"customdata\": [[174039]], \"hoverlabel\": {\"namelength\": 0}, \"hovertemplate\": \"State/Union territory=%{x}<br>Year=2008\\u201309<br>GDP (in Crores)=%{customdata[0]}\", \"legendgroup\": \"State/Union territory=Punjab\", \"marker\": {\"color\": \"#EF553B\"}, \"name\": \"State/Union territory=Punjab\", \"offsetgroup\": \"State/Union territory=Punjab\", \"orientation\": \"v\", \"showlegend\": true, \"textposition\": \"auto\", \"x\": [\"Punjab\"], \"xaxis\": \"x\", \"y\": [174039], \"yaxis\": \"y\", \"type\": \"bar\"}, {\"alignmentgroup\": \"True\", \"customdata\": [[230949]], \"hoverlabel\": {\"namelength\": 0}, \"hovertemplate\": \"State/Union territory=%{x}<br>Year=2008\\u201309<br>GDP (in Crores)=%{customdata[0]}\", \"legendgroup\": \"State/Union territory=Rajasthan\", \"marker\": {\"color\": \"#00cc96\"}, \"name\": \"State/Union territory=Rajasthan\", \"offsetgroup\": \"State/Union territory=Rajasthan\", \"orientation\": \"v\", \"showlegend\": true, \"textposition\": \"auto\", \"x\": [\"Rajasthan\"], \"xaxis\": \"x\", \"y\": [230949], \"yaxis\": \"y\", \"type\": \"bar\"}, {\"alignmentgroup\": \"True\", \"customdata\": [[3229]], \"hoverlabel\": {\"namelength\": 0}, \"hovertemplate\": \"State/Union territory=%{x}<br>Year=2008\\u201309<br>GDP (in Crores)=%{customdata[0]}\", \"legendgroup\": \"State/Union territory=Sikkim\", \"marker\": {\"color\": \"#ab63fa\"}, \"name\": \"State/Union territory=Sikkim\", \"offsetgroup\": \"State/Union territory=Sikkim\", \"orientation\": \"v\", \"showlegend\": true, \"textposition\": \"auto\", \"x\": [\"Sikkim\"], \"xaxis\": \"x\", \"y\": [3229], \"yaxis\": \"y\", \"type\": \"bar\"}, {\"alignmentgroup\": \"True\", \"customdata\": [[401336]], \"hoverlabel\": {\"namelength\": 0}, \"hovertemplate\": \"State/Union territory=%{x}<br>Year=2008\\u201309<br>GDP (in Crores)=%{customdata[0]}\", \"legendgroup\": \"State/Union territory=Tamil Nadu\", \"marker\": {\"color\": \"#FFA15A\"}, \"name\": \"State/Union territory=Tamil Nadu\", \"offsetgroup\": \"State/Union territory=Tamil Nadu\", \"orientation\": \"v\", \"showlegend\": true, \"textposition\": \"auto\", \"x\": [\"Tamil Nadu\"], \"xaxis\": \"x\", \"y\": [401336], \"yaxis\": \"y\", \"type\": \"bar\"}, {\"alignmentgroup\": \"True\", \"customdata\": [[13573]], \"hoverlabel\": {\"namelength\": 0}, \"hovertemplate\": \"State/Union territory=%{x}<br>Year=2008\\u201309<br>GDP (in Crores)=%{customdata[0]}\", \"legendgroup\": \"State/Union territory=Tripura\", \"marker\": {\"color\": \"#19d3f3\"}, \"name\": \"State/Union territory=Tripura\", \"offsetgroup\": \"State/Union territory=Tripura\", \"orientation\": \"v\", \"showlegend\": true, \"textposition\": \"auto\", \"x\": [\"Tripura\"], \"xaxis\": \"x\", \"y\": [13573], \"yaxis\": \"y\", \"type\": \"bar\"}, {\"alignmentgroup\": \"True\", \"customdata\": [[444685]], \"hoverlabel\": {\"namelength\": 0}, \"hovertemplate\": \"State/Union territory=%{x}<br>Year=2008\\u201309<br>GDP (in Crores)=%{customdata[0]}\", \"legendgroup\": \"State/Union territory=Uttar Pradesh\", \"marker\": {\"color\": \"#FF6692\"}, \"name\": \"State/Union territory=Uttar Pradesh\", \"offsetgroup\": \"State/Union territory=Uttar Pradesh\", \"orientation\": \"v\", \"showlegend\": true, \"textposition\": \"auto\", \"x\": [\"Uttar Pradesh\"], \"xaxis\": \"x\", \"y\": [444685], \"yaxis\": \"y\", \"type\": \"bar\"}, {\"alignmentgroup\": \"True\", \"customdata\": [[56025]], \"hoverlabel\": {\"namelength\": 0}, \"hovertemplate\": \"State/Union territory=%{x}<br>Year=2008\\u201309<br>GDP (in Crores)=%{customdata[0]}\", \"legendgroup\": \"State/Union territory=Uttarakhand\", \"marker\": {\"color\": \"#B6E880\"}, \"name\": \"State/Union territory=Uttarakhand\", \"offsetgroup\": \"State/Union territory=Uttarakhand\", \"orientation\": \"v\", \"showlegend\": true, \"textposition\": \"auto\", \"x\": [\"Uttarakhand\"], \"xaxis\": \"x\", \"y\": [56025], \"yaxis\": \"y\", \"type\": \"bar\"}, {\"alignmentgroup\": \"True\", \"customdata\": [[341942]], \"hoverlabel\": {\"namelength\": 0}, \"hovertemplate\": \"State/Union territory=%{x}<br>Year=2008\\u201309<br>GDP (in Crores)=%{customdata[0]}\", \"legendgroup\": \"State/Union territory=West Bengal\", \"marker\": {\"color\": \"#FF97FF\"}, \"name\": \"State/Union territory=West Bengal\", \"offsetgroup\": \"State/Union territory=West Bengal\", \"orientation\": \"v\", \"showlegend\": true, \"textposition\": \"auto\", \"x\": [\"West Bengal\"], \"xaxis\": \"x\", \"y\": [341942], \"yaxis\": \"y\", \"type\": \"bar\"}, {\"alignmentgroup\": \"True\", \"customdata\": [[3480]], \"hoverlabel\": {\"namelength\": 0}, \"hovertemplate\": \"State/Union territory=%{x}<br>Year=2008\\u201309<br>GDP (in Crores)=%{customdata[0]}\", \"legendgroup\": \"State/Union territory=Andaman and Nicobar Islands\", \"marker\": {\"color\": \"#FECB52\"}, \"name\": \"State/Union territory=Andaman and Nicobar Islands\", \"offsetgroup\": \"State/Union territory=Andaman and Nicobar Islands\", \"orientation\": \"v\", \"showlegend\": true, \"textposition\": \"auto\", \"x\": [\"Andaman and Nicobar Islands\"], \"xaxis\": \"x\", \"y\": [3480], \"yaxis\": \"y\", \"type\": \"bar\"}, {\"alignmentgroup\": \"True\", \"customdata\": [[15334]], \"hoverlabel\": {\"namelength\": 0}, \"hovertemplate\": \"State/Union territory=%{x}<br>Year=2008\\u201309<br>GDP (in Crores)=%{customdata[0]}\", \"legendgroup\": \"State/Union territory=Chandigarh\", \"marker\": {\"color\": \"#636efa\"}, \"name\": \"State/Union territory=Chandigarh\", \"offsetgroup\": \"State/Union territory=Chandigarh\", \"orientation\": \"v\", \"showlegend\": true, \"textposition\": \"auto\", \"x\": [\"Chandigarh\"], \"xaxis\": \"x\", \"y\": [15334], \"yaxis\": \"y\", \"type\": \"bar\"}, {\"alignmentgroup\": \"True\", \"customdata\": [[189553]], \"hoverlabel\": {\"namelength\": 0}, \"hovertemplate\": \"State/Union territory=%{x}<br>Year=2008\\u201309<br>GDP (in Crores)=%{customdata[0]}\", \"legendgroup\": \"State/Union territory=Delhi\", \"marker\": {\"color\": \"#EF553B\"}, \"name\": \"State/Union territory=Delhi\", \"offsetgroup\": \"State/Union territory=Delhi\", \"orientation\": \"v\", \"showlegend\": true, \"textposition\": \"auto\", \"x\": [\"Delhi\"], \"xaxis\": \"x\", \"y\": [189553], \"yaxis\": \"y\", \"type\": \"bar\"}, {\"alignmentgroup\": \"True\", \"customdata\": [[10050]], \"hoverlabel\": {\"namelength\": 0}, \"hovertemplate\": \"State/Union territory=%{x}<br>Year=2008\\u201309<br>GDP (in Crores)=%{customdata[0]}\", \"legendgroup\": \"State/Union territory=Pudduchery\", \"marker\": {\"color\": \"#00cc96\"}, \"name\": \"State/Union territory=Pudduchery\", \"offsetgroup\": \"State/Union territory=Pudduchery\", \"orientation\": \"v\", \"showlegend\": true, \"textposition\": \"auto\", \"x\": [\"Pudduchery\"], \"xaxis\": \"x\", \"y\": [10050], \"yaxis\": \"y\", \"type\": \"bar\"}], \"name\": \"2008\\u201309\"}, {\"data\": [{\"alignmentgroup\": \"True\", \"customdata\": [[6108903]], \"hoverlabel\": {\"namelength\": 0}, \"hovertemplate\": \"State/Union territory=%{x}<br>Year=2009\\u201310<br>GDP (in Crores)=%{customdata[0]}\", \"legendgroup\": \"State/Union territory=\\u00a0India\", \"marker\": {\"color\": \"#636efa\"}, \"name\": \"State/Union territory=\\u00a0India\", \"offsetgroup\": \"State/Union territory=\\u00a0India\", \"orientation\": \"v\", \"showlegend\": true, \"textposition\": \"auto\", \"x\": [\"\\u00a0India\"], \"xaxis\": \"x\", \"y\": [6108903], \"yaxis\": \"y\", \"type\": \"bar\"}, {\"alignmentgroup\": \"True\", \"customdata\": [[476835]], \"hoverlabel\": {\"namelength\": 0}, \"hovertemplate\": \"State/Union territory=%{x}<br>Year=2009\\u201310<br>GDP (in Crores)=%{customdata[0]}\", \"legendgroup\": \"State/Union territory=Andhra Pradesh\", \"marker\": {\"color\": \"#EF553B\"}, \"name\": \"State/Union territory=Andhra Pradesh\", \"offsetgroup\": \"State/Union territory=Andhra Pradesh\", \"orientation\": \"v\", \"showlegend\": true, \"textposition\": \"auto\", \"x\": [\"Andhra Pradesh\"], \"xaxis\": \"x\", \"y\": [476835], \"yaxis\": \"y\", \"type\": \"bar\"}, {\"alignmentgroup\": \"True\", \"customdata\": [[7474]], \"hoverlabel\": {\"namelength\": 0}, \"hovertemplate\": \"State/Union territory=%{x}<br>Year=2009\\u201310<br>GDP (in Crores)=%{customdata[0]}\", \"legendgroup\": \"State/Union territory=Arunachal Pradesh\", \"marker\": {\"color\": \"#00cc96\"}, \"name\": \"State/Union territory=Arunachal Pradesh\", \"offsetgroup\": \"State/Union territory=Arunachal Pradesh\", \"orientation\": \"v\", \"showlegend\": true, \"textposition\": \"auto\", \"x\": [\"Arunachal Pradesh\"], \"xaxis\": \"x\", \"y\": [7474], \"yaxis\": \"y\", \"type\": \"bar\"}, {\"alignmentgroup\": \"True\", \"customdata\": [[95975]], \"hoverlabel\": {\"namelength\": 0}, \"hovertemplate\": \"State/Union territory=%{x}<br>Year=2009\\u201310<br>GDP (in Crores)=%{customdata[0]}\", \"legendgroup\": \"State/Union territory=Assam\", \"marker\": {\"color\": \"#ab63fa\"}, \"name\": \"State/Union territory=Assam\", \"offsetgroup\": \"State/Union territory=Assam\", \"orientation\": \"v\", \"showlegend\": true, \"textposition\": \"auto\", \"x\": [\"Assam\"], \"xaxis\": \"x\", \"y\": [95975], \"yaxis\": \"y\", \"type\": \"bar\"}, {\"alignmentgroup\": \"True\", \"customdata\": [[162923]], \"hoverlabel\": {\"namelength\": 0}, \"hovertemplate\": \"State/Union territory=%{x}<br>Year=2009\\u201310<br>GDP (in Crores)=%{customdata[0]}\", \"legendgroup\": \"State/Union territory=Bihar\", \"marker\": {\"color\": \"#FFA15A\"}, \"name\": \"State/Union territory=Bihar\", \"offsetgroup\": \"State/Union territory=Bihar\", \"orientation\": \"v\", \"showlegend\": true, \"textposition\": \"auto\", \"x\": [\"Bihar\"], \"xaxis\": \"x\", \"y\": [162923], \"yaxis\": \"y\", \"type\": \"bar\"}, {\"alignmentgroup\": \"True\", \"customdata\": [[99364]], \"hoverlabel\": {\"namelength\": 0}, \"hovertemplate\": \"State/Union territory=%{x}<br>Year=2009\\u201310<br>GDP (in Crores)=%{customdata[0]}\", \"legendgroup\": \"State/Union territory=Chhattisgarh\", \"marker\": {\"color\": \"#19d3f3\"}, \"name\": \"State/Union territory=Chhattisgarh\", \"offsetgroup\": \"State/Union territory=Chhattisgarh\", \"orientation\": \"v\", \"showlegend\": true, \"textposition\": \"auto\", \"x\": [\"Chhattisgarh\"], \"xaxis\": \"x\", \"y\": [99364], \"yaxis\": \"y\", \"type\": \"bar\"}, {\"alignmentgroup\": \"True\", \"customdata\": [[29126]], \"hoverlabel\": {\"namelength\": 0}, \"hovertemplate\": \"State/Union territory=%{x}<br>Year=2009\\u201310<br>GDP (in Crores)=%{customdata[0]}\", \"legendgroup\": \"State/Union territory=Goa\", \"marker\": {\"color\": \"#FF6692\"}, \"name\": \"State/Union territory=Goa\", \"offsetgroup\": \"State/Union territory=Goa\", \"orientation\": \"v\", \"showlegend\": true, \"textposition\": \"auto\", \"x\": [\"Goa\"], \"xaxis\": \"x\", \"y\": [29126], \"yaxis\": \"y\", \"type\": \"bar\"}, {\"alignmentgroup\": \"True\", \"customdata\": [[431262]], \"hoverlabel\": {\"namelength\": 0}, \"hovertemplate\": \"State/Union territory=%{x}<br>Year=2009\\u201310<br>GDP (in Crores)=%{customdata[0]}\", \"legendgroup\": \"State/Union territory=Gujarat\", \"marker\": {\"color\": \"#B6E880\"}, \"name\": \"State/Union territory=Gujarat\", \"offsetgroup\": \"State/Union territory=Gujarat\", \"orientation\": \"v\", \"showlegend\": true, \"textposition\": \"auto\", \"x\": [\"Gujarat\"], \"xaxis\": \"x\", \"y\": [431262], \"yaxis\": \"y\", \"type\": \"bar\"}, {\"alignmentgroup\": \"True\", \"customdata\": [[223600]], \"hoverlabel\": {\"namelength\": 0}, \"hovertemplate\": \"State/Union territory=%{x}<br>Year=2009\\u201310<br>GDP (in Crores)=%{customdata[0]}\", \"legendgroup\": \"State/Union territory=Haryana\", \"marker\": {\"color\": \"#FF97FF\"}, \"name\": \"State/Union territory=Haryana\", \"offsetgroup\": \"State/Union territory=Haryana\", \"orientation\": \"v\", \"showlegend\": true, \"textposition\": \"auto\", \"x\": [\"Haryana\"], \"xaxis\": \"x\", \"y\": [223600], \"yaxis\": \"y\", \"type\": \"bar\"}, {\"alignmentgroup\": \"True\", \"customdata\": [[48189]], \"hoverlabel\": {\"namelength\": 0}, \"hovertemplate\": \"State/Union territory=%{x}<br>Year=2009\\u201310<br>GDP (in Crores)=%{customdata[0]}\", \"legendgroup\": \"State/Union territory=Himachal Pradesh\", \"marker\": {\"color\": \"#FECB52\"}, \"name\": \"State/Union territory=Himachal Pradesh\", \"offsetgroup\": \"State/Union territory=Himachal Pradesh\", \"orientation\": \"v\", \"showlegend\": true, \"textposition\": \"auto\", \"x\": [\"Himachal Pradesh\"], \"xaxis\": \"x\", \"y\": [48189], \"yaxis\": \"y\", \"type\": \"bar\"}, {\"alignmentgroup\": \"True\", \"customdata\": [[48385]], \"hoverlabel\": {\"namelength\": 0}, \"hovertemplate\": \"State/Union territory=%{x}<br>Year=2009\\u201310<br>GDP (in Crores)=%{customdata[0]}\", \"legendgroup\": \"State/Union territory=Jammu and Kashmir\", \"marker\": {\"color\": \"#636efa\"}, \"name\": \"State/Union territory=Jammu and Kashmir\", \"offsetgroup\": \"State/Union territory=Jammu and Kashmir\", \"orientation\": \"v\", \"showlegend\": true, \"textposition\": \"auto\", \"x\": [\"Jammu and Kashmir\"], \"xaxis\": \"x\", \"y\": [48385], \"yaxis\": \"y\", \"type\": \"bar\"}, {\"alignmentgroup\": \"True\", \"customdata\": [[100621]], \"hoverlabel\": {\"namelength\": 0}, \"hovertemplate\": \"State/Union territory=%{x}<br>Year=2009\\u201310<br>GDP (in Crores)=%{customdata[0]}\", \"legendgroup\": \"State/Union territory=Jharkhand\", \"marker\": {\"color\": \"#EF553B\"}, \"name\": \"State/Union territory=Jharkhand\", \"offsetgroup\": \"State/Union territory=Jharkhand\", \"orientation\": \"v\", \"showlegend\": true, \"textposition\": \"auto\", \"x\": [\"Jharkhand\"], \"xaxis\": \"x\", \"y\": [100621], \"yaxis\": \"y\", \"type\": \"bar\"}, {\"alignmentgroup\": \"True\", \"customdata\": [[337559]], \"hoverlabel\": {\"namelength\": 0}, \"hovertemplate\": \"State/Union territory=%{x}<br>Year=2009\\u201310<br>GDP (in Crores)=%{customdata[0]}\", \"legendgroup\": \"State/Union territory=Karnataka\", \"marker\": {\"color\": \"#00cc96\"}, \"name\": \"State/Union territory=Karnataka\", \"offsetgroup\": \"State/Union territory=Karnataka\", \"orientation\": \"v\", \"showlegend\": true, \"textposition\": \"auto\", \"x\": [\"Karnataka\"], \"xaxis\": \"x\", \"y\": [337559], \"yaxis\": \"y\", \"type\": \"bar\"}, {\"alignmentgroup\": \"True\", \"customdata\": [[231999]], \"hoverlabel\": {\"namelength\": 0}, \"hovertemplate\": \"State/Union territory=%{x}<br>Year=2009\\u201310<br>GDP (in Crores)=%{customdata[0]}\", \"legendgroup\": \"State/Union territory=Kerala\", \"marker\": {\"color\": \"#ab63fa\"}, \"name\": \"State/Union territory=Kerala\", \"offsetgroup\": \"State/Union territory=Kerala\", \"orientation\": \"v\", \"showlegend\": true, \"textposition\": \"auto\", \"x\": [\"Kerala\"], \"xaxis\": \"x\", \"y\": [231999], \"yaxis\": \"y\", \"type\": \"bar\"}, {\"alignmentgroup\": \"True\", \"customdata\": [[227984]], \"hoverlabel\": {\"namelength\": 0}, \"hovertemplate\": \"State/Union territory=%{x}<br>Year=2009\\u201310<br>GDP (in Crores)=%{customdata[0]}\", \"legendgroup\": \"State/Union territory=Madhya Pradesh\", \"marker\": {\"color\": \"#FFA15A\"}, \"name\": \"State/Union territory=Madhya Pradesh\", \"offsetgroup\": \"State/Union territory=Madhya Pradesh\", \"orientation\": \"v\", \"showlegend\": true, \"textposition\": \"auto\", \"x\": [\"Madhya Pradesh\"], \"xaxis\": \"x\", \"y\": [227984], \"yaxis\": \"y\", \"type\": \"bar\"}, {\"alignmentgroup\": \"True\", \"customdata\": [[855751]], \"hoverlabel\": {\"namelength\": 0}, \"hovertemplate\": \"State/Union territory=%{x}<br>Year=2009\\u201310<br>GDP (in Crores)=%{customdata[0]}\", \"legendgroup\": \"State/Union territory=Maharashtra\", \"marker\": {\"color\": \"#19d3f3\"}, \"name\": \"State/Union territory=Maharashtra\", \"offsetgroup\": \"State/Union territory=Maharashtra\", \"orientation\": \"v\", \"showlegend\": true, \"textposition\": \"auto\", \"x\": [\"Maharashtra\"], \"xaxis\": \"x\", \"y\": [855751], \"yaxis\": \"y\", \"type\": \"bar\"}, {\"alignmentgroup\": \"True\", \"customdata\": [[8254]], \"hoverlabel\": {\"namelength\": 0}, \"hovertemplate\": \"State/Union territory=%{x}<br>Year=2009\\u201310<br>GDP (in Crores)=%{customdata[0]}\", \"legendgroup\": \"State/Union territory=Manipur\", \"marker\": {\"color\": \"#FF6692\"}, \"name\": \"State/Union territory=Manipur\", \"offsetgroup\": \"State/Union territory=Manipur\", \"orientation\": \"v\", \"showlegend\": true, \"textposition\": \"auto\", \"x\": [\"Manipur\"], \"xaxis\": \"x\", \"y\": [8254], \"yaxis\": \"y\", \"type\": \"bar\"}, {\"alignmentgroup\": \"True\", \"customdata\": [[12709]], \"hoverlabel\": {\"namelength\": 0}, \"hovertemplate\": \"State/Union territory=%{x}<br>Year=2009\\u201310<br>GDP (in Crores)=%{customdata[0]}\", \"legendgroup\": \"State/Union territory=Meghalaya\", \"marker\": {\"color\": \"#B6E880\"}, \"name\": \"State/Union territory=Meghalaya\", \"offsetgroup\": \"State/Union territory=Meghalaya\", \"orientation\": \"v\", \"showlegend\": true, \"textposition\": \"auto\", \"x\": [\"Meghalaya\"], \"xaxis\": \"x\", \"y\": [12709], \"yaxis\": \"y\", \"type\": \"bar\"}, {\"alignmentgroup\": \"True\", \"customdata\": [[5260]], \"hoverlabel\": {\"namelength\": 0}, \"hovertemplate\": \"State/Union territory=%{x}<br>Year=2009\\u201310<br>GDP (in Crores)=%{customdata[0]}\", \"legendgroup\": \"State/Union territory=Mizoram\", \"marker\": {\"color\": \"#FF97FF\"}, \"name\": \"State/Union territory=Mizoram\", \"offsetgroup\": \"State/Union territory=Mizoram\", \"orientation\": \"v\", \"showlegend\": true, \"textposition\": \"auto\", \"x\": [\"Mizoram\"], \"xaxis\": \"x\", \"y\": [5260], \"yaxis\": \"y\", \"type\": \"bar\"}, {\"alignmentgroup\": \"True\", \"customdata\": [[10527]], \"hoverlabel\": {\"namelength\": 0}, \"hovertemplate\": \"State/Union territory=%{x}<br>Year=2009\\u201310<br>GDP (in Crores)=%{customdata[0]}\", \"legendgroup\": \"State/Union territory=Nagaland\", \"marker\": {\"color\": \"#FECB52\"}, \"name\": \"State/Union territory=Nagaland\", \"offsetgroup\": \"State/Union territory=Nagaland\", \"orientation\": \"v\", \"showlegend\": true, \"textposition\": \"auto\", \"x\": [\"Nagaland\"], \"xaxis\": \"x\", \"y\": [10527], \"yaxis\": \"y\", \"type\": \"bar\"}, {\"alignmentgroup\": \"True\", \"customdata\": [[162946]], \"hoverlabel\": {\"namelength\": 0}, \"hovertemplate\": \"State/Union territory=%{x}<br>Year=2009\\u201310<br>GDP (in Crores)=%{customdata[0]}\", \"legendgroup\": \"State/Union territory=Odisha\", \"marker\": {\"color\": \"#636efa\"}, \"name\": \"State/Union territory=Odisha\", \"offsetgroup\": \"State/Union territory=Odisha\", \"orientation\": \"v\", \"showlegend\": true, \"textposition\": \"auto\", \"x\": [\"Odisha\"], \"xaxis\": \"x\", \"y\": [162946], \"yaxis\": \"y\", \"type\": \"bar\"}, {\"alignmentgroup\": \"True\", \"customdata\": [[197500]], \"hoverlabel\": {\"namelength\": 0}, \"hovertemplate\": \"State/Union territory=%{x}<br>Year=2009\\u201310<br>GDP (in Crores)=%{customdata[0]}\", \"legendgroup\": \"State/Union territory=Punjab\", \"marker\": {\"color\": \"#EF553B\"}, \"name\": \"State/Union territory=Punjab\", \"offsetgroup\": \"State/Union territory=Punjab\", \"orientation\": \"v\", \"showlegend\": true, \"textposition\": \"auto\", \"x\": [\"Punjab\"], \"xaxis\": \"x\", \"y\": [197500], \"yaxis\": \"y\", \"type\": \"bar\"}, {\"alignmentgroup\": \"True\", \"customdata\": [[265825]], \"hoverlabel\": {\"namelength\": 0}, \"hovertemplate\": \"State/Union territory=%{x}<br>Year=2009\\u201310<br>GDP (in Crores)=%{customdata[0]}\", \"legendgroup\": \"State/Union territory=Rajasthan\", \"marker\": {\"color\": \"#00cc96\"}, \"name\": \"State/Union territory=Rajasthan\", \"offsetgroup\": \"State/Union territory=Rajasthan\", \"orientation\": \"v\", \"showlegend\": true, \"textposition\": \"auto\", \"x\": [\"Rajasthan\"], \"xaxis\": \"x\", \"y\": [265825], \"yaxis\": \"y\", \"type\": \"bar\"}, {\"alignmentgroup\": \"True\", \"customdata\": [[6133]], \"hoverlabel\": {\"namelength\": 0}, \"hovertemplate\": \"State/Union territory=%{x}<br>Year=2009\\u201310<br>GDP (in Crores)=%{customdata[0]}\", \"legendgroup\": \"State/Union territory=Sikkim\", \"marker\": {\"color\": \"#ab63fa\"}, \"name\": \"State/Union territory=Sikkim\", \"offsetgroup\": \"State/Union territory=Sikkim\", \"orientation\": \"v\", \"showlegend\": true, \"textposition\": \"auto\", \"x\": [\"Sikkim\"], \"xaxis\": \"x\", \"y\": [6133], \"yaxis\": \"y\", \"type\": \"bar\"}, {\"alignmentgroup\": \"True\", \"customdata\": [[479733]], \"hoverlabel\": {\"namelength\": 0}, \"hovertemplate\": \"State/Union territory=%{x}<br>Year=2009\\u201310<br>GDP (in Crores)=%{customdata[0]}\", \"legendgroup\": \"State/Union territory=Tamil Nadu\", \"marker\": {\"color\": \"#FFA15A\"}, \"name\": \"State/Union territory=Tamil Nadu\", \"offsetgroup\": \"State/Union territory=Tamil Nadu\", \"orientation\": \"v\", \"showlegend\": true, \"textposition\": \"auto\", \"x\": [\"Tamil Nadu\"], \"xaxis\": \"x\", \"y\": [479733], \"yaxis\": \"y\", \"type\": \"bar\"}, {\"alignmentgroup\": \"True\", \"customdata\": [[15403]], \"hoverlabel\": {\"namelength\": 0}, \"hovertemplate\": \"State/Union territory=%{x}<br>Year=2009\\u201310<br>GDP (in Crores)=%{customdata[0]}\", \"legendgroup\": \"State/Union territory=Tripura\", \"marker\": {\"color\": \"#19d3f3\"}, \"name\": \"State/Union territory=Tripura\", \"offsetgroup\": \"State/Union territory=Tripura\", \"orientation\": \"v\", \"showlegend\": true, \"textposition\": \"auto\", \"x\": [\"Tripura\"], \"xaxis\": \"x\", \"y\": [15403], \"yaxis\": \"y\", \"type\": \"bar\"}, {\"alignmentgroup\": \"True\", \"customdata\": [[523394]], \"hoverlabel\": {\"namelength\": 0}, \"hovertemplate\": \"State/Union territory=%{x}<br>Year=2009\\u201310<br>GDP (in Crores)=%{customdata[0]}\", \"legendgroup\": \"State/Union territory=Uttar Pradesh\", \"marker\": {\"color\": \"#FF6692\"}, \"name\": \"State/Union territory=Uttar Pradesh\", \"offsetgroup\": \"State/Union territory=Uttar Pradesh\", \"orientation\": \"v\", \"showlegend\": true, \"textposition\": \"auto\", \"x\": [\"Uttar Pradesh\"], \"xaxis\": \"x\", \"y\": [523394], \"yaxis\": \"y\", \"type\": \"bar\"}, {\"alignmentgroup\": \"True\", \"customdata\": [[70730]], \"hoverlabel\": {\"namelength\": 0}, \"hovertemplate\": \"State/Union territory=%{x}<br>Year=2009\\u201310<br>GDP (in Crores)=%{customdata[0]}\", \"legendgroup\": \"State/Union territory=Uttarakhand\", \"marker\": {\"color\": \"#B6E880\"}, \"name\": \"State/Union territory=Uttarakhand\", \"offsetgroup\": \"State/Union territory=Uttarakhand\", \"orientation\": \"v\", \"showlegend\": true, \"textposition\": \"auto\", \"x\": [\"Uttarakhand\"], \"xaxis\": \"x\", \"y\": [70730], \"yaxis\": \"y\", \"type\": \"bar\"}, {\"alignmentgroup\": \"True\", \"customdata\": [[398880]], \"hoverlabel\": {\"namelength\": 0}, \"hovertemplate\": \"State/Union territory=%{x}<br>Year=2009\\u201310<br>GDP (in Crores)=%{customdata[0]}\", \"legendgroup\": \"State/Union territory=West Bengal\", \"marker\": {\"color\": \"#FF97FF\"}, \"name\": \"State/Union territory=West Bengal\", \"offsetgroup\": \"State/Union territory=West Bengal\", \"orientation\": \"v\", \"showlegend\": true, \"textposition\": \"auto\", \"x\": [\"West Bengal\"], \"xaxis\": \"x\", \"y\": [398880], \"yaxis\": \"y\", \"type\": \"bar\"}, {\"alignmentgroup\": \"True\", \"customdata\": [[4120]], \"hoverlabel\": {\"namelength\": 0}, \"hovertemplate\": \"State/Union territory=%{x}<br>Year=2009\\u201310<br>GDP (in Crores)=%{customdata[0]}\", \"legendgroup\": \"State/Union territory=Andaman and Nicobar Islands\", \"marker\": {\"color\": \"#FECB52\"}, \"name\": \"State/Union territory=Andaman and Nicobar Islands\", \"offsetgroup\": \"State/Union territory=Andaman and Nicobar Islands\", \"orientation\": \"v\", \"showlegend\": true, \"textposition\": \"auto\", \"x\": [\"Andaman and Nicobar Islands\"], \"xaxis\": \"x\", \"y\": [4120], \"yaxis\": \"y\", \"type\": \"bar\"}, {\"alignmentgroup\": \"True\", \"customdata\": [[17717]], \"hoverlabel\": {\"namelength\": 0}, \"hovertemplate\": \"State/Union territory=%{x}<br>Year=2009\\u201310<br>GDP (in Crores)=%{customdata[0]}\", \"legendgroup\": \"State/Union territory=Chandigarh\", \"marker\": {\"color\": \"#636efa\"}, \"name\": \"State/Union territory=Chandigarh\", \"offsetgroup\": \"State/Union territory=Chandigarh\", \"orientation\": \"v\", \"showlegend\": true, \"textposition\": \"auto\", \"x\": [\"Chandigarh\"], \"xaxis\": \"x\", \"y\": [17717], \"yaxis\": \"y\", \"type\": \"bar\"}, {\"alignmentgroup\": \"True\", \"customdata\": [[219753]], \"hoverlabel\": {\"namelength\": 0}, \"hovertemplate\": \"State/Union territory=%{x}<br>Year=2009\\u201310<br>GDP (in Crores)=%{customdata[0]}\", \"legendgroup\": \"State/Union territory=Delhi\", \"marker\": {\"color\": \"#EF553B\"}, \"name\": \"State/Union territory=Delhi\", \"offsetgroup\": \"State/Union territory=Delhi\", \"orientation\": \"v\", \"showlegend\": true, \"textposition\": \"auto\", \"x\": [\"Delhi\"], \"xaxis\": \"x\", \"y\": [219753], \"yaxis\": \"y\", \"type\": \"bar\"}, {\"alignmentgroup\": \"True\", \"customdata\": [[12304]], \"hoverlabel\": {\"namelength\": 0}, \"hovertemplate\": \"State/Union territory=%{x}<br>Year=2009\\u201310<br>GDP (in Crores)=%{customdata[0]}\", \"legendgroup\": \"State/Union territory=Pudduchery\", \"marker\": {\"color\": \"#00cc96\"}, \"name\": \"State/Union territory=Pudduchery\", \"offsetgroup\": \"State/Union territory=Pudduchery\", \"orientation\": \"v\", \"showlegend\": true, \"textposition\": \"auto\", \"x\": [\"Pudduchery\"], \"xaxis\": \"x\", \"y\": [12304], \"yaxis\": \"y\", \"type\": \"bar\"}], \"name\": \"2009\\u201310\"}, {\"data\": [{\"alignmentgroup\": \"True\", \"customdata\": [[7248860]], \"hoverlabel\": {\"namelength\": 0}, \"hovertemplate\": \"State/Union territory=%{x}<br>Year=2010\\u201311<br>GDP (in Crores)=%{customdata[0]}\", \"legendgroup\": \"State/Union territory=\\u00a0India\", \"marker\": {\"color\": \"#636efa\"}, \"name\": \"State/Union territory=\\u00a0India\", \"offsetgroup\": \"State/Union territory=\\u00a0India\", \"orientation\": \"v\", \"showlegend\": true, \"textposition\": \"auto\", \"x\": [\"\\u00a0India\"], \"xaxis\": \"x\", \"y\": [7248860], \"yaxis\": \"y\", \"type\": \"bar\"}, {\"alignmentgroup\": \"True\", \"customdata\": [[583762]], \"hoverlabel\": {\"namelength\": 0}, \"hovertemplate\": \"State/Union territory=%{x}<br>Year=2010\\u201311<br>GDP (in Crores)=%{customdata[0]}\", \"legendgroup\": \"State/Union territory=Andhra Pradesh\", \"marker\": {\"color\": \"#EF553B\"}, \"name\": \"State/Union territory=Andhra Pradesh\", \"offsetgroup\": \"State/Union territory=Andhra Pradesh\", \"orientation\": \"v\", \"showlegend\": true, \"textposition\": \"auto\", \"x\": [\"Andhra Pradesh\"], \"xaxis\": \"x\", \"y\": [583762], \"yaxis\": \"y\", \"type\": \"bar\"}, {\"alignmentgroup\": \"True\", \"customdata\": [[9013]], \"hoverlabel\": {\"namelength\": 0}, \"hovertemplate\": \"State/Union territory=%{x}<br>Year=2010\\u201311<br>GDP (in Crores)=%{customdata[0]}\", \"legendgroup\": \"State/Union territory=Arunachal Pradesh\", \"marker\": {\"color\": \"#00cc96\"}, \"name\": \"State/Union territory=Arunachal Pradesh\", \"offsetgroup\": \"State/Union territory=Arunachal Pradesh\", \"orientation\": \"v\", \"showlegend\": true, \"textposition\": \"auto\", \"x\": [\"Arunachal Pradesh\"], \"xaxis\": \"x\", \"y\": [9013], \"yaxis\": \"y\", \"type\": \"bar\"}, {\"alignmentgroup\": \"True\", \"customdata\": [[112688]], \"hoverlabel\": {\"namelength\": 0}, \"hovertemplate\": \"State/Union territory=%{x}<br>Year=2010\\u201311<br>GDP (in Crores)=%{customdata[0]}\", \"legendgroup\": \"State/Union territory=Assam\", \"marker\": {\"color\": \"#ab63fa\"}, \"name\": \"State/Union territory=Assam\", \"offsetgroup\": \"State/Union territory=Assam\", \"orientation\": \"v\", \"showlegend\": true, \"textposition\": \"auto\", \"x\": [\"Assam\"], \"xaxis\": \"x\", \"y\": [112688], \"yaxis\": \"y\", \"type\": \"bar\"}, {\"alignmentgroup\": \"True\", \"customdata\": [[204289]], \"hoverlabel\": {\"namelength\": 0}, \"hovertemplate\": \"State/Union territory=%{x}<br>Year=2010\\u201311<br>GDP (in Crores)=%{customdata[0]}\", \"legendgroup\": \"State/Union territory=Bihar\", \"marker\": {\"color\": \"#FFA15A\"}, \"name\": \"State/Union territory=Bihar\", \"offsetgroup\": \"State/Union territory=Bihar\", \"orientation\": \"v\", \"showlegend\": true, \"textposition\": \"auto\", \"x\": [\"Bihar\"], \"xaxis\": \"x\", \"y\": [204289], \"yaxis\": \"y\", \"type\": \"bar\"}, {\"alignmentgroup\": \"True\", \"customdata\": [[119420]], \"hoverlabel\": {\"namelength\": 0}, \"hovertemplate\": \"State/Union territory=%{x}<br>Year=2010\\u201311<br>GDP (in Crores)=%{customdata[0]}\", \"legendgroup\": \"State/Union territory=Chhattisgarh\", \"marker\": {\"color\": \"#19d3f3\"}, \"name\": \"State/Union territory=Chhattisgarh\", \"offsetgroup\": \"State/Union territory=Chhattisgarh\", \"orientation\": \"v\", \"showlegend\": true, \"textposition\": \"auto\", \"x\": [\"Chhattisgarh\"], \"xaxis\": \"x\", \"y\": [119420], \"yaxis\": \"y\", \"type\": \"bar\"}, {\"alignmentgroup\": \"True\", \"customdata\": [[33605]], \"hoverlabel\": {\"namelength\": 0}, \"hovertemplate\": \"State/Union territory=%{x}<br>Year=2010\\u201311<br>GDP (in Crores)=%{customdata[0]}\", \"legendgroup\": \"State/Union territory=Goa\", \"marker\": {\"color\": \"#FF6692\"}, \"name\": \"State/Union territory=Goa\", \"offsetgroup\": \"State/Union territory=Goa\", \"orientation\": \"v\", \"showlegend\": true, \"textposition\": \"auto\", \"x\": [\"Goa\"], \"xaxis\": \"x\", \"y\": [33605], \"yaxis\": \"y\", \"type\": \"bar\"}, {\"alignmentgroup\": \"True\", \"customdata\": [[521519]], \"hoverlabel\": {\"namelength\": 0}, \"hovertemplate\": \"State/Union territory=%{x}<br>Year=2010\\u201311<br>GDP (in Crores)=%{customdata[0]}\", \"legendgroup\": \"State/Union territory=Gujarat\", \"marker\": {\"color\": \"#B6E880\"}, \"name\": \"State/Union territory=Gujarat\", \"offsetgroup\": \"State/Union territory=Gujarat\", \"orientation\": \"v\", \"showlegend\": true, \"textposition\": \"auto\", \"x\": [\"Gujarat\"], \"xaxis\": \"x\", \"y\": [521519], \"yaxis\": \"y\", \"type\": \"bar\"}, {\"alignmentgroup\": \"True\", \"customdata\": [[260621]], \"hoverlabel\": {\"namelength\": 0}, \"hovertemplate\": \"State/Union territory=%{x}<br>Year=2010\\u201311<br>GDP (in Crores)=%{customdata[0]}\", \"legendgroup\": \"State/Union territory=Haryana\", \"marker\": {\"color\": \"#FF97FF\"}, \"name\": \"State/Union territory=Haryana\", \"offsetgroup\": \"State/Union territory=Haryana\", \"orientation\": \"v\", \"showlegend\": true, \"textposition\": \"auto\", \"x\": [\"Haryana\"], \"xaxis\": \"x\", \"y\": [260621], \"yaxis\": \"y\", \"type\": \"bar\"}, {\"alignmentgroup\": \"True\", \"customdata\": [[57452]], \"hoverlabel\": {\"namelength\": 0}, \"hovertemplate\": \"State/Union territory=%{x}<br>Year=2010\\u201311<br>GDP (in Crores)=%{customdata[0]}\", \"legendgroup\": \"State/Union territory=Himachal Pradesh\", \"marker\": {\"color\": \"#FECB52\"}, \"name\": \"State/Union territory=Himachal Pradesh\", \"offsetgroup\": \"State/Union territory=Himachal Pradesh\", \"orientation\": \"v\", \"showlegend\": true, \"textposition\": \"auto\", \"x\": [\"Himachal Pradesh\"], \"xaxis\": \"x\", \"y\": [57452], \"yaxis\": \"y\", \"type\": \"bar\"}, {\"alignmentgroup\": \"True\", \"customdata\": [[58073]], \"hoverlabel\": {\"namelength\": 0}, \"hovertemplate\": \"State/Union territory=%{x}<br>Year=2010\\u201311<br>GDP (in Crores)=%{customdata[0]}\", \"legendgroup\": \"State/Union territory=Jammu and Kashmir\", \"marker\": {\"color\": \"#636efa\"}, \"name\": \"State/Union territory=Jammu and Kashmir\", \"offsetgroup\": \"State/Union territory=Jammu and Kashmir\", \"orientation\": \"v\", \"showlegend\": true, \"textposition\": \"auto\", \"x\": [\"Jammu and Kashmir\"], \"xaxis\": \"x\", \"y\": [58073], \"yaxis\": \"y\", \"type\": \"bar\"}, {\"alignmentgroup\": \"True\", \"customdata\": [[127281]], \"hoverlabel\": {\"namelength\": 0}, \"hovertemplate\": \"State/Union territory=%{x}<br>Year=2010\\u201311<br>GDP (in Crores)=%{customdata[0]}\", \"legendgroup\": \"State/Union territory=Jharkhand\", \"marker\": {\"color\": \"#EF553B\"}, \"name\": \"State/Union territory=Jharkhand\", \"offsetgroup\": \"State/Union territory=Jharkhand\", \"orientation\": \"v\", \"showlegend\": true, \"textposition\": \"auto\", \"x\": [\"Jharkhand\"], \"xaxis\": \"x\", \"y\": [127281], \"yaxis\": \"y\", \"type\": \"bar\"}, {\"alignmentgroup\": \"True\", \"customdata\": [[410703]], \"hoverlabel\": {\"namelength\": 0}, \"hovertemplate\": \"State/Union territory=%{x}<br>Year=2010\\u201311<br>GDP (in Crores)=%{customdata[0]}\", \"legendgroup\": \"State/Union territory=Karnataka\", \"marker\": {\"color\": \"#00cc96\"}, \"name\": \"State/Union territory=Karnataka\", \"offsetgroup\": \"State/Union territory=Karnataka\", \"orientation\": \"v\", \"showlegend\": true, \"textposition\": \"auto\", \"x\": [\"Karnataka\"], \"xaxis\": \"x\", \"y\": [410703], \"yaxis\": \"y\", \"type\": \"bar\"}, {\"alignmentgroup\": \"True\", \"customdata\": [[263773]], \"hoverlabel\": {\"namelength\": 0}, \"hovertemplate\": \"State/Union territory=%{x}<br>Year=2010\\u201311<br>GDP (in Crores)=%{customdata[0]}\", \"legendgroup\": \"State/Union territory=Kerala\", \"marker\": {\"color\": \"#ab63fa\"}, \"name\": \"State/Union territory=Kerala\", \"offsetgroup\": \"State/Union territory=Kerala\", \"orientation\": \"v\", \"showlegend\": true, \"textposition\": \"auto\", \"x\": [\"Kerala\"], \"xaxis\": \"x\", \"y\": [263773], \"yaxis\": \"y\", \"type\": \"bar\"}, {\"alignmentgroup\": \"True\", \"customdata\": [[263396]], \"hoverlabel\": {\"namelength\": 0}, \"hovertemplate\": \"State/Union territory=%{x}<br>Year=2010\\u201311<br>GDP (in Crores)=%{customdata[0]}\", \"legendgroup\": \"State/Union territory=Madhya Pradesh\", \"marker\": {\"color\": \"#FFA15A\"}, \"name\": \"State/Union territory=Madhya Pradesh\", \"offsetgroup\": \"State/Union territory=Madhya Pradesh\", \"orientation\": \"v\", \"showlegend\": true, \"textposition\": \"auto\", \"x\": [\"Madhya Pradesh\"], \"xaxis\": \"x\", \"y\": [263396], \"yaxis\": \"y\", \"type\": \"bar\"}, {\"alignmentgroup\": \"True\", \"customdata\": [[1035086]], \"hoverlabel\": {\"namelength\": 0}, \"hovertemplate\": \"State/Union territory=%{x}<br>Year=2010\\u201311<br>GDP (in Crores)=%{customdata[0]}\", \"legendgroup\": \"State/Union territory=Maharashtra\", \"marker\": {\"color\": \"#19d3f3\"}, \"name\": \"State/Union territory=Maharashtra\", \"offsetgroup\": \"State/Union territory=Maharashtra\", \"orientation\": \"v\", \"showlegend\": true, \"textposition\": \"auto\", \"x\": [\"Maharashtra\"], \"xaxis\": \"x\", \"y\": [1035086], \"yaxis\": \"y\", \"type\": \"bar\"}, {\"alignmentgroup\": \"True\", \"customdata\": [[9137]], \"hoverlabel\": {\"namelength\": 0}, \"hovertemplate\": \"State/Union territory=%{x}<br>Year=2010\\u201311<br>GDP (in Crores)=%{customdata[0]}\", \"legendgroup\": \"State/Union territory=Manipur\", \"marker\": {\"color\": \"#FF6692\"}, \"name\": \"State/Union territory=Manipur\", \"offsetgroup\": \"State/Union territory=Manipur\", \"orientation\": \"v\", \"showlegend\": true, \"textposition\": \"auto\", \"x\": [\"Manipur\"], \"xaxis\": \"x\", \"y\": [9137], \"yaxis\": \"y\", \"type\": \"bar\"}, {\"alignmentgroup\": \"True\", \"customdata\": [[14583]], \"hoverlabel\": {\"namelength\": 0}, \"hovertemplate\": \"State/Union territory=%{x}<br>Year=2010\\u201311<br>GDP (in Crores)=%{customdata[0]}\", \"legendgroup\": \"State/Union territory=Meghalaya\", \"marker\": {\"color\": \"#B6E880\"}, \"name\": \"State/Union territory=Meghalaya\", \"offsetgroup\": \"State/Union territory=Meghalaya\", \"orientation\": \"v\", \"showlegend\": true, \"textposition\": \"auto\", \"x\": [\"Meghalaya\"], \"xaxis\": \"x\", \"y\": [14583], \"yaxis\": \"y\", \"type\": \"bar\"}, {\"alignmentgroup\": \"True\", \"customdata\": [[6388]], \"hoverlabel\": {\"namelength\": 0}, \"hovertemplate\": \"State/Union territory=%{x}<br>Year=2010\\u201311<br>GDP (in Crores)=%{customdata[0]}\", \"legendgroup\": \"State/Union territory=Mizoram\", \"marker\": {\"color\": \"#FF97FF\"}, \"name\": \"State/Union territory=Mizoram\", \"offsetgroup\": \"State/Union territory=Mizoram\", \"orientation\": \"v\", \"showlegend\": true, \"textposition\": \"auto\", \"x\": [\"Mizoram\"], \"xaxis\": \"x\", \"y\": [6388], \"yaxis\": \"y\", \"type\": \"bar\"}, {\"alignmentgroup\": \"True\", \"customdata\": [[11759]], \"hoverlabel\": {\"namelength\": 0}, \"hovertemplate\": \"State/Union territory=%{x}<br>Year=2010\\u201311<br>GDP (in Crores)=%{customdata[0]}\", \"legendgroup\": \"State/Union territory=Nagaland\", \"marker\": {\"color\": \"#FECB52\"}, \"name\": \"State/Union territory=Nagaland\", \"offsetgroup\": \"State/Union territory=Nagaland\", \"orientation\": \"v\", \"showlegend\": true, \"textposition\": \"auto\", \"x\": [\"Nagaland\"], \"xaxis\": \"x\", \"y\": [11759], \"yaxis\": \"y\", \"type\": \"bar\"}, {\"alignmentgroup\": \"True\", \"customdata\": [[197530]], \"hoverlabel\": {\"namelength\": 0}, \"hovertemplate\": \"State/Union territory=%{x}<br>Year=2010\\u201311<br>GDP (in Crores)=%{customdata[0]}\", \"legendgroup\": \"State/Union territory=Odisha\", \"marker\": {\"color\": \"#636efa\"}, \"name\": \"State/Union territory=Odisha\", \"offsetgroup\": \"State/Union territory=Odisha\", \"orientation\": \"v\", \"showlegend\": true, \"textposition\": \"auto\", \"x\": [\"Odisha\"], \"xaxis\": \"x\", \"y\": [197530], \"yaxis\": \"y\", \"type\": \"bar\"}, {\"alignmentgroup\": \"True\", \"customdata\": [[226204]], \"hoverlabel\": {\"namelength\": 0}, \"hovertemplate\": \"State/Union territory=%{x}<br>Year=2010\\u201311<br>GDP (in Crores)=%{customdata[0]}\", \"legendgroup\": \"State/Union territory=Punjab\", \"marker\": {\"color\": \"#EF553B\"}, \"name\": \"State/Union territory=Punjab\", \"offsetgroup\": \"State/Union territory=Punjab\", \"orientation\": \"v\", \"showlegend\": true, \"textposition\": \"auto\", \"x\": [\"Punjab\"], \"xaxis\": \"x\", \"y\": [226204], \"yaxis\": \"y\", \"type\": \"bar\"}, {\"alignmentgroup\": \"True\", \"customdata\": [[338348]], \"hoverlabel\": {\"namelength\": 0}, \"hovertemplate\": \"State/Union territory=%{x}<br>Year=2010\\u201311<br>GDP (in Crores)=%{customdata[0]}\", \"legendgroup\": \"State/Union territory=Rajasthan\", \"marker\": {\"color\": \"#00cc96\"}, \"name\": \"State/Union territory=Rajasthan\", \"offsetgroup\": \"State/Union territory=Rajasthan\", \"orientation\": \"v\", \"showlegend\": true, \"textposition\": \"auto\", \"x\": [\"Rajasthan\"], \"xaxis\": \"x\", \"y\": [338348], \"yaxis\": \"y\", \"type\": \"bar\"}, {\"alignmentgroup\": \"True\", \"customdata\": [[7412]], \"hoverlabel\": {\"namelength\": 0}, \"hovertemplate\": \"State/Union territory=%{x}<br>Year=2010\\u201311<br>GDP (in Crores)=%{customdata[0]}\", \"legendgroup\": \"State/Union territory=Sikkim\", \"marker\": {\"color\": \"#ab63fa\"}, \"name\": \"State/Union territory=Sikkim\", \"offsetgroup\": \"State/Union territory=Sikkim\", \"orientation\": \"v\", \"showlegend\": true, \"textposition\": \"auto\", \"x\": [\"Sikkim\"], \"xaxis\": \"x\", \"y\": [7412], \"yaxis\": \"y\", \"type\": \"bar\"}, {\"alignmentgroup\": \"True\", \"customdata\": [[584896]], \"hoverlabel\": {\"namelength\": 0}, \"hovertemplate\": \"State/Union territory=%{x}<br>Year=2010\\u201311<br>GDP (in Crores)=%{customdata[0]}\", \"legendgroup\": \"State/Union territory=Tamil Nadu\", \"marker\": {\"color\": \"#FFA15A\"}, \"name\": \"State/Union territory=Tamil Nadu\", \"offsetgroup\": \"State/Union territory=Tamil Nadu\", \"orientation\": \"v\", \"showlegend\": true, \"textposition\": \"auto\", \"x\": [\"Tamil Nadu\"], \"xaxis\": \"x\", \"y\": [584896], \"yaxis\": \"y\", \"type\": \"bar\"}, {\"alignmentgroup\": \"True\", \"customdata\": [[17868]], \"hoverlabel\": {\"namelength\": 0}, \"hovertemplate\": \"State/Union territory=%{x}<br>Year=2010\\u201311<br>GDP (in Crores)=%{customdata[0]}\", \"legendgroup\": \"State/Union territory=Tripura\", \"marker\": {\"color\": \"#19d3f3\"}, \"name\": \"State/Union territory=Tripura\", \"offsetgroup\": \"State/Union territory=Tripura\", \"orientation\": \"v\", \"showlegend\": true, \"textposition\": \"auto\", \"x\": [\"Tripura\"], \"xaxis\": \"x\", \"y\": [17868], \"yaxis\": \"y\", \"type\": \"bar\"}, {\"alignmentgroup\": \"True\", \"customdata\": [[600164]], \"hoverlabel\": {\"namelength\": 0}, \"hovertemplate\": \"State/Union territory=%{x}<br>Year=2010\\u201311<br>GDP (in Crores)=%{customdata[0]}\", \"legendgroup\": \"State/Union territory=Uttar Pradesh\", \"marker\": {\"color\": \"#FF6692\"}, \"name\": \"State/Union territory=Uttar Pradesh\", \"offsetgroup\": \"State/Union territory=Uttar Pradesh\", \"orientation\": \"v\", \"showlegend\": true, \"textposition\": \"auto\", \"x\": [\"Uttar Pradesh\"], \"xaxis\": \"x\", \"y\": [600164], \"yaxis\": \"y\", \"type\": \"bar\"}, {\"alignmentgroup\": \"True\", \"customdata\": [[83969]], \"hoverlabel\": {\"namelength\": 0}, \"hovertemplate\": \"State/Union territory=%{x}<br>Year=2010\\u201311<br>GDP (in Crores)=%{customdata[0]}\", \"legendgroup\": \"State/Union territory=Uttarakhand\", \"marker\": {\"color\": \"#B6E880\"}, \"name\": \"State/Union territory=Uttarakhand\", \"offsetgroup\": \"State/Union territory=Uttarakhand\", \"orientation\": \"v\", \"showlegend\": true, \"textposition\": \"auto\", \"x\": [\"Uttarakhand\"], \"xaxis\": \"x\", \"y\": [83969], \"yaxis\": \"y\", \"type\": \"bar\"}, {\"alignmentgroup\": \"True\", \"customdata\": [[460959]], \"hoverlabel\": {\"namelength\": 0}, \"hovertemplate\": \"State/Union territory=%{x}<br>Year=2010\\u201311<br>GDP (in Crores)=%{customdata[0]}\", \"legendgroup\": \"State/Union territory=West Bengal\", \"marker\": {\"color\": \"#FF97FF\"}, \"name\": \"State/Union territory=West Bengal\", \"offsetgroup\": \"State/Union territory=West Bengal\", \"orientation\": \"v\", \"showlegend\": true, \"textposition\": \"auto\", \"x\": [\"West Bengal\"], \"xaxis\": \"x\", \"y\": [460959], \"yaxis\": \"y\", \"type\": \"bar\"}, {\"alignmentgroup\": \"True\", \"customdata\": [[4345]], \"hoverlabel\": {\"namelength\": 0}, \"hovertemplate\": \"State/Union territory=%{x}<br>Year=2010\\u201311<br>GDP (in Crores)=%{customdata[0]}\", \"legendgroup\": \"State/Union territory=Andaman and Nicobar Islands\", \"marker\": {\"color\": \"#FECB52\"}, \"name\": \"State/Union territory=Andaman and Nicobar Islands\", \"offsetgroup\": \"State/Union territory=Andaman and Nicobar Islands\", \"orientation\": \"v\", \"showlegend\": true, \"textposition\": \"auto\", \"x\": [\"Andaman and Nicobar Islands\"], \"xaxis\": \"x\", \"y\": [4345], \"yaxis\": \"y\", \"type\": \"bar\"}, {\"alignmentgroup\": \"True\", \"customdata\": [[20017]], \"hoverlabel\": {\"namelength\": 0}, \"hovertemplate\": \"State/Union territory=%{x}<br>Year=2010\\u201311<br>GDP (in Crores)=%{customdata[0]}\", \"legendgroup\": \"State/Union territory=Chandigarh\", \"marker\": {\"color\": \"#636efa\"}, \"name\": \"State/Union territory=Chandigarh\", \"offsetgroup\": \"State/Union territory=Chandigarh\", \"orientation\": \"v\", \"showlegend\": true, \"textposition\": \"auto\", \"x\": [\"Chandigarh\"], \"xaxis\": \"x\", \"y\": [20017], \"yaxis\": \"y\", \"type\": \"bar\"}, {\"alignmentgroup\": \"True\", \"customdata\": [[252753]], \"hoverlabel\": {\"namelength\": 0}, \"hovertemplate\": \"State/Union territory=%{x}<br>Year=2010\\u201311<br>GDP (in Crores)=%{customdata[0]}\", \"legendgroup\": \"State/Union territory=Delhi\", \"marker\": {\"color\": \"#EF553B\"}, \"name\": \"State/Union territory=Delhi\", \"offsetgroup\": \"State/Union territory=Delhi\", \"orientation\": \"v\", \"showlegend\": true, \"textposition\": \"auto\", \"x\": [\"Delhi\"], \"xaxis\": \"x\", \"y\": [252753], \"yaxis\": \"y\", \"type\": \"bar\"}, {\"alignmentgroup\": \"True\", \"customdata\": [[13092]], \"hoverlabel\": {\"namelength\": 0}, \"hovertemplate\": \"State/Union territory=%{x}<br>Year=2010\\u201311<br>GDP (in Crores)=%{customdata[0]}\", \"legendgroup\": \"State/Union territory=Pudduchery\", \"marker\": {\"color\": \"#00cc96\"}, \"name\": \"State/Union territory=Pudduchery\", \"offsetgroup\": \"State/Union territory=Pudduchery\", \"orientation\": \"v\", \"showlegend\": true, \"textposition\": \"auto\", \"x\": [\"Pudduchery\"], \"xaxis\": \"x\", \"y\": [13092], \"yaxis\": \"y\", \"type\": \"bar\"}], \"name\": \"2010\\u201311\"}]);\n",
       "                        }).then(function(){\n",
       "                            \n",
       "var gd = document.getElementById('795558d4-cff0-4854-881f-9494301084b3');\n",
       "var x = new MutationObserver(function (mutations, observer) {{\n",
       "        var display = window.getComputedStyle(gd).display;\n",
       "        if (!display || display === 'none') {{\n",
       "            console.log([gd, 'removed!']);\n",
       "            Plotly.purge(gd);\n",
       "            observer.disconnect();\n",
       "        }}\n",
       "}});\n",
       "\n",
       "// Listen for the removal of the full notebook cells\n",
       "var notebookContainer = gd.closest('#notebook-container');\n",
       "if (notebookContainer) {{\n",
       "    x.observe(notebookContainer, {childList: true});\n",
       "}}\n",
       "\n",
       "// Listen for the clearing of the current output cell\n",
       "var outputEl = gd.closest('.output');\n",
       "if (outputEl) {{\n",
       "    x.observe(outputEl, {childList: true});\n",
       "}}\n",
       "\n",
       "                        })\n",
       "                };\n",
       "                });\n",
       "            </script>\n",
       "        </div>"
      ]
     },
     "metadata": {},
     "output_type": "display_data"
    }
   ],
   "source": [
    "px.bar(df, x=\"State/Union territory\", y=\"GDP (in Crores)\", animation_frame=\"Year\", \n",
    "         color=\"State/Union territory\", hover_data=['GDP (in Crores)']).update_xaxes(categoryorder = 'total descending', range = [0, 10.5])"
   ]
  },
  {
   "cell_type": "code",
   "execution_count": 5,
   "metadata": {},
   "outputs": [],
   "source": [
    "# you can use orientation = 'h' to make the graphs horizontal"
   ]
  }
 ],
 "metadata": {
  "kernelspec": {
   "display_name": "Python 3",
   "language": "python",
   "name": "python3"
  },
  "language_info": {
   "codemirror_mode": {
    "name": "ipython",
    "version": 3
   },
   "file_extension": ".py",
   "mimetype": "text/x-python",
   "name": "python",
   "nbconvert_exporter": "python",
   "pygments_lexer": "ipython3",
   "version": "3.7.3"
  }
 },
 "nbformat": 4,
 "nbformat_minor": 2
}
